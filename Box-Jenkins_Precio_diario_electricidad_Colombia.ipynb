{
 "cells": [
  {
   "cell_type": "markdown",
   "metadata": {},
   "source": [
    "# Funciones de apoyo\n",
    "\n",
    "## Imprimir Histogramas"
   ]
  },
  {
   "cell_type": "code",
   "execution_count": 1,
   "metadata": {
    "collapsed": true
   },
   "outputs": [],
   "source": [
    "imprimir_histograma<-function(serie=x,leyenda=\"topleft\"){\n",
    "    hist(serie,breaks=100,freq=FALSE,main=\"Histograma\")                                      #imprime el histograma \n",
    "    datos_normales<-rnorm(1000000,mean = mean(serie),sd=sqrt(var(serie)))                    #propone una serie normal\n",
    "    curve(dnorm(x,mean(datos_normales),sd(datos_normales)),col=\"blue\",lty=2,lwd=3,add=TRUE)  #dibuja una campana normal\n",
    "    d<-density(serie)                                                                        #Densidad no parametrica\n",
    "    lines(d,col=\"red\",lwd=2)                                                                 #Dibuja una densidad no parametrica\n",
    "    \n",
    "    legend(leyenda,c(\"Distribución no parametrica\",\"Distribución normal\"),col=c(\"red\",\"blue\"),lwd=c(3,3),bty=\"n\") #Leyenda\n",
    "}"
   ]
  },
  {
   "cell_type": "markdown",
   "metadata": {},
   "source": [
    "## Aplicar transformaciones"
   ]
  },
  {
   "cell_type": "code",
   "execution_count": 2,
   "metadata": {
    "collapsed": true
   },
   "outputs": [],
   "source": [
    "aplicar_transformacion<-function(serie=x,tipo=1,retardo=1){ #la serie por defecto será x,\n",
    "                                                  ##El tipo 1 (por defecto) hará referencia a la diferenciacion de los datos (Cambio Absoluto)\n",
    "                                                  ###El tipo 2 hará referencia a la transformacion Pt/Pt-1 (Rentabilidad bruta simple)\n",
    "                                                  ####El tipo 3 hara referencia a la tranformacion Pt/Pt-1 -1 (Rentabilidad neta simple)\n",
    "                                                  #####El tipo 4 hara referencia la transformacion log(Pt/Pt-1) Rentabilidad logaritmica\n",
    "                                                  ######El tipo 5 hara referencia a la transformacion raiz cuadrada\n",
    "                                                  #######El tipo 6 hara referencia  a la transformacion raiz cubica\n",
    "                                                  ########El tipo 7 hara referenica a la transformacion ln(Pt)\n",
    "    if(tipo==1){\n",
    "        transformada<-diff(serie,retardo)\n",
    "    }\n",
    "    if(tipo==2){\n",
    "        transformada<-c(NaN,serie[2:length(serie)]/serie[1:length(serie)-1])\n",
    "    }\n",
    "    \n",
    "    if(tipo==3){\n",
    "        transformada<-c(NaN,(serie[2:length(serie)]/serie[1:length(serie)-1])-1)\n",
    "    }\n",
    "    \n",
    "    if(tipo==4){\n",
    "        transformada<-c(NaN,log(serie[2:length(serie)]/serie[1:length(serie)-1]))\n",
    "    }\n",
    "    \n",
    "    if(tipo==5){\n",
    "        transformada<-sqrt(serie)\n",
    "    }\n",
    "    \n",
    "    if(tipo==6){\n",
    "        transformada<-(serie)^(1/3)\n",
    "    }\n",
    "    \n",
    "    if(tipo==7){\n",
    "        transformada<-log(serie)\n",
    "    }\n",
    "    return(transformada)\n",
    "}\n",
    "\n"
   ]
  },
  {
   "cell_type": "markdown",
   "metadata": {},
   "source": [
    "## Estadisticos Básicos"
   ]
  },
  {
   "cell_type": "code",
   "execution_count": 3,
   "metadata": {
    "collapsed": true
   },
   "outputs": [],
   "source": [
    "estadisticos_basicos<-function(serie=x,num_dec=6){ #informa los estadisticos descriptivos básicos de una serie, \n",
    "                                                   #se pueden configurar los decimales!!\n",
    "    #library(moments)\n",
    "    media<-round(mean(serie),num_dec)\n",
    "    varianza<-round(var(serie),num_dec)\n",
    "    asimetria<-round(skewness(serie),num_dec)\n",
    "    curtosis<-round(kurtosis(serie),num_dec)\n",
    "    total_datos<-length(serie)\n",
    "    minimo<-round(min(serie),num_dec)\n",
    "    maximo<-round(max(serie),num_dec)\n",
    "\n",
    "    estadisticos<-c(media=media,varianza=varianza,asimetria=asimetria,curtosis=curtosis,minimo=minimo,maximo=maximo,total_datos=total_datos)\n",
    "    return(estadisticos)\n",
    "}"
   ]
  },
  {
   "cell_type": "markdown",
   "metadata": {},
   "source": [
    "# Graficas QQ-Plot"
   ]
  },
  {
   "cell_type": "code",
   "execution_count": 4,
   "metadata": {
    "collapsed": true
   },
   "outputs": [],
   "source": [
    "grafico_qqplot<-function(serie=x){\n",
    "    qqnorm(serie, main=\"Gráfico Q-Q\")\n",
    "    qqline(serie)\n",
    "}"
   ]
  },
  {
   "cell_type": "markdown",
   "metadata": {},
   "source": [
    "+-+-+-+-+-+-+-+-+-+-+-+-+-+-+-+-+-+-+-+-+-+-+-+-+-+-+-+-+-+-+-+-+-+-+-+-+-+-+-+-+-+-+-+-+-+-+-+-+-+-+-+-+-+-+-+-+-+-+-+-\n",
    "+-+-+-+-+-+-+-+-+-+-+-+-+-+-+-+-+-+-+-+-+-+-+-+-+-+-+-+-+-+-+-+-+-+-+-+-+-+-+-+-+-+-+-+-+-+-+-+-+-+-+-+-+-+-+-+-+-+-+-+-\n",
    "+-+-+-+-+-+-+-+-+-+-+-+-+-+-+-+-+-+-+-+-+-+-+-+-+-+-+-+-+-+-+-+-+-+-+-+-+-+-+-+-+-+-+-+-+-+-+-+-+-+-+-+-+-+-+-+-+-+-+-+-\n",
    "+-+-+-+-+-+-+-+-+-+-+-+-+-+-+-+-+-+-+-+-+-+-+-+-+-+-+-+-+-+-+-+-+-+-+-+-+-+-+-+-+-+-+-+-+-+-+-+-+-+-+-+-+-+-+-+-+-+-+-+-\n",
    "+-+-+-+-+-+-+-+-+-+-+-+-+-+-+-+-+-+-+-+-+-+-+-+-+-+-+-+-+-+-+-+-+-+-+-+-+-+-+-+-+-+-+-+-+-+-+-+-+-+-+-+-+-+-+-+-+-+-+-+-\n"
   ]
  },
  {
   "cell_type": "markdown",
   "metadata": {},
   "source": [
    "# Modelo univariado para el pronostico de la electricidad en Colombia\n",
    "\n",
    "A continuacion se presenta la serie de tiempo correspondiente a los precios promedios aritmeticos en valores corrientes y valores constantes con una resolucion diaria.\n",
    "\n",
    "En adelante, se continuará trabajando con la serie de tiempo constante pues cuenta con la corrección de la inflacion a precios del 2008"
   ]
  },
  {
   "cell_type": "code",
   "execution_count": 62,
   "metadata": {
    "collapsed": false
   },
   "outputs": [
    {
     "data": {
      "image/png": "[encoded data removed]",
      "text/plain": [
       "Plot with title \"Gráfico precios prom. diario Mercado Colombiano (Const.)\""
      ]
     },
     "metadata": {
      "image/svg+xml": {
       "isolated": true
      }
     },
     "output_type": "display_data"
    }
   ],
   "source": [
    "datos<-read.table(\"Precios_1995.csv\",sep=\",\",header = TRUE) #cargo la serie de datos\n",
    "\n",
    "current_price<-datos$Promedio_Aritmetico_...kWh._Corriente \n",
    "current_price<-ts(current_price,frequency = 365,start=c(1995,1)) #construyo la serie corriente\n",
    "\n",
    "\n",
    "constant_price<-datos$X..KWh_Const_Dic_2008\n",
    "constant_price<-ts(constant_price,frequency = 365,start=c(1995,1)) #construyo la serie constante\n",
    "\n",
    "par(mfrow=c(2,1))\n",
    "\n",
    "plot.ts(current_price,\n",
    "        main=\"Gráfico precios prom. diario Mercado Colombiano (Corr.)\",\n",
    "        ylab=\"$/kwh\",lwd=1,col=\"black\",ylim=c(0,2000))\n",
    "plot.ts(constant_price,\n",
    "        main=\"Gráfico precios prom. diario Mercado Colombiano (Const.)\",\n",
    "        ylab=\"$/kwh\",lwd=1,col=\"black\",ylim=c(0,2000))\n"
   ]
  },
  {
   "cell_type": "code",
   "execution_count": 63,
   "metadata": {
    "collapsed": false
   },
   "outputs": [
    {
     "data": {
      "text/plain": [
       "Time Series:\n",
       "Start = c(1995, 1) \n",
       "End = c(2015, 322) \n",
       "Frequency = 365 \n",
       "   [1]    1.4094    4.9243    1.2695    0.9531    4.3059    1.1492    1.1086\n",
       "   [8]    0.5860    0.4998    0.9277    0.6695    0.6795    1.1069    1.0775\n",
       "  [15]    1.5179    1.7860    2.3838    2.3876    3.7072    6.6500   13.9920\n",
       "  [22]   20.0417   21.1917   30.7108   34.3278   33.1903   14.5133    8.6643\n",
       "  [29]    1.8133    1.9417    1.1018    2.0680    1.4168    0.8993    1.2361\n",
       "  [36]    1.4048    1.5460    1.1338    1.0745    1.4642    1.8040    1.8086\n",
       "  [43]    1.7189    1.7590    3.3833    2.2458   10.1685   12.1042   15.2500\n",
       "  [50]   15.2083   15.3917   14.9708   14.9333   15.0515   11.7268   12.9883\n",
       "  [57]   11.7033   11.4768    8.5173    5.4210    8.4549   11.0932   14.2500\n",
       "  [64]   11.5188   11.9354   10.7177    6.1573   10.8964   11.8685   11.7222\n",
       "  [71]   11.4516   11.4753   14.8333    6.5636   11.8810   12.4092   13.5603\n",
       "  [78]   15.2208   15.3958   16.5833   16.2708   19.3333   17.2065   18.2871\n",
       "  [85]    8.9658    4.8505    1.8677    1.0738    1.1897    2.9130    3.0154\n",
       "  [92]    6.4518    9.4702    8.8399    6.5841    7.3276    6.1296    7.8434\n",
       "  [99]    8.5101   19.0645   17.4206   13.5042   12.8792   13.1958   15.7708\n",
       " [106]   13.8601   17.8393   15.6284   11.8938   12.6367   15.9881   16.2835\n",
       " [113]   11.4516   10.3437    6.6984    7.4834   13.5147   12.3804   12.1997\n",
       " [120]   11.5900   16.5755   20.2022   22.6813   31.1224   34.3979   30.8231\n",
       " [127]   36.7500   38.5417   39.0750   34.7250   49.3000   70.8858   91.8225\n",
       " [134]  103.5785  102.3724  118.6255  120.5474  134.9700  121.0085  100.9985\n",
       " [141]  106.4803   53.8044  136.3725  132.0224  120.6496  132.1170  102.9125\n",
       " [148]   58.5027   52.1517   48.2333   31.5418   45.2428   64.0003   58.8334\n",
       " [155]   62.5000   46.8254   24.1558   23.2075   13.2616   21.5908   19.0518\n",
       " [162]   24.0583   25.1168   20.7922   13.2163   13.0895   15.3890   19.6716\n",
       " [169]   23.5750   26.9167   24.6375   25.0417   21.4958   30.7083   34.8318\n",
       " [176]   38.9532   40.4583   39.7917   26.4833   33.3250   29.2083   27.6553\n",
       " [183]   26.2490   22.2595   20.1687   19.3376   17.5973   15.9627   16.3750\n",
       " [190]   15.9198   14.4174   14.3864   11.4836   15.6674   14.7322   17.4615\n",
       " [197]   13.9032   13.5590   14.5250    7.1669    8.3335    5.0166    4.5567\n",
       " [204]    2.7510    3.9934    3.4514    5.1798   10.1625   10.0917    8.6371\n",
       " [211]    6.0167    6.7370    5.8669    4.3083   11.7833   10.3375    9.4458\n",
       " [218]    8.1721    8.1322    6.9954    5.5366    5.9987    6.9421    6.7866\n",
       " [225]   18.8917    7.9570    7.7846    5.3656    5.6883    7.8857    6.4255\n",
       " [232]    7.1042    5.0000    3.9650    2.8148    3.3274    3.4838    2.7200\n",
       " [239]    2.0140    2.0731    1.5618    1.7333    2.1620    1.9313    1.6625\n",
       " [246]    1.9167    1.9626    2.0623    1.5288    1.6679    2.2415    2.2930\n",
       " [253]    2.4884    2.7125    3.0458    2.7000    2.8875    3.6750    3.6000\n",
       " [260]    2.4781    2.0238    2.0890    2.0963    3.4805    3.8815    4.1050\n",
       " [267]    3.7530    3.4448    2.4000    2.5083    2.8208    3.9155    3.2521\n",
       " [274]    2.8001    4.9271    3.7917    3.2835    3.6874    3.7292    4.2819\n",
       " [281]    3.4994    2.1194    1.5976    1.4130    1.8814    1.7778    1.3594\n",
       " [288]    2.0473    1.9433    1.8383    1.4523    2.7710    3.1265    3.6623\n",
       " [295]    2.6625    0.6908    1.1875    1.3985    2.2401    2.0054    2.5188\n",
       " [302]    1.8148    1.5483    1.3351    1.2673    1.2788    1.7954    1.3181\n",
       " [309]    1.2842    1.2837    1.2668    1.2775    1.8318    1.8573    2.1031\n",
       " [316]    2.1365    1.8027    1.5663    1.2619    1.8479    1.8782    1.8684\n",
       " [323]    2.0453    1.8180    1.7662    1.2560    1.3935    2.0253    2.3160\n",
       " [330]    2.1875    2.6458    2.8417    1.6871    1.3908    2.3354    3.1246\n",
       " [337]    3.9866    2.3969    2.2335    1.2911    1.4081    1.4373    1.5933\n",
       " [344]    1.6413    1.2548    1.2404    0.9350    1.1063    1.2413    1.2231\n",
       " [351]    1.9749    1.2559    1.2616    1.2541    1.1914    1.4280    1.4295\n",
       " [358]    1.1936    1.0978    1.2545    1.2540    1.2546    1.7858    1.2550\n",
       " [365]    1.3573    2.1278    1.5461    1.2773    1.5230    1.8993    1.7506\n",
       " [372]    2.7453    2.7179    2.7639    1.4729    2.5827    2.8038    2.0983\n",
       " [379]    2.2578    1.3937    1.3931    1.3927    2.1563    2.2578    1.5664\n",
       " [386]    2.3550    3.4867    2.3925    1.5477    2.8850    3.7579    5.9821\n",
       " [393]    5.9634    9.7988    8.4698    5.0976    3.0719    4.3823    4.3319\n",
       " [400]    3.8750    3.9266    5.1500    2.4941    5.1769    4.8379    3.7774\n",
       " [407]    4.6624    3.3893    1.9973    1.6967    3.6708    2.6458    3.5667\n",
       " [414]    4.1813    4.0259    3.3273    2.8750    6.2292   12.5580   18.9167\n",
       " [421]   20.3750   20.2500   19.3333   18.9167   20.8958   20.7917   21.0417\n",
       " [428]   23.1765   24.7917   23.7917   24.0000   23.3521   24.2058   24.2500\n",
       " [435]   22.4167   22.6250   20.8750   17.7917   20.2500   20.0833   19.8571\n",
       " [442]   16.9603   13.9375   10.8750    5.5565    8.3747    4.1246    4.3281\n",
       " [449]    3.1085    3.9792    1.9619    1.8542    1.6367    3.7205    3.3022\n",
       " [456]    3.3235    3.1847    1.3449    1.3407    3.7400    3.5017    4.4660\n",
       " [463]    3.3715    3.9807    4.0951    1.3237    3.7687    3.4313    3.9568\n",
       " [470]    2.7492    1.9680    2.8379    1.3240    1.5966    2.6166    4.2708\n",
       " [477]    4.6852    9.3750   19.0467   25.0833   23.7680   24.7083   25.9483\n",
       " [484]   24.8191   26.3378   21.4418    9.5185   21.4025   18.3163   25.1575\n",
       " [491]   24.4075   30.1708   28.8242   26.3334   34.2917   34.9167   32.7083\n",
       " [498]   42.2281   37.7708   32.1667   26.6847   28.2316   26.2708   24.1250\n",
       " [505]   21.7839   17.9917   13.1500   12.8083   14.2917   12.7083   11.5333\n",
       " [512]    8.1316    7.2093    6.1522    4.2961    6.3333    8.4750    9.1708\n",
       " [519]    9.9843    9.5493    6.2042    4.9086    5.3333    7.7500    7.4667\n",
       " [526]   15.0000   27.0833   36.0116   27.4583   23.8083   21.0560   24.1942\n",
       " [533]   23.4179   21.3483   16.7952   15.3583   16.1482   18.7804   19.6846\n",
       " [540]   18.6846   19.0179   22.7263   18.2679   20.9382   19.8138   23.3888\n",
       " [547]   23.7104   23.0513   21.0563   19.7146   21.4687   21.4846   22.5429\n",
       " [554]   21.1936   25.0242   22.6593   23.0139   23.4929   22.1888   24.0096\n",
       " [561]   27.1555   29.9950   28.6073   29.5011   32.0159   26.1013   24.3198\n",
       " [568]   32.1427   28.5795   27.5323   28.6365   29.8836   28.4146   22.0936\n",
       " [575]   27.2865   22.6116   20.1033   20.6176   30.0173   24.5256   33.9066\n",
       " [582]   26.9645   29.3963   32.3865   29.2734   24.1203   23.6452   26.0213\n",
       " [589]   20.4617   24.4886   25.5407   15.5276   24.4463   25.4564   23.6319\n",
       " [596]   24.5829   27.3582   28.6676   29.7454   39.8714   37.1596   39.9441\n",
       " [603]   38.2281   35.5362   28.4181   24.6579   29.4175   26.6020   22.0324\n",
       " [610]   19.0871   20.2767   19.0969   17.8824   17.5239   26.2037   21.3148\n",
       " [617]   20.9257   19.3606   21.1840   19.1006   28.0994   32.2661   28.9709\n",
       " [624]   33.1151   29.8200   30.6629   28.3442   27.0333   29.8993   22.8903\n",
       " [631]   28.6869   24.4434   22.1819   20.0736   22.0206   24.2833   31.9269\n",
       " [638]   30.0502   26.0056   24.1847   20.0810   28.6418   22.9730   19.3818\n",
       " [645]   17.9068   26.4636   20.4013   14.7922   19.6421   23.4069   27.0179\n",
       " [652]   21.2480   34.5288   31.0826   24.3222   32.8938   38.5073   32.2062\n",
       " [659]   43.6879   39.8825   43.6691   28.3873   30.2391   33.7457   32.6004\n",
       " [666]   34.3413   33.5712   42.3248   38.3837   39.1366   37.2836   45.7346\n",
       " [673]   43.7798   34.8698   33.8631   35.5670   40.4288   36.0101   36.3346\n",
       " [680]   33.2138   33.3958   34.1121   27.7656   24.2006   34.7322   39.3014\n",
       " [687]   31.8272   34.1347   28.1868   21.7468   23.5672   24.6257   30.0039\n",
       " [694]   31.9716   27.3304   28.3034   26.6396   29.0008   32.6147   34.5764\n",
       " [701]   35.5215   28.9768   34.7497   37.1504   40.5510   46.6706   40.7702\n",
       " [708]   39.9052   41.9943   46.3281   38.0477   39.4897   42.9675   47.6133\n",
       " [715]   32.1616   38.6088   41.8764   35.4321   51.2701   42.7870   36.5258\n",
       " [722]   27.0633   22.2347   22.6466   20.7925   23.8800   22.8378   24.9008\n",
       " [729]   26.9091   23.8425   29.0091   20.9466   28.2321   30.5639   33.8099\n",
       " [736]   36.1869   30.0398   31.4682   28.7800   28.6050   36.1383   38.1701\n",
       " [743]   34.4047   31.7525   20.6441   19.1107   27.6732   43.2453   46.2936\n",
       " [750]   30.5512   44.2121   35.7412   28.1836   43.7732   43.0643   46.0310\n",
       " [757]   45.0107   40.2978   42.7881   31.1113   29.7708   29.3377   33.2170\n",
       " [764]   29.0753   32.7503   41.8980   32.0607   40.0570   38.8383   46.7824\n",
       " [771]   58.5107   76.5107   46.0554   38.1497   73.7102   81.2806  105.8657\n",
       " [778]  111.6214  129.1512   61.5847   91.1334   92.2931   87.6139   74.3708\n",
       " [785]   78.4842   95.6614  132.6890  117.3164  170.3764  154.4634  162.9210\n",
       " [792]  185.0421  194.6114  231.3764  213.8764  212.8347  214.3217  191.7114\n",
       " [799]  184.1260  131.7804  147.7522  117.3425  141.1785  183.0912  184.7684\n",
       " [806]  185.9441  146.5875   85.1127   68.5422   79.9419   94.8961   96.8496\n",
       " [813]  101.6026  174.0877  158.2123  124.6477  115.9418  165.0170  144.8592\n",
       " [820]  172.0461  146.6549  130.5877  102.9940  154.1850  176.4840  159.9211\n",
       " [827]  138.5265  147.2127  145.4211  109.7232  133.9044  151.4627  150.2850\n",
       " [834]  150.0461  154.4973  138.4815   76.3933   70.9873  125.3677  124.8106\n",
       " [841]  123.3751  131.3812  122.6424  135.3808  120.1057  149.1030  175.6647\n",
       " [848]  191.6955  172.7897  134.5564  134.6155  139.5880  138.7447  135.7372\n",
       " [855]  134.4872  145.7789  135.1539  123.8872  123.1855  135.3022  133.7631\n",
       " [862]  145.0902  125.5289  117.1364  112.3214  133.5668  135.4611  141.8359\n",
       " [869]  134.2679  129.7376  136.9285  133.4485  121.3284  127.3961  120.9201\n",
       " [876]  133.7682  116.6745  122.5803  117.4940  130.4978  131.6848  148.8278\n",
       " [883]  146.8585  150.7526  126.6579  114.2360  133.8070  126.5680  128.4535\n",
       " [890]   85.4778  113.5565  124.9920  127.9795  154.5337  120.3642  124.2894\n",
       " [897]  128.9362  128.9335  126.3539  113.6009  120.7818  130.6741  146.5798\n",
       " [904]  136.9812  129.8858  131.5954  123.2437  120.0528  124.8238  125.9930\n",
       " [911]  122.8510  125.6287  124.6616  144.1862  122.9094  130.7958  132.8191\n",
       " [918]  151.7011  171.9391  167.2046  151.0922  146.4983  145.3333  132.8140\n",
       " [925]  127.5887  131.9180  130.7961  129.7181  133.1311  136.2585  137.0187\n",
       " [932]  196.0027  183.9943  192.7058  170.9973  179.0441  194.7400  194.8643\n",
       " [939]  164.9169  160.8339  185.9608  215.1946  167.3544  152.9590  157.2549\n",
       " [946]  166.1321  165.7311   88.7461   94.1896   95.2656   93.3258  103.9917\n",
       " [953]  103.2849  104.6673   97.5192  100.2517   95.9841  105.2184  100.5021\n",
       " [960]   88.5309   93.1117   96.6926   95.8712   94.2298   92.8756   97.2049\n",
       " [967]   95.4567   95.3346   88.9646   83.4361   91.6179   89.2655   92.3774\n",
       " [974]   91.9417   96.9335   96.4156   94.4671   91.9457   90.9650   89.1124\n",
       " [981]   85.8976   80.6984   80.5732   83.9033   76.9056   76.5406   84.4351\n",
       " [988]   73.0576   73.3430   70.3905   65.6824   66.6576   66.2681   66.4137\n",
       " [995]   57.3209   58.2875   58.6043   56.4820   61.9905   60.9728   63.5602\n",
       "[1002]   59.8763   63.7106   56.6518   53.6797   54.1749   49.8405   47.1355\n",
       "[1009]   44.0680   42.2576   37.7373   35.4766   34.8863   32.5707   33.8050\n",
       "[1016]   33.5974   30.7702   31.3735   31.9756   30.5705   28.3894   23.4883\n",
       "[1023]   24.9092   22.8902   25.3956   21.8215   23.6100   25.1917   26.1197\n",
       "[1030]   26.1652   27.3902   26.2302   27.5152   29.2402   25.7981   24.7277\n",
       "[1037]   27.4425   27.8762   25.9070   23.3131   24.1922   27.9862   26.1031\n",
       "[1044]   25.8486   20.4506   18.7627   17.6472   18.5843   18.9889   19.1764\n",
       "[1051]   18.4310   19.3513   19.5889   18.2797   19.1306   18.2385   18.3618\n",
       "[1058]   19.7468   18.3622   18.3697   17.5685   17.4077   18.5985   20.3156\n",
       "[1065]   19.9731   18.3281   19.5322   18.2689   17.2347   16.9822   17.5889\n",
       "[1072]   17.3981   17.5235   17.5989   16.4793   16.1514   16.6972   18.7414\n",
       "[1079]   20.3661   17.3264   18.6279   17.9377   18.1710   17.7256   18.4020\n",
       "[1086]   19.7182   19.0026   17.5984   16.6848   18.3497   17.7502   15.7123\n",
       "[1093]   16.1451   16.2597   17.2117   15.3777   14.0651   18.4155   18.0976\n",
       "[1100]   19.7197   18.0211   16.9181   14.9850   20.0921   18.9535   21.6938\n",
       "[1107]   20.2287   19.6675   19.3924   17.8931   19.2351   20.1259   21.1240\n",
       "[1114]   20.9076   16.5888   17.4440   17.8036   20.1974   22.3036   20.9532\n",
       "[1121]   21.1908   20.2438   19.8342   18.4798   17.5916   21.1761   20.6485\n",
       "[1128]   21.2895   20.5929   21.3504   18.6049   22.5479   23.0358   23.5013\n",
       "[1135]   22.8054   23.1654   23.3638   23.0429   24.2571   24.9637   24.8616\n",
       "[1142]   24.6145   24.0666   21.0718   22.2271   24.8591   24.9537   24.0820\n",
       "[1149]   25.6370   23.6577   25.0844   18.6068   18.9241   22.0765   22.0944\n",
       "[1156]   19.6117   19.7895   18.8549   19.0774   20.9791   19.3537   22.1174\n",
       "[1163]   23.9396   21.8174   22.8707   22.2234   23.4503   24.3766   26.6074\n",
       "[1170]   23.6585   23.1785   21.5660   21.2660   21.4022   21.2397   22.8802\n",
       "[1177]   23.9918   23.4385   24.4960   22.3152   21.1093   21.2064   21.1668\n",
       "[1184]   22.9056   23.2168   23.5635   22.9922   24.7593   24.7902   25.0710\n",
       "[1191]   25.6402   24.8247   26.0710   23.3710   25.4002   24.8418   24.5672\n",
       "[1198]   23.9768   24.2631   21.9010   21.8578   22.6422   23.5611   23.6045\n",
       "[1205]   31.5278   24.9670   25.8461   24.5399   22.9653   25.9124   22.5949\n",
       "[1212]   20.1895   24.2395   21.7253   21.1378   20.8628   25.3824   24.6296\n",
       "[1219]   25.0607   24.7518   24.1139   21.6952   24.2380   24.1712   27.9527\n",
       "[1226]   27.8949   22.7851   24.6171   21.4520   25.4282   28.1909   30.8832\n",
       "[1233]   28.0654   27.5412   22.2378   21.0639   21.1960   20.9805   20.5138\n",
       "[1240]   23.1477   26.3575   23.0659   20.5492   22.0471   27.2295   22.0643\n",
       "[1247]   22.1742   21.7583   25.2217   21.9815   28.7451   22.6629   21.5107\n",
       "[1254]   20.0328   22.0529   23.4816   23.2389   22.0239   25.5771   23.0373\n",
       "[1261]   26.0362   22.5262   24.0320   25.2383   26.0300   26.4675   26.7883\n",
       "[1268]   26.8008   25.7175   27.5925   25.0716   27.3700   27.1570   22.7925\n",
       "[1275]   24.0935   25.9675   26.4050   22.5254   29.9320   26.3300   26.7675\n",
       "[1282]   26.5800   23.4341   27.1050   23.5800   24.0264   27.3820   22.4338\n",
       "[1289]   20.6565   20.5733   20.8713   20.3242   26.9574   26.0647   25.3443\n",
       "[1296]   28.3943   24.5889   24.5005   23.1403   25.2026   23.7522   23.1682\n",
       "[1303]   25.6059   23.8814   27.6339   24.5939   24.3137   27.0939   25.3526\n",
       "[1310]   26.0732   26.5747   25.1641   23.8809   23.6197   22.9016   23.7319\n",
       "[1317]   24.3799   24.0779   22.3214   23.0024   22.6213   22.5464   23.3340\n",
       "[1324]   24.0582   21.7998   22.2349   20.2564   22.9501   22.7170   21.9058\n",
       "[1331]   20.6265   20.4523   20.0658   23.4188   20.6449   21.3926   21.7956\n",
       "[1338]   20.8824   19.9726   21.8538   19.9679   20.8752   20.0580   20.9727\n",
       "[1345]   25.1349   24.9732   19.3208   18.7739   19.5618   20.7663   20.4026\n",
       "[1352]   21.7710   19.9636   20.3060   20.0077   24.6573   24.3839   24.5185\n",
       "[1359]   25.7060   22.8931   23.4567   23.9240   24.7579   24.0390   24.1119\n",
       "[1366]   23.2430   22.1435   21.6333   22.7388   24.2307   23.9954   26.4122\n",
       "[1373]   28.9101   26.6851   22.1388   20.7835   24.8725   24.4817   21.5772\n",
       "[1380]   21.4734   21.7784   21.5763   22.4640   23.9630   28.6910   22.9220\n",
       "[1387]   26.0756   25.1464   23.5964   23.5964   26.8351   30.2422   28.5339\n",
       "[1394]   27.6589   24.8464   23.8672   25.0339   24.4922   25.7839   25.5547\n",
       "[1401]   26.6897   28.9558   28.1948   23.5964   25.6373   26.3604   30.1129\n",
       "[1408]   26.7006   25.3464   27.5293   24.7422   25.3997   28.4349   35.1716\n",
       "[1415]   33.4774   26.8671   27.0254   25.9088   26.7838   27.1733   28.9962\n",
       "[1422]   28.0136   27.3899   28.9190   27.7773   25.7004   26.8843   27.2437\n",
       "[1429]   27.2004   27.0171   25.9088   26.7213   25.8713   26.6254   26.0254\n",
       "[1436]   31.7254   27.0022   29.5807   25.7004   28.0236   28.9244   27.2265\n",
       "[1443]   29.7984   29.6518   26.7976   26.4643   26.4643   26.0476   30.5685\n",
       "[1450]   28.0883   26.4041   26.1873   26.0476   26.0476   26.0476   26.5893\n",
       "[1457]   26.2143   33.0880   30.8892   30.9508   31.0941   29.7976   32.6951\n",
       "[1464]   33.1251   30.8441   29.1518   27.5443   29.9151   30.3810   29.2643\n",
       "[1471]   29.2601   27.7901   28.0476   28.9931   29.7223   30.3265   29.9098\n",
       "[1478]   30.3999   30.5348   29.6598   29.9848   31.4098   31.4931   30.7431\n",
       "[1485]   31.4098   31.8521   30.5765   30.4098   30.5765   32.3681   32.3681\n",
       "[1492]   32.0348   30.7848   30.4098   30.4098   30.9931   30.7848   34.9931\n",
       "[1499]   33.7962   35.4181   34.5681   31.5348   33.4306   33.6598   36.1495\n",
       "[1506]   34.1079   33.7954   33.7329   32.6704   34.1912   35.7120   40.3679\n",
       "[1513]   34.5579   33.0454   32.1287   31.1704   33.4412   32.7745   32.8371\n",
       "[1520]   32.6912   32.5329   32.4204   31.3991   32.6495   32.6912   32.2954\n",
       "[1527]   32.7745   32.2954   32.0730   31.1704   33.5993   34.8107   33.2664\n",
       "[1534]   33.3162   31.6637   31.7870   30.5666   33.8495   34.2292   31.2036\n",
       "[1541]   32.9412   31.8474   32.1824   30.5722   31.9953   35.9675   31.9328\n",
       "[1548]   33.9270   32.3223   31.8911   30.0786   30.6411   31.8911   31.8995\n",
       "[1555]   33.0003   32.0557   31.2036   31.2036   32.7725   33.4201   35.4105\n",
       "[1562]   32.9328   32.0406   31.5786   30.0786   31.3063   32.5771   32.1605\n",
       "[1569]   32.1188   31.5563   31.3063   30.1813   32.1188   32.1188   32.1188\n",
       "[1576]   31.3063   31.5707   31.8688   30.7438   31.1689   32.3360   32.7021\n",
       "[1583]   32.6813   33.1188   31.9105   31.1813   32.4938   32.7230   32.1188\n",
       "[1590]   32.5355   31.4521   31.3063   30.1813   31.3063   31.4105   31.1975\n",
       "[1597]   30.3016   30.3016   30.1766   29.1766   30.8641   29.6766   29.1766\n",
       "[1604]   30.6766   31.2183   30.8442   29.1766   31.5725   39.9954   31.9475\n",
       "[1611]   32.2725   34.7600   30.9475   29.1766   33.7391   33.3558   32.0308\n",
       "[1618]   33.2600   31.1975   29.1766   30.1350   32.7725   32.9266   34.6350\n",
       "[1625]   33.8433   33.1641   32.8681   33.0348   37.2723   41.6890   40.8931\n",
       "[1632]   36.8265   38.4931   32.2848   32.2848   32.2848   33.9931   35.9056\n",
       "[1639]   35.8431   36.6681   33.0348   32.2848   33.7848   38.8890   35.9098\n",
       "[1646]   39.0315   37.3079   35.1390   32.3265   34.3056   37.2098   44.2475\n",
       "[1653]   43.4098   46.0285   37.1577   35.6181   44.1161   40.1328   37.6251\n",
       "[1660]   34.8832   35.4393   34.5958   33.8833   37.2499   38.6695   35.8824\n",
       "[1667]   37.2574   36.3874   41.5915   37.9686   42.7749   49.8415   48.8207\n",
       "[1674]   48.4249   51.9353   40.1420   37.2422   51.7186   43.1749   47.1745\n",
       "[1681]   44.0198   40.4478   36.2665   33.7999   34.6415   35.5915   35.9358\n",
       "[1688]   37.5720   34.1858   41.6108   34.1442   35.1025   35.2275   36.3108\n",
       "[1695]   36.2067   35.2692   34.1442   34.1442   36.1442   37.2692   37.4729\n",
       "[1702]   42.4225   38.1650   37.7067   35.1858   37.7692   38.9775   42.8108\n",
       "[1709]   51.6108   47.6608   30.2288   36.8498   38.5270   38.1925   37.5101\n",
       "[1716]   35.3674   37.0315   37.3450   37.3344   42.5817   44.9594   42.4344\n",
       "[1723]   45.7927   52.2094   43.5631   36.7399   51.0011   51.0844   54.2177\n",
       "[1730]   53.2969   51.1427   39.5672   38.0985   45.2636   48.3136   44.7469\n",
       "[1737]   32.8732   29.8441   39.1316   43.0696   42.6802   49.7094   56.7427\n",
       "[1744]   55.0011   38.2657   44.9386   36.9927   38.4204   44.0413   39.3540\n",
       "[1751]   40.8931   45.4669   35.5294   34.9703   33.9752   40.1815   40.7692\n",
       "[1758]   38.8889   39.1336   37.5671   34.0095   36.1595   42.2148   38.5953\n",
       "[1765]   39.5578   37.7847   34.7621   30.5209   29.0961   32.9461   34.6169\n",
       "[1772]   32.2384   48.6347   37.9665   37.1336   33.1753   32.3211   35.1003\n",
       "[1779]   37.9739   36.9676   34.1534   36.3198   38.6089   45.5948   36.3426\n",
       "[1786]   42.5009   40.6870   37.2198   34.2706   38.3787   43.9572   41.3239\n",
       "[1793]   47.5403   43.2133   43.2905   37.9073   41.9280   41.2823   46.4260\n",
       "[1800]   44.3405   44.7572   41.7967   35.9423   33.5108   36.7198   39.8969\n",
       "[1807]   34.3590   42.5863   38.8342   36.7702   38.4104   40.0429   41.3467\n",
       "[1814]   39.7967   38.6092   47.1898   41.1814   46.3800   47.6508   46.3383\n",
       "[1821]   53.1300   50.5675   42.4863   44.9105   50.2967   49.6925   45.1717\n",
       "[1828]   42.1536   43.3033   41.1296   36.6441   42.5761   47.4906   31.2521\n",
       "[1835]   41.1487   37.7656   49.6822   34.7238   40.1599   39.0354   47.7741\n",
       "[1842]   45.0647   44.6689   41.6299   37.9230   38.6834   31.2980   48.2771\n",
       "[1849]   48.3397   43.4106   50.0272   38.9897   48.9063   65.6105   56.7771\n",
       "[1856]   56.9855   49.9022   49.1522   42.1939   50.5272   58.8584   59.6522\n",
       "[1863]   55.9648   53.1521   57.1937   40.2355   51.8189   56.4438   55.9853\n",
       "[1870]   56.6940   64.3572   61.4072   42.5737   38.0324   66.6156   65.8657\n",
       "[1877]   35.9454   61.1158   53.4905   43.0786   54.1530   45.7780   69.6780\n",
       "[1884]   57.3653   68.9444   60.7442   51.1311   63.5174   72.5738   72.0514\n",
       "[1891]   73.6975   74.2167   65.8862   46.8687   73.2886   73.5280   51.1364\n",
       "[1898]   65.2196   71.5860   42.2113   53.8363   39.6533   65.4403   69.8527\n",
       "[1905]   55.1563   60.4354   45.6808   46.1697   57.6280   49.3944   51.7113\n",
       "[1912]   54.9821   49.8363   45.5280   44.4613   40.1596   50.8822   50.2322\n",
       "[1919]   44.4322   44.6634   42.4259   35.3022   52.7947   51.5030   53.6113\n",
       "[1926]   42.2780   37.0447   40.3488   28.8414   47.0676   49.6909   53.6387\n",
       "[1933]   48.1230   55.2895   45.2868   37.9657   39.6618   45.8746   64.6434\n",
       "[1940]   43.8325   44.3521   46.4767   36.8089   30.9927   47.7288   39.7956\n",
       "[1947]   60.1225   42.5859   36.9850   29.8801   47.3085   66.0809   43.4148\n",
       "[1954]   47.5650   38.4550   39.2704   36.9733   46.1934   48.4933   46.6183\n",
       "[1961]   51.5163   68.0338   46.6221   34.3211   47.5129   56.1998   64.3043\n",
       "[1968]   56.7416   44.4711   44.5127   40.9713   63.3045   57.7213   50.3046\n",
       "[1975]   60.4712   52.8878   53.3876   50.4713   54.3879   51.2213   55.6796\n",
       "[1982]   57.5538   57.0954   57.2621   60.8871   54.5629   59.3671   62.4754\n",
       "[1989]   66.9663   66.0504   64.9421   57.0129   48.8526   55.5593   55.5184\n",
       "[1996]   63.0609   55.0193   54.7693   57.5609   53.4276   53.1443   55.8109\n",
       "[2003]   58.6859   55.5610   70.3818   61.0526   78.6732   78.6880   81.8587\n",
       "[2010]   95.5551  100.0609   66.2776   57.1858   83.1734   87.0651   80.5609\n",
       "[2017]   88.3318   87.8318   74.5609   57.2566   83.0358   92.3501   97.9359\n",
       "[2024]   89.8958   94.8757   76.9568   61.6853   80.8853   86.2451   80.1150\n",
       "[2031]   78.5686   83.7645   79.9769   73.5269   82.4478   88.8811   96.8269\n",
       "[2038]   88.8522   92.5316   93.7943   70.6708   93.0294  106.1186  100.8228\n",
       "[2045]   96.0728   97.3436   88.5061   76.9268   88.1895   82.4326   79.2266\n",
       "[2052]   79.5774   84.7999   79.9789   66.6190   93.4889   83.0545   87.7448\n",
       "[2059]   87.5650   84.8728   74.1074   66.1205   82.5213   83.0588   82.1702\n",
       "[2066]   82.5087   79.5359   75.4010   58.8850   56.1483   63.8397   58.3927\n",
       "[2073]   51.3708   59.5045   59.2189   55.0814   59.0917   57.7479   59.4357\n",
       "[2080]   58.3561   56.4286   62.7177   59.1431   58.0741   61.7908   62.7949\n",
       "[2087]   65.6802   63.9927   66.1985   63.1152   69.8677   70.2815   70.2869\n",
       "[2094]   60.0318   54.5318   58.9068   60.0318   64.5735   67.2402   67.1152\n",
       "[2101]   67.9485   66.5423   67.6152   66.1568   68.3652   70.8235   71.4443\n",
       "[2108]   76.9777   81.1152   79.7818   75.3777   78.4323   64.5580   67.6930\n",
       "[2115]   64.1062   60.5047   47.0330   46.3597   51.4102   56.0680   53.8944\n",
       "[2122]   58.8455   53.5606   53.9014   51.0791   53.1700   51.8730   50.8837\n",
       "[2129]   45.7764   48.0672   44.9014   44.9497   41.5835   44.9430   47.7764\n",
       "[2136]   44.9343   41.8014   42.9408   39.9408   40.1514   41.6096   47.8591\n",
       "[2143]   47.9930   49.1762   48.0512   47.5845   45.3553   42.8762   39.7512\n",
       "[2150]   38.6178   43.9178   47.3762   48.1845   47.4248   45.0425   44.3845\n",
       "[2157]   43.0595   43.0012   43.2809   42.3226   41.4595   42.3226   40.6907\n",
       "[2164]   40.0797   36.7976   37.1470   38.4595   39.9178   41.3476   40.8137\n",
       "[2171]   44.9387   46.7928   40.5845   38.8442   38.2609   40.3025   42.1750\n",
       "[2178]   46.5586   41.1865   40.7609   39.4400   41.6984   40.0025   40.6823\n",
       "[2185]   41.1359   38.9150   36.6796   38.5067   39.9692   36.8115   38.1234\n",
       "[2192]   40.2900   37.3442   38.5109   34.4275   37.5932   57.2817   40.4377\n",
       "[2199]   37.1734   36.7816   42.8184   36.7609   38.1984   38.3525   38.7110\n",
       "[2206]   37.6485   39.3735   35.0173   42.3735   40.5819   38.2069   37.4569\n",
       "[2213]   37.8735   35.9485   38.8944   35.5319   37.7152   40.3344   44.1360\n",
       "[2220]   40.8526   45.2610   41.4069   31.8735   31.8936   38.4360   44.5063\n",
       "[2227]   43.3735   42.9354   36.9069   37.6444   37.9735   37.7421   38.6381\n",
       "[2234]   38.7277   39.9777   43.3374   48.2022   52.4480   52.0125   57.7839\n",
       "[2241]   58.8989   45.0115   42.6784   37.4504   47.3339   51.0665   42.7664\n",
       "[2248]   42.5997   40.5164   37.8040   37.5624   41.3749   46.1707   43.9624\n",
       "[2255]   48.5280   49.9703   44.6999   40.1915   46.7872   46.9832   43.1870\n",
       "[2262]   45.9915   41.8915   41.0415   41.0040   40.8078   45.8974   45.6595\n",
       "[2269]   49.9877   49.2528   45.6915   46.4305   48.1259   46.2664   45.9753\n",
       "[2276]   46.5624   48.3311   49.3280   43.9034   45.2155   49.3352   51.1260\n",
       "[2283]   44.6790   45.3891   47.5308   45.7182   55.0015   54.0447   51.9099\n",
       "[2290]   37.4224   42.8057   44.9682   37.5349   52.6515   44.4557   48.5557\n",
       "[2297]   49.0255   49.1921   39.0546   33.1343   37.2487   40.8218   46.2359\n",
       "[2304]   44.7356   34.5597   46.8380   38.1797   43.5671   39.7434   40.5225\n",
       "[2311]   37.2108   37.6566   38.5921   34.6473   39.7309   41.8421   36.6675\n",
       "[2318]   36.0013   37.4734   36.5859   31.2036   42.3561   39.7088   31.3635\n",
       "[2325]   33.8979   31.0644   30.4781   33.0770   33.8507   34.8715   32.0320\n",
       "[2332]   33.0674   34.3382   33.1592   34.5180   39.7259   39.8719   43.9340\n",
       "[2339]   43.4799   44.1174   39.9757   42.2590   41.8799   39.0715   37.0924\n",
       "[2346]   33.7945   31.4528   31.1218   34.2861   31.6087   31.7840   31.3750\n",
       "[2353]   30.8679   30.3059   29.5231   30.1708   29.6140   31.8039   29.5967\n",
       "[2360]   29.8310   30.0648   31.2748   32.6914   34.5028   35.4942   35.4478\n",
       "[2367]   34.8164   35.1214   35.7081   37.4748   38.5498   39.4412   40.8998\n",
       "[2374]   39.7148   38.0456   38.2331   39.6289   40.2414   41.4414   42.7956\n",
       "[2381]   46.5039   50.3789   40.0206   43.5111   54.7014   43.0200   44.9895\n",
       "[2388]   44.0623   48.3363   50.1988   54.3442   55.3879   51.1371   50.8477\n",
       "[2395]   53.0831   53.6967   54.1592   55.4717   55.9526   56.6926   56.5362\n",
       "[2402]   53.2717   52.1905   51.6051   51.9301   54.9488   54.5134   51.9509\n",
       "[2409]   57.6634   57.4337   75.1684   58.7511   63.8134   58.7588   59.6911\n",
       "[2416]   88.5424   51.0705   54.0081   55.8486   51.3205   67.2714   52.7972\n",
       "[2423]   51.8155   46.2949   50.3572   42.9620   49.8574   51.4405   48.6072\n",
       "[2430]   50.5531   70.3685   64.3117   59.1994   65.7465   58.7148   61.2871\n",
       "[2437]   62.4154   60.2697   59.2780   44.0697   44.4742   41.8113   36.0324\n",
       "[2444]   36.7238   36.9822   59.9155   53.1655   58.4015   63.1390   60.8307\n",
       "[2451]   61.4098   58.9348   54.9557   50.7890   43.8726   36.5470   36.8481\n",
       "[2458]   47.2016   46.9682   42.8890   35.9557   48.0680   51.8638   57.9141\n",
       "[2465]   53.4910   51.6119   51.5718   38.7473   52.1223   49.7742   53.2057\n",
       "[2472]   46.2638   45.0390   36.6223   34.4969   41.6592   42.1598   40.4335\n",
       "[2479]   40.3877   37.0584   37.2085   36.0669   38.4044   45.1919   48.0441\n",
       "[2486]   47.4627   42.0252   35.8755   38.0252   42.5752   44.3544   41.5210\n",
       "[2493]   43.3127   40.8085   42.5669   40.2669   42.7002   40.5098   38.6398\n",
       "[2500]   34.1627   32.0835   32.9171   32.1210   33.0377   36.3960   42.0168\n",
       "[2507]   38.9974   36.8607   33.1033   34.3071   32.7075   33.4519   38.2315\n",
       "[2514]   37.5470   31.9654   31.7761   31.8772   33.0803   36.4869   38.6874\n",
       "[2521]   35.2262   34.3836   34.6955   35.3640   36.9515   36.3265   36.3765\n",
       "[2528]   37.4056   37.2307   34.5973   33.4791   36.5765   36.7473   37.4890\n",
       "[2535]   35.4782   34.3611   34.0208   34.0557   37.3383   38.5966   38.9841\n",
       "[2542]   37.1758   38.8966   38.2758   37.5841   38.1675   38.7966   37.6841\n",
       "[2549]   39.8550   41.5758   41.3883   40.7091   41.5925   43.7060   44.5425\n",
       "[2556]   44.7385   44.7533   44.0358   44.0110   44.4909   45.4913   43.9387\n",
       "[2563]   44.6079   44.9726   44.7521   45.2835   45.9712   48.1378   46.6922\n",
       "[2570]   46.4199   47.6553   46.3661   46.5876   48.7373   47.6144   46.7999\n",
       "[2577]   47.3102   45.8998   43.9728   43.3869   45.4539   45.4203   44.3352\n",
       "[2584]   45.4931   44.0307   45.4432   43.1161   43.7849   46.6611   45.3869\n",
       "[2591]   46.0051   44.5377   44.5865   44.0203   44.5003   44.4424   44.2649\n",
       "[2598]   45.1309   45.0940   45.1286   45.5446   45.3780   47.8821   45.2488\n",
       "[2605]   44.3742   44.2821   44.8363   45.2875   46.7946   47.5779   49.9655\n",
       "[2612]   48.5280   50.0865   50.0242   49.6696   49.8821   50.0780   47.9655\n",
       "[2619]   47.5746   46.6838   47.8671   47.8988   54.2613   50.3134   53.6059\n",
       "[2626]   54.8635   53.6355   54.4613   52.9988   54.1821   51.1426   51.6884\n",
       "[2633]   53.5801   53.6530   54.5113   54.4530   55.6632   57.1297   58.1228\n",
       "[2640]   59.1345   60.3759   61.7780   62.6703   64.0283   64.8453   63.7396\n",
       "[2647]   58.9963   62.6788   66.0038   64.9488   65.4030   65.2109   65.1363\n",
       "[2654]   65.5180   65.1859   64.9054   65.3070   62.2176   61.1426   55.1413\n",
       "[2661]   52.4954   53.7228   52.3879   50.1019   50.5186   51.2380   50.7746\n",
       "[2668]   53.1709   49.5216   47.9061   47.6623   48.9852   47.7477   50.8498\n",
       "[2675]   52.2207   51.9723   54.1457   54.4769   54.5394   53.9540   54.4196\n",
       "[2682]   55.6680   54.9582   53.2498   53.8394   53.9682   57.4647   56.2937\n",
       "[2689]   59.4102   56.2102   59.8308   63.0298   64.6636   63.9223   65.1161\n",
       "[2696]   66.7361   68.2590   67.5723   67.7390   68.6015   68.3057   66.3348\n",
       "[2703]   66.0515   67.8140   65.8557   66.1427   65.5965   62.5807   63.1673\n",
       "[2710]   61.3894   64.1973   62.9598   62.6411   62.0286   62.4757   61.5315\n",
       "[2717]   61.0577   61.1348   60.9673   60.8036   59.0640   59.3648   60.2043\n",
       "[2724]   62.4164   63.4668   63.5377   63.6252   63.9710   65.8127   64.6793\n",
       "[2731]   67.1039   67.3785   66.4210   67.3168   67.0882   66.1910   67.5341\n",
       "[2738]   66.4652   69.4168   70.5118   73.2627   73.1961   73.9483   74.0628\n",
       "[2745]   73.5710   73.3411   73.2957   72.7766   73.2334   74.5169   73.7293\n",
       "[2752]   74.8602   75.7544   77.0013   76.7088   76.0784   77.0846   76.0656\n",
       "[2759]   76.5522   76.0374   76.0349   74.3014   72.9800   72.0638   71.5954\n",
       "[2766]   71.9925   62.1692   68.6342   68.0546   69.6513   68.0513   67.6221\n",
       "[2773]   68.2888   71.8596   70.0884   70.2555   73.0804   71.9592   69.1471\n",
       "[2780]   70.8804   70.6804   70.5619   70.9864   68.2739   68.9198   67.3031\n",
       "[2787]   70.8928   68.6452   71.6787   70.4794   74.5762   74.4473   77.8453\n",
       "[2794]   79.1994   80.0348   85.9699   86.0074   80.7119   83.8077   83.6369\n",
       "[2801]   76.3008   81.7189   79.6910   78.2327   78.3106   78.2494   79.8473\n",
       "[2808]   78.5664   78.5271   77.9410   78.3077   82.2994   81.5953   79.7453\n",
       "[2815]   83.9994   82.3661   84.0037   81.6202   82.0369   82.5994   84.3436\n",
       "[2822]   86.4786   85.9228   88.6578   88.0036   80.1911   76.5411   79.4390\n",
       "[2829]   76.5703   78.3561   79.6469   79.9203   78.9211   79.5390   77.7480\n",
       "[2836]   74.6505   73.6373   76.1711   75.3953   75.1873   75.5496   74.7227\n",
       "[2843]   76.4270   77.8878   79.3291   79.3708   78.2791   78.3427   76.8874\n",
       "[2850]   78.2462   77.2520   80.6916   79.1366   77.9620   79.0416   75.0287\n",
       "[2857]   74.0413   73.2916   72.2195   70.7820   68.6453   66.7574   64.2645\n",
       "[2864]   63.0249   58.7291   60.8499   59.0166   54.2041   53.1416   60.4082\n",
       "[2871]   51.7662   52.2416   56.4749   54.8735   55.9569   55.0189   58.6648\n",
       "[2878]   57.1569   65.5819   68.7319   71.2888   67.9479   66.9498   65.8314\n",
       "[2885]   64.6523   67.1033   74.0528   71.0810   65.6481   66.8610   70.7148\n",
       "[2892]   73.7897   69.4360   64.7485   62.0694   63.5027   61.8269   63.0131\n",
       "[2899]   63.4860   63.2777   62.0735   62.1723   63.5648   64.1311   66.6353\n",
       "[2906]   66.5182   64.3228   66.1640   67.1144   70.7853   68.7019   70.7936\n",
       "[2913]   70.3061   72.4557   71.6436   71.8519   73.0382   71.4978   71.2848\n",
       "[2920]   72.1015   72.6353   71.9353   71.9270   72.3432   71.6428   71.7578\n",
       "[2927]   71.7294   71.7086   70.5690   67.3086   68.8165   68.7398   69.7728\n",
       "[2934]   67.4478   65.4922   63.0463   61.0755   63.7838   66.8528   58.9380\n",
       "[2941]   59.4255   59.2072   58.9397   58.9526   62.0505   64.7897   67.2997\n",
       "[2948]   65.2043   67.4813   71.7713   68.8797   69.1252   69.2318   72.9422\n",
       "[2955]   70.8172   68.1630   68.3026   64.7547   67.7588   75.4422   70.5347\n",
       "[2962]   67.0928   62.9928   58.2755   52.7130   60.4331   68.6003   67.7888\n",
       "[2969]   67.2204   70.5724   62.7701   61.0581   75.1056   73.7224   78.3110\n",
       "[2976]   63.9880   62.0116   53.4554   61.2704   62.7854   59.2431   56.2791\n",
       "[2983]   56.1064   56.4304   56.6245   50.7939   62.3006   65.5089   56.7193\n",
       "[2990]   62.7275   61.8158   60.8389   59.9408   60.0824   60.2824   57.8365\n",
       "[2997]   56.4740   53.7782   53.6990   53.9490   55.5324   59.6615   58.3448\n",
       "[3004]   54.9823   55.7648   56.1861   55.1115   53.6615   62.3823   53.6782\n",
       "[3011]   53.6923   51.2657   51.9407   52.3573   53.3615   51.7492   53.8757\n",
       "[3018]   53.9736   54.0407   54.6114   54.9573   55.0369   57.7282   58.7865\n",
       "[3025]   60.9611   60.9366   60.2007   57.8007   58.7552   60.5715   60.7002\n",
       "[3032]   60.6173   59.7298   60.6548   61.8833   60.7673   62.0132   65.4339\n",
       "[3039]   64.9177   62.3564   62.2423   61.5048   62.4631   63.1361   66.6391\n",
       "[3046]   66.3258   73.6476   73.5510   67.9673   68.6569   66.0382   64.8623\n",
       "[3053]   63.9798   64.6319   65.1061   62.8657   61.2185   55.4069   57.2506\n",
       "[3060]   53.3035   49.3815   46.2148   43.5858   41.9981   42.8710   46.0690\n",
       "[3067]   48.3611   49.1524   51.1316   52.3815   53.7315   54.8023   53.6940\n",
       "[3074]   53.5231   53.4273   50.3856   52.0690   55.7507   55.6345   52.9606\n",
       "[3081]   55.2648   55.3934   54.6919   57.1851   57.3023   54.8398   53.7562\n",
       "[3088]   54.4752   58.2669   59.8294   58.3544   58.5482   59.0544   58.8211\n",
       "[3095]   56.2044   55.3544   51.4002   49.3502   46.1836   48.9565   52.5398\n",
       "[3102]   53.0169   59.5169   61.5669   59.6086   62.9461   64.8086   64.0273\n",
       "[3109]   65.5586   65.3961   62.0586   59.6002   63.5377   66.9398   63.7711\n",
       "[3116]   64.6169   60.4586   60.4152   59.5301   57.8843   58.5510   62.0344\n",
       "[3123]   61.5176   67.3093   65.7093   69.4843   68.8010   68.5135   72.8472\n",
       "[3130]   72.7051   69.5218   73.9426   74.2239   74.0301   73.5068   79.6135\n",
       "[3137]   79.7864   78.0676   76.2135   75.4843   75.3360   75.1005   74.5793\n",
       "[3144]   65.2473   75.3176   72.6885   64.0770   81.3518   80.8883   78.9517\n",
       "[3151]   77.9567   76.9812   76.9433   75.7900   76.1074   74.7621   73.6379\n",
       "[3158]   72.1292   71.2546   72.2354   70.2650   71.0858   67.8650   68.1558\n",
       "[3165]   66.9192   73.2983   72.1200   68.4733   72.6937   79.7009   73.8073\n",
       "[3172]   73.8729   72.6625   71.3587   68.8146   66.4464   69.9735   71.0068\n",
       "[3179]   81.7431   74.3301   82.2388   72.4055   78.6093   67.3972   62.6722\n",
       "[3186]   67.1284   62.7038   63.8555   64.1555   80.1338   79.1060   76.9796\n",
       "[3193]   76.6259   73.2801   69.0530   68.8676   67.0598   72.5423   70.2537\n",
       "[3200]   71.3223   69.5722   67.8805   65.5305   63.8087   64.7722   67.0055\n",
       "[3207]   70.2884   68.3138   69.2269   68.0894   69.5572   71.4281   69.8849\n",
       "[3214]   72.9394   74.8936   74.6182   70.9353   77.1517   76.4881   78.7515\n",
       "[3221]   79.3864   92.8897   85.7307   84.3932   92.2959   86.9568   79.8036\n",
       "[3228]   73.7781   69.8488   66.4353   60.9269   60.7265   67.3084   67.2119\n",
       "[3235]   66.9484   61.0265   53.5144   52.5936   60.1603   57.0946   55.9613\n",
       "[3242]   57.5457   53.4780   52.9863   52.1780   54.7280   60.0378   57.4632\n",
       "[3249]   57.8340   60.6363   57.6655   50.7488   50.2071   52.8330   50.2216\n",
       "[3256]   50.3446   47.4551   42.3451   41.9363   41.7251   48.0196   47.8946\n",
       "[3263]   48.6321   54.2071   45.4488   43.3405   43.8321   48.0990   55.5026\n",
       "[3270]   51.0648   48.5312   48.5347   48.4393   51.5768   50.1847   48.3976\n",
       "[3277]   55.0747   51.7143   50.3976   45.8393   53.9351   63.9601   57.4185\n",
       "[3284]   56.7726   54.2476   53.0351   50.4643   52.2893   52.1768   54.2789\n",
       "[3291]   53.1393   54.6268   53.4976   52.2768   58.1726   55.0226   55.2435\n",
       "[3298]   54.0310   52.5225   51.0476   50.3724   52.0932   54.7805   57.4099\n",
       "[3305]   60.5761   60.9515   57.1599   54.7015   56.1390   57.3011   54.9344\n",
       "[3312]   54.7351   54.4749   55.6932   50.6599   51.0016   53.6391   50.5807\n",
       "[3319]   51.8140   52.5765   53.6015   51.4807   54.4974   53.7561   54.1727\n",
       "[3326]   54.4057   53.5182   50.8015   49.4311   50.9018   55.3600   57.2633\n",
       "[3333]   77.4491   64.8424   60.1049   58.4508   57.3258   63.3152   56.9504\n",
       "[3340]   49.0133   49.7221   49.0382   49.2508   51.4391   54.2424   56.9892\n",
       "[3347]   60.4716   55.2883   52.7633   51.8259   56.1184   61.9708   64.2341\n",
       "[3354]   69.6748   64.0529   64.3294   63.3674   69.8205   69.6125   70.8437\n",
       "[3361]   73.5804   72.2332   70.9457   67.9081   73.1796   73.6165   76.1088\n",
       "[3368]   77.4651   69.9373   69.5623   68.3790   73.2679   70.2930   76.3492\n",
       "[3375]   68.6498   68.2290   67.9498   69.1790   72.0831   74.2116   76.2118\n",
       "[3382]   74.9325   75.2073   72.9494   67.6790   71.0375   67.5208   75.9165\n",
       "[3389]   73.3825   72.6486   69.0577   68.8665   68.4608   74.1364   68.2449\n",
       "[3396]   75.1360   72.9316   70.3900   67.7983   65.6608   66.3440   70.2816\n",
       "[3403]   62.7485   68.4046   66.1026   66.3775   66.5733   72.6511   66.7159\n",
       "[3410]   65.3025   65.4175   62.1191   59.3275   64.0362   62.5983   63.8041\n",
       "[3417]   68.7149   64.2733   66.1025   66.4733   68.4320   75.9937   69.0562\n",
       "[3424]   63.7146   65.0479   63.4937   63.9521   70.5740   68.3854   67.4521\n",
       "[3431]   68.2482   70.2982   64.5104   64.8479   67.2312   71.2021   65.1771\n",
       "[3438]   63.8396   63.7897   63.1812   63.1187   64.2979   66.6647   80.8935\n",
       "[3445]   69.2187   68.9229   71.2229   71.4729   68.1104   68.1687   70.1604\n",
       "[3452]   69.6604   68.8062   69.6339   72.2172   84.4881   77.2756   79.1127\n",
       "[3459]   88.7797   88.4047   87.1043   92.1214   92.3943   90.6716   85.5297\n",
       "[3466]   85.9506   88.8172   88.8047   85.9714   82.8708   80.7977   78.6059\n",
       "[3473]   79.9047   79.6964   82.0881   79.5172   83.1960   73.4132   75.6089\n",
       "[3480]   81.7652   78.0881   82.3214   85.7381   85.3547   85.1154   81.5112\n",
       "[3487]   81.3570   79.1112   79.8820   79.9987   67.5670   73.8832   74.8070\n",
       "[3494]   79.5320   75.4737   76.5529   73.3653   71.2404   69.5899   64.0561\n",
       "[3501]   72.6350   76.3460   68.9737   73.2945   62.6422   83.5987   71.6034\n",
       "[3508]   75.1820   69.3925   63.2983   66.2195   71.9737   61.5945   70.8611\n",
       "[3515]   69.5278   73.7649   76.8486   75.5361   72.4903   66.2278   69.3069\n",
       "[3522]   70.1611   56.3448   66.2861   61.0528   62.3070   65.2861   67.7525\n",
       "[3529]   72.6900   73.1111   72.0820   69.7695   69.9445   71.9903   70.4111\n",
       "[3536]   67.7695   67.5653   67.3986   70.8278   70.0610   71.1820   75.1420\n",
       "[3543]   70.4528   72.2407   73.9492   73.3950   74.6297   74.4909   75.1780\n",
       "[3550]   73.5649   72.6677   74.2075   70.0117   70.9492   67.2273   65.7002\n",
       "[3557]   71.6158   63.9157   63.1594   65.8242   58.4492   64.6992   65.0530\n",
       "[3564]   65.6571   59.8201   69.1350   65.3659   65.4409   65.3627   67.2464\n",
       "[3571]   65.7278   67.4992   67.6655   67.5356   70.0310   75.8552   75.3685\n",
       "[3578]   74.7022   71.0477   72.5897   72.7647   72.7064   74.1492   74.5242\n",
       "[3585]   71.7893   72.6272   69.2022   68.0439   55.0677   68.5011   67.4106\n",
       "[3592]   65.6469   64.0939   57.2041   63.8272   66.0356   68.0224   68.7438\n",
       "[3599]   72.1810   74.0022   69.4187   70.7856   69.0147   68.4731   67.7175\n",
       "[3606]   66.8388   63.4467   53.6550   52.0925   50.5550   41.4675   60.6017\n",
       "[3613]   64.2175   54.0813   40.0571   43.0718   55.1842   59.6175   59.8425\n",
       "[3620]   58.3425   58.6550   57.0300   55.1217   58.0550   65.1550   69.2383\n",
       "[3627]   74.6675   66.8425   60.8175   58.8466   65.3921   64.9883   67.1967\n",
       "[3634]   58.9258   60.4805   59.8992   60.1076   64.1492   63.1951   68.6305\n",
       "[3641]   68.1784   67.5405   71.1784   78.6492   85.6547   84.7326   98.1126\n",
       "[3648]  103.8232  100.4084   94.4826   93.8572   97.8284   87.6483   88.6909\n",
       "[3655]   72.9933   72.9697   73.8980   74.9576   76.1067   73.7899   73.3763\n",
       "[3662]   77.1284   72.9190   74.3757   72.0574   71.9760   76.4368   72.3691\n",
       "[3669]   83.4982   90.1522   73.3917   72.9215   74.0213   80.9982   84.0422\n",
       "[3676]   97.1147  102.1170   85.1463   87.8812   89.0627   93.1669   93.6438\n",
       "[3683]   86.6748   94.0162   87.7048   86.2630   81.4482   97.3355   89.9215\n",
       "[3690]   82.7058   83.5710   84.4971   88.4423   87.9822   86.5881   95.5881\n",
       "[3697]   92.0614   97.5823   94.5406   95.0573   97.6864   91.2526   91.0406\n",
       "[3704]   94.6656   94.1656   89.7906   90.3904   91.5413   94.5531   93.4364\n",
       "[3711]   89.9677   87.5302   83.7472   84.6547   93.0481   89.9147   92.0597\n",
       "[3718]   85.9121   83.2897   79.4923   77.1656   77.9564   73.3156   81.3556\n",
       "[3725]   74.6573   70.8706   69.7412   68.5304   72.2968   58.5598   72.9427\n",
       "[3732]   73.8886   73.0717   73.9929   76.0131   78.9721   86.6927  102.1712\n",
       "[3739]   95.4635  100.1098  105.0687   89.7542   91.8423   87.2386   87.6387\n",
       "[3746]   87.6136   86.9473   86.5787   85.9304   98.9537   77.5136   73.7037\n",
       "[3753]   75.6137   75.4400   71.7054   71.0966   62.6351   72.0272   71.7509\n",
       "[3760]   61.6103   58.9589   56.4434   54.6734   57.7359   60.1962   59.7953\n",
       "[3767]   61.8188   60.1100   51.2605   38.5298   45.4674   44.8540   53.6131\n",
       "[3774]   49.6567   48.7359   47.0684   47.4859   51.3835   63.5707   60.0097\n",
       "[3781]   59.2790   55.8063   45.0942   40.7105   69.5703   69.7915   69.0305\n",
       "[3788]   66.9636   77.3802   78.3677   74.4101   81.3261   77.6308   78.4311\n",
       "[3795]   77.5439   84.4620   82.0252   81.0344   81.0219   76.5043   83.4261\n",
       "[3802]   84.2427   80.9240   78.8052   79.1835   82.2836   85.7161   81.6054\n",
       "[3809]   86.6804   97.6627   80.2011   77.1340   78.1110   78.7386   78.3585\n",
       "[3816]   76.9173   76.0465   75.9177   77.7682   80.2570   82.5589   80.1932\n",
       "[3823]   87.8972   85.8607   79.2157   79.5282   82.1115   80.3932   84.3157\n",
       "[3830]   83.1549   82.1107   79.8982   81.2982   81.8824   81.6740   80.9824\n",
       "[3837]   81.5865   79.3986   65.0130   73.5515   80.6107   78.2757   78.3405\n",
       "[3844]   82.4240   78.5899   77.8640   68.3524   74.9490   59.7647   67.9959\n",
       "[3851]   70.4684   68.6218   64.0700   57.5383   61.7684   61.2601   60.4393\n",
       "[3858]   58.7684   59.8518   69.6646   73.9976   76.9976   75.4143   84.7880\n",
       "[3865]   76.5393   87.4563   82.3184   82.0576   83.6643   84.0766   77.8921\n",
       "[3872]   78.3864   88.3517   86.5601   95.6018   91.2059   88.8309   81.3399\n",
       "[3879]   84.8516   81.1907   86.4145   91.1108   86.4441   87.3951   85.0274\n",
       "[3886]   79.5258   68.5662   78.3608   68.8352   62.7175   59.9835   63.9650\n",
       "[3893]   65.6735   63.9938   64.7400   58.8191   45.1975   53.4090   56.1233\n",
       "[3900]   52.4260   52.8563   51.1983   46.6900   47.4858   52.9441   57.0797\n",
       "[3907]   54.7358   50.3108   58.8738   53.4572   66.0653   70.2710   70.0730\n",
       "[3914]   63.7922   65.1405   57.9853   42.6205   49.4428   51.0238   43.0618\n",
       "[3921]   39.0301   45.3178   48.0405   40.7167   44.8734   44.1238   43.4221\n",
       "[3928]   45.2969   50.4113   60.1238   56.6238   68.1807   62.1898   60.5401\n",
       "[3935]   61.5197   54.9355   46.7486   56.4570   47.2418   59.4670   67.1128\n",
       "[3942]   63.5086   56.5920   50.0503   62.0086   62.4678   61.7170   61.3836\n",
       "[3949]   67.3420   56.2795   50.8836   51.3003   58.3624   59.9249   57.2586\n",
       "[3956]   41.1880   52.1336   53.3420   44.1328   47.9753   45.3832   44.4399\n",
       "[3963]   45.9670   48.3374   47.3420   45.8670   46.5670   58.8107   51.4836\n",
       "[3970]   51.4701   48.1772   47.1649   47.0534   50.5293   52.5326   47.1159\n",
       "[3977]   44.6618   44.7368   42.2951   37.4868   51.0439   49.8030   54.3069\n",
       "[3984]   54.9198   53.4881   52.0032   41.9159   47.4574   61.6467   66.8494\n",
       "[3991]   64.1174   58.1819   63.1176   45.6601   48.9701   63.1339   66.3731\n",
       "[3998]   64.6368   68.7197   62.3517   38.3162   49.2282   63.4545   67.0788\n",
       "[4005]   61.3748   58.2073   67.0222   54.8069   63.4519   66.7497   74.1908\n",
       "[4012]   78.4718   60.3632   59.0193   41.4474   60.2048   58.7093   64.2751\n",
       "[4019]   55.3602   58.6865   61.2073   54.6632   58.8083   66.7119   62.0590\n",
       "[4026]   67.3420   52.3515   49.2669   39.1752   64.4524   74.0180   75.9351\n",
       "[4033]   72.9009   69.5980   69.5626   41.6355   46.7522   56.4139   76.5642\n",
       "[4040]   66.3022   71.1730   65.8426   66.4689   69.3254   70.2372   64.7547\n",
       "[4047]   64.1689   64.3672   57.4272   60.4064   60.4872   69.0924   56.7982\n",
       "[4054]   67.2804   73.6757   71.1219   63.4893   66.5124   73.7582   75.4582\n",
       "[4061]   80.9872   79.7902   80.7300   78.4367   99.9126   95.8492   98.7076\n",
       "[4068]   89.7984   98.2261  105.0971   99.4367  100.4067  103.5594   89.5596\n",
       "[4075]   88.6672   94.8534   96.3742   97.0201  112.5201  108.1631   97.0180\n",
       "[4082]  101.4544  101.6242  101.6451   96.9617  119.3096  132.0168  130.7252\n",
       "[4089]  129.2840  134.2423  142.0687  149.3975  148.8293  152.0348  160.7855\n",
       "[4096]  163.9435  163.2811  171.4391  170.1419  167.4157  166.0989  166.0810\n",
       "[4103]  167.8520  164.3579  118.8952  128.5845  126.8534  116.8763  142.0687\n",
       "[4110]  119.1396  117.1996  106.6653   87.8095   99.4082  100.0675  100.6402\n",
       "[4117]  101.5785  107.8918   96.2308   92.1308   90.9975   81.1674   88.1416\n",
       "[4124]   80.2190   82.3371   87.8583   87.9504   88.5754  100.6417   99.7390\n",
       "[4131]   97.2763   92.7890   91.7933   88.7196   98.8637  100.0337   83.6379\n",
       "[4138]   72.7162   61.6092   58.8301   55.3039   64.0965   66.9680   65.8355\n",
       "[4145]   67.1955   74.6032   72.9127   67.4362   78.1902   83.5660   75.7985\n",
       "[4152]   79.4410   81.0173   77.1558   73.5267   77.7175   79.3157   77.7328\n",
       "[4159]   59.1773   54.3475   65.5683   51.2137   58.8960   63.8576   65.0944\n",
       "[4166]   61.2241   57.6573   60.0895   57.4767   67.5379   65.6846   65.9804\n",
       "[4173]   65.1304   64.6679   63.5933   63.0204   56.8592   62.2558   61.6767\n",
       "[4180]   58.7079   59.5413   58.0808   57.5683   56.6406   59.2166   64.2656\n",
       "[4187]   68.3073   71.7619   77.5756   83.9923   85.1281   85.4031   88.8114\n",
       "[4194]   94.0856   95.9114   96.6364   95.8948   92.0201   94.2647   93.3539\n",
       "[4201]   90.9702   91.1374   91.8135   92.6297   83.0272   95.9324   95.2351\n",
       "[4208]   93.5056  110.2639  100.9531   99.1823  101.9060   99.3577   93.1823\n",
       "[4215]  100.8357  104.5232  101.7908  102.7052  105.9871  103.3921  106.1820\n",
       "[4222]  111.4315  107.9051  108.9230  108.0866  105.8286  107.3784  108.5969\n",
       "[4229]  105.5035  110.7627  103.6144  108.5111  110.5744  105.2665  110.5963\n",
       "[4236]  106.2126  110.5467  112.0541  106.8948  108.2511  107.2225  106.1061\n",
       "[4243]  105.5555   99.0862  109.4318  105.3191   98.2726  106.9951  105.3860\n",
       "[4250]  107.0576   98.1668  101.5773  104.0852  106.2272   87.9557  105.6074\n",
       "[4257]  101.8173  104.6148  105.0715  101.9843  103.1162  104.5987   96.3845\n",
       "[4264]  105.9924  100.4045  103.7609  100.9636   94.7650   85.8660   85.9916\n",
       "[4271]   96.9245   97.4370   94.1328   95.8416   98.2854   98.9361   97.7091\n",
       "[4278]   94.0103   87.6520   90.9520   87.1853   89.5187   92.7845   92.8270\n",
       "[4285]   93.0437   92.7760   92.6937   94.1853  100.0437   95.1303   93.4195\n",
       "[4292]   92.3262   93.5003   92.2223   90.6256   83.4186   92.2695   91.7625\n",
       "[4299]   80.6923   87.2687   88.9408   86.1608   88.4770   84.6025   84.9137\n",
       "[4306]   71.3688   82.1504   80.2108   78.8362   77.8962   78.9308   81.7316\n",
       "[4313]   72.1046   73.6129   76.0567   67.1058   71.8192   72.2608   75.8191\n",
       "[4320]   82.7778   79.9888   79.2745   73.7796   73.8233   75.5655   60.4998\n",
       "[4327]   80.8324   78.6657   74.6145   65.8192   71.7269   60.4449   63.4926\n",
       "[4334]   72.0553   70.5905   59.7942   67.7413   67.6632   72.2247   69.9780\n",
       "[4341]   65.0326   68.2905   65.0288   61.3910   66.4343   64.7007   68.5002\n",
       "[4348]   76.7845   86.6488   87.0038   90.9413   83.6222   78.2487   68.6930\n",
       "[4355]   85.1080   88.8155   92.5455   88.7647   89.1230   88.9413   85.6680\n",
       "[4362]   78.2489   75.4347   63.8561   65.9223   76.2848   83.1765   80.5407\n",
       "[4369]   81.6390   70.5482   75.1273   65.8182   66.4140   66.1057   70.8473\n",
       "[4376]   64.9848   69.9715   74.0844   75.6228   77.8132   82.7836   85.1282\n",
       "[4383]   81.5890   83.2223   86.9432   88.7557   90.5007   91.1432   90.4682\n",
       "[4390]   90.0994   90.3057   92.2015   91.7890   88.8502   89.4223   96.5010\n",
       "[4397]   98.3185  103.0914  108.8560  109.1477  108.1436  112.2518  105.8564\n",
       "[4404]   97.3166   96.5643  100.5177   89.0202   92.7886   80.9768   82.7123\n",
       "[4411]   79.8955   67.7634   76.8143   75.1060   66.5227   71.0154   77.8510\n",
       "[4418]   78.8354   73.5218   73.4393   66.4977   71.9313   73.9968   73.6563\n",
       "[4425]   64.9849   67.7185   67.8063   61.2904   76.1958   69.0758   74.5511\n",
       "[4432]   78.4594   91.3939   82.1375   78.0708   76.4875   71.7332   80.4808\n",
       "[4439]   76.4042   73.3475   60.1648   70.4250   63.9990   74.1197   76.5778\n",
       "[4446]   81.0364   67.1812   69.3892   71.2300   70.0254   73.6971   80.1467\n",
       "[4453]   81.7338   75.4713   78.4183   69.9063   81.8252   89.9744   91.0434\n",
       "[4460]   96.2684  105.8296  108.9394   88.8371  109.8071  101.2170   97.2087\n",
       "[4467]   88.8911   88.6561   88.5769   84.1578   84.4265   84.2507   73.3349\n",
       "[4474]   81.3186   77.7574   75.1584   74.2436   71.5644   67.0728   66.3353\n",
       "[4481]   66.8353   68.7499   66.1707   61.0603   60.2228   51.2313   45.2246\n",
       "[4488]   53.6530   52.0795   48.1495   50.2455   50.1495   65.9015   65.5257\n",
       "[4495]   64.7621   67.2132   49.2647   41.6088   43.7934   61.4384   59.4303\n",
       "[4502]   61.1407   66.9603   64.7464   57.5368   63.3359   62.2962   68.2039\n",
       "[4509]   62.1622   62.8914   62.2830   58.0050   72.6473   84.9060   89.7329\n",
       "[4516]   86.1002   82.1190   78.2559   73.4092   80.4595   80.2204   84.0981\n",
       "[4523]   89.1186   86.1384   86.3750   87.6258   92.9610   94.5059   93.1184\n",
       "[4530]   92.1707   92.5952   92.4472   95.4509   98.1385  101.7219   98.7940\n",
       "[4537]   83.5209   86.2450   90.0467   84.9617   88.6554   79.2097   76.3919\n",
       "[4544]   68.2334   73.2400   72.4414   68.5846   67.5970   68.0984   74.8511\n",
       "[4551]   78.3220   89.2670   93.1470   96.5191   97.0074   98.0034   99.3205\n",
       "[4558]  100.4520   90.4347   96.1536   96.7978   95.7666   88.2239   98.5770\n",
       "[4565]   99.6132   98.1841   97.8149  100.2770  104.6145  104.2103   98.8920\n",
       "[4572]  104.7395  103.6928  103.2728   97.6653  102.2770   87.8083   98.6786\n",
       "[4579]   92.0674   95.9861   88.5400   87.8505   91.5557   99.6897  103.2690\n",
       "[4586]  108.1437  115.5597  118.1015  120.0765  124.4557  123.5182  116.2640\n",
       "[4593]  114.0224  113.5974  110.1599  107.2765  101.8224   93.6256   78.5093\n",
       "[4600]   90.8599   77.5526   90.7507   84.0107   90.5953   97.1896   90.2890\n",
       "[4607]   92.0974   92.9885   99.2310   91.9344   92.2523  102.8227   95.8623\n",
       "[4614]   94.0461   92.9415   97.2365   77.2399   92.6115   92.7352   78.2189\n",
       "[4621]   76.3632   85.6186   82.1302   67.0061   94.6977   85.5687   86.0552\n",
       "[4628]   84.4061   80.8102   90.4894   60.1977   94.4061   98.3957   98.5719\n",
       "[4635]   98.6799  103.7666   96.0457   93.8407   91.6552   93.0480   92.2155\n",
       "[4642]   88.9114   88.7347   95.5322   93.5822   95.3822   96.6072   95.7530\n",
       "[4649]   94.1485   96.5022   99.7564   84.7623  102.2197   97.0850  100.8976\n",
       "[4656]  111.9271  116.5892  117.2572   81.0641  115.0253  119.7975  124.4655\n",
       "[4663]  113.3021  123.2614  132.7439  139.0085   82.2084   85.8000  110.6401\n",
       "[4670]   96.2846  112.3768  116.1534   97.1730   91.7443  117.7064  104.9455\n",
       "[4677]   96.6284  105.1389  113.4801   93.9585   96.5981   98.4643  112.0698\n",
       "[4684]  115.3827  111.7775  111.5038  100.8831  114.0415  112.8281  102.4803\n",
       "[4691]   98.8131  106.6559   88.2947   93.6744   40.7928   85.7022   65.7638\n",
       "[4698]   64.6171   65.0692   61.2503   76.1207   79.0793   95.1752   97.5793\n",
       "[4705]   82.7905   84.2152   86.6248   89.6625   80.1210   79.2069   81.8998\n",
       "[4712]   74.4627   77.9584   75.0377   68.9545   75.6501   84.5056   85.7002\n",
       "[4719]   76.6544   72.7841   60.7877   55.8081   95.9831   75.6609   88.0248\n",
       "[4726]   58.2083   69.5448   43.4339   46.0377   62.9627   67.2801   67.1101\n",
       "[4733]   63.2696   56.0196   43.8042   37.8562   58.1326   61.0603   48.3698\n",
       "[4740]   52.1284   57.1654   59.1784   48.1303   52.0531   51.2884   60.9217\n",
       "[4747]   71.1475   56.5174   47.6123   45.3231   63.1673   62.7305   80.5834\n",
       "[4754]   94.6829   93.1779   65.1895   48.9819   89.5735   81.7162   78.4642\n",
       "[4761]   79.2738   73.3167   53.0897   45.7606   85.4709   89.4305   93.8752\n",
       "[4768]   66.6251   99.6876   76.0138   55.9167   88.0192   91.2864   88.3152\n",
       "[4775]   81.5815   75.7992   71.7665   53.6013   56.9126   69.7697   77.0967\n",
       "[4782]   92.7083   78.5914   67.7498   57.4665   64.6716   69.7398   73.1981\n",
       "[4789]   80.8648   75.8334   60.2081   51.6458   65.2879   63.4314   57.5394\n",
       "[4796]   50.0801   48.3320   53.3049   61.1215   77.2466   80.5257   85.0421\n",
       "[4803]   85.3292   87.3841   83.0382   76.2257   94.2928   85.0905   83.3132\n",
       "[4810]   82.1413   87.0308   83.8299   81.4132   74.0967   94.2999   94.8950\n",
       "[4817]  103.3249  110.7206   92.2049   84.1632  106.7079   90.3637   97.4996\n",
       "[4824]  101.3416   88.8375   82.2215   69.0215   81.1524   99.9982   90.3261\n",
       "[4831]   90.4383   70.6956   65.7631   62.6130   57.9715   62.7518   75.2394\n",
       "[4838]   74.1561   61.7091   70.7215   55.2694   78.9313   95.8823   98.1073\n",
       "[4845]  101.9715  104.6519   95.8386   77.1381   94.7801   92.6769   90.2206\n",
       "[4852]  101.9309   79.0131   85.9583   74.7108   72.4108   80.6758   77.5495\n",
       "[4859]   76.3841   81.3425   92.8108   89.6483  125.4186  122.7716  121.1518\n",
       "[4866]  125.6346  123.4838  103.7400   94.5775   98.6690  114.2494   90.3449\n",
       "[4873]  109.4171   91.0838   73.4587   54.4608   82.3155   78.3338   64.2380\n",
       "[4880]   66.0325   59.5127   46.8125   39.5836   56.6541   80.0113  105.6621\n",
       "[4887]   98.6543  109.1786   53.5760   49.4389   47.2635   76.6773   72.3637\n",
       "[4894]   72.2787   79.0345   94.2803   72.5468   95.3552  106.3011  104.5552\n",
       "[4901]   99.9302   99.8525  104.9718  107.2010  139.9302  148.9710  150.7418\n",
       "[4908]  109.3468  144.5899  157.8188  168.2875  174.2246  182.7995  174.4677\n",
       "[4915]  161.9248  135.7763  132.0918  144.8283  130.5313  139.7735  136.1358\n",
       "[4922]  133.4116  132.7825  132.7221  132.5950  133.0283  129.1108  134.3059\n",
       "[4929]  149.2892  144.8100  133.8604  133.5666  132.9001  120.9450  115.9186\n",
       "[4936]  120.1408  130.0300  128.3175  115.3100  130.6346  135.0375  125.7175\n",
       "[4943]  135.3837  135.5008  132.2141  120.9182  127.8842  123.9479  124.1898\n",
       "[4950]  126.2954  128.0053  126.0281  133.2890  146.9067  136.4359  134.2083\n",
       "[4957]  132.8916  131.6174  128.3998  124.1506  121.7758  127.7758  111.5761\n",
       "[4964]  109.0421  111.0921  102.3879  105.4633  103.4444  100.8767  129.3017\n",
       "[4971]  118.8854  118.5654  117.7502  119.8503  138.3841  122.9674  120.6246\n",
       "[4978]  104.7310  110.6212  119.3664   98.6439  103.3216  102.4821  110.3596\n",
       "[4985]  127.6858  126.6132  130.1966  116.3426  119.4230  131.2738  138.7779\n",
       "[4992]  111.8050  109.8467  109.1663   98.1132   95.6966   82.9513   97.2378\n",
       "[4999]   91.9466   92.7170   84.9466   69.3982   83.1350   84.8835   91.5863\n",
       "[5006]   93.9817   87.9151   79.5405   76.9405   81.8044   90.2267   89.6071\n",
       "[5013]   76.0236   73.3988   75.2076   74.1021   78.2983   81.4911   78.4220\n",
       "[5020]   87.0845   78.4901   74.1904   76.2321   83.8116   94.1052   97.1297\n",
       "[5027]   93.1905   98.9403  101.8571  107.8986  113.8183  119.8554  104.7547\n",
       "[5034]  108.4143   96.9396   89.3356   89.5231  110.6402  114.8023  110.9023\n",
       "[5041]  111.2939   99.8974   93.7106  100.5230  108.0638   98.5481  101.7523\n",
       "[5048]   98.0016  110.7523  109.3973  111.2306  129.5644  142.8473  131.6897\n",
       "[5055]  136.8160  141.9400  138.7440  128.6898  130.2434  128.9134  136.4760\n",
       "[5062]  140.7227  150.2314  138.4740  129.9102  145.0454  148.0671  157.7504\n",
       "[5069]  166.2642  165.7237  125.4800  117.6142  123.6215  123.2702  124.1429\n",
       "[5076]  128.4929  120.9975  103.5715  103.0668   97.2892  100.2138  102.2267\n",
       "[5083]  105.3934  109.2846  114.7475  124.4975  127.0184  137.7057  134.2892\n",
       "[5090]  139.0808  134.9562  130.4346  124.5250  114.5392  118.1900  127.8232\n",
       "[5097]  127.5880  124.7614  116.5947  109.0714  120.6989  123.0522  119.1134\n",
       "[5104]  114.0275   84.8172  110.4229  111.5114  121.6390  119.9814  124.4402\n",
       "[5111]  122.1780  127.0522  122.1364  132.0947  131.5389  158.9940  133.9596\n",
       "[5118]  125.2800  124.7034  125.0132  126.1869  146.9701  154.2614  137.3191\n",
       "[5125]  136.2096  131.5830  134.2511  125.8423  128.8900  146.4430  145.7390\n",
       "[5132]  131.1148  138.0220  135.6053  122.3344  117.2139  125.5762  132.6723\n",
       "[5139]  124.4725  123.4803  119.1050  119.7052  114.6886  118.2950  115.2999\n",
       "[5146]  117.6177  133.3298  118.7053  120.4720  128.0636  152.0066  124.1028\n",
       "[5153]  122.1972  123.9116  140.7674  129.7628  128.6378  125.2410  139.9633\n",
       "[5160]  125.4633  122.7549  120.5258  127.0258  150.6437  134.2758  175.4633\n",
       "[5167]  176.1091  179.2133  163.6198  193.5049  194.8938  188.7963  190.0883\n",
       "[5174]  190.2549  204.9632  182.9633  182.5049  196.4632  178.7821  210.5048\n",
       "[5181]  203.9135  207.4207  211.6091  226.5883  241.4333  260.5049  269.7966\n",
       "[5188]  263.5619  282.8119  285.6869  270.3535  272.0102  271.9368  236.4785\n",
       "[5195]  245.3535  240.3119  201.3535  199.1092  195.1249  177.8869  174.7146\n",
       "[5202]  161.5570  158.9476  162.0623  159.2160  144.9784  145.1320  155.2155\n",
       "[5209]  132.8507  142.6647  149.3851  134.7174  152.1700  148.3627  166.3588\n",
       "[5216]  158.6850  158.0399  140.9299  126.7969  143.9965  139.6405  140.3619\n",
       "[5223]  141.4665  129.3580  141.0494  135.3526  136.2123  144.5891  134.6345\n",
       "[5230]  142.0703  140.6685  143.6744  143.9244  137.9603  150.9921  146.6609\n",
       "[5237]  142.4745  155.4453  165.1494  164.7911  163.5442  160.3207  186.9328\n",
       "[5244]  188.3744  202.1578  166.3698  172.7184  188.1715  193.8438  174.7818\n",
       "[5251]  164.9034  180.5440  201.6440  206.0398  207.9501  205.1283  234.7898\n",
       "[5258]  216.4943  242.7482  246.2065  223.3722  257.7234  214.9505  266.2148\n",
       "[5265]  258.9982  221.3758  258.4565  205.9153  251.7482  164.4313  190.6298\n",
       "[5272]  122.7297  147.3117  141.1837  125.3009  118.7093  135.1817  129.2030\n",
       "[5279]  138.0142  120.5012  118.4953  121.1601  123.9629  120.6664  125.9206\n",
       "[5286]  130.8215  153.0689  151.6499  198.8539  199.8539  173.4508  177.3612\n",
       "[5293]  189.4373  168.1108  168.8539  165.5831  174.1456  159.6683  168.2288\n",
       "[5300]  148.4074  145.4739  156.3123  153.9373  160.4961  153.1942  146.9672\n",
       "[5307]  142.7784  131.6402  146.4373  124.5553  130.6088  133.4064  127.4971\n",
       "[5314]  129.4265  130.3492  159.6429  132.0223  155.2631  172.6836  143.7617\n",
       "[5321]  139.6114  161.2642  175.2650  173.5830  232.1567  307.8283  244.7822\n",
       "[5328]  199.2288  184.6771  276.9737  245.5404  305.1457  291.8403  226.6307\n",
       "[5335]  240.1078  231.3005  227.0797  198.8750  204.5770  186.9759  210.6903\n",
       "[5342]  216.7057  195.3089  192.2790  182.2176  221.4429  204.7798  190.6518\n",
       "[5349]  192.5543  185.6698  181.6202  170.1664  164.8456  181.8596  190.3103\n",
       "[5356]  196.9369  208.0681  192.0971  160.5944  168.0129  167.0500  161.7201\n",
       "[5363]  156.6773  163.7366  162.2919  181.2696  186.9867  225.1639  286.1779\n",
       "[5370]  245.2416  225.9839  228.0580  217.9820  195.8644  157.6692  156.0931\n",
       "[5377]  152.9575  154.4042  155.5364  278.0737  246.6418  248.6154  240.3959\n",
       "[5384]  251.3312  252.3211  252.5741  232.1810  159.9496  154.2972  156.1245\n",
       "[5391]  147.1383  154.0246  170.7964  176.9799  172.1491  166.2016  173.0892\n",
       "[5398]  178.9919  164.4290  159.6465  155.2237  155.2267  150.4530  152.7572\n",
       "[5405]  150.4649  175.5277  153.9241  146.7104  152.4703  150.8336  145.9287\n",
       "[5412]  151.2060  145.6803  147.2877  147.2386  146.8961  159.1858  172.5375\n",
       "[5419]  147.2981  149.8171  163.2344  148.2511  155.0890  138.4819  139.0972\n",
       "[5426]  144.2225  144.1291  134.5561  137.8184  138.8610  133.0629  130.0324\n",
       "[5433]  122.7052   78.7599   69.4092   74.0179   72.8612   86.9169   88.8687\n",
       "[5440]   96.8838   89.8498   77.8795   69.8486   71.3420   84.9937   77.9124\n",
       "[5447]   81.3501   72.1662   72.5610   72.7557  102.9722  106.8226  108.3874\n",
       "[5454]   95.0302  102.9905  102.9755   89.4209   87.0311  107.8872  112.2326\n",
       "[5461]   97.7439   86.1248   86.1021   85.3279   88.2894   94.8060   98.2718\n",
       "[5468]   88.5494   81.0596   89.6322   88.1652   79.1192   92.2147   90.1927\n",
       "[5475]   83.0248   85.5716   79.6745   76.6500   75.2432   69.7155   75.1000\n",
       "[5482]   72.4589   73.8162   71.0825   74.9904   81.8822   85.1693   83.0199\n",
       "[5489]   84.2869   77.0005   76.9896   72.9897   68.1671   78.7313   70.3817\n",
       "[5496]   62.3016   66.1529   67.3290   63.7850   66.6695   72.0294   78.4912\n",
       "[5503]   90.3265   81.6564   84.2701   76.2764   76.0740   73.7778   85.6709\n",
       "[5510]   96.3598   89.3291   87.9490   84.4702   96.8387   97.1775  105.2683\n",
       "[5517]  103.9316  103.1212  102.2451   93.8526  111.9362  123.0433  127.9294\n",
       "[5524]  119.0735  102.2679   99.2799   98.2059  113.9774  100.4612   97.4505\n",
       "[5531]  105.3431   93.4645   91.8760   91.8849   92.9284   94.1640  104.7232\n",
       "[5538]  104.4142  108.4380  106.9124   95.9605  117.4236  109.6834  126.3376\n",
       "[5545]  134.9575  142.6833  123.0275  111.4515  124.3950  139.4984  147.3417\n",
       "[5552]  143.7280  126.3001  119.2888  114.7355  140.9174  131.2839  157.7904\n",
       "[5559]  161.9015  143.7352  129.3116  120.3648  155.6711  143.6250  140.6870\n",
       "[5566]  130.5795  150.4772  145.5311  134.9113  135.7688  154.6592  142.0028\n",
       "[5573]  130.9356  129.8713  129.1395  126.0378  144.3930  141.9208  140.0791\n",
       "[5580]  130.3710  131.8119  128.2120  119.8748  122.6332  120.1830  117.0161\n",
       "[5587]  115.8175  113.6563  114.0379  112.8998  115.8011  116.8951  112.1581\n",
       "[5594]  110.9211  113.3088   97.4195   89.7041   86.0124   77.5492   72.9498\n",
       "[5601]   73.5804   66.3859   65.4126   50.2258   70.5039   77.8202   93.5339\n",
       "[5608]   91.6084   91.7570   76.7768   45.3953   71.8108   76.7641   74.7718\n",
       "[5615]   70.7759   59.8280   51.6993   43.1120   49.0969   50.3066   45.4070\n",
       "[5622]   50.0940   45.2026   68.7279   40.0787   60.2063   78.6262   80.7201\n",
       "[5629]   88.3435   78.7215   70.5199   49.2241   71.2929   78.3806   76.5509\n",
       "[5636]   77.3575   66.0992   64.8225   66.5025   80.5124   90.6469   89.7713\n",
       "[5643]   79.3256   70.9300   67.0228   60.1125   82.8127   84.3938   79.1728\n",
       "[5650]   87.2324   72.2246   80.5062   66.7674   66.1381   72.2337   66.8578\n",
       "[5657]   61.3152   64.6272   59.5972   79.0704   89.7749  100.6202  102.2588\n",
       "[5664]   99.3783   94.1226   94.8238   99.9622  122.6754  125.4118  128.0300\n",
       "[5671]  122.1952  122.5593  109.3571  106.2780  106.0538  123.8017  120.3111\n",
       "[5678]  130.1435  128.6575  114.7832  113.8920  113.1416  111.5787  109.5512\n",
       "[5685]  107.8581  106.0095  107.6299  106.0904  105.2409  103.7075   93.6273\n",
       "[5692]   91.3890  103.0764   91.5619   92.6912   96.9185   98.9458   95.5970\n",
       "[5699]   99.2682  103.8223   95.1879   97.7117   96.9689   89.0565   88.2568\n",
       "[5706]   92.2611   85.0595   80.9298   81.0845   89.3891   89.1227   85.1977\n",
       "[5713]   83.2231   79.5079   77.8308   81.8916   86.9564   86.8122   87.7120\n",
       "[5720]   85.3756   78.6655   76.2337   77.9982   84.2079   98.5586   79.5895\n",
       "[5727]   70.0440   66.1174   57.6414   46.2278   69.2996   67.3253   70.2146\n",
       "[5734]   79.7368   85.1307   84.1983   79.9473   90.8040   94.0991  111.8028\n",
       "[5741]  113.9314  111.5938  111.5487  104.1466  104.9480   97.4629   82.1136\n",
       "[5748]   72.3264   64.5823   41.8279   37.4939   55.7366   61.6105   54.2092\n",
       "[5755]   40.5948   36.1169   35.3567   38.6379   63.1009   64.8593   67.8844\n",
       "[5762]   65.5018   65.6838   65.2399   49.3394   59.4977   49.8949   65.1644\n",
       "[5769]   64.7029   64.3490   59.0543   40.5779   60.0129   70.8089   73.6997\n",
       "[5776]   74.4940   70.5729   66.9360   45.3495   63.9580   62.7245   58.7578\n",
       "[5783]   61.8650   61.6552   58.0674   46.8669   59.4646   58.4639   53.5274\n",
       "[5790]   58.4377   60.1434   43.2372   38.7978   64.7610   48.0297   56.1297\n",
       "[5797]   59.2829   50.9946   39.1538   37.7506   49.9511   66.1937   71.4553\n",
       "[5804]   72.0393   65.9390   62.7094   60.4428   78.6404   74.8101   71.9572\n",
       "[5811]   76.1260   74.3611   62.7518   41.1108   60.7312   64.4550   72.4670\n",
       "[5818]   68.0115   61.9524   54.9462   43.9323   40.9341   63.9389   56.4123\n",
       "[5825]   42.2687   41.7426   40.9641   38.5908   43.2307   43.0043   47.1328\n",
       "[5832]   47.4238   51.1251   43.9648   52.1448   51.0635   72.6847   71.2170\n",
       "[5839]   70.6721   73.0202   62.4173   57.2325   65.2051   62.1214   51.6566\n",
       "[5846]   64.5869   66.7044   70.9785   47.6834   55.9871   58.3761   65.5708\n",
       "[5853]   61.4403   56.3649   48.3900   38.2331   64.0613   78.5490   76.4186\n",
       "[5860]   72.6694   72.0208   81.8559   88.3249  116.6647  110.9025  108.8430\n",
       "[5867]  101.6883  115.5603  114.4871   92.3525   96.0564  115.1180   99.4779\n",
       "[5874]   86.8933   65.7933   84.2836   64.9425   79.5278   85.8621   80.4801\n",
       "[5881]   86.7676   81.7897   81.0716   74.3403   91.9641   98.9145   90.6557\n",
       "[5888]  117.8472   96.5649   84.1187   80.3173  100.0810   96.8847  103.5730\n",
       "[5895]  112.9773   93.5127   89.4609   87.0555   85.0912  106.1567   91.4661\n",
       "[5902]   97.8060   93.3736   90.6760   86.9442   92.2843   99.3966   98.6730\n",
       "[5909]   94.6367   95.3422   95.1529   77.9959   92.8684   82.0058   82.0495\n",
       "[5916]   82.0210   68.9526   58.6382   56.4821   87.9587   92.6468  102.7984\n",
       "[5923]  116.8609  107.7326  102.5778   76.4927   85.9692  107.8396   78.4987\n",
       "[5930]   69.4876   71.9498   62.5810   44.7974   52.5411   59.4257   55.3896\n",
       "[5937]   62.7848   61.2524   64.3246   54.0992   73.0443   82.7879   77.4225\n",
       "[5944]   82.3382   77.6588   55.3610   37.7963   39.2982   63.3256   63.8656\n",
       "[5951]   79.0865   86.3375   66.3690   65.0226   62.7538   77.8219   74.0210\n",
       "[5958]   75.0399   86.9498   72.9645   59.3688   56.4881   76.8985   83.2348\n",
       "[5965]   76.9935   79.5690   65.7121   51.7282   79.4454   68.9847   69.6260\n",
       "[5972]   76.2067   54.0936   66.6701   50.0431   74.3378   78.4639   74.7354\n",
       "[5979]   67.2605   72.7274   50.5888   45.6225   57.2903   56.3067   57.1102\n",
       "[5986]   44.7960   47.0207   45.3151   43.4219   51.1550   63.6350   63.1295\n",
       "[5993]   64.1892   67.2185   50.0084   45.8458   47.9043   53.6638   50.5614\n",
       "[6000]   60.8681   57.2042   45.8832   41.1816   58.3647   69.0247   67.1410\n",
       "[6007]   68.9832   61.5753   53.4407   42.1811   54.3776   58.6006   57.0322\n",
       "[6014]   58.0743   50.5759   51.5288   46.4722   50.7394   57.3188   56.4327\n",
       "[6021]   55.6532   50.3826   51.4239   44.6803   52.4811   67.5534   91.3486\n",
       "[6028]   86.6912   41.6353   45.1531   50.0404   52.1758   51.4558   60.7384\n",
       "[6035]   59.3480   50.9671   41.1296   40.7089   43.9391   41.0824   42.7980\n",
       "[6042]   43.6187   46.3050   47.0963   51.8911   49.5673   44.7832   45.7086\n",
       "[6049]   45.4657   44.4131   50.1135   57.4827   70.5776   77.4132   79.2532\n",
       "[6056]   80.6662   81.0122   81.8101   80.6013   81.4350  109.7946  123.2813\n",
       "[6063]  112.3903  104.5683  115.8931  102.6684  132.7930  138.8881  134.0945\n",
       "[6070]  134.7639  129.9999  125.0917  128.5548  144.0411  141.6659  142.4878\n",
       "[6077]  139.4649  139.5958  135.9251  133.5202  138.7735  135.7760  133.8441\n",
       "[6084]  139.1766  137.9871  132.5254  129.7679  128.2911  125.2120  122.5393\n",
       "[6091]  111.4970  104.2869   96.5451   95.4851   85.4679   82.3604   73.0840\n",
       "[6098]   69.3249   85.5671   69.6390   59.8088   72.3874   69.1136   62.7860\n",
       "[6105]   43.1491   40.1135   51.0675   39.3498   52.1698   48.1555   41.9771\n",
       "[6112]   51.6541   56.6571   48.0472   46.2326   60.8045   59.2776   61.7890\n",
       "[6119]   71.1336   62.2046   67.5618   60.5861   85.1990   91.8289   69.1489\n",
       "[6126]   53.3675   49.8239   43.2722   40.8352   50.3262   39.0909   47.2206\n",
       "[6133]   46.8098   56.5186   45.6409   48.1594   45.7213   47.8495   49.0141\n",
       "[6140]   51.3503   47.2707   39.4925   38.3980   45.0044   51.4660   54.6316\n",
       "[6147]   47.8918   48.1375   40.1094   39.0241   39.8148   47.2805   49.9257\n",
       "[6154]   63.9748   54.0165   40.2366   38.5857   46.8162   49.5599   48.1140\n",
       "[6161]   45.4934   40.0247   39.5040   39.9223   45.5651   51.1055  107.0605\n",
       "[6168]   85.4481   78.5261  100.6620   99.6167  107.4354  124.0176  128.1345\n",
       "[6175]  126.5263  125.8048  114.6001  101.8305   87.3497   89.4588   87.5900\n",
       "[6182]   87.6532   83.6356   76.4492   70.7118   78.7730   74.1264   88.9527\n",
       "[6189]   98.5471  100.1338   81.4159   77.9373   77.8895   82.1550   70.7466\n",
       "[6196]   77.5581   77.6033   66.4026   55.5122   65.3514   72.1538   74.6262\n",
       "[6203]   70.1985   67.7489   58.2259   55.1491   63.7551   66.2225   85.8275\n",
       "[6210]   87.8677   73.6291   59.8389   46.0775   63.5084   65.8740   77.7229\n",
       "[6217]  101.3351  126.9579  114.2773  115.7109  135.7161  120.9243  147.9775\n",
       "[6224]  138.3399  128.0850  140.7453  119.8609  134.9644  118.6962  131.7848\n",
       "[6231]  135.0464  146.3028  147.6785  143.2315  172.6214  169.0029  154.9430\n",
       "[6238]  155.5914  140.9974  133.3776  120.9857  119.9135  129.0914  126.7319\n",
       "[6245]  127.0950  130.1194  128.7454  131.4038  154.1625  150.1327  147.3252\n",
       "[6252]  148.2541  174.9207  140.7063  129.0069  133.3180  138.6486  141.3992\n",
       "[6259]  163.0205  153.5176  157.1342  152.6568  156.5625  167.1537  159.8664\n",
       "[6266]  163.7922  175.8734  158.5940  169.5927  193.4264  214.9911  195.5557\n",
       "[6273]  196.0377  218.4822  191.8781  194.5404  220.3307  224.0229  230.2768\n",
       "[6280]  216.5151  256.9936  242.7665  244.6752  259.9230  264.6850  256.3955\n",
       "[6287]  247.3216  254.4126  238.1299  224.9005  234.7860  192.5209  190.5665\n",
       "[6294]  210.6065  200.9460  201.9932  205.1710  207.7505  216.4633  215.9551\n",
       "[6301]  198.6863  192.3861  180.7265  186.0977  164.5318  160.0639  162.6997\n",
       "[6308]  145.7857  146.0564  134.1760  137.9755  161.6672  170.2538  174.4843\n",
       "[6315]  184.4298  182.9431  174.8805  194.4742  174.1478  180.8689  172.9152\n",
       "[6322]  180.7969  174.7305  173.5086  168.2145  173.1504  183.2455  186.6159\n",
       "[6329]  181.6448  172.3979  162.3518  146.2485  145.0707  139.1898  135.0846\n",
       "[6336]  140.6066  145.5081  145.1112  131.3363  160.8747  152.1408  175.0436\n",
       "[6343]  181.2782  191.1374  166.8877  155.6737  161.9655  179.7611  184.5077\n",
       "[6350]  170.6054  180.0253  171.1846  178.3158  181.7658  176.7298  176.6863\n",
       "[6357]  191.7453  195.5533  199.2964  201.1797  203.1452  210.1555  205.3218\n",
       "[6364]  200.6648  193.4561  191.5555  182.8304  183.1404  167.4812  184.7666\n",
       "[6371]  165.9977  158.1447  153.9872  159.0383  158.9454  159.9090  190.4861\n",
       "[6378]  182.8927  187.6076  178.1612  174.2139  174.9355  174.9789  152.0566\n",
       "[6385]  181.6180  186.3199  184.8595  188.5146  192.1161  194.2137  192.6026\n",
       "[6392]  189.6561  191.1855  187.9842  191.1735  193.0257  183.2974  183.5358\n",
       "[6399]  190.3224  200.0913  186.0286  181.0481  189.7347  164.8503  184.5875\n",
       "[6406]  206.1195  204.8554  218.2126  231.2266  240.7883  214.5861  208.9338\n",
       "[6413]  220.3178  198.6100  197.8867  207.0703  195.7029  164.0026  185.9953\n",
       "[6420]  178.0786  175.9810  167.2221  161.1843  167.9223  148.3398  166.3393\n",
       "[6427]  159.8105  157.3920  158.0773  151.2604  147.2931  154.4962  147.3948\n",
       "[6434]  143.9789  153.1975  151.7897  145.4004  156.8578  209.4179  178.8814\n",
       "[6441]  176.1333  147.3355  174.7743  171.4697  167.0678  152.7640  142.2231\n",
       "[6448]  149.4285  140.8065  122.0277  128.5551  123.6167  125.8985  129.0377\n",
       "[6455]   96.2266  118.9739  107.0058   81.7012   94.7417  115.5138   97.7119\n",
       "[6462]   99.6173  106.5096  137.8467  161.1727  157.3882  173.0945  176.0406\n",
       "[6469]  178.6206  181.5120  179.9804  205.9431  198.7980  220.6124  224.3016\n",
       "[6476]  242.1031  275.4658  259.4302  299.2473  359.7245  394.2765  398.8704\n",
       "[6483]  391.2218  341.0953  356.9081  233.3344  191.3914  152.8041  143.7924\n",
       "[6490]  148.4818  163.1740  162.4390  160.0647  160.1224  164.4881  152.4218\n",
       "[6497]  153.9926  164.3260  166.1711  164.9338  160.4586  147.7317  159.3117\n",
       "[6504]  151.5400  154.7124  173.3057  153.0749  159.5883  169.1670  181.2768\n",
       "[6511]  167.5685  155.1117  151.1172  137.6268  139.4512  132.2860  136.8365\n",
       "[6518]  108.3821  121.5264  116.9222   54.5441  112.6252  100.1542  111.4544\n",
       "[6525]   87.0197   89.6314   80.6184  108.1288  115.9574  153.6851  132.9867\n",
       "[6532]  131.0200  132.3781  124.1970  129.8339  138.1375  131.8440  152.7957\n",
       "[6539]  158.9819  137.3109  139.6911  134.8843  128.3709  136.2414  122.6491\n",
       "[6546]  138.4379  146.9098  145.8478  153.8605  176.6947  198.5542  191.8243\n",
       "[6553]  183.9613  182.1551  162.7995  122.3136  147.1762  171.8159  180.3945\n",
       "[6560]  180.0213  192.7920  217.0925  248.7288  308.6964  340.7683  329.2602\n",
       "[6567]  331.5136  290.4499  202.6711  200.3747  225.5999  195.5718  192.9195\n",
       "[6574]  221.7484  198.2833  185.6149  186.2702  224.4619  219.0699  243.9624\n",
       "[6581]  247.9809  237.7620  280.8565  306.6867  242.4759  226.4210  218.9067\n",
       "[6588]  229.4132  199.5072  188.7899  173.9079  165.0665  153.5960  154.2585\n",
       "[6595]  188.6671  188.9039  189.6061  177.0550  163.3979  141.4341  139.7178\n",
       "[6602]  134.7766  157.7693  163.2882  137.6188  135.6846  138.4713  120.9245\n",
       "[6609]  123.4074  137.5256  131.7353  116.5782  129.4769  106.5998  104.6301\n",
       "[6616]   93.4248  134.1777  147.6403  139.1502  160.2313  147.0265  143.8748\n",
       "[6623]  138.8590  133.0637  120.1185  104.0448  134.8753  143.5156  149.8539\n",
       "[6630]  144.5335  157.3002  152.2253  138.6146  146.1002  155.7540  159.7275\n",
       "[6637]  154.1633  135.8804  119.1560  118.0623  138.1077  167.0819  162.8510\n",
       "[6644]  158.3684  152.2081  152.4467  150.6850  148.2973  147.6370  148.9253\n",
       "[6651]  170.7641  156.3583  153.7783  122.8113  172.2288  169.3719  176.5289\n",
       "[6658]  163.8167  163.7070  171.0337  173.3662  180.5393  176.8920  194.6416\n",
       "[6665]  190.7766  186.6235  184.9563  202.0045  200.8550  259.2721  263.7061\n",
       "[6672]  265.0748  269.5117  276.2791  260.4474  291.9215  309.7118  383.8124\n",
       "[6679]  382.7352  420.3983  350.4644  277.8478  394.7712  331.4314  294.1722\n",
       "[6686]  229.5608  190.9570  169.1467  156.5808  178.3660  192.1138  183.9782\n",
       "[6693]  169.2688  163.4153  155.1302  167.5369  167.5286  175.6733  173.7550\n",
       "[6700]  178.8775  174.4996  166.6656  169.4375  170.8004  172.3437  153.5492\n",
       "[6707]  175.6147  176.9707  230.7096  183.9470  208.3152  172.0218  168.5921\n",
       "[6714]  152.7343  159.6828  179.0158  173.5625  189.7577  182.3283  178.1995\n",
       "[6721]  169.2946  154.5909  173.0316  178.7342  180.1280  187.1822  193.1048\n",
       "[6728]  173.1821  164.8723  164.3955  166.7343  159.3711  152.9698  103.8316\n",
       "[6735]  110.9840  102.9722  109.2085  151.5358  165.5482  175.1941  148.3800\n",
       "[6742]  148.8382  165.1438  158.0280  170.0426  186.5662  171.3456  164.4326\n",
       "[6749]  161.1229  160.7143  139.2665  112.1918  156.6860  150.2621  149.8814\n",
       "[6756]  148.7203  153.3363  159.8920  159.1517  166.7104  157.7612  159.1024\n",
       "[6763]  162.5824  159.7300  155.7304  168.2764  166.6764  169.7030  179.2370\n",
       "[6770]  175.5339  189.6821  179.5893  191.8300  192.4403  194.6675  211.5235\n",
       "[6777]  209.0349  203.3456  201.7830  190.9343  190.7805  212.9147  189.2680\n",
       "[6784]  186.0018  187.8471  202.3513  199.5015  194.0673  189.7973  184.7911\n",
       "[6791]  190.9644  172.0841  182.5745  168.7454  165.9946  167.8801  177.6028\n",
       "[6798]  167.7186  156.9895  149.3237  144.7525  166.3744  163.3214  159.7244\n",
       "[6805]  154.9680  145.3050  142.8468  134.8888  135.6074  161.9462  152.5558\n",
       "[6812]  144.4741  142.3999  148.9212  128.2476  147.7647  138.9518  141.3355\n",
       "[6819]  135.2880  159.4694  170.3290  179.3178  165.8200  165.1407  177.4251\n",
       "[6826]  155.2840  157.3041  138.6215  139.6998  142.9874  150.9099  183.4965\n",
       "[6833]  216.3076  285.7261  241.3985  217.6451  318.5291  318.6101  334.4099\n",
       "[6840]  363.2469  334.4255  323.1612  335.7705  355.7347  401.1405  425.5915\n",
       "[6847]  459.4383  450.6832  426.5379  429.9546  467.0920  469.0462  454.1636\n",
       "[6854]  471.4582  478.8750  474.9099  459.4172  445.9988  457.4871  461.2428\n",
       "[6861]  410.0951  447.5979  422.7423  428.5896  389.2706  431.2543  409.3999\n",
       "[6868]  419.5185  425.7653  453.9291  355.8656  407.8874  326.3946  309.3445\n",
       "[6875]  287.2237  339.5365  277.5587  258.1362  330.1153  325.3520  352.8631\n",
       "[6882]  369.2434  374.8872  375.2726  381.1859  386.1684  383.4060  403.1710\n",
       "[6889]  444.3265  462.6787  452.5691  421.5178  371.1812  417.6072  437.1305\n",
       "[6896]  436.9510  473.1621  473.0408  466.5436  385.2130  364.5134  426.8256\n",
       "[6903]  416.2276  396.8793  390.5985  303.6497  328.2752  293.7428  335.6205\n",
       "[6910]  361.8851  371.1749  322.6628  219.8499  225.3994  355.4020  305.0340\n",
       "[6917]  246.5564  125.1261  125.5048  123.8501  125.0194  188.5779  151.7279\n",
       "[6924]  190.8073  159.6698  146.4639  147.9894  197.5190  270.3998  177.1072\n",
       "[6931]  155.9935  148.6269  156.2145  152.3901  142.7423  137.7659  125.6801\n",
       "[6938]  123.7379  128.5088  159.8892  147.5887  155.8086  175.3426  187.2256\n",
       "[6945]  175.5426  179.8535  167.2311  161.0842  266.2828  322.3418  355.6736\n",
       "[6952]  368.9720  364.3250  340.9901  185.0088  283.8781  287.0112  308.1804\n",
       "[6959]  257.7040  190.7995  159.5454  148.8165  177.7537  168.9835  151.0941\n",
       "[6966]  158.3771  182.5805  171.4944  146.7805  153.9755  195.0261  187.3446\n",
       "[6973]  187.1681  172.9792  158.7829  160.4819  169.2819  172.3543  264.8964\n",
       "[6980]  213.8580  178.0603  155.1720  152.4817  187.8503  211.7914  276.9790\n",
       "[6987]  241.0639  217.2287  179.5564  174.1948  182.4862  185.8092  195.1841\n",
       "[6994]  173.3578  166.0860  162.4903  149.4383  167.5647  141.6008  153.8447\n",
       "[7001]  155.7979  143.5574  138.7816  132.0616  137.7461  132.4110  142.1458\n",
       "[7008]  165.6739  192.5183  200.7043  200.2334  194.1212  217.2762  225.6634\n",
       "[7015]  246.8535  267.2728  307.6186  295.0569  330.7168  291.7561  261.5966\n",
       "[7022]  187.8612  177.9208  159.5542  139.3623  183.1880  182.1624  169.3333\n",
       "[7029]  200.4419  211.1367  201.3578  187.0049  198.2564  182.3749  177.3927\n",
       "[7036]  178.6299  181.1609  175.3422  174.2193  178.1154  174.7240  190.9582\n",
       "[7043]  200.7200  180.0646  195.0698  167.6280  174.2036  176.2712  183.4846\n",
       "[7050]  180.4377  181.3303  179.4969  173.6386  164.5256  179.0261  156.9354\n",
       "[7057]  179.6554  153.9761  157.1441  124.2690  162.5150  164.2237  172.8245\n",
       "[7064]  162.3390  167.8567  162.8764  163.4750  164.8619  167.8213  155.5219\n",
       "[7071]  159.0854  155.1309  155.7636  155.6563  173.5718  191.0565  195.5242\n",
       "[7078]  199.1299  220.2672  221.1772  202.7725  209.0367  199.3141  208.5002\n",
       "[7085]  177.1921  180.6923  189.0169  152.5901  177.7695  160.0126  170.3008\n",
       "[7092]  162.8103  155.5088  110.6268  181.9197  194.8623  161.5100  161.1432\n",
       "[7099]  142.7221  140.7745  148.4590  155.9626  166.5240  159.1394  156.8072\n",
       "[7106]  178.6055  180.8352  199.9058  237.9138  208.0809  213.0111  230.1562\n",
       "[7113]  228.4053  199.3047  204.1180  201.7523  196.1387  194.3106  187.2911\n",
       "[7120]  171.4592  224.0695  204.7328  179.4293  171.2154  170.5381  185.2635\n",
       "[7127]  171.4160  164.5261  159.6224  151.4981  156.7714  171.7250  164.3118\n",
       "[7134]  154.9100  187.3259  166.8296  166.5204  156.2160  181.2077  171.5252\n",
       "[7141]  178.2540  179.2247  176.6043  164.0662  151.3883  166.6348  165.7754\n",
       "[7148]  164.9930  158.0801  138.7142  127.5798  131.3638  135.9064  154.1042\n",
       "[7155]  166.5977  164.8123  163.8605  174.7079  182.8931  183.4623  200.3188\n",
       "[7162]  189.6852  190.3101  169.6679  172.0758  184.5607  196.0064  209.4962\n",
       "[7169]  231.2539  218.2726  206.1539  193.3848  215.7422  209.2556  209.1388\n",
       "[7176]  223.1185  228.7506  224.0709  208.8584  242.5165  234.5468  220.1436\n",
       "[7183]  220.8879  191.7886  176.7425  171.2201  157.8529  170.7261  204.9329\n",
       "[7190]  200.3156  192.3745  210.8349  216.2005  217.7445  211.6244  186.2019\n",
       "[7197]  173.4046  171.6676  189.3450  187.3731  183.1160  182.0892  187.8255\n",
       "[7204]  188.1510  174.9661  171.1586  167.1864  185.7500  197.1441  160.2616\n",
       "[7211]  152.5730  136.8633  134.0676  128.9426  128.8843  142.4824  130.0768\n",
       "[7218]  159.1478  163.6020  145.5611  155.5027  138.5581  146.2179  134.3399\n",
       "[7225]  136.6729  163.3262  158.9827  155.7921  172.4060  171.0403  179.2769\n",
       "[7232]  200.7587  195.6904  211.5086  219.1366  266.1834  304.8477  323.4639\n",
       "[7239]  381.4933  447.0349  459.7447  313.5066  389.0974  327.2916  230.5482\n",
       "[7246]  213.7719  217.7893  218.9113  205.0875  246.6659  290.5653  304.9819\n",
       "[7253]  334.5181  287.2339  239.6653  204.8463  195.0711  196.7762  217.5005\n",
       "[7260]  223.0470  214.2321  199.6710  184.7871  180.8476  183.0755  188.8993\n",
       "[7267]  198.7267  206.4687  186.1231  167.7713  174.6879  213.0755  221.5652\n",
       "[7274]  215.8315  205.7951  192.1667  149.8684  181.6708  161.6260  164.2363\n",
       "[7281]  196.9582  196.4351  170.0554   92.7283  137.2175  175.5812  194.7373\n",
       "[7288]  180.6578  190.6016  193.4403  197.9696  241.1024  240.1577  245.9257\n",
       "[7295]  232.8611  244.4544  220.8200  204.8357  218.4095  224.5990  228.7163\n",
       "[7302]  243.5848  236.3209  234.8924  186.7551  156.1733  188.5972  211.8792\n",
       "[7309]  214.8753  174.2166  160.5205  189.5166  214.7312  173.2351  222.8382\n",
       "[7316]  160.4569  163.0185  151.9956  135.8344  198.4867  207.6255  237.6045\n",
       "[7323]  211.3260  179.9637  182.1748  182.1449  202.4367  211.7080  198.0149\n",
       "[7330]  201.0575  215.4580  204.9238  185.4714  175.9506  180.8503  170.3889\n",
       "[7337]  179.4714  201.1800  158.5433  141.4964  191.1336  202.1505  171.6583\n",
       "[7344]  172.8151  151.9706  146.1444  150.9997  193.9814  240.8579  247.3287\n",
       "[7351]  262.5622  261.5497  260.3169  257.3634  261.7682  256.5051  250.9287\n",
       "[7358]  220.9464  234.6368  238.3786  214.9812  271.0859  286.6261  300.7768\n",
       "[7365]  312.6627  299.7816  318.6748  331.5575  426.9090  706.1201  897.5625\n",
       "[7372]  804.0080  870.6458  930.3813  919.8125  966.3639  966.8942  947.0541\n",
       "[7379] 1223.9500 1631.9700 1893.0200 1705.2700 1803.9900 1846.8200 1847.8700\n",
       "[7386] 1942.8900 1866.5800  966.9953  608.5674 1022.3600 1183.7800 1234.1300\n",
       "[7393] 1013.3200 1004.5600  885.6517  553.9836  614.0094  711.9211  781.3360\n",
       "[7400]  794.0745  800.4742  795.1436  794.4056  788.8429  790.5935  801.0882\n",
       "[7407]  800.9727  801.5932  801.0259  810.9870  810.2741  796.4675  810.2746\n",
       "[7414]  806.3220  792.4755  734.8973  557.3812  695.3201  682.9620  713.1603\n",
       "[7421]  700.8177  668.5285  740.7163  822.7096  823.1465  822.5401  822.6059\n",
       "[7428]  822.7061  797.1219  821.7527  605.1202  745.4356  724.9103  819.0192\n",
       "[7435]  818.1742  817.2418  810.8896  809.3435  814.4100  815.4538  817.1534\n",
       "[7442]  809.3644  811.6147  800.3917  738.2436  719.8676  671.2917  664.7253\n",
       "[7449]  641.7636  656.1202  613.5337  563.7406  630.1799  547.9162  575.7348\n",
       "[7456]  535.7809  588.3366  637.6783  618.3109  712.9523  702.3943  717.9637\n",
       "[7463]  693.5287  474.5401  509.3327  535.8042  452.9044  405.0844  473.2383\n",
       "[7470]  409.8289  407.8352  407.8971  499.5984  535.4102  573.3990  633.7242\n",
       "[7477]  629.8068  587.5178  497.0147  533.2901  541.1936  660.2185  685.4241\n",
       "[7484]  771.0378  694.0761  621.9066  536.7759  680.2905  570.0401  542.6630\n",
       "[7491]  497.0818  556.4153  582.0607  557.5170  601.4355  519.7744  458.0812\n",
       "[7498]  461.2904  462.7274  448.9377  432.8335  442.2351  447.5553  447.2476\n",
       "[7505]  455.9164  458.0189  467.1481  442.4356  429.1076  408.8750  420.8127\n",
       "[7512]  446.7404  457.3585  498.2380  539.2207  610.1181  695.0329  854.3773\n",
       "[7519]  864.0911  866.5273  868.3854  868.3551  780.7746  758.1556  868.3865\n",
       "[7526]  868.3866  868.3875  868.8726  868.3815  868.7901  867.5591  853.4079\n",
       "[7533]  867.5587  848.0615  867.5344  867.5567  841.1850  861.9129  773.9933\n",
       "[7540]  884.2453  884.2441  882.0296  884.0947  883.7245  883.2914  883.7115\n",
       "[7547]  882.2249  874.1232  843.0854  807.3399  764.0819  757.6170  687.6205\n",
       "[7554]  686.8015  764.1271  819.0648  792.3540  822.5994  798.6857  796.7318\n",
       "[7561]  796.2643  804.0657  740.1060  595.9816  682.4476  623.2604  590.8656\n",
       "[7568]  562.9740  486.2293  417.6328  368.3572  350.3442  329.6806  295.3413\n",
       "[7575]  227.7574  196.7042  171.8459  166.6272  165.1919  163.7618  171.3110\n",
       "[7582]  173.0869  180.8649  180.4941  193.3666  232.5208  212.4122  186.5172\n",
       "[7589]  177.3604  170.2780  157.1083  151.6628  148.1701  146.5565  156.9871\n",
       "[7596]  152.0506  130.4677  139.4452  133.7360  136.4479  132.7852  125.2752\n",
       "[7603]  120.8430  111.7224  112.7276  118.4619  154.4275  132.5568  137.5381\n",
       "[7610]  145.1458  159.9240  146.6867  140.5934  150.8874  148.3806  156.7944\n",
       "[7617]  156.6038  157.8285  151.1566  136.5913  133.0452  132.7411"
      ]
     },
     "metadata": {},
     "output_type": "display_data"
    }
   ],
   "source": [
    "current_price"
   ]
  },
  {
   "cell_type": "markdown",
   "metadata": {},
   "source": [
    "### En adelante, continuaremos trabajando con la serie de precios constantes y separaremos una ventana para ajuste y una muestra para comparar los pronosticos resultantes"
   ]
  },
  {
   "cell_type": "code",
   "execution_count": 64,
   "metadata": {
    "collapsed": false
   },
   "outputs": [],
   "source": [
    "y.fit<-window(constant_price,start=c(1995,1),end=c(2013,1))\n",
    "y.for<-window(constant_price,start=c(2013,1))"
   ]
  },
  {
   "cell_type": "markdown",
   "metadata": {},
   "source": [
    "El procedimiento Box-Jenkins consiste en tres etapas:\n",
    "\n",
    "* Identificacion\n",
    "* Estimacion\n",
    "* Diagnostico"
   ]
  },
  {
   "cell_type": "code",
   "execution_count": 65,
   "metadata": {
    "collapsed": false
   },
   "outputs": [
    {
     "data": {
      "image/png": "[encoded data removed]",
      "text/plain": [
       "Plot with title \"\""
      ]
     },
     "metadata": {
      "image/svg+xml": {
       "isolated": true
      }
     },
     "output_type": "display_data"
    }
   ],
   "source": [
    "op<-par(no.readonly=TRUE) #configura la impresion\n",
    "layout(matrix(c(1,1,2,3),2,2,byrow = TRUE)) #configura la impresion\n",
    "plot.ts(y.fit)#se hace una inspeccion visual de la serie para determinar si es estacionaria\n",
    "acf(y.fit,main=\"\",lag.max = 100)\n",
    "pacf(y.fit,main=\"\")"
   ]
  },
  {
   "cell_type": "markdown",
   "metadata": {},
   "source": [
    "Se percibe que la serie tiene un comportamiento en el que esta arrastrando informacion de los rezagos anteriores, esto es conocido como Raices unitarias."
   ]
  },
  {
   "cell_type": "code",
   "execution_count": 33,
   "metadata": {
    "collapsed": false
   },
   "outputs": [
    {
     "data": {
      "image/png": "[encoded data removed]",
      "text/plain": [
       "Plot with title \"Series  y.diff\""
      ]
     },
     "metadata": {
      "image/svg+xml": {
       "isolated": true
      }
     },
     "output_type": "display_data"
    }
   ],
   "source": [
    "y.diff<-diff(y.fit)\n",
    "\n",
    "op<-par(no.readonly=TRUE) #configura la impresion\n",
    "layout(matrix(c(1,1,2,3),2,2,byrow = TRUE)) #configura la impresion\n",
    "\n",
    "plot.ts(y.diff)\n",
    "acf(y.diff,ylim=c(-1,1))\n",
    "pacf(y.diff,ylim=c(-1,1))"
   ]
  },
  {
   "cell_type": "markdown",
   "metadata": {},
   "source": [
    "# Probemos diferenciando la serie de manera estacional"
   ]
  },
  {
   "cell_type": "code",
   "execution_count": 41,
   "metadata": {
    "collapsed": false
   },
   "outputs": [
    {
     "data": {
      "image/png": "[encoded data removed]",
      "text/plain": [
       "Plot with title \"\""
      ]
     },
     "metadata": {
      "image/svg+xml": {
       "isolated": true
      }
     },
     "output_type": "display_data"
    }
   ],
   "source": [
    "y.diff.est<-diff(y.diff,lag=7)\n",
    "op<-par(no.readonly=TRUE) #configura la impresion\n",
    "layout(matrix(c(1,1,2,3),2,2,byrow = TRUE)) #configura la impresion\n",
    "\n",
    "plot.ts(y.diff.est)\n",
    "\n",
    "acf(y.diff.est,ylim=c(-1,1),main=\"\",lag.max = 29)\n",
    "pacf(y.diff.est,ylim=c(-1,1),main=\"\",lag.max = 29)"
   ]
  },
  {
   "cell_type": "code",
   "execution_count": 14,
   "metadata": {
    "collapsed": true
   },
   "outputs": [],
   "source": [
    "mod3<-auto.arima(y.fit,max.p=29,max.q=29,max.P=29,max.Q=29,max.D=2,max.d=2)"
   ]
  },
  {
   "cell_type": "code",
   "execution_count": 27,
   "metadata": {
    "collapsed": false
   },
   "outputs": [
    {
     "data": {
      "text/html": [
       "<table>\n",
       "<tbody>\n",
       "\t<tr><td>3</td><td>1</td><td>6</td></tr>\n",
       "</tbody>\n",
       "</table>\n"
      ],
      "text/latex": [
       "\\begin{tabular}{lll}\n",
       "\t 3 & 1 & 6\\\\\n",
       "\\end{tabular}\n"
      ],
      "text/markdown": [
       "1. 3\n",
       "2. 1\n",
       "3. 6\n",
       "\n",
       "\n"
      ],
      "text/plain": [
       "     [,1] [,2] [,3]\n",
       "[1,]    3    1    6"
      ]
     },
     "metadata": {},
     "output_type": "display_data"
    },
    {
     "data": {
      "text/html": [
       "<ol class=list-inline>\n",
       "\t<li>3</li>\n",
       "\t<li>6</li>\n",
       "\t<li>0</li>\n",
       "\t<li>0</li>\n",
       "\t<li>365</li>\n",
       "\t<li>1</li>\n",
       "\t<li>0</li>\n",
       "</ol>\n"
      ],
      "text/latex": [
       "\\begin{enumerate*}\n",
       "\\item 3\n",
       "\\item 6\n",
       "\\item 0\n",
       "\\item 0\n",
       "\\item 365\n",
       "\\item 1\n",
       "\\item 0\n",
       "\\end{enumerate*}\n"
      ],
      "text/markdown": [
       "1. 3\n",
       "2. 6\n",
       "3. 0\n",
       "4. 0\n",
       "5. 365\n",
       "6. 1\n",
       "7. 0\n",
       "\n",
       "\n"
      ],
      "text/plain": [
       "[1]   3   6   0   0 365   1   0"
      ]
     },
     "metadata": {},
     "output_type": "display_data"
    },
    {
     "data": {
      "text/html": [
       "<ol class=list-inline>\n",
       "\t<li>3</li>\n",
       "\t<li>1</li>\n",
       "\t<li>6</li>\n",
       "</ol>\n"
      ],
      "text/latex": [
       "\\begin{enumerate*}\n",
       "\\item 3\n",
       "\\item 1\n",
       "\\item 6\n",
       "\\end{enumerate*}\n"
      ],
      "text/markdown": [
       "1. 3\n",
       "2. 1\n",
       "3. 6\n",
       "\n",
       "\n"
      ],
      "text/plain": [
       "[1] 3 1 6"
      ]
     },
     "metadata": {},
     "output_type": "display_data"
    }
   ],
   "source": [
    "cbind(mod3$arma[1],mod3$arma[6],mod3$arma[2])\n",
    "mod3$arma\n",
    "#?auto.arima\n",
    "\n",
    "arimaorder(mod3)"
   ]
  },
  {
   "cell_type": "code",
   "execution_count": null,
   "metadata": {
    "collapsed": false
   },
   "outputs": [],
   "source": []
  },
  {
   "cell_type": "code",
   "execution_count": 15,
   "metadata": {
    "collapsed": false
   },
   "outputs": [
    {
     "data": {
      "text/plain": [
       "Series: y.fit \n",
       "ARIMA(3,1,6)                    \n",
       "\n",
       "Coefficients:\n",
       "          ar1      ar2      ar3     ma1     ma2     ma3      ma4      ma5\n",
       "      -0.9742  -1.2142  -0.5228  0.8152  1.0096  0.1930  -0.2773  -0.1718\n",
       "s.e.   0.1430   0.0650   0.1405  0.1429  0.0449  0.1214   0.0394   0.0192\n",
       "          ma6\n",
       "      -0.1224\n",
       "s.e.   0.0153\n",
       "\n",
       "sigma^2 estimated as 185.4:  log likelihood=-26475.04\n",
       "AIC=52970.08   AICc=52970.12   BIC=53037.99"
      ]
     },
     "metadata": {},
     "output_type": "display_data"
    }
   ],
   "source": [
    "mod3\n",
    "r3<-mod3$residuals"
   ]
  },
  {
   "cell_type": "code",
   "execution_count": 16,
   "metadata": {
    "collapsed": false
   },
   "outputs": [
    {
     "data": {
      "image/png": "[encoded data removed]",
      "text/plain": [
       "Plot with title \"Series  r3\""
      ]
     },
     "metadata": {
      "image/svg+xml": {
       "isolated": true
      }
     },
     "output_type": "display_data"
    }
   ],
   "source": [
    "acf(r3, ylim=c(-1,1))\n",
    "grid()"
   ]
  },
  {
   "cell_type": "code",
   "execution_count": 140,
   "metadata": {
    "collapsed": false
   },
   "outputs": [
    {
     "data": {
      "text/plain": [
       "\n",
       "\tBox-Ljung test\n",
       "\n",
       "data:  r3\n",
       "X-squared = 26.059, df = 7, p-value = 0.0004915\n"
      ]
     },
     "metadata": {},
     "output_type": "display_data"
    }
   ],
   "source": [
    "Box.test(r3,type = \"Ljung-Box\",lag = 7)"
   ]
  },
  {
   "cell_type": "code",
   "execution_count": null,
   "metadata": {
    "collapsed": true
   },
   "outputs": [],
   "source": [
    "#pronostico con el modelo que encontramos y tambien miro otras transformaciones y monto la tabla de pronostico\n",
    "\n",
    "#Prueba de no linealidad en la media\n",
    "# prueba de terasvirta y otras (Esto me va a decir que se requiere otro modelo distinto para la media)\n",
    "#Prueba de no linealidad en la varianza\n",
    "#Prueba de engle (prueba arch)\n",
    "#redes neuronales, markovianos, bilineales, modelos star"
   ]
  },
  {
   "cell_type": "code",
   "execution_count": 119,
   "metadata": {
    "collapsed": false
   },
   "outputs": [
    {
     "data": {
      "text/plain": [
       "Series: y.diff.est \n",
       "ARIMA(1,0,0) with zero mean     \n",
       "\n",
       "Coefficients:\n",
       "          ar1\n",
       "      -0.1275\n",
       "s.e.   0.0122\n",
       "\n",
       "sigma^2 estimated as 343:  log likelihood=-28468.04\n",
       "AIC=56940.09   AICc=56940.09   BIC=56953.67"
      ]
     },
     "metadata": {},
     "output_type": "display_data"
    }
   ],
   "source": [
    "res2<-mod2$residuals\n",
    "mod2"
   ]
  },
  {
   "cell_type": "code",
   "execution_count": 120,
   "metadata": {
    "collapsed": false
   },
   "outputs": [
    {
     "data": {
      "image/png": "[encoded data removed]",
      "text/plain": [
       "Plot with title \"Series  res2\""
      ]
     },
     "metadata": {
      "image/svg+xml": {
       "isolated": true
      }
     },
     "output_type": "display_data"
    },
    {
     "data": {
      "image/png": "[encoded data removed]",
      "text/plain": [
       "Plot with title \"Series  res2^2\""
      ]
     },
     "metadata": {
      "image/svg+xml": {
       "isolated": true
      }
     },
     "output_type": "display_data"
    }
   ],
   "source": [
    "acf(res2)\n",
    "acf(res2^2)"
   ]
  },
  {
   "cell_type": "code",
   "execution_count": 114,
   "metadata": {
    "collapsed": false
   },
   "outputs": [
    {
     "data": {
      "image/png": "[encoded data removed]",
      "text/plain": [
       "Plot with title \"Histograma\""
      ]
     },
     "metadata": {
      "image/svg+xml": {
       "isolated": true
      }
     },
     "output_type": "display_data"
    }
   ],
   "source": [
    "imprimir_histograma(res1)\n",
    "#imprimir_histograma(res2)"
   ]
  },
  {
   "cell_type": "markdown",
   "metadata": {},
   "source": [
    "Hay evidencias de comportamiento heterocedastico en los residuos del modelo 1 y modelo 2"
   ]
  },
  {
   "cell_type": "markdown",
   "metadata": {},
   "source": [
    "# Modelar la heterocedasticidad"
   ]
  },
  {
   "cell_type": "code",
   "execution_count": 108,
   "metadata": {
    "collapsed": false
   },
   "outputs": [
    {
     "name": "stdout",
     "output_type": "stream",
     "text": [
      "\n",
      "Series Initialization:\n",
      " ARMA Model:                arma\n",
      " Formula Mean:              ~ arma(0, 0)\n",
      " GARCH Model:               garch\n",
      " Formula Variance:          ~ garch(1, 1)\n",
      " ARMA Order:                0 0\n",
      " Max ARMA Order:            0\n",
      " GARCH Order:               1 1\n",
      " Max GARCH Order:           1\n",
      " Maximum Order:             1\n",
      " Conditional Dist:          norm\n",
      " h.start:                   2\n",
      " llh.start:                 1\n",
      " Length of Series:          6570\n",
      " Recursion Init:            mci\n",
      " Series Scale:              13.60961\n",
      "\n",
      "Parameter Initialization:\n",
      " Initial Parameters:          $params\n",
      " Limits of Transformations:   $U, $V\n",
      " Which Parameters are Fixed?  $includes\n",
      " Parameter Matrix:\n",
      "                     U            V      params includes\n",
      "    mu     -0.03447712   0.03447712 0.003447712     TRUE\n",
      "    omega   0.00000100 100.00000000 0.100000000     TRUE\n",
      "    alpha1  0.00000001   0.99999999 0.100000000     TRUE\n",
      "    gamma1 -0.99999999   0.99999999 0.100000000    FALSE\n",
      "    beta1   0.00000001   0.99999999 0.800000000     TRUE\n",
      "    delta   0.00000000   2.00000000 2.000000000    FALSE\n",
      "    skew    0.10000000  10.00000000 1.000000000    FALSE\n",
      "    shape   1.00000000  10.00000000 4.000000000    FALSE\n",
      " Index List of Parameters to be Optimized:\n",
      "    mu  omega alpha1  beta1 \n",
      "     1      2      3      5 \n",
      " Persistence:                  0.9 \n",
      "\n",
      "\n",
      "--- START OF TRACE ---\n",
      "Selected Algorithm: nlminb \n",
      "\n",
      "R coded nlminb Solver: \n",
      "\n",
      "  0:     7205.3563: 0.00344771 0.100000 0.100000 0.800000\n",
      "  1:     6856.2719: 0.00344771 0.0742401 0.0999058 0.787105\n",
      "  2:     6650.1571: 0.00344771 0.0190125 0.108810 0.773320\n",
      "  3:     6426.7484: 0.00344771 0.0420363 0.161155 0.780344\n",
      "  4:     6116.5575: 0.00344772 0.00929213 0.208544 0.779127\n",
      "  5:     6026.8176: 0.00344776 0.00615359 0.212704 0.819581\n",
      "  6:     6019.0479: 0.00344776 0.00510804 0.212651 0.819556\n",
      "  7:     6015.8467: 0.00344777 0.00331432 0.212377 0.820602\n",
      "  8:     6012.8089: 0.00344777 0.00389727 0.212013 0.822580\n",
      "  9:     6006.5673: 0.00344781 0.00233911 0.209110 0.833323\n",
      " 10:     6005.9586: 0.00344781 0.00276718 0.209083 0.833382\n",
      " 11:     5989.1588: 0.00344967 0.00225131 0.137263 0.873545\n",
      " 12:     5988.5172: 0.00344967 0.00271944 0.137367 0.873700\n",
      " 13:     5988.0428: 0.00344972 0.00248307 0.137167 0.874097\n",
      " 14:     5987.5944: 0.00344974 0.00267575 0.137656 0.874957\n",
      " 15:     5986.6002: 0.00345005 0.00220849 0.136435 0.876489\n",
      " 16:     5986.1346: 0.00345052 0.00227948 0.135216 0.878087\n",
      " 17:     5985.7648: 0.00345225 0.00193079 0.132672 0.881153\n",
      " 18:     5985.7133: 0.00346241 0.00212415 0.130893 0.883240\n",
      " 19:     5985.4956: 0.00346931 0.00194512 0.130801 0.883357\n",
      " 20:     5985.4845: 0.00347626 0.00197124 0.130877 0.883335\n",
      " 21:     5985.4697: 0.00349014 0.00194446 0.131015 0.883261\n",
      " 22:     5985.3018: 0.00402015 0.00203366 0.135781 0.879561\n",
      " 23:     5985.1226: 0.00508095 0.00190442 0.137737 0.880242\n",
      " 24:     5984.9777: 0.00614177 0.00191891 0.137357 0.879915\n",
      " 25:     5984.9450: 0.00716244 0.00192378 0.136695 0.880145\n",
      " 26:     5984.9447: 0.00723714 0.00192040 0.136663 0.880200\n",
      " 27:     5984.9447: 0.00724177 0.00192033 0.136655 0.880210\n",
      " 28:     5984.9447: 0.00724142 0.00192025 0.136655 0.880211\n",
      "\n",
      "Final Estimate of the Negative LLH:\n",
      " LLH:  23137.74    norm LLH:  3.521726 \n",
      "        mu      omega     alpha1      beta1 \n",
      "0.09855291 0.35567220 0.13665465 0.88021077 \n",
      "\n",
      "R-optimhess Difference Approximated Hessian Matrix:\n",
      "               mu       omega        alpha1        beta1\n",
      "mu     -231.43110   -22.48466     -40.15149    -198.0652\n",
      "omega   -22.48466  -732.90206   -5253.43373   -8805.7835\n",
      "alpha1  -40.15149 -5253.43373 -145970.87647 -209372.1145\n",
      "beta1  -198.06519 -8805.78354 -209372.11455 -326910.0313\n",
      "attr(,\"time\")\n",
      "Time difference of 0.2343891 secs\n",
      "\n",
      "--- END OF TRACE ---\n",
      "\n",
      "\n",
      "Time to Estimate Parameters:\n",
      " Time difference of 0.8020952 secs\n"
     ]
    }
   ],
   "source": [
    "library(fGarch)\n",
    "mod1res1<-garchFit(~garch(1,1),data = res1)"
   ]
  },
  {
   "cell_type": "code",
   "execution_count": 111,
   "metadata": {
    "collapsed": false
   },
   "outputs": [
    {
     "data": {
      "image/png": "[encoded data removed]",
      "text/plain": [
       "Plot with title \"Series  r1\""
      ]
     },
     "metadata": {
      "image/svg+xml": {
       "isolated": true
      }
     },
     "output_type": "display_data"
    }
   ],
   "source": [
    "r1<-residuals(mod1res1)\n",
    "acf(r1,ci.type=\"ma\")"
   ]
  },
  {
   "cell_type": "markdown",
   "metadata": {},
   "source": [
    "# Transformaciones Box-Cox\n",
    "\n",
    "En algunos casos, para poder comenzar a realizar estimaciones de modelos, debemos garantizar que los datos siguen una N$\\sim(\\mu,\\sigma^2)$. \n",
    "\n",
    "Por esta razon se utilizan transformaciones para garantizar este supuesto:\n",
    "\n",
    "El objetivo principal de la transformacion es estimar un valor de $\\lambda$ para elevar los datos a dicha potencia.\n",
    "\n",
    "La forma primaria de la transformacion es:\n",
    "\n",
    "$Y^{(\\lambda)}=\\frac{y^\\lambda-1}{\\lambda}, si \\lambda<>0$\n",
    "\n",
    "\n",
    "$Y^{(\\lambda)}=\\log{y}, si  \\lambda=0$\n",
    "\n",
    "Se puede demostrar mediante L'Hopital que $Lim\\frac{y^\\lambda-1}{\\lambda}=\\log{y}$\n",
    "\n",
    "El paquete de R AID, tiene algunos casos para observar ejemplos"
   ]
  },
  {
   "cell_type": "markdown",
   "metadata": {},
   "source": [
    "##### library(AID)\n",
    "boxcoxnc(data=y.fit[1:5000],method = \"jb\",lam = seq(-3,3,0.01),plotit = FALSE)"
   ]
  },
  {
   "cell_type": "code",
   "execution_count": 67,
   "metadata": {
    "collapsed": false
   },
   "outputs": [
    {
     "data": {
      "image/png": "[encoded data removed]",
      "text/plain": [
       "plot without title"
      ]
     },
     "metadata": {
      "image/svg+xml": {
       "isolated": true
      }
     },
     "output_type": "display_data"
    },
    {
     "data": {
      "image/png": "[encoded data removed]",
      "text/plain": [
       "Plot with title \"Series  y.fit.boxcox\""
      ]
     },
     "metadata": {
      "image/svg+xml": {
       "isolated": true
      }
     },
     "output_type": "display_data"
    },
    {
     "data": {
      "image/png": "[encoded data removed]",
      "text/plain": [
       "Plot with title \"Series  y.fit.boxcox\""
      ]
     },
     "metadata": {
      "image/svg+xml": {
       "isolated": true
      }
     },
     "output_type": "display_data"
    }
   ],
   "source": [
    "y.fit.boxcox<-y.fit^(1/3)\n",
    "plot.ts(y.fit.boxcox)\n",
    "acf(y.fit.boxcox)\n",
    "pacf(y.fit.boxcox)"
   ]
  },
  {
   "cell_type": "code",
   "execution_count": null,
   "metadata": {
    "collapsed": true
   },
   "outputs": [],
   "source": []
  }
 ],
 "metadata": {
  "anaconda-cloud": {},
  "kernelspec": {
   "display_name": "R",
   "language": "R",
   "name": "ir"
  },
  "language_info": {
   "codemirror_mode": "r",
   "file_extension": ".r",
   "mimetype": "text/x-r-source",
   "name": "R",
   "pygments_lexer": "r",
   "version": "3.3.1"
  }
 },
 "nbformat": 4,
 "nbformat_minor": 0
}
