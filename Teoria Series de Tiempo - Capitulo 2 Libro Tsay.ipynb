{
 "cells": [
  {
   "cell_type": "code",
   "execution_count": 1,
   "metadata": {
    "collapsed": true
   },
   "outputs": [],
   "source": [
    "options(repr.plot.weight=8,repr.plot.height=4) #Tamaño del grafico"
   ]
  },
  {
   "cell_type": "markdown",
   "metadata": {},
   "source": [
    "## Función para transformar datos  APLICAR_TRANSFORMACION()"
   ]
  },
  {
   "cell_type": "code",
   "execution_count": 2,
   "metadata": {
    "collapsed": true
   },
   "outputs": [],
   "source": [
    "aplicar_transformacion<-function(serie=x,tipo=1,retardo=1){ #la serie por defecto será x,\n",
    "                                                  ##El tipo 1 (por defecto) hará referencia a la diferenciacion de los datos (Cambio Absoluto)\n",
    "                                                  ###El tipo 2 hará referencia a la transformacion Pt/Pt-1 (Rentabilidad bruta simple)\n",
    "                                                  ####El tipo 3 hara referencia a la tranformacion Pt/Pt-1 -1 (Rentabilidad neta simple)\n",
    "                                                  #####El tipo 4 hara referencia la transformacion log(Pt/Pt-1) Rentabilidad logaritmica\n",
    "                                                  ######El tipo 5 hara referencia a la transformacion raiz cuadrada\n",
    "                                                  #######El tipo 6 hara referencia  a la transformacion raiz cubica\n",
    "                                                  ########El tipo 7 hara referenica a la transformacion ln(Pt)\n",
    "    if(tipo==1){\n",
    "        transformada<-diff(serie,retardo)\n",
    "    }\n",
    "    if(tipo==2){\n",
    "        transformada<-c(NaN,serie[2:length(serie)]/serie[1:length(serie)-1])\n",
    "    }\n",
    "    \n",
    "    if(tipo==3){\n",
    "        transformada<-c(NaN,(serie[2:length(serie)]/serie[1:length(serie)-1])-1)\n",
    "    }\n",
    "    \n",
    "    if(tipo==4){\n",
    "        transformada<-c(NaN,log(serie[2:length(serie)]/serie[1:length(serie)-1]))\n",
    "    }\n",
    "    \n",
    "    if(tipo==5){\n",
    "        transformada<-sqrt(serie)\n",
    "    }\n",
    "    \n",
    "    if(tipo==6){\n",
    "        transformada<-(serie)^(1/3)\n",
    "    }\n",
    "    \n",
    "    if(tipo==7){\n",
    "        transformada<-log(serie)\n",
    "    }\n",
    "    return(transformada)\n",
    "}\n",
    "\n",
    "#Construir inversa\n",
    "\n"
   ]
  },
  {
   "cell_type": "markdown",
   "metadata": {},
   "source": [
    "## Función para calcular los estadísticos descriptivos básicos"
   ]
  },
  {
   "cell_type": "code",
   "execution_count": 3,
   "metadata": {
    "collapsed": true
   },
   "outputs": [],
   "source": [
    "estadisticos_basicos<-function(serie=x,num_dec=6){ #informa los estadisticos descriptivos básicos de una serie, \n",
    "                                                   #se pueden configurar los decimales!!\n",
    "    #library(moments)\n",
    "    media<-round(mean(serie),num_dec)\n",
    "    varianza<-round(var(serie),num_dec)\n",
    "    asimetria<-round(skewness(serie),num_dec)\n",
    "    curtosis<-round(kurtosis(serie),num_dec)\n",
    "    total_datos<-length(serie)\n",
    "    minimo<-round(min(serie),num_dec)\n",
    "    maximo<-round(max(serie),num_dec)\n",
    "\n",
    "    estadisticos<-c(media=media,varianza=varianza,asimetria=asimetria,curtosis=curtosis,minimo=minimo,maximo=maximo,total_datos=total_datos)\n",
    "    return(estadisticos)\n",
    "}"
   ]
  },
  {
   "cell_type": "markdown",
   "metadata": {},
   "source": [
    "## Imprimir el histograma comparado con una normal y el ajuste no parametrico"
   ]
  },
  {
   "cell_type": "code",
   "execution_count": 4,
   "metadata": {
    "collapsed": true
   },
   "outputs": [],
   "source": [
    "imprimir_histograma<-function(serie=x,leyenda=\"topleft\"){\n",
    "    hist(serie,breaks=100,freq=FALSE,main=\"Histograma\")                                      #imprime el histograma \n",
    "    datos_normales<-rnorm(1000000,mean = mean(serie),sd=sqrt(var(serie)))                    #propone una serie normal\n",
    "    curve(dnorm(x,mean(datos_normales),sd(datos_normales)),col=\"blue\",lty=2,lwd=3,add=TRUE)  #dibuja una campana normal\n",
    "    d<-density(serie)                                                                        #Densidad no parametrica\n",
    "    lines(d,col=\"red\",lwd=2)                                                                 #Dibuja una densidad no parametrica\n",
    "    \n",
    "    legend(leyenda,c(\"Distribución no parametrica\",\"Distribución normal\"),col=c(\"red\",\"blue\"),lwd=c(3,3),bty=\"n\") #Leyenda\n",
    "}"
   ]
  },
  {
   "cell_type": "markdown",
   "metadata": {},
   "source": [
    "## Gráfico qqplot para identificar linealidad de la serie"
   ]
  },
  {
   "cell_type": "code",
   "execution_count": 5,
   "metadata": {
    "collapsed": true
   },
   "outputs": [],
   "source": [
    "grafico_qqplot<-function(serie=x){\n",
    "    qqnorm(serie, main=\"Gráfico Q-Q\")\n",
    "    qqline(serie)\n",
    "}"
   ]
  },
  {
   "cell_type": "markdown",
   "metadata": {},
   "source": [
    "## ACF y PACF de la serie - graficos_ACF"
   ]
  },
  {
   "cell_type": "code",
   "execution_count": 6,
   "metadata": {
    "collapsed": true
   },
   "outputs": [],
   "source": [
    "graficos_ACF<-function(serie=x,nombre=\" \",retardos=1){\n",
    "    par(mfrow=c(1,1))\n",
    "    acf(serie,retardos,main=nombre)\n",
    "    pacf(serie,retardos,main=nombre)\n",
    "}"
   ]
  },
  {
   "cell_type": "code",
   "execution_count": 7,
   "metadata": {
    "collapsed": false
   },
   "outputs": [],
   "source": [
    "datos<-read.csv(\"Precios_1995.csv\", header=TRUE, sep = \",\" ,dec = \".\") # Cargo la base de datos donde estan mis series de precios y variables explicativas"
   ]
  },
  {
   "cell_type": "code",
   "execution_count": 8,
   "metadata": {
    "collapsed": false
   },
   "outputs": [
    {
     "data": {
      "image/png": "[encoded data removed]",
      "text/plain": [
       "Plot with title \"Precio Promedio Diario, Mercado Energía Colombia\""
      ]
     },
     "metadata": {
      "image/svg+xml": {
       "isolated": true
      }
     },
     "output_type": "display_data"
    }
   ],
   "source": [
    "x<-datos$X..KWh_Const_Dic_2008 #Se separan los datos de interes, los precios sin inflacion\n",
    "x<-ts(x,frequency = 1) #se le da formato  de serie de tiempo a nivel diario\n",
    "plot(x,ylab = \"$/kwh\",xlab = \"Días\",main=\"Precio Promedio Diario, Mercado Energía Colombia\") # Imprimir el comportamiento del precio\n"
   ]
  },
  {
   "cell_type": "markdown",
   "metadata": {},
   "source": [
    "## Definición de Ruido Blanco\n",
    "\n",
    "Un proceso de Ruido Blanco representa una variable que:\n",
    "\n",
    "1. Oscila en torno a una media constante $\\mu$ =constante\n",
    "2. Tiene una volatilidad constante $\\sigma^2$ = constante\n",
    "3. Los datos son incorrelacionados entre si\n"
   ]
  },
  {
   "cell_type": "markdown",
   "metadata": {},
   "source": [
    "http://es.slideshare.net/enriqueorlando/analisis-deseriestemporales?next_slideshow=1 estudio de series de tiempo\n",
    "\n",
    "http://rstudio-pubs-static.s3.amazonaws.com/14623_4a17c643af9a4300b88bb2a44d2ffb27.html codigo makdown"
   ]
  },
  {
   "cell_type": "markdown",
   "metadata": {},
   "source": [
    "# Cap 2: Analisis de series de tiempo y sus aplicaciones - Libro Tsay\n",
    "En este capitulo se define la teoria básica del análisis de series de tiempo para construir modelos econometricos utiles para analisis financieros y aplica los modelos para series financieras como retornos de activos.\n",
    "\n",
    "Los modelos econometricos incluyen:\n",
    "1. Autorregresivos simples AR(p)\n",
    "2. Medias moviles simples MA(q)\n",
    "3. Combinacion de aurtorregresivos y medias moviles ARMA (p,q)\n",
    "4. Raices unitarios no estacionarias \n",
    "5. Modelos de regresion con errores de series de tiempo\n",
    "6. Modelos Fraccionalmente diferenciados con larga dependencia\n",
    "\n",
    "Los modelos utilizados para los retornos de los activos, intentan capturar las relaciones lineales entre $r_t$ y la informacion disponibles anterior al tiempo $t$\n",
    "\n",
    "## Estacionareidad\n",
    "El fundamento principal del analisis de las series de tiempo es la **estacionareidad**. En otras palabras, la estacionareidad estricta requiere que la distribucion conjunta sea invariante bajo el cambio del tiempo, esto es muy dificil de demostrar porque se adopta el termino de **\"estacionareidad debil\"**, que se da si:\n",
    "* $E(r_t)= \\mu$, la cual es constante\n",
    "* $ Cov(r_t,r_t-1)= \\gamma_l$, la cual solo depende de $l$\n",
    "\n",
    "En la practica, la estacionareidad debil implica que al graficar los puntos, todos fluctuan alrededor de una constante o nivel fijo. Esto nos permite hacer inferencias con respecto a futuras observciones (predicciones).\n",
    "\n",
    "Asumimos que los dos primeros momentos de $r_t$ son finitos\n",
    "\n",
    "Si los datos estan normalmente distribuidos, decimos que la estacionareidad debil equivale a la estricta estacionareidad\n",
    "\n"
   ]
  },
  {
   "cell_type": "code",
   "execution_count": 9,
   "metadata": {
    "collapsed": false
   },
   "outputs": [
    {
     "data": {
      "image/png": "[encoded data removed]",
      "text/plain": [
       "Plot with title \"Datos alrededor de un nivel fijo\""
      ]
     },
     "metadata": {
      "image/svg+xml": {
       "isolated": true
      }
     },
     "output_type": "display_data"
    }
   ],
   "source": [
    "rend_neto_pt<-aplicar_transformacion(x,tipo = 4)\n",
    "\n",
    "plot(rend_neto_pt,type=\"l\",main=\"Datos alrededor de un nivel fijo\")\n",
    "abline(h = 0, lwd=3,lty=2, col=\"blue\")"
   ]
  },
  {
   "cell_type": "markdown",
   "metadata": {},
   "source": [
    "## Ruido Blanco\n",
    "Una serie de tiempo es un **Ruido Blanco** si $r_t$ es una secuencia de independientes e identicamente distribuidos de una variable aleatoria con media y varianza finita.\n",
    "\n",
    "En particular si $r_t$ es normalmente distribuida con media ero y varianza $\\sigma^2$, se dice que es un **Ruido Blanco Gaussiano**.\n",
    "\n",
    "### En la pratica si todos los valores de la ACF son cero, se dice que es un Ruido Blanco!\n",
    "\n"
   ]
  },
  {
   "cell_type": "code",
   "execution_count": 10,
   "metadata": {
    "collapsed": false
   },
   "outputs": [
    {
     "data": {
      "image/png": "[encoded data removed]",
      "text/plain": [
       "Plot with title \"Ejemplo de un ACF de Ruido Blanco\""
      ]
     },
     "metadata": {
      "image/svg+xml": {
       "isolated": true
      }
     },
     "output_type": "display_data"
    }
   ],
   "source": [
    "ruido_blanco<-rnorm(n = 100, mean = 0,sd = 9)\n",
    "acf(ruido_blanco,main=\"Ejemplo de un ACF de Ruido Blanco\")\n"
   ]
  },
  {
   "cell_type": "markdown",
   "metadata": {},
   "source": [
    "## Serie de Tiempo Lineal\n",
    "\n",
    "Una serie de tiempo dice ser lineal si puede ser escrita de la forma:\n",
    "\n",
    "## $r_t= \\mu + \\sum_{i=0}^{\\inf} \\psi a_{t-i}$ ecuacion (2.4)\n",
    "\n",
    "Donde $mu$ es la media de $r_t$, $psi_0=1$, y {$a_t$} es una secuencia de variables aleatorias iid con media cero osea es un ruido blanco. Más adelante se llamará a $aa_t$ como las **innovaciones** o **shock** en el tiempo $t$.\n",
    "\n",
    "Para una serie de tiempo lineal la estructura dinamica de la serie es gobernada por los coeficientes $psi_i$ los cuales son llamados **Ponderadores**  de $r_t$ en la literatura de series de tiempo.\n",
    "\n",
    "Si $r_t$ es debilmente estacionaria, podremos obtener su media y si varianza facilmente usando la independencia de $a_t$ como:\n",
    "\n",
    "## $E(r_t) = \\mu$        \n",
    "## $Var(r_t)=\\sigma^2 \\sum_{i=0}^{inf} \\psi_i^2$  ecuacion (2.5)\n",
    "\n",
    "Donde $\\sigma^2$ es la varianza de $a_t$\n",
    "\n",
    "La covarianza tambien se puede escribir en terminos de la innovacion o shock de la serie de tiempos"
   ]
  },
  {
   "cell_type": "markdown",
   "metadata": {},
   "source": [
    "## Modelos Autorregresivos Simples AR($p$)\n",
    "Los modelos que dependen de un retardo se pueden escribir como:\n",
    "\n",
    "## $r_t=\\phi_0 +\\phi_1 r_{t-1} + a_t$,\n",
    "\n",
    "donde $a_t$ es Ruido Blanco con media cero. El anterior modelo es un AR(1) y tambien servirá oara modelar la volatilidad más adelante\n",
    "\n",
    "## Esperanza y Varianza\n",
    "\n",
    "## $E(r_t|r_{t-1})=\\phi_0 + \\phi_1 r_{t-1}$\n",
    "## $Var(r_t|r_{t-1})=Var(a_t)= \\sigma^2$\n",
    "\n",
    "Esto significa que, dado el retardo anterior $r_{t-1}$, el valor actual estara alrededor del valor $\\phi_0 +\\phi_1 r_{t-1}$ con una desviacion estandar $\\sigma_a$\n",
    "\n",
    "En general el modelo AR(p) se puede escribir como:\n",
    "\n",
    "## $r_t=\\phi_0 + \\phi_1 r_{t-1}+...+\\phi_p r_{t-p} + a_t$ ecuacion (2.8)"
   ]
  },
  {
   "cell_type": "markdown",
   "metadata": {},
   "source": [
    "# Propiedades de los Modelos AR\n",
    "\n",
    "comenzamos con la condicion necesaria y suficiente para la estacionareidad debilde los AR(1) donde tenemos que:\n",
    "## + $E(r_t)= \\mu$\n",
    "## + $Var(r_t)= \\gamma_0$\n",
    "## + $Cov(r_t,r_{t-j})=\\gamma_j$\n",
    "\n",
    "Con esto podremos obtener facilmente la media, varianza y la autocorrelacion de la serie como se indica a continuacion:\n",
    "\n",
    "1. Tomando la esperanza a ambos lados de la ecuacion 2.8 y como $E(a_t)=0$\n",
    "\n",
    "$E(r_t)=\\phi_0 + \\phi_1 E(r_{t-1})$\n",
    "\n",
    "Bajo la condicion de estacionariedad $E(r_t) =E(r_{t-1})=\\mu$, entonces:\n",
    "\n",
    "$\\mu=\\phi_0+\\phi_1 \\mu$\n",
    "\n",
    "O en general $E(r_t)=\\mu= \\frac{\\phi_0}{1-\\phi_1}$\n",
    "\n",
    "El anterior resultado tiene dos implicaciones para $r_t$:\n",
    "\n",
    "+ La media de $r_t$ existe si $\\phi_1<>1$\n",
    "+ La media de $r_t$ es cero si $\\phi_0=0$\n",
    "+ El centro  o valor central estará dado entonces por $\\phi_0=(1-\\phi_1)\\mu$\n",
    "+ En general el AR(1) existe si |$\\phi_1$| < 1\n",
    "+ Un AR(p) es estacionario si sus raices son < 1"
   ]
  },
  {
   "cell_type": "markdown",
   "metadata": {},
   "source": [
    "## Modelo AR(2)\n",
    "\n",
    "tiene la forma:\n",
    "\n",
    "## $r_t=\\phi_0 + \\phi_1 r_{t-1} + \\phi_2 r_{t-2} + a_t$\n",
    "\n",
    "## $E(r_t)=\\mu=\\frac{\\phi_0}{1-\\phi_1-\\phi_2}$\n",
    "\n",
    "Usando algunos resultados podemos llegar a que para satisfacer un AR(2), se debe cumplir la siguiente ecuacion:\n",
    "\n",
    "$1-\\phi_1 x -\\phi_2 x^2=0$\n",
    "\n",
    "Con el discriminante de la ecuacion se puede saber si los ponderadores $\\phi_i$ son numeros reales o imaginarios:\n",
    "\n",
    "## $\\sqrt{\\phi_1^2+4\\phi_2} > 0$  Si esto no se cumple el ACF se mostrará como senoidal"
   ]
  },
  {
   "cell_type": "code",
   "execution_count": 21,
   "metadata": {
    "collapsed": false
   },
   "outputs": [
    {
     "data": {
      "text/html": [
       "12"
      ],
      "text/latex": [
       "12"
      ],
      "text/markdown": [
       "12"
      ],
      "text/plain": [
       "[1] 12"
      ]
     },
     "metadata": {},
     "output_type": "display_data"
    }
   ],
   "source": [
    "# Para determinar la mejor p que modele los datos con AR(p), se puede usar la funcion ar() y el argunmento \"mle\" asi:\n",
    "diff_pt<-aplicar_transformacion(x,tipo=1,retardo = 1)\n",
    "m_ej<-ar(diff_pt,method=\"mle\")\n",
    "m_ej$order"
   ]
  },
  {
   "cell_type": "markdown",
   "metadata": {},
   "source": [
    "## Identificar modelos AR en la practica\n",
    "\n",
    "La definicion del orden $p$ es dificil. Hay dos formas:\n",
    "\n",
    "+ Usando la PACF\n",
    "+ Usando criterios de informacion\n",
    "\n",
    "### PACF\n",
    "La PACF de una serie de tiempo estacionaria es una funcion de sus ACF y es una herramienta util para determinar el orden $p$ del modelo\n",
    "\n",
    "El valor estimado de $\\hat{\\phi_i}$ se refiere a la contribucion agregada $r_{t-i}$ sobre $r_t$\n",
    "\n",
    "Por lo tanto el orden $p$ de la serie sera el ultimo valor que no sea cero en la PACF\n",
    "\n",
    "## Criterios de Informacion\n",
    "El más usado es el AIC que esta definido como:\n",
    "\n",
    "## $AIC=\\frac{-2}{T}ln(probabilidad)+\\frac{2}{T}Numero de Parametros$\n",
    "Donde T es el tamaño de la muestra\n",
    "\n",
    "Para un AR($l$) el AIC es:\n",
    "\n",
    "## $AIC(l)=ln(\\sigma^2)+\\frac{2l}{T}$"
   ]
  },
  {
   "cell_type": "markdown",
   "metadata": {},
   "source": [
    "# Verificacion del modelo\n",
    "Si el modelo ajustado es adecuado para modelar los datos, los residuales deben comportarse como un **Ruido Blanco**\n",
    "\n",
    "Para verificar esto se puede usar:\n",
    "+ El ACF que sea cero\n",
    "+ El estadistico de Ljung-Box\n",
    "\n",
    "# Bondad de ajuste\n",
    "Un estadistico comun usado para medir la bondad de ajuste es el $R^2$ que esta definido como:\n"
   ]
  },
  {
   "cell_type": "markdown",
   "metadata": {},
   "source": [
    "# Pronosticos\n",
    "\n",
    "El objetivo de desarrollar estos modelos es poder inferir uno o más pasos hacia adelante"
   ]
  },
  {
   "cell_type": "markdown",
   "metadata": {},
   "source": [
    "# Modelos Medias Moviles Simples MA(q)\n",
    "\n",
    "## MA(1)\n",
    "\n",
    "## $r_t=c_0 + a_t - \\theta_1 a_{t-1}$\n",
    "\n",
    "Donde $c_o$ es una constante y $a_t$ es Ruido blanco\n",
    "\n",
    "# Propiedades de un modelo MA\n",
    "\n",
    "## Estacionareidad\n",
    "Los modelos MA son siempre estacionarios porque son una combinacion lineal de un ruido blanco para los cuales sus dos primeros mommentos son invariantes\n",
    "\n",
    "## ACF\n",
    "\n",
    "En el ACF los $retardos_q$ no son cero y el resto son cero \n",
    "## Invertibilidad\n",
    "\n",
    "Se puede expresar el ruido blanco como una combinacion lineal de de los retardos de la serie\n",
    "\n",
    "## Identificar modelos MA en la practica\n",
    "Imprimir el ACF y el ultimo retardo que no sea cero es el dato de la q, tomando para la ecuacion todos los que no cero osea que se descartan aquellos que salen en cero dentro del ACF\n"
   ]
  },
  {
   "cell_type": "markdown",
   "metadata": {},
   "source": [
    "# Modelos ARMA($p$,$q$)\n",
    "En ocasiones para modelar con un AR($p$) o un MA($q$) se necesitan muchos parametros y se vuelve complejo. \n",
    "\n",
    "Por esta razon se introducen los modelos ARMA($p,q$) que de una forma compacta no tienen que usar tantos parametros. Para los retornos financieros, la oportundad de usar estos modelos es baja pero es muy util para modelar la volatilidad (Modelos GARCH)\n",
    "\n",
    "En general la forma de un ARMA es:\n",
    "\n",
    "## $r_t-\\phi_1 r_{t-1}=\\phi_0 + a_t - \\theta_1 a_{t-1}$\n",
    "\n",
    "Donde $a_t$ es un **Ruido Blanco**, la parte izquierda es la componente de un AR y la parte derecha es la componennte de un MA\n",
    "La constante es $\\phi_0$ y se necesita que $\\phi_1 \\not= \\theta_1$ de otra forma se produciria un ruido blanco\n",
    "\n",
    "## Propiedades de los modelos ARMA($1,1$)\n",
    "\n",
    "+ $E(r_t)=\\mu=\\frac{\\phi_0}{1-\\phi_1}$\n",
    "+ $Var(r_t)=\\frac{(1-2\\phi_1\\theta_1 +\\theta_1^2)\\sigma_a^2}{1-\\phi_1^2}$\n",
    "+ El ACF de un ARMA(1,1) es el mismo de un AR(1) pero la caida exponencial comienza en el retardo 2\n",
    "\n",
    "## Idenficando modelos ARMA\n",
    "\n",
    "Los graficos de ACF y PACF no son informativos para un modelo ARMA. Tsay y Tiao (1984) proponen una aproximacion que utiliza la EACF para especificar un los parametros del ARMA.\n",
    "Los resultados del EACF es una tabla de dos dimensiones, las filas corresponden al orden $p$ y las columnas el orden $q$. Se formará un triangulo en la parte superior de la matriz y el vertice será el orden p,q.\n",
    "\n",
    "1. X dice que el valor absoluto de la EACF es mayor o igual que $\\frac{2}{\\sqrt{T}}$\n",
    "2. O dice que el valor del EACF es menor que $\\frac{2}{\\sqrt{T}}$\n"
   ]
  },
  {
   "cell_type": "markdown",
   "metadata": {},
   "source": [
    "# Raices unitarias no estacionarias\n",
    "\n",
    "Hasta el momento nos hemos enfocado en las series que son retornos que son estacionarias. En algunos casos las tasas de interes, tasas de cambio de moneadas extranjeras o los precios de los activos son de interes. Estas series tienden a ser no estacionarias. Para una serie de precios, la no estacionareidad es principalmente dada por el hecho de que no hay un nivel de precios fijos. En la literatura de series de tiempo las series no estacionarias se llaman Series de tiempo con raices unitarias no estacionarias.\n",
    "\n",
    "El mejor ejemplo de estas es el modelo de **Caminata Aleatoria**\n",
    "\n",
    "## Caminata aleatoria\n",
    "\n",
    "Una serie de tiempo $P_t$ es una caminata aleatoria si satisface que:\n",
    "\n",
    "## $P_t=P_{t-1}+a_t$\n",
    "\n",
    "Donde:\n",
    "+ $P_0$ es un numero real donde inicia el proceso y \n",
    "+ $a_t$ es un ruido blanco\n",
    "\n",
    "Si $p_t$ es log de precios de una accion en particular en el tiempo $t$, luego $p_0$ podria ser un log de precios de esa misma accion en su oferta inicial (IPO).\n",
    "\n",
    "Si $a_t$ es una distribucion simetrica y centrada en cero en $p_{t-1}$ entones $p_t$ tiene un 50-50 de oportunidad de ir hacia arriba o hacia abajo. Esto implica que $p_t$ iria hacia arriba o hacia abajo de manera aleatoria.\n",
    "\n",
    "Si nosotros intentamos ajustar un modelo $AR(1)$ el coeficiente de $p_{t-1}$ seria 1, lo cual no satisface la condicion de estacionareidad debil que hemos definido previamente. Por lo tanto una **Caminata Aleatoria** no es estacionaria en su media\n",
    "\n",
    "Las caminatas aleatorias son consideradas para representar modelos de los precios de acciones. Bajo cada modelo, el precio de la accion no es predecible o no revierte a la media\n",
    "\n",
    "Una representacion MA de la caminata aleatoria es:\n",
    "\n",
    "## $p_t=a_t+a_{t-1}+a_{t-2}+...$\n",
    "\n",
    "- La longitud de un intervalo de prediccion se acerca a infinito a medida que aumenta el horizonte de pronostico. Esto hace que el modelo sea inutil a lo largo del tiempo, lo que implica que el modelo es no predecible\n",
    "- la varianza incondicional de $p_t$ no esta limitada porque se aproxima a infinito cuando aumenta el periodo de tiempo.\n",
    "- Como para $\\psi_i = 1 $ el impacto de cualquier innovacion del pasasdo $a_{t-i}$ no decae con el tiempo. Por lo tanto las series tienen una fuerte memoria y recuerdan todas las innovaciones del pasado\n",
    "\n",
    "## Caminata aleatoria con deriva\n",
    "\n",
    "Como hemos dicho hasta ahora, los retornos log de un indice de un mercado tienden a tener una media. Esto implica que el modelo de los log precios es:\n",
    "\n",
    "## $p_t=\\mu + p_{t-1} + a_t$\n",
    "\n",
    "Donde:\n",
    "\n",
    "- $\\mu=E(p_t -p_{t-1}) $\n",
    "- $a_t$ es un ruido blanco (0,$\\sigma^2$)\n",
    "\n",
    "El termino $\\mu$ es muy importante en estudios financieros porque representa la tendencia en el tiempo de los log precios y es conocida como la deriva del modelo y definirá la pendiente de la grafica.\n",
    "\n",
    "## Interpretacion de la constante\n",
    "\n",
    "+ Para un MA(q), la constante simplemente es la media de la serie\n",
    "+ Para un AR(p) o un ARMA(p,q) la media se relaciona con el termino independiente con $\\frac{\\phi_0}{1 - \\phi_1 -...-\\phi_p}$\n",
    "+ Para una caminata aleatoria con deriva, el termino independiente es la pendiente de la serie\n",
    "\n",
    "Otra importante diferencia entre los modelos dinamicos y de regresion es evidenciado en un AR(1) y una regresion lineal.\n",
    "\n",
    "+ En un AR(1) $\\phi_1 \\leq 1$\n",
    "+ En una regresion lineal $\\beta_1$ puede asumir cualquier valor fijo\n",
    "\n"
   ]
  },
  {
   "cell_type": "markdown",
   "metadata": {},
   "source": [
    "## Series de tiempo con tendencia estacionaria\n",
    "\n",
    "Un modelo que exhibe tendencia estacionaria es:\n",
    "\n",
    "## $p_t=\\beta_0+\\beta_1t + r_t$ \n",
    "\n",
    "Donde $r_t$ es una serie de tiempo estacionaria por ejemplo un AR(p).\n",
    "\n",
    "En esta serie con tendencia, $p_t$ crece linealmente con la tasa de $\\beta_1$ y tiene un comportamiento similar a una caminata aleatoria con deriva. Las diferencias entre una caminata aleatoria y una serie de tiempo con tendencia estacionaria son:\n",
    "\n",
    "### **Caminata aleatoria**\n",
    "+ $E(p_t)=p_0 + \\mu t$\n",
    "+ $Var(p_t)=t\\sigma_a^2$\n",
    "\n",
    "Ambas dependen del tiempo\n",
    "\n",
    "### **Modelo con tendencia estaciaria**\n",
    "+ $E(p_t)=\\beta_0+\\beta_1t$ Depende del tiempo!!!\n",
    "+ $Var(p_t)=Var(r_t)=\\sigma^2$ Es finita e invariante en el tiempo!!!\n",
    "\n",
    "Las series de tiempo con tendencia estacionaria se pueden transformar en estacionarias usando un analisis de regresion lineal simple.\n",
    "\n",
    "**Pendiente describir el metodo 2.9**\n"
   ]
  },
  {
   "cell_type": "markdown",
   "metadata": {},
   "source": [
    "## Modelos no estacionarios generales con raices unitarias\n",
    "\n",
    "Si relajamos el supuesto que $\\phi_1$ pueda ser igual 1, entonces tendremos **los modelos ARIMA**\n",
    "\n",
    "Para manejar esta situacion se usa la **Diferenciacion**\n",
    "\n",
    "## Diferenciacion:\n",
    "\n",
    "Es tomar la serie de tiempo y convertir sus datos:\n",
    "\n",
    "$c_t=y_t-y_{t-1}$\n",
    "\n",
    "Si con esta transformacion se puede construir un modelo ARMA(p,q) se dice que es lo mismo que un ARIMA(p,1,q)\n",
    "\n",
    "En finanzas es comun decir que una serie de precios es no estacionaria, pero la serie de retornos diferenciada si es estacionaria $r_t=ln(P_t)-ln(P_{t-1})$ y luego se pueden tratar como un ARIMA.\n",
    "\n",
    "## Prueba de raices unitarias\n",
    "Para probar si el log$p_t$ de un activo sigue una caminata aleatoria o una caminata aleatoria con deriva, se emplean los modelos:\n",
    "\\phi_0+\n",
    "###   $p_t=\\phi_1p_{t-1} + e_t$\n",
    "###   $p_t=\\phi_0+\\phi_1p_{t-1} + e_t$\n",
    "\n",
    "Donde $e_t$ es el termino del error y se considera la hipotesis nula que:\n",
    "\n",
    "+ $H_0: \\phi_1 =1 $\n",
    "+ $H_a: \\phi_1 <1 $\n",
    "\n",
    "Esta es la prueba de Dickey Fuller, si los $e_t$ son un ruido blanco y tienen momentos finitos de orden mayor que 2, luego el estadistico DF converge a una funcion de Movimiento Browniano\n"
   ]
  },
  {
   "cell_type": "code",
   "execution_count": 22,
   "metadata": {
    "collapsed": false
   },
   "outputs": [
    {
     "data": {
      "image/png": "[encoded data removed]",
      "text/plain": [
       "Plot with title \"Series  log_pt\""
      ]
     },
     "metadata": {
      "image/svg+xml": {
       "isolated": true
      }
     },
     "output_type": "display_data"
    },
    {
     "data": {
      "image/png": "[encoded data removed]",
      "text/plain": [
       "Plot with title \"Series  diff_log_pt\""
      ]
     },
     "metadata": {
      "image/svg+xml": {
       "isolated": true
      }
     },
     "output_type": "display_data"
    }
   ],
   "source": [
    "#Segun el ejemplo de Tsay pagina 78 se imprimen los correspondientes graficos de los precios de bolsa\n",
    "par(mfrow=c(1,2)) #Divido la pantalla en 4\n",
    "log_pt<-aplicar_transformacion(x,tipo=7)\n",
    "plot(log_pt,col=\"red\") #Imprimo los logaritmos de los precios\n",
    "acf(log_pt,30) #Imprimo el ACF donde se muestra que hay una memoria larga y la presencia de raices unitarias\n",
    "\n",
    "diff_log_pt<-aplicar_transformacion(serie = log_pt,tipo = 1,retardo = 1) # Diferencio los logaritmos de los precios con retardo 7\n",
    "plot(diff_log_pt, col=\"red\")\n",
    "pacf(diff_log_pt)\n"
   ]
  },
  {
   "cell_type": "markdown",
   "metadata": {},
   "source": [
    "## Series de tiempo estacionales\n",
    "Algunas series de tiempo tienen patrones ciclicos o periodicos \n",
    "\n",
    "## Diferenciacion estacional\n",
    "Para analizar las series estacionales, es comun tomar el logartimo de la serie por dos razones:\n",
    "+ Para hacerse cargo del crecimiento exponencial de la serie\n",
    "+ Para estabilizar la variabilidad de la serie.\n",
    "**En algunas series, si contienen rendimientos negativos, es necesario anteponer una constante a los datos antes de tomar el logaritmo**\n",
    "\n",
    "\n",
    "Al diferenciar una vez se observará el comportamiento estacional que tienen los datos.\n",
    "\n",
    "** En el caso de los precios promedio de la bolsa de energia, la estacionalidad esta en la semana**"
   ]
  },
  {
   "cell_type": "code",
   "execution_count": 59,
   "metadata": {
    "collapsed": false
   },
   "outputs": [
    {
     "data": {
      "image/png": "[encoded data removed]",
      "text/plain": [
       "Plot with title \"Diferenciacion Regular\""
      ]
     },
     "metadata": {
      "image/svg+xml": {
       "isolated": true
      }
     },
     "output_type": "display_data"
    },
    {
     "data": {
      "image/png": "[encoded data removed]",
      "text/plain": [
       "Plot with title \"Diferenciacion regular y estacional\""
      ]
     },
     "metadata": {
      "image/svg+xml": {
       "isolated": true
      }
     },
     "output_type": "display_data"
    }
   ],
   "source": [
    "#Segun el ejemplo de la pagina 83\n",
    "par(mfrow=c(1,2))\n",
    "acf(log_pt,main=\"ACF Log_pt\") #Imprimo los logaritmos de los precios\n",
    "acf(diff_log_pt,main=\"Diferenciacion Regular\",lag.max = 22) #imprimo el ACF de la primera diferenciacion de los precios\n",
    "diff_log_pt_lag_7<-aplicar_transformacion(x,tipo=1,retardo = 7)\n",
    "acf(diff_log_pt_lag_7,main=\"Diferenciacion Estacional Lag 7\")\n",
    "\n",
    "diff_multiplicativa_pt<-aplicar_transformacion(diff_pt,tipo = 1,retardo = 7)# Esto es la diferenciacion multiplicativa de pt \n",
    "acf(diff_multiplicativa_pt, main=\"Diferenciacion regular y estacional\")"
   ]
  },
  {
   "cell_type": "markdown",
   "metadata": {},
   "source": [
    "## Modelos multiplicativos estacionales\n",
    "El comportamiento de un ACF muestral de $(1-B^s)(1-B)x_t=(1-\\theta B)(1-\\Theta B^s)a_t$ presentado en el ACF anterior, es comun entre las series de tiempo estacionales. Donde $s$ es la periodicidad de la serie, $a_t$ es un ruido blanco, $|\\theta|<1$ y $|\\Theta|<1$.\n",
    "\n",
    "A este modelo se le conoce como **El modelo de aerolinea**.\n",
    "\n",
    "Cuando el patron estacional de la serie es estable en el tiempo, se puede utilizar una variable dummy para manejar la estacionalidad de la serie. La estacionalidad deterministica es un caso especial de los modelos estacionales multiplicativos. (Especialmente si $\\Theta=1$). Cuando la muestra es pequeña se aconseja no utlizar las variables dummies para modelar la estacionalidad\n",
    "\n"
   ]
  },
  {
   "cell_type": "code",
   "execution_count": 60,
   "metadata": {
    "collapsed": false
   },
   "outputs": [
    {
     "data": {
      "text/plain": [
       "\n",
       "Call:\n",
       "lm(formula = log_pt[1:(length(log_pt) - 6)] ~ semana)\n",
       "\n",
       "Residuals:\n",
       "    Min      1Q  Median      3Q     Max \n",
       "-3.9435 -0.3247  0.0036  0.3776  2.8755 \n",
       "\n",
       "Coefficients:\n",
       "            Estimate Std. Error t value Pr(>|t|)    \n",
       "(Intercept) 4.456942   0.009477 470.307   <2e-16 ***\n",
       "semana      0.030381   0.025073   1.212    0.226    \n",
       "---\n",
       "Signif. codes:  0 '***' 0.001 '**' 0.01 '*' 0.05 '.' 0.1 ' ' 1\n",
       "\n",
       "Residual standard error: 0.7657 on 7614 degrees of freedom\n",
       "Multiple R-squared:  0.0001928,\tAdjusted R-squared:  6.148e-05 \n",
       "F-statistic: 1.468 on 1 and 7614 DF,  p-value: 0.2257\n"
      ]
     },
     "metadata": {},
     "output_type": "display_data"
    }
   ],
   "source": [
    "## Ejemplo pagina 89 adaptado a precios de bolsa\n",
    "semana<-rep(c(1,rep(0,6)),1088)\n",
    "mod1<-lm(log_pt[1:(length(log_pt)-6)]~semana)\n",
    "summary(mod1)"
   ]
  },
  {
   "cell_type": "code",
   "execution_count": 61,
   "metadata": {
    "collapsed": false
   },
   "outputs": [
    {
     "data": {
      "text/plain": [
       "\n",
       "Call:\n",
       "arima(x = log_pt[2:(length(log_pt) - 6)], order = c(1, 0, 1), seasonal = list(order = c(1, \n",
       "    0, 1), period = 7), include.mean = F)\n",
       "\n",
       "Coefficients:\n",
       "         ar1      ma1    sar1     sma1\n",
       "      0.9746  -0.1329  0.9993  -0.9586\n",
       "s.e.  0.0031   0.0117  0.0003   0.0048\n",
       "\n",
       "sigma^2 estimated as 0.01887:  log likelihood = 4300.23,  aic = -8590.47"
      ]
     },
     "metadata": {},
     "output_type": "display_data"
    }
   ],
   "source": [
    "#Entender más esta parte Validar con el profe\n",
    "mod2<-arima(log_pt[2:(length(log_pt)-6)],order=c(1,0,1),seasonal = list(order=c(1,0,1),period=7),include.mean = F)\n",
    "mod2"
   ]
  },
  {
   "cell_type": "markdown",
   "metadata": {},
   "source": [
    "## Modelos de regresion con series de tiempo en errores\n",
    "\n",
    "En muchas aplicaciones,la relacion entre dos series de tiempo es el principal interes.\n",
    "Un ejemplo obvio es el modelo del mercado en finanzas que relaciona los retornos de una accion con los indices del mercado.\n",
    "\n",
    "El modelo general es:\n",
    "\n",
    "## $y_t=\\alpha + \\beta x_t + e_t$\n",
    "\n",
    "Donde $y_t$ y $x_t$ son dos series de tiempo y $e_t$ es error temporal. El metodo de estimacion de minimos cuadrados simples es usado para estimar el modelo. Si $e_t$ es un ruido blanco, luego el modelo estará bien estimado.\n",
    "\n",
    "En la practica se suele ver que el $e_t$ esta correlacionado. En estos casos, los estimadores estimados no son consistentes.\n",
    "\n",
    "Se pueden hacer regresiones lineales pero si el ACF muestra que hay correlacion entre los residuos y decaen lentamente, no sirve para nada y se dice que hay presencia de raices unitarias en la serie.\n",
    "\n",
    "Al tener presencia de una raiz unitaria, se procede entonces a diferenciar la serie y a volver a considerar una regresion lineal que siga los nuevos datos. Se revisará entonces el ACF nuevo y si continua mostrando una alta correlacion pero con magnitudes menores. Esto puede ser modelado usando un modelo de series de tiempo simples (vistos anteriormente) y esto será una **regresion lineal con una serie de tiempo en los errores**\n",
    "\n",
    "El objetivo de esta seccion es trabajar con series que tienen regresiones en los errores y se presenta un ejemplo sencillo.\n",
    "\n",
    "Tomemos entonces el modelo: $c_{3t}=0.792c_{1t}+e_t$ y de acuerdo con el ACF de los residuos se estima un modelo MA(1) para modelar los errores \n",
    "\n",
    "### En resumen el procedimiento para trabajar series de tiempo con regresion en los errores es:\n",
    "1. Ajustar un modelo de regresion lineal y revisar el ACF de los residuales\n",
    "2. Si los residuales exhiben raices unitarias, tomar la primera diferenciacionde ambas variables. Luego ir al paso 1. Si el ACF parece ser estacionario, ajustar un modelo ARMA para los residuales .\n",
    "3. Probar el modelo.\n",
    "\n",
    "Para validar la correlacion de los errores se recomienda usar el estadistico de Durbin-Watson porque considera la correlacion de los retardos.\n",
    "\n",
    "## Estimacion de la matriz de covarianza consistente\n",
    "Consideremos de nuevo el modelo $y_t=\\alpha + \\beta x_t + e_t$ hay situaciones en las que los $e_t$ tienen una correlacion o heteroscedastcidad condicional, pero el objetivo de analisis es hacer inferenccias sobre los coeficientes de la regresion $\\alfa$ y $\\beta$ \n",
    "\n",
    "# No me queda muy claro el objetivo de esta seccion para el tema de los errores!!!\n",
    "\n",
    "\n",
    "\n"
   ]
  },
  {
   "cell_type": "markdown",
   "metadata": {},
   "source": [
    "## Modelos de memoria larga\n",
    "Hemos hablado que para las series estacionarias, el ACF decae exponecialmente a cero mientras los retardos aumentan.\n",
    "Aunque para las series con raices unitarias el ACF converge a 1. Existen unas en la cuales el ACF decaen lentamente a cero estos proceso son llamados de memoria larga. Uno de tales ejemplos es el proceso que es diferenciado por asi:\n",
    "\n",
    "## $(1-B)^dX_t=a_t,        $  $ -0.5<d<0.5,$\n",
    "\n",
    "Donde $a_t$ es un ruido blanco. Las propiedades de este tipo de series son:\n",
    "\n",
    "+ Si $d<0.5$ luego $x_t$ es debilmente estacionaria y tiene un MA infinito\n",
    "+ Si $d>0.5$ luego $x_t$ es invertible y tiene un AR infinito\n",
    "+ Si $-0.5<d<0.5$ el ACF de $x_t$ tiene una ecuacion especial, el PACF tiene una ecuacion especial, ver pagina 102\n",
    "\n",
    "Para nosotros ahora es de nuestro interes cuando $d<0.5$. La propiedad dice que $\\rho_k \\sim k^{2d-1}$ lo cual dice que el ACF decae de acuerdo a una tasa polinomica y no de acuerdo a una tasa exponencial. Por esta razon se dice que el proceso es de memoria larga.\n",
    "\n",
    "Cuando la diferenciacion es un decimal entre -0.5 y 0.5 se dice que sigue un modelo ARFIMA($p,d,q$).\n",
    "que es un ARIMA que acepta numeros decimales en $d$.\n",
    "\n",
    "Los modelos de memoria larga son trabajados con Movimientos Brownianos en los modelos de tiempo continuo"
   ]
  },
  {
   "cell_type": "code",
   "execution_count": 23,
   "metadata": {
    "collapsed": false
   },
   "outputs": [
    {
     "name": "stderr",
     "output_type": "stream",
     "text": [
      "Loading required package: zoo\n",
      "\n",
      "Attaching package: 'zoo'\n",
      "\n",
      "The following objects are masked from 'package:base':\n",
      "\n",
      "    as.Date, as.Date.numeric\n",
      "\n",
      "Loading required package: timeDate\n",
      "This is forecast 7.2 \n",
      "\n"
     ]
    },
    {
     "data": {
      "image/png": "[encoded data removed]",
      "text/plain": [
       "Plot with title \"\""
      ]
     },
     "metadata": {
      "image/svg+xml": {
       "isolated": true
      }
     },
     "output_type": "display_data"
    }
   ],
   "source": [
    "library(forecast)\n",
    "m_memoria.larga<-arfima(diff_pt)\n",
    "tsdisplay(residuals(m_memoria.larga))"
   ]
  },
  {
   "cell_type": "markdown",
   "metadata": {},
   "source": [
    "http://www.statmethods.net/graphs/scatterplot.html"
   ]
  },
  {
   "cell_type": "code",
   "execution_count": 62,
   "metadata": {
    "collapsed": false
   },
   "outputs": [],
   "source": [
    "## Notas  10 de noviembre de 2016\n",
    "#allitbooks libro pytonforfinance evaluacion de opciones modelos etc\n",
    "#ahi estan los modelos estocasticos de tasas de inteeres\n",
    "\n",
    "#Un paquete de R o python para hacer cualquier modelo arima como en la lbrary forecast\n",
    "\n",
    "#Hay un inventario de modelos de precios de electricidad precios continuos, especialiazdos en modelos de electricidad.\n",
    "\n",
    "#Jstat un paper para describir la libreria se isntala asi se usa de esta forma ejemplos de las corridas.\n",
    "\n",
    "#Son 10 12 modelos, pilipovic, analizar resultados.\n",
    "\n",
    "#En R dos funciones una es la que estima el modelo y otra es la que predice\n",
    "\n",
    "#El derecho es:\n",
    "\n",
    "#Estudiar como se crean paquetes en R se crean en R studio\n",
    "\n",
    "#1. modelado matematico\n",
    "#2. metodologia Test drive development en R buscar si existe algo de esto articulos libros o algo\n",
    "\n",
    "\n",
    "#Ciencia de los datos \n",
    "#Aprendizaje de maquinas**\n",
    "#Bases de datos **\n",
    "#Decisiones bajo incertidumbre en las organizaciones**\n",
    "\n",
    "#Se comparte con myladis Cogollo"
   ]
  },
  {
   "cell_type": "markdown",
   "metadata": {},
   "source": [
    "## Usar funcion auto.arima()\n",
    "\n",
    "La funcion de **$auto.arima()$** en R usa una variacion del algoritmo de Hyndman y Khandakar el cual combina pruebas de raices unitarias, minimizando el AIC y MLE para obtener un modelo ARIMA($p,d,q)$\n",
    "\n",
    "El algoritmo sigue los siguientes pasos:\n",
    "\n",
    "1. El numero de diferenciaciones $d$ es definido usando la prueba KPSS (Def de https://en.wikipedia.org/wiki/KPSS_test)\n",
    "\n",
    "2. Determina el numero de diferenciaciones estacionales usando la prueba OCSB \n",
    "\n",
    "2. El valor $p$ y $q$ es definido minimizando el AICc luego de diferenciar los datos $d$ veces. \n",
    "   En lugar de buscar las combinaciones de $p$ y $q$ el algoritmo realiza una busqueda escalonada para recorrer el espacio del modelo\n",
    "3. \n"
   ]
  },
  {
   "cell_type": "code",
   "execution_count": 23,
   "metadata": {
    "collapsed": false
   },
   "outputs": [
    {
     "data": {
      "text/html": [
       "\n",
       "<table width=\"100%\" summary=\"page for auto.arima {forecast}\"><tr><td>auto.arima {forecast}</td><td style=\"text-align: right;\">R Documentation</td></tr></table>\n",
       "\n",
       "<h2>Fit best ARIMA model to univariate time series</h2>\n",
       "\n",
       "<h3>Description</h3>\n",
       "\n",
       "<p>Returns best ARIMA model according to either AIC, AICc or BIC value.\n",
       "The function conducts a search over\n",
       "possible model within the order constraints provided.</p>\n",
       "\n",
       "\n",
       "<h3>Usage</h3>\n",
       "\n",
       "<pre>\n",
       "auto.arima(y, d=NA, D=NA, max.p=5, max.q=5,\n",
       "     max.P=2, max.Q=2, max.order=5, max.d=2, max.D=1, \n",
       "     start.p=2, start.q=2, start.P=1, start.Q=1, \n",
       "     stationary=FALSE, seasonal=TRUE,\n",
       "     ic=c(\"aicc\", \"aic\", \"bic\"), stepwise=TRUE, trace=FALSE,\n",
       "     approximation=(length(x)&gt;100 | frequency(x)&gt;12), \n",
       "     truncate=NULL, xreg=NULL,\n",
       "     test=c(\"kpss\",\"adf\",\"pp\"), seasonal.test=c(\"ocsb\",\"ch\"),\n",
       "     allowdrift=TRUE, allowmean=TRUE, lambda=NULL, biasadj=FALSE,\n",
       "     parallel=FALSE, num.cores=2, x=y, ...)\n",
       "</pre>\n",
       "\n",
       "\n",
       "<h3>Arguments</h3>\n",
       "\n",
       "<table summary=\"R argblock\">\n",
       "<tr valign=\"top\"><td><code>y</code></td>\n",
       "<td>\n",
       "<p>a univariate time series</p>\n",
       "</td></tr>\n",
       "<tr valign=\"top\"><td><code>d</code></td>\n",
       "<td>\n",
       "<p>Order of first-differencing. If missing, will choose a value based on KPSS test.</p>\n",
       "</td></tr>\n",
       "<tr valign=\"top\"><td><code>D</code></td>\n",
       "<td>\n",
       "<p>Order of seasonal-differencing. If missing, will choose a value based on OCSB test.</p>\n",
       "</td></tr>\n",
       "<tr valign=\"top\"><td><code>max.p</code></td>\n",
       "<td>\n",
       "<p>Maximum value of p</p>\n",
       "</td></tr>\n",
       "<tr valign=\"top\"><td><code>max.q</code></td>\n",
       "<td>\n",
       "<p>Maximum value of q</p>\n",
       "</td></tr>\n",
       "<tr valign=\"top\"><td><code>max.P</code></td>\n",
       "<td>\n",
       "<p>Maximum value of P</p>\n",
       "</td></tr>\n",
       "<tr valign=\"top\"><td><code>max.Q</code></td>\n",
       "<td>\n",
       "<p>Maximum value of Q</p>\n",
       "</td></tr>\n",
       "<tr valign=\"top\"><td><code>max.order</code></td>\n",
       "<td>\n",
       "<p>Maximum value of p+q+P+Q if model selection is not stepwise.</p>\n",
       "</td></tr>\n",
       "<tr valign=\"top\"><td><code>max.d</code></td>\n",
       "<td>\n",
       "<p>Maximum number of non-seasonal differences</p>\n",
       "</td></tr>\n",
       "<tr valign=\"top\"><td><code>max.D</code></td>\n",
       "<td>\n",
       "<p>Maximum number of seasonal differences</p>\n",
       "</td></tr>\n",
       "<tr valign=\"top\"><td><code>start.p</code></td>\n",
       "<td>\n",
       "<p>Starting value of p in stepwise procedure.</p>\n",
       "</td></tr>\n",
       "<tr valign=\"top\"><td><code>start.q</code></td>\n",
       "<td>\n",
       "<p>Starting value of q in stepwise procedure.</p>\n",
       "</td></tr>\n",
       "<tr valign=\"top\"><td><code>start.P</code></td>\n",
       "<td>\n",
       "<p>Starting value of P in stepwise procedure.</p>\n",
       "</td></tr>\n",
       "<tr valign=\"top\"><td><code>start.Q</code></td>\n",
       "<td>\n",
       "<p>Starting value of Q in stepwise procedure.</p>\n",
       "</td></tr>\n",
       "<tr valign=\"top\"><td><code>stationary</code></td>\n",
       "<td>\n",
       "<p>If <code>TRUE</code>, restricts search to stationary models.</p>\n",
       "</td></tr>\n",
       "<tr valign=\"top\"><td><code>seasonal</code></td>\n",
       "<td>\n",
       "<p>If <code>FALSE</code>, restricts search to non-seasonal models.</p>\n",
       "</td></tr>\n",
       "<tr valign=\"top\"><td><code>ic</code></td>\n",
       "<td>\n",
       "<p>Information criterion to be used in model selection.</p>\n",
       "</td></tr>\n",
       "<tr valign=\"top\"><td><code>stepwise</code></td>\n",
       "<td>\n",
       "<p>If <code>TRUE</code>, will do stepwise selection (faster). Otherwise, it searches over all models. Non-stepwise selection can be very slow, especially for seasonal models.</p>\n",
       "</td></tr>\n",
       "<tr valign=\"top\"><td><code>trace</code></td>\n",
       "<td>\n",
       "<p>If <code>TRUE</code>, the list of ARIMA models considered will be reported.</p>\n",
       "</td></tr>\n",
       "<tr valign=\"top\"><td><code>approximation</code></td>\n",
       "<td>\n",
       "<p>If <code>TRUE</code>, estimation is via conditional sums of squares andthe information criteria used for model selection are approximated. The final model is still computed using maximum likelihood estimation. Approximation should be used for long time series or a high seasonal period to avoid excessive computation times.</p>\n",
       "</td></tr>\n",
       "<tr valign=\"top\"><td><code>truncate</code></td>\n",
       "<td>\n",
       "<p>An integer value indicating how many observations to use in model selection. The last <code>truncate</code> values of the series are used to select a model when <code>truncate</code> is not <code>NULL</code> and <code>approximation=TRUE</code>. All observations are used if either <code>truncate=NULL</code> or <code>approximation=FALSE</code>.</p>\n",
       "</td></tr>\n",
       "<tr valign=\"top\"><td><code>xreg</code></td>\n",
       "<td>\n",
       "<p>Optionally, a vector or matrix of external regressors, which must have the same number of rows as <code>y</code>.</p>\n",
       "</td></tr>\n",
       "<tr valign=\"top\"><td><code>test</code></td>\n",
       "<td>\n",
       "<p>Type of unit root test to use. See <code>ndiffs</code> for details.</p>\n",
       "</td></tr>\n",
       "<tr valign=\"top\"><td><code>seasonal.test</code></td>\n",
       "<td>\n",
       "<p>This determines which seasonal unit root test is used. See <code>nsdiffs</code> for details.</p>\n",
       "</td></tr>\n",
       "<tr valign=\"top\"><td><code>allowdrift</code></td>\n",
       "<td>\n",
       "<p>If <code>TRUE</code>, models with drift terms are considered.</p>\n",
       "</td></tr>\n",
       "<tr valign=\"top\"><td><code>allowmean</code></td>\n",
       "<td>\n",
       "<p>If <code>TRUE</code>, models with a non-zero mean are considered.</p>\n",
       "</td></tr>\n",
       "<tr valign=\"top\"><td><code>lambda</code></td>\n",
       "<td>\n",
       "<p>Box-Cox transformation parameter. Ignored if NULL. Otherwise, data transformed before model is estimated.</p>\n",
       "</td></tr>\n",
       "<tr valign=\"top\"><td><code>biasadj</code></td>\n",
       "<td>\n",
       "<p>Use adjusted back-transformed mean for Box-Cox transformations. If TRUE, point forecasts and fitted values are mean forecast. Otherwise, these points can be considered the median of the forecast densities.</p>\n",
       "</td></tr>\n",
       "<tr valign=\"top\"><td><code>parallel</code></td>\n",
       "<td>\n",
       "<p>If <code>TRUE</code> and <code>stepwise = FALSE</code>, then the specification search is done in parallel. This can give a significant speedup on mutlicore machines.</p>\n",
       "</td></tr>\n",
       "<tr valign=\"top\"><td><code>num.cores</code></td>\n",
       "<td>\n",
       "<p>Allows the user to specify the amount of parallel processes to be used if <code>parallel = TRUE</code> and <code>stepwise = FALSE</code>. If <code>NULL</code>, then the number of logical cores is automatically detected and all available cores are used.</p>\n",
       "</td></tr>\n",
       "<tr valign=\"top\"><td><code>x</code></td>\n",
       "<td>\n",
       "<p>Deprecated. Included for backwards compatibility.</p>\n",
       "</td></tr>\n",
       "<tr valign=\"top\"><td><code>...</code></td>\n",
       "<td>\n",
       "<p>Additional arguments to be passed to <code>arima</code>.</p>\n",
       "</td></tr>\n",
       "</table>\n",
       "\n",
       "\n",
       "<h3>Details</h3>\n",
       "\n",
       "<p>Non-stepwise selection can be slow, especially for seasonal data. Stepwise algorithm outlined in Hyndman and Khandakar (2008) except that the default method for selecting seasonal differences is now the OCSB test rather than the Canova-Hansen test.\n",
       "</p>\n",
       "\n",
       "\n",
       "<h3>Value</h3>\n",
       "\n",
       "<p>Same as for <code>Arima</code></p>\n",
       "\n",
       "\n",
       "<h3>Author(s)</h3>\n",
       "\n",
       "<p>Rob J Hyndman</p>\n",
       "\n",
       "\n",
       "<h3>References</h3>\n",
       "\n",
       "<p>Hyndman, R.J. and Khandakar, Y. (2008) &quot;Automatic time series forecasting: The forecast package for R&quot;, <em>Journal of Statistical Software</em>, <b>26</b>(3).\n",
       "</p>\n",
       "\n",
       "\n",
       "<h3>See Also</h3>\n",
       "\n",
       "<p><code>Arima</code></p>\n",
       "\n",
       "\n",
       "<h3>Examples</h3>\n",
       "\n",
       "<pre>fit &lt;- auto.arima(WWWusage)\n",
       "plot(forecast(fit,h=20))\n",
       "</pre>\n",
       "\n",
       "<hr /><div style=\"text-align: center;\">[Package <em>forecast</em> version 7.2 ]</div>"
      ],
      "text/latex": [
       "\\inputencoding{utf8}\n",
       "\\HeaderA{auto.arima}{Fit best ARIMA model to univariate time series}{auto.arima}\n",
       "\\aliasA{best.arima}{auto.arima}{best.arima}\n",
       "\\keyword{ts}{auto.arima}\n",
       "%\n",
       "\\begin{Description}\\relax\n",
       "Returns best ARIMA model according to either AIC, AICc or BIC value.\n",
       "The function conducts a search over\n",
       "possible model within the order constraints provided.\n",
       "\\end{Description}\n",
       "%\n",
       "\\begin{Usage}\n",
       "\\begin{verbatim}\n",
       "auto.arima(y, d=NA, D=NA, max.p=5, max.q=5,\n",
       "     max.P=2, max.Q=2, max.order=5, max.d=2, max.D=1, \n",
       "     start.p=2, start.q=2, start.P=1, start.Q=1, \n",
       "     stationary=FALSE, seasonal=TRUE,\n",
       "     ic=c(\"aicc\", \"aic\", \"bic\"), stepwise=TRUE, trace=FALSE,\n",
       "     approximation=(length(x)>100 | frequency(x)>12), \n",
       "     truncate=NULL, xreg=NULL,\n",
       "     test=c(\"kpss\",\"adf\",\"pp\"), seasonal.test=c(\"ocsb\",\"ch\"),\n",
       "     allowdrift=TRUE, allowmean=TRUE, lambda=NULL, biasadj=FALSE,\n",
       "     parallel=FALSE, num.cores=2, x=y, ...)\n",
       "\\end{verbatim}\n",
       "\\end{Usage}\n",
       "%\n",
       "\\begin{Arguments}\n",
       "\\begin{ldescription}\n",
       "\\item[\\code{y}] a univariate time series\n",
       "\\item[\\code{d}] Order of first-differencing. If missing, will choose a value based on KPSS test.\n",
       "\\item[\\code{D}] Order of seasonal-differencing. If missing, will choose a value based on OCSB test.\n",
       "\\item[\\code{max.p}] Maximum value of p\n",
       "\\item[\\code{max.q}] Maximum value of q\n",
       "\\item[\\code{max.P}] Maximum value of P\n",
       "\\item[\\code{max.Q}] Maximum value of Q\n",
       "\\item[\\code{max.order}] Maximum value of p+q+P+Q if model selection is not stepwise.\n",
       "\\item[\\code{max.d}] Maximum number of non-seasonal differences\n",
       "\\item[\\code{max.D}] Maximum number of seasonal differences\n",
       "\\item[\\code{start.p}] Starting value of p in stepwise procedure.\n",
       "\\item[\\code{start.q}] Starting value of q in stepwise procedure.\n",
       "\\item[\\code{start.P}] Starting value of P in stepwise procedure.\n",
       "\\item[\\code{start.Q}] Starting value of Q in stepwise procedure.\n",
       "\\item[\\code{stationary}] If \\code{TRUE}, restricts search to stationary models.\n",
       "\\item[\\code{seasonal}] If \\code{FALSE}, restricts search to non-seasonal models.\n",
       "\\item[\\code{ic}] Information criterion to be used in model selection.\n",
       "\\item[\\code{stepwise}] If \\code{TRUE}, will do stepwise selection (faster). Otherwise, it searches over all models. Non-stepwise selection can be very slow, especially for seasonal models.\n",
       "\\item[\\code{trace}] If \\code{TRUE}, the list of ARIMA models considered will be reported.\n",
       "\\item[\\code{approximation}] If \\code{TRUE}, estimation is via conditional sums of squares andthe information criteria used for model selection are approximated. The final model is still computed using maximum likelihood estimation. Approximation should be used for long time series or a high seasonal period to avoid excessive computation times.\n",
       "\\item[\\code{truncate}] An integer value indicating how many observations to use in model selection. The last \\code{truncate} values of the series are used to select a model when \\code{truncate} is not \\code{NULL} and \\code{approximation=TRUE}. All observations are used if either \\code{truncate=NULL} or \\code{approximation=FALSE}.\n",
       "\\item[\\code{xreg}] Optionally, a vector or matrix of external regressors, which must have the same number of rows as \\code{y}.\n",
       "\\item[\\code{test}] Type of unit root test to use. See \\code{\\LinkA{ndiffs}{ndiffs}} for details.\n",
       "\\item[\\code{seasonal.test}] This determines which seasonal unit root test is used. See \\code{\\LinkA{nsdiffs}{nsdiffs}} for details.\n",
       "\\item[\\code{allowdrift}] If \\code{TRUE}, models with drift terms are considered.\n",
       "\\item[\\code{allowmean}] If \\code{TRUE}, models with a non-zero mean are considered.\n",
       "\\item[\\code{lambda}] Box-Cox transformation parameter. Ignored if NULL. Otherwise, data transformed before model is estimated.\n",
       "\\item[\\code{biasadj}] Use adjusted back-transformed mean for Box-Cox transformations. If TRUE, point forecasts and fitted values are mean forecast. Otherwise, these points can be considered the median of the forecast densities.\n",
       "\\item[\\code{parallel}] If \\code{TRUE} and \\code{stepwise = FALSE}, then the specification search is done in parallel. This can give a significant speedup on mutlicore machines.\n",
       "\\item[\\code{num.cores}] Allows the user to specify the amount of parallel processes to be used if \\code{parallel = TRUE} and \\code{stepwise = FALSE}. If \\code{NULL}, then the number of logical cores is automatically detected and all available cores are used.\n",
       "\\item[\\code{x}] Deprecated. Included for backwards compatibility.\n",
       "\\item[\\code{...}] Additional arguments to be passed to \\code{\\LinkA{arima}{arima}}.\n",
       "\\end{ldescription}\n",
       "\\end{Arguments}\n",
       "%\n",
       "\\begin{Details}\\relax\n",
       "Non-stepwise selection can be slow, especially for seasonal data. Stepwise algorithm outlined in Hyndman and Khandakar (2008) except that the default method for selecting seasonal differences is now the OCSB test rather than the Canova-Hansen test.\n",
       "\\end{Details}\n",
       "%\n",
       "\\begin{Value}\n",
       "Same as for \\code{\\LinkA{Arima}{Arima}}\n",
       "\\end{Value}\n",
       "%\n",
       "\\begin{Author}\\relax\n",
       "Rob J Hyndman\n",
       "\\end{Author}\n",
       "%\n",
       "\\begin{References}\\relax\n",
       "Hyndman, R.J. and Khandakar, Y. (2008) \"Automatic time series forecasting: The forecast package for R\", \\emph{Journal of Statistical Software}, \\bold{26}(3).\n",
       "\\end{References}\n",
       "%\n",
       "\\begin{SeeAlso}\\relax\n",
       "\\code{\\LinkA{Arima}{Arima}}\n",
       "\\end{SeeAlso}\n",
       "%\n",
       "\\begin{Examples}\n",
       "\\begin{ExampleCode}\n",
       "fit <- auto.arima(WWWusage)\n",
       "plot(forecast(fit,h=20))\n",
       "\\end{ExampleCode}\n",
       "\\end{Examples}"
      ],
      "text/plain": [
       "auto.arima              package:forecast               R Documentation\n",
       "\n",
       "_\bF_\bi_\bt _\bb_\be_\bs_\bt _\bA_\bR_\bI_\bM_\bA _\bm_\bo_\bd_\be_\bl _\bt_\bo _\bu_\bn_\bi_\bv_\ba_\br_\bi_\ba_\bt_\be _\bt_\bi_\bm_\be _\bs_\be_\br_\bi_\be_\bs\n",
       "\n",
       "_\bD_\be_\bs_\bc_\br_\bi_\bp_\bt_\bi_\bo_\bn:\n",
       "\n",
       "     Returns best ARIMA model according to either AIC, AICc or BIC\n",
       "     value. The function conducts a search over possible model within\n",
       "     the order constraints provided.\n",
       "\n",
       "_\bU_\bs_\ba_\bg_\be:\n",
       "\n",
       "     auto.arima(y, d=NA, D=NA, max.p=5, max.q=5,\n",
       "          max.P=2, max.Q=2, max.order=5, max.d=2, max.D=1, \n",
       "          start.p=2, start.q=2, start.P=1, start.Q=1, \n",
       "          stationary=FALSE, seasonal=TRUE,\n",
       "          ic=c(\"aicc\", \"aic\", \"bic\"), stepwise=TRUE, trace=FALSE,\n",
       "          approximation=(length(x)>100 | frequency(x)>12), \n",
       "          truncate=NULL, xreg=NULL,\n",
       "          test=c(\"kpss\",\"adf\",\"pp\"), seasonal.test=c(\"ocsb\",\"ch\"),\n",
       "          allowdrift=TRUE, allowmean=TRUE, lambda=NULL, biasadj=FALSE,\n",
       "          parallel=FALSE, num.cores=2, x=y, ...)\n",
       "     \n",
       "_\bA_\br_\bg_\bu_\bm_\be_\bn_\bt_\bs:\n",
       "\n",
       "       y: a univariate time series\n",
       "\n",
       "       d: Order of first-differencing. If missing, will choose a value\n",
       "          based on KPSS test.\n",
       "\n",
       "       D: Order of seasonal-differencing. If missing, will choose a\n",
       "          value based on OCSB test.\n",
       "\n",
       "   max.p: Maximum value of p\n",
       "\n",
       "   max.q: Maximum value of q\n",
       "\n",
       "   max.P: Maximum value of P\n",
       "\n",
       "   max.Q: Maximum value of Q\n",
       "\n",
       "max.order: Maximum value of p+q+P+Q if model selection is not stepwise.\n",
       "\n",
       "   max.d: Maximum number of non-seasonal differences\n",
       "\n",
       "   max.D: Maximum number of seasonal differences\n",
       "\n",
       " start.p: Starting value of p in stepwise procedure.\n",
       "\n",
       " start.q: Starting value of q in stepwise procedure.\n",
       "\n",
       " start.P: Starting value of P in stepwise procedure.\n",
       "\n",
       " start.Q: Starting value of Q in stepwise procedure.\n",
       "\n",
       "stationary: If 'TRUE', restricts search to stationary models.\n",
       "\n",
       "seasonal: If 'FALSE', restricts search to non-seasonal models.\n",
       "\n",
       "      ic: Information criterion to be used in model selection.\n",
       "\n",
       "stepwise: If 'TRUE', will do stepwise selection (faster). Otherwise, it\n",
       "          searches over all models. Non-stepwise selection can be very\n",
       "          slow, especially for seasonal models.\n",
       "\n",
       "   trace: If 'TRUE', the list of ARIMA models considered will be\n",
       "          reported.\n",
       "\n",
       "approximation: If 'TRUE', estimation is via conditional sums of squares\n",
       "          andthe information criteria used for model selection are\n",
       "          approximated. The final model is still computed using maximum\n",
       "          likelihood estimation. Approximation should be used for long\n",
       "          time series or a high seasonal period to avoid excessive\n",
       "          computation times.\n",
       "\n",
       "truncate: An integer value indicating how many observations to use in\n",
       "          model selection. The last 'truncate' values of the series are\n",
       "          used to select a model when 'truncate' is not 'NULL' and\n",
       "          'approximation=TRUE'. All observations are used if either\n",
       "          'truncate=NULL' or 'approximation=FALSE'.\n",
       "\n",
       "    xreg: Optionally, a vector or matrix of external regressors, which\n",
       "          must have the same number of rows as 'y'.\n",
       "\n",
       "    test: Type of unit root test to use. See 'ndiffs' for details.\n",
       "\n",
       "seasonal.test: This determines which seasonal unit root test is used.\n",
       "          See 'nsdiffs' for details.\n",
       "\n",
       "allowdrift: If 'TRUE', models with drift terms are considered.\n",
       "\n",
       "allowmean: If 'TRUE', models with a non-zero mean are considered.\n",
       "\n",
       "  lambda: Box-Cox transformation parameter. Ignored if NULL. Otherwise,\n",
       "          data transformed before model is estimated.\n",
       "\n",
       " biasadj: Use adjusted back-transformed mean for Box-Cox\n",
       "          transformations. If TRUE, point forecasts and fitted values\n",
       "          are mean forecast. Otherwise, these points can be considered\n",
       "          the median of the forecast densities.\n",
       "\n",
       "parallel: If 'TRUE' and 'stepwise = FALSE', then the specification\n",
       "          search is done in parallel. This can give a significant\n",
       "          speedup on mutlicore machines.\n",
       "\n",
       "num.cores: Allows the user to specify the amount of parallel processes\n",
       "          to be used if 'parallel = TRUE' and 'stepwise = FALSE'. If\n",
       "          'NULL', then the number of logical cores is automatically\n",
       "          detected and all available cores are used.\n",
       "\n",
       "       x: Deprecated. Included for backwards compatibility.\n",
       "\n",
       "     ...: Additional arguments to be passed to 'arima'.\n",
       "\n",
       "_\bD_\be_\bt_\ba_\bi_\bl_\bs:\n",
       "\n",
       "     Non-stepwise selection can be slow, especially for seasonal data.\n",
       "     Stepwise algorithm outlined in Hyndman and Khandakar (2008) except\n",
       "     that the default method for selecting seasonal differences is now\n",
       "     the OCSB test rather than the Canova-Hansen test.\n",
       "\n",
       "_\bV_\ba_\bl_\bu_\be:\n",
       "\n",
       "     Same as for 'Arima'\n",
       "\n",
       "_\bA_\bu_\bt_\bh_\bo_\br(_\bs):\n",
       "\n",
       "     Rob J Hyndman\n",
       "\n",
       "_\bR_\be_\bf_\be_\br_\be_\bn_\bc_\be_\bs:\n",
       "\n",
       "     Hyndman, R.J. and Khandakar, Y. (2008) \"Automatic time series\n",
       "     forecasting: The forecast package for R\", _Journal of Statistical\n",
       "     Software_, *26*(3).\n",
       "\n",
       "_\bS_\be_\be _\bA_\bl_\bs_\bo:\n",
       "\n",
       "     'Arima'\n",
       "\n",
       "_\bE_\bx_\ba_\bm_\bp_\bl_\be_\bs:\n",
       "\n",
       "     fit <- auto.arima(WWWusage)\n",
       "     plot(forecast(fit,h=20))\n",
       "     "
      ]
     },
     "metadata": {},
     "output_type": "display_data"
    }
   ],
   "source": [
    "library(forecast)\n",
    "?auto.arima\n"
   ]
  },
  {
   "cell_type": "code",
   "execution_count": 45,
   "metadata": {
    "collapsed": false
   },
   "outputs": [
    {
     "name": "stdout",
     "output_type": "stream",
     "text": [
      "\n",
      "\n"
     ]
    },
    {
     "data": {
      "text/plain": [
       "Series: log_pt \n",
       "ARIMA(5,1,0)                    \n",
       "\n",
       "Coefficients:\n",
       "          ar1      ar2      ar3      ar4      ar5\n",
       "      -0.1583  -0.0619  -0.0744  -0.0863  -0.0675\n",
       "s.e.   0.0115   0.0116   0.0116   0.0117   0.0117\n",
       "\n",
       "sigma^2 estimated as 0.02145:  log likelihood=3828.71\n",
       "AIC=-7645.41   AICc=-7645.4   BIC=-7603.78"
      ]
     },
     "metadata": {},
     "output_type": "display_data"
    }
   ],
   "source": [
    "library(forecast)\n",
    "fit<-auto.arima(log_pt,d=1,max.p = 6,D=14,trace=T,approximation = T,stepwise=F,allowdrift=T,num.cores = 4,parallel = T)\n",
    "fit\n"
   ]
  },
  {
   "cell_type": "code",
   "execution_count": 46,
   "metadata": {
    "collapsed": false
   },
   "outputs": [
    {
     "data": {
      "image/png": "[encoded data removed]",
      "text/plain": [
       "Plot with title \"Series  fit$residuals\""
      ]
     },
     "metadata": {
      "image/svg+xml": {
       "isolated": true
      }
     },
     "output_type": "display_data"
    },
    {
     "data": {
      "image/png": "[encoded data removed]",
      "text/plain": [
       "Plot with title \"Series  fit$residuals\""
      ]
     },
     "metadata": {
      "image/svg+xml": {
       "isolated": true
      }
     },
     "output_type": "display_data"
    }
   ],
   "source": [
    "acf(fit$residuals,lag.max = 60)\n",
    "pacf(fit$residuals)"
   ]
  },
  {
   "cell_type": "code",
   "execution_count": 34,
   "metadata": {
    "collapsed": false
   },
   "outputs": [
    {
     "name": "stderr",
     "output_type": "stream",
     "text": [
      "Warning message:\n",
      "In cvm.test((data^(lam[i]) - 1)/(lam[i])): p-value is smaller than 7.37e-10, cannot be computed more accuratelyWarning message:\n",
      "In cvm.test((data^(lam[i]) - 1)/(lam[i])): p-value is smaller than 7.37e-10, cannot be computed more accuratelyWarning message:\n",
      "In cvm.test((data^(lam[i]) - 1)/(lam[i])): p-value is smaller than 7.37e-10, cannot be computed more accuratelyWarning message:\n",
      "In cvm.test((data^(lam[i]) - 1)/(lam[i])): p-value is smaller than 7.37e-10, cannot be computed more accuratelyWarning message:\n",
      "In cvm.test((data^(lam[i]) - 1)/(lam[i])): p-value is smaller than 7.37e-10, cannot be computed more accuratelyWarning message:\n",
      "In cvm.test((data^(lam[i]) - 1)/(lam[i])): p-value is smaller than 7.37e-10, cannot be computed more accuratelyWarning message:\n",
      "In cvm.test((data^(lam[i]) - 1)/(lam[i])): p-value is smaller than 7.37e-10, cannot be computed more accuratelyWarning message:\n",
      "In cvm.test((data^(lam[i]) - 1)/(lam[i])): p-value is smaller than 7.37e-10, cannot be computed more accuratelyWarning message:\n",
      "In cvm.test((data^(lam[i]) - 1)/(lam[i])): p-value is smaller than 7.37e-10, cannot be computed more accuratelyWarning message:\n",
      "In cvm.test((data^(lam[i]) - 1)/(lam[i])): p-value is smaller than 7.37e-10, cannot be computed more accuratelyWarning message:\n",
      "In cvm.test((data^(lam[i]) - 1)/(lam[i])): p-value is smaller than 7.37e-10, cannot be computed more accuratelyWarning message:\n",
      "In cvm.test((data^(lam[i]) - 1)/(lam[i])): p-value is smaller than 7.37e-10, cannot be computed more accuratelyWarning message:\n",
      "In cvm.test((data^(lam[i]) - 1)/(lam[i])): p-value is smaller than 7.37e-10, cannot be computed more accuratelyWarning message:\n",
      "In cvm.test((data^(lam[i]) - 1)/(lam[i])): p-value is smaller than 7.37e-10, cannot be computed more accuratelyWarning message:\n",
      "In cvm.test((data^(lam[i]) - 1)/(lam[i])): p-value is smaller than 7.37e-10, cannot be computed more accuratelyWarning message:\n",
      "In cvm.test((data^(lam[i]) - 1)/(lam[i])): p-value is smaller than 7.37e-10, cannot be computed more accuratelyWarning message:\n",
      "In cvm.test((data^(lam[i]) - 1)/(lam[i])): p-value is smaller than 7.37e-10, cannot be computed more accuratelyWarning message:\n",
      "In cvm.test((data^(lam[i]) - 1)/(lam[i])): p-value is smaller than 7.37e-10, cannot be computed more accuratelyWarning message:\n",
      "In cvm.test((data^(lam[i]) - 1)/(lam[i])): p-value is smaller than 7.37e-10, cannot be computed more accuratelyWarning message:\n",
      "In cvm.test((data^(lam[i]) - 1)/(lam[i])): p-value is smaller than 7.37e-10, cannot be computed more accuratelyWarning message:\n",
      "In cvm.test((data^(lam[i]) - 1)/(lam[i])): p-value is smaller than 7.37e-10, cannot be computed more accuratelyWarning message:\n",
      "In cvm.test((data^(lam[i]) - 1)/(lam[i])): p-value is smaller than 7.37e-10, cannot be computed more accuratelyWarning message:\n",
      "In cvm.test((data^(lam[i]) - 1)/(lam[i])): p-value is smaller than 7.37e-10, cannot be computed more accuratelyWarning message:\n",
      "In cvm.test((data^(lam[i]) - 1)/(lam[i])): p-value is smaller than 7.37e-10, cannot be computed more accuratelyWarning message:\n",
      "In cvm.test((data^(lam[i]) - 1)/(lam[i])): p-value is smaller than 7.37e-10, cannot be computed more accuratelyWarning message:\n",
      "In cvm.test((data^(lam[i]) - 1)/(lam[i])): p-value is smaller than 7.37e-10, cannot be computed more accuratelyWarning message:\n",
      "In cvm.test((data^(lam[i]) - 1)/(lam[i])): p-value is smaller than 7.37e-10, cannot be computed more accuratelyWarning message:\n",
      "In cvm.test((data^(lam[i]) - 1)/(lam[i])): p-value is smaller than 7.37e-10, cannot be computed more accuratelyWarning message:\n",
      "In cvm.test((data^(lam[i]) - 1)/(lam[i])): p-value is smaller than 7.37e-10, cannot be computed more accuratelyWarning message:\n",
      "In cvm.test((data^(lam[i]) - 1)/(lam[i])): p-value is smaller than 7.37e-10, cannot be computed more accuratelyWarning message:\n",
      "In cvm.test((data^(lam[i]) - 1)/(lam[i])): p-value is smaller than 7.37e-10, cannot be computed more accuratelyWarning message:\n",
      "In cvm.test((data^(lam[i]) - 1)/(lam[i])): p-value is smaller than 7.37e-10, cannot be computed more accuratelyWarning message:\n",
      "In cvm.test((data^(lam[i]) - 1)/(lam[i])): p-value is smaller than 7.37e-10, cannot be computed more accuratelyWarning message:\n",
      "In cvm.test((data^(lam[i]) - 1)/(lam[i])): p-value is smaller than 7.37e-10, cannot be computed more accuratelyWarning message:\n",
      "In cvm.test((data^(lam[i]) - 1)/(lam[i])): p-value is smaller than 7.37e-10, cannot be computed more accuratelyWarning message:\n",
      "In cvm.test((data^(lam[i]) - 1)/(lam[i])): p-value is smaller than 7.37e-10, cannot be computed more accuratelyWarning message:\n",
      "In cvm.test((data^(lam[i]) - 1)/(lam[i])): p-value is smaller than 7.37e-10, cannot be computed more accuratelyWarning message:\n",
      "In cvm.test((data^(lam[i]) - 1)/(lam[i])): p-value is smaller than 7.37e-10, cannot be computed more accuratelyWarning message:\n",
      "In cvm.test((data^(lam[i]) - 1)/(lam[i])): p-value is smaller than 7.37e-10, cannot be computed more accuratelyWarning message:\n",
      "In cvm.test((data^(lam[i]) - 1)/(lam[i])): p-value is smaller than 7.37e-10, cannot be computed more accuratelyWarning message:\n",
      "In cvm.test((data^(lam[i]) - 1)/(lam[i])): p-value is smaller than 7.37e-10, cannot be computed more accuratelyWarning message:\n",
      "In cvm.test((data^(lam[i]) - 1)/(lam[i])): p-value is smaller than 7.37e-10, cannot be computed more accuratelyWarning message:\n",
      "In cvm.test((data^(lam[i]) - 1)/(lam[i])): p-value is smaller than 7.37e-10, cannot be computed more accuratelyWarning message:\n",
      "In cvm.test((data^(lam[i]) - 1)/(lam[i])): p-value is smaller than 7.37e-10, cannot be computed more accuratelyWarning message:\n",
      "In cvm.test((data^(lam[i]) - 1)/(lam[i])): p-value is smaller than 7.37e-10, cannot be computed more accuratelyWarning message:\n",
      "In cvm.test((data^(lam[i]) - 1)/(lam[i])): p-value is smaller than 7.37e-10, cannot be computed more accuratelyWarning message:\n",
      "In cvm.test((data^(lam[i]) - 1)/(lam[i])): p-value is smaller than 7.37e-10, cannot be computed more accuratelyWarning message:\n",
      "In cvm.test((data^(lam[i]) - 1)/(lam[i])): p-value is smaller than 7.37e-10, cannot be computed more accuratelyWarning message:\n",
      "In cvm.test((data^(lam[i]) - 1)/(lam[i])): p-value is smaller than 7.37e-10, cannot be computed more accuratelyWarning message:\n",
      "In cvm.test((data^(lam[i]) - 1)/(lam[i])): p-value is smaller than 7.37e-10, cannot be computed more accuratelyWarning message:\n",
      "In cvm.test((data^(lam[i]) - 1)/(lam[i])): p-value is smaller than 7.37e-10, cannot be computed more accuratelyWarning message:\n",
      "In cvm.test((data^(lam[i]) - 1)/(lam[i])): p-value is smaller than 7.37e-10, cannot be computed more accuratelyWarning message:\n",
      "In cvm.test((data^(lam[i]) - 1)/(lam[i])): p-value is smaller than 7.37e-10, cannot be computed more accuratelyWarning message:\n",
      "In cvm.test((data^(lam[i]) - 1)/(lam[i])): p-value is smaller than 7.37e-10, cannot be computed more accuratelyWarning message:\n",
      "In cvm.test((data^(lam[i]) - 1)/(lam[i])): p-value is smaller than 7.37e-10, cannot be computed more accuratelyWarning message:\n",
      "In cvm.test((data^(lam[i]) - 1)/(lam[i])): p-value is smaller than 7.37e-10, cannot be computed more accuratelyWarning message:\n",
      "In cvm.test((data^(lam[i]) - 1)/(lam[i])): p-value is smaller than 7.37e-10, cannot be computed more accuratelyWarning message:\n",
      "In cvm.test((data^(lam[i]) - 1)/(lam[i])): p-value is smaller than 7.37e-10, cannot be computed more accuratelyWarning message:\n",
      "In cvm.test((data^(lam[i]) - 1)/(lam[i])): p-value is smaller than 7.37e-10, cannot be computed more accuratelyWarning message:\n",
      "In cvm.test((data^(lam[i]) - 1)/(lam[i])): p-value is smaller than 7.37e-10, cannot be computed more accuratelyWarning message:\n",
      "In cvm.test((data^(lam[i]) - 1)/(lam[i])): p-value is smaller than 7.37e-10, cannot be computed more accuratelyWarning message:\n",
      "In cvm.test((data^(lam[i]) - 1)/(lam[i])): p-value is smaller than 7.37e-10, cannot be computed more accuratelyWarning message:\n",
      "In cvm.test((data^(lam[i]) - 1)/(lam[i])): p-value is smaller than 7.37e-10, cannot be computed more accuratelyWarning message:\n",
      "In cvm.test((data^(lam[i]) - 1)/(lam[i])): p-value is smaller than 7.37e-10, cannot be computed more accuratelyWarning message:\n",
      "In cvm.test((data^(lam[i]) - 1)/(lam[i])): p-value is smaller than 7.37e-10, cannot be computed more accuratelyWarning message:\n",
      "In cvm.test((data^(lam[i]) - 1)/(lam[i])): p-value is smaller than 7.37e-10, cannot be computed more accuratelyWarning message:\n",
      "In cvm.test((data^(lam[i]) - 1)/(lam[i])): p-value is smaller than 7.37e-10, cannot be computed more accuratelyWarning message:\n",
      "In cvm.test((data^(lam[i]) - 1)/(lam[i])): p-value is smaller than 7.37e-10, cannot be computed more accuratelyWarning message:\n",
      "In cvm.test((data^(lam[i]) - 1)/(lam[i])): p-value is smaller than 7.37e-10, cannot be computed more accuratelyWarning message:\n",
      "In cvm.test((data^(lam[i]) - 1)/(lam[i])): p-value is smaller than 7.37e-10, cannot be computed more accuratelyWarning message:\n",
      "In cvm.test((data^(lam[i]) - 1)/(lam[i])): p-value is smaller than 7.37e-10, cannot be computed more accuratelyWarning message:\n",
      "In cvm.test((data^(lam[i]) - 1)/(lam[i])): p-value is smaller than 7.37e-10, cannot be computed more accuratelyWarning message:\n",
      "In cvm.test((data^(lam[i]) - 1)/(lam[i])): p-value is smaller than 7.37e-10, cannot be computed more accuratelyWarning message:\n",
      "In cvm.test((data^(lam[i]) - 1)/(lam[i])): p-value is smaller than 7.37e-10, cannot be computed more accuratelyWarning message:\n",
      "In cvm.test((data^(lam[i]) - 1)/(lam[i])): p-value is smaller than 7.37e-10, cannot be computed more accuratelyWarning message:\n",
      "In cvm.test((data^(lam[i]) - 1)/(lam[i])): p-value is smaller than 7.37e-10, cannot be computed more accuratelyWarning message:\n",
      "In cvm.test((data^(lam[i]) - 1)/(lam[i])): p-value is smaller than 7.37e-10, cannot be computed more accuratelyWarning message:\n",
      "In cvm.test((data^(lam[i]) - 1)/(lam[i])): p-value is smaller than 7.37e-10, cannot be computed more accuratelyWarning message:\n",
      "In cvm.test((data^(lam[i]) - 1)/(lam[i])): p-value is smaller than 7.37e-10, cannot be computed more accuratelyWarning message:\n",
      "In cvm.test((data^(lam[i]) - 1)/(lam[i])): p-value is smaller than 7.37e-10, cannot be computed more accuratelyWarning message:\n",
      "In cvm.test((data^(lam[i]) - 1)/(lam[i])): p-value is smaller than 7.37e-10, cannot be computed more accuratelyWarning message:\n",
      "In cvm.test((data^(lam[i]) - 1)/(lam[i])): p-value is smaller than 7.37e-10, cannot be computed more accuratelyWarning message:\n",
      "In cvm.test((data^(lam[i]) - 1)/(lam[i])): p-value is smaller than 7.37e-10, cannot be computed more accuratelyWarning message:\n",
      "In cvm.test((data^(lam[i]) - 1)/(lam[i])): p-value is smaller than 7.37e-10, cannot be computed more accuratelyWarning message:\n",
      "In cvm.test((data^(lam[i]) - 1)/(lam[i])): p-value is smaller than 7.37e-10, cannot be computed more accuratelyWarning message:\n",
      "In cvm.test((data^(lam[i]) - 1)/(lam[i])): p-value is smaller than 7.37e-10, cannot be computed more accuratelyWarning message:\n",
      "In cvm.test((data^(lam[i]) - 1)/(lam[i])): p-value is smaller than 7.37e-10, cannot be computed more accuratelyWarning message:\n",
      "In cvm.test((data^(lam[i]) - 1)/(lam[i])): p-value is smaller than 7.37e-10, cannot be computed more accuratelyWarning message:\n",
      "In cvm.test((data^(lam[i]) - 1)/(lam[i])): p-value is smaller than 7.37e-10, cannot be computed more accuratelyWarning message:\n",
      "In cvm.test((data^(lam[i]) - 1)/(lam[i])): p-value is smaller than 7.37e-10, cannot be computed more accuratelyWarning message:\n",
      "In cvm.test((data^(lam[i]) - 1)/(lam[i])): p-value is smaller than 7.37e-10, cannot be computed more accuratelyWarning message:\n",
      "In cvm.test((data^(lam[i]) - 1)/(lam[i])): p-value is smaller than 7.37e-10, cannot be computed more accuratelyWarning message:\n",
      "In cvm.test((data^(lam[i]) - 1)/(lam[i])): p-value is smaller than 7.37e-10, cannot be computed more accuratelyWarning message:\n",
      "In cvm.test((data^(lam[i]) - 1)/(lam[i])): p-value is smaller than 7.37e-10, cannot be computed more accuratelyWarning message:\n",
      "In cvm.test((data^(lam[i]) - 1)/(lam[i])): p-value is smaller than 7.37e-10, cannot be computed more accuratelyWarning message:\n",
      "In cvm.test((data^(lam[i]) - 1)/(lam[i])): p-value is smaller than 7.37e-10, cannot be computed more accuratelyWarning message:\n",
      "In cvm.test((data^(lam[i]) - 1)/(lam[i])): p-value is smaller than 7.37e-10, cannot be computed more accuratelyWarning message:\n",
      "In cvm.test((data^(lam[i]) - 1)/(lam[i])): p-value is smaller than 7.37e-10, cannot be computed more accuratelyWarning message:\n",
      "In cvm.test((data^(lam[i]) - 1)/(lam[i])): p-value is smaller than 7.37e-10, cannot be computed more accuratelyWarning message:\n",
      "In cvm.test((data^(lam[i]) - 1)/(lam[i])): p-value is smaller than 7.37e-10, cannot be computed more accuratelyWarning message:\n",
      "In cvm.test((data^(lam[i]) - 1)/(lam[i])): p-value is smaller than 7.37e-10, cannot be computed more accuratelyWarning message:\n",
      "In cvm.test((data^(lam[i]) - 1)/(lam[i])): p-value is smaller than 7.37e-10, cannot be computed more accuratelyWarning message:\n",
      "In cvm.test((data^(lam[i]) - 1)/(lam[i])): p-value is smaller than 7.37e-10, cannot be computed more accuratelyWarning message:\n",
      "In cvm.test((data^(lam[i]) - 1)/(lam[i])): p-value is smaller than 7.37e-10, cannot be computed more accuratelyWarning message:\n",
      "In cvm.test((data^(lam[i]) - 1)/(lam[i])): p-value is smaller than 7.37e-10, cannot be computed more accuratelyWarning message:\n",
      "In cvm.test((data^(lam[i]) - 1)/(lam[i])): p-value is smaller than 7.37e-10, cannot be computed more accuratelyWarning message:\n",
      "In cvm.test((data^(lam[i]) - 1)/(lam[i])): p-value is smaller than 7.37e-10, cannot be computed more accuratelyWarning message:\n",
      "In cvm.test((data^(lam[i]) - 1)/(lam[i])): p-value is smaller than 7.37e-10, cannot be computed more accuratelyWarning message:\n",
      "In cvm.test((data^(lam[i]) - 1)/(lam[i])): p-value is smaller than 7.37e-10, cannot be computed more accuratelyWarning message:\n",
      "In cvm.test((data^(lam[i]) - 1)/(lam[i])): p-value is smaller than 7.37e-10, cannot be computed more accuratelyWarning message:\n",
      "In cvm.test((data^(lam[i]) - 1)/(lam[i])): p-value is smaller than 7.37e-10, cannot be computed more accuratelyWarning message:\n",
      "In cvm.test((data^(lam[i]) - 1)/(lam[i])): p-value is smaller than 7.37e-10, cannot be computed more accuratelyWarning message:\n",
      "In cvm.test((data^(lam[i]) - 1)/(lam[i])): p-value is smaller than 7.37e-10, cannot be computed more accuratelyWarning message:\n",
      "In cvm.test((data^(lam[i]) - 1)/(lam[i])): p-value is smaller than 7.37e-10, cannot be computed more accuratelyWarning message:\n",
      "In cvm.test((data^(lam[i]) - 1)/(lam[i])): p-value is smaller than 7.37e-10, cannot be computed more accuratelyWarning message:\n",
      "In cvm.test((data^(lam[i]) - 1)/(lam[i])): p-value is smaller than 7.37e-10, cannot be computed more accuratelyWarning message:\n",
      "In cvm.test((data^(lam[i]) - 1)/(lam[i])): p-value is smaller than 7.37e-10, cannot be computed more accuratelyWarning message:\n",
      "In cvm.test((data^(lam[i]) - 1)/(lam[i])): p-value is smaller than 7.37e-10, cannot be computed more accuratelyWarning message:\n",
      "In cvm.test((data^(lam[i]) - 1)/(lam[i])): p-value is smaller than 7.37e-10, cannot be computed more accuratelyWarning message:\n",
      "In cvm.test((data^(lam[i]) - 1)/(lam[i])): p-value is smaller than 7.37e-10, cannot be computed more accuratelyWarning message:\n",
      "In cvm.test((data^(lam[i]) - 1)/(lam[i])): p-value is smaller than 7.37e-10, cannot be computed more accuratelyWarning message:\n",
      "In cvm.test((data^(lam[i]) - 1)/(lam[i])): p-value is smaller than 7.37e-10, cannot be computed more accuratelyWarning message:\n",
      "In cvm.test((data^(lam[i]) - 1)/(lam[i])): p-value is smaller than 7.37e-10, cannot be computed more accuratelyWarning message:\n",
      "In cvm.test((data^(lam[i]) - 1)/(lam[i])): p-value is smaller than 7.37e-10, cannot be computed more accuratelyWarning message:\n",
      "In cvm.test((data^(lam[i]) - 1)/(lam[i])): p-value is smaller than 7.37e-10, cannot be computed more accuratelyWarning message:\n",
      "In cvm.test((data^(lam[i]) - 1)/(lam[i])): p-value is smaller than 7.37e-10, cannot be computed more accuratelyWarning message:\n",
      "In cvm.test((data^(lam[i]) - 1)/(lam[i])): p-value is smaller than 7.37e-10, cannot be computed more accuratelyWarning message:\n",
      "In cvm.test((data^(lam[i]) - 1)/(lam[i])): p-value is smaller than 7.37e-10, cannot be computed more accuratelyWarning message:\n",
      "In cvm.test((data^(lam[i]) - 1)/(lam[i])): p-value is smaller than 7.37e-10, cannot be computed more accuratelyWarning message:\n",
      "In cvm.test((data^(lam[i]) - 1)/(lam[i])): p-value is smaller than 7.37e-10, cannot be computed more accuratelyWarning message:\n",
      "In cvm.test((data^(lam[i]) - 1)/(lam[i])): p-value is smaller than 7.37e-10, cannot be computed more accuratelyWarning message:\n",
      "In cvm.test((data^(lam[i]) - 1)/(lam[i])): p-value is smaller than 7.37e-10, cannot be computed more accuratelyWarning message:\n",
      "In cvm.test((data^(lam[i]) - 1)/(lam[i])): p-value is smaller than 7.37e-10, cannot be computed more accuratelyWarning message:\n",
      "In cvm.test((data^(lam[i]) - 1)/(lam[i])): p-value is smaller than 7.37e-10, cannot be computed more accuratelyWarning message:\n",
      "In cvm.test((data^(lam[i]) - 1)/(lam[i])): p-value is smaller than 7.37e-10, cannot be computed more accuratelyWarning message:\n",
      "In cvm.test((data^(lam[i]) - 1)/(lam[i])): p-value is smaller than 7.37e-10, cannot be computed more accuratelyWarning message:\n",
      "In cvm.test((data^(lam[i]) - 1)/(lam[i])): p-value is smaller than 7.37e-10, cannot be computed more accuratelyWarning message:\n",
      "In cvm.test((data^(lam[i]) - 1)/(lam[i])): p-value is smaller than 7.37e-10, cannot be computed more accuratelyWarning message:\n",
      "In cvm.test((data^(lam[i]) - 1)/(lam[i])): p-value is smaller than 7.37e-10, cannot be computed more accuratelyWarning message:\n",
      "In cvm.test((data^(lam[i]) - 1)/(lam[i])): p-value is smaller than 7.37e-10, cannot be computed more accuratelyWarning message:\n",
      "In cvm.test((data^(lam[i]) - 1)/(lam[i])): p-value is smaller than 7.37e-10, cannot be computed more accuratelyWarning message:\n",
      "In cvm.test((data^(lam[i]) - 1)/(lam[i])): p-value is smaller than 7.37e-10, cannot be computed more accuratelyWarning message:\n",
      "In cvm.test((data^(lam[i]) - 1)/(lam[i])): p-value is smaller than 7.37e-10, cannot be computed more accuratelyWarning message:\n",
      "In cvm.test((data^(lam[i]) - 1)/(lam[i])): p-value is smaller than 7.37e-10, cannot be computed more accuratelyWarning message:\n",
      "In cvm.test((data^(lam[i]) - 1)/(lam[i])): p-value is smaller than 7.37e-10, cannot be computed more accuratelyWarning message:\n",
      "In cvm.test((data^(lam[i]) - 1)/(lam[i])): p-value is smaller than 7.37e-10, cannot be computed more accuratelyWarning message:\n",
      "In cvm.test((data^(lam[i]) - 1)/(lam[i])): p-value is smaller than 7.37e-10, cannot be computed more accuratelyWarning message:\n",
      "In cvm.test((data^(lam[i]) - 1)/(lam[i])): p-value is smaller than 7.37e-10, cannot be computed more accuratelyWarning message:\n",
      "In cvm.test((data^(lam[i]) - 1)/(lam[i])): p-value is smaller than 7.37e-10, cannot be computed more accuratelyWarning message:\n",
      "In cvm.test((data^(lam[i]) - 1)/(lam[i])): p-value is smaller than 7.37e-10, cannot be computed more accuratelyWarning message:\n",
      "In cvm.test((data^(lam[i]) - 1)/(lam[i])): p-value is smaller than 7.37e-10, cannot be computed more accuratelyWarning message:\n",
      "In cvm.test((data^(lam[i]) - 1)/(lam[i])): p-value is smaller than 7.37e-10, cannot be computed more accuratelyWarning message:\n",
      "In cvm.test((data^(lam[i]) - 1)/(lam[i])): p-value is smaller than 7.37e-10, cannot be computed more accuratelyWarning message:\n",
      "In cvm.test((data^(lam[i]) - 1)/(lam[i])): p-value is smaller than 7.37e-10, cannot be computed more accuratelyWarning message:\n",
      "In cvm.test((data^(lam[i]) - 1)/(lam[i])): p-value is smaller than 7.37e-10, cannot be computed more accuratelyWarning message:\n",
      "In cvm.test((data^(lam[i]) - 1)/(lam[i])): p-value is smaller than 7.37e-10, cannot be computed more accuratelyWarning message:\n",
      "In cvm.test((data^(lam[i]) - 1)/(lam[i])): p-value is smaller than 7.37e-10, cannot be computed more accuratelyWarning message:\n",
      "In cvm.test((data^(lam[i]) - 1)/(lam[i])): p-value is smaller than 7.37e-10, cannot be computed more accuratelyWarning message:\n",
      "In cvm.test((data^(lam[i]) - 1)/(lam[i])): p-value is smaller than 7.37e-10, cannot be computed more accuratelyWarning message:\n",
      "In cvm.test((data^(lam[i]) - 1)/(lam[i])): p-value is smaller than 7.37e-10, cannot be computed more accuratelyWarning message:\n",
      "In cvm.test((data^(lam[i]) - 1)/(lam[i])): p-value is smaller than 7.37e-10, cannot be computed more accuratelyWarning message:\n",
      "In cvm.test((data^(lam[i]) - 1)/(lam[i])): p-value is smaller than 7.37e-10, cannot be computed more accuratelyWarning message:\n",
      "In cvm.test((data^(lam[i]) - 1)/(lam[i])): p-value is smaller than 7.37e-10, cannot be computed more accuratelyWarning message:\n",
      "In cvm.test((data^(lam[i]) - 1)/(lam[i])): p-value is smaller than 7.37e-10, cannot be computed more accuratelyWarning message:\n",
      "In cvm.test((data^(lam[i]) - 1)/(lam[i])): p-value is smaller than 7.37e-10, cannot be computed more accuratelyWarning message:\n",
      "In cvm.test((data^(lam[i]) - 1)/(lam[i])): p-value is smaller than 7.37e-10, cannot be computed more accuratelyWarning message:\n",
      "In cvm.test((data^(lam[i]) - 1)/(lam[i])): p-value is smaller than 7.37e-10, cannot be computed more accuratelyWarning message:\n",
      "In cvm.test((data^(lam[i]) - 1)/(lam[i])): p-value is smaller than 7.37e-10, cannot be computed more accuratelyWarning message:\n",
      "In cvm.test((data^(lam[i]) - 1)/(lam[i])): p-value is smaller than 7.37e-10, cannot be computed more accuratelyWarning message:\n",
      "In cvm.test((data^(lam[i]) - 1)/(lam[i])): p-value is smaller than 7.37e-10, cannot be computed more accuratelyWarning message:\n",
      "In cvm.test((data^(lam[i]) - 1)/(lam[i])): p-value is smaller than 7.37e-10, cannot be computed more accuratelyWarning message:\n",
      "In cvm.test((data^(lam[i]) - 1)/(lam[i])): p-value is smaller than 7.37e-10, cannot be computed more accuratelyWarning message:\n",
      "In cvm.test((data^(lam[i]) - 1)/(lam[i])): p-value is smaller than 7.37e-10, cannot be computed more accuratelyWarning message:\n",
      "In cvm.test((data^(lam[i]) - 1)/(lam[i])): p-value is smaller than 7.37e-10, cannot be computed more accuratelyWarning message:\n",
      "In cvm.test((data^(lam[i]) - 1)/(lam[i])): p-value is smaller than 7.37e-10, cannot be computed more accuratelyWarning message:\n",
      "In cvm.test((data^(lam[i]) - 1)/(lam[i])): p-value is smaller than 7.37e-10, cannot be computed more accuratelyWarning message:\n",
      "In cvm.test((data^(lam[i]) - 1)/(lam[i])): p-value is smaller than 7.37e-10, cannot be computed more accuratelyWarning message:\n",
      "In cvm.test((data^(lam[i]) - 1)/(lam[i])): p-value is smaller than 7.37e-10, cannot be computed more accuratelyWarning message:\n",
      "In cvm.test((data^(lam[i]) - 1)/(lam[i])): p-value is smaller than 7.37e-10, cannot be computed more accuratelyWarning message:\n",
      "In cvm.test((data^(lam[i]) - 1)/(lam[i])): p-value is smaller than 7.37e-10, cannot be computed more accuratelyWarning message:\n",
      "In cvm.test((data^(lam[i]) - 1)/(lam[i])): p-value is smaller than 7.37e-10, cannot be computed more accuratelyWarning message:\n",
      "In cvm.test((data^(lam[i]) - 1)/(lam[i])): p-value is smaller than 7.37e-10, cannot be computed more accuratelyWarning message:\n",
      "In cvm.test((data^(lam[i]) - 1)/(lam[i])): p-value is smaller than 7.37e-10, cannot be computed more accuratelyWarning message:\n",
      "In cvm.test((data^(lam[i]) - 1)/(lam[i])): p-value is smaller than 7.37e-10, cannot be computed more accuratelyWarning message:\n",
      "In cvm.test((data^(lam[i]) - 1)/(lam[i])): p-value is smaller than 7.37e-10, cannot be computed more accuratelyWarning message:\n",
      "In cvm.test((data^(lam[i]) - 1)/(lam[i])): p-value is smaller than 7.37e-10, cannot be computed more accuratelyWarning message:\n",
      "In cvm.test((data^(lam[i]) - 1)/(lam[i])): p-value is smaller than 7.37e-10, cannot be computed more accuratelyWarning message:\n",
      "In cvm.test((data^(lam[i]) - 1)/(lam[i])): p-value is smaller than 7.37e-10, cannot be computed more accuratelyWarning message:\n",
      "In cvm.test((data^(lam[i]) - 1)/(lam[i])): p-value is smaller than 7.37e-10, cannot be computed more accuratelyWarning message:\n",
      "In cvm.test((data^(lam[i]) - 1)/(lam[i])): p-value is smaller than 7.37e-10, cannot be computed more accuratelyWarning message:\n",
      "In cvm.test((data^(lam[i]) - 1)/(lam[i])): p-value is smaller than 7.37e-10, cannot be computed more accuratelyWarning message:\n",
      "In cvm.test((data^(lam[i]) - 1)/(lam[i])): p-value is smaller than 7.37e-10, cannot be computed more accuratelyWarning message:\n",
      "In cvm.test((data^(lam[i]) - 1)/(lam[i])): p-value is smaller than 7.37e-10, cannot be computed more accuratelyWarning message:\n",
      "In cvm.test((data^(lam[i]) - 1)/(lam[i])): p-value is smaller than 7.37e-10, cannot be computed more accuratelyWarning message:\n",
      "In cvm.test((data^(lam[i]) - 1)/(lam[i])): p-value is smaller than 7.37e-10, cannot be computed more accuratelyWarning message:\n",
      "In cvm.test((data^(lam[i]) - 1)/(lam[i])): p-value is smaller than 7.37e-10, cannot be computed more accuratelyWarning message:\n",
      "In cvm.test((data^(lam[i]) - 1)/(lam[i])): p-value is smaller than 7.37e-10, cannot be computed more accuratelyWarning message:\n",
      "In cvm.test((data^(lam[i]) - 1)/(lam[i])): p-value is smaller than 7.37e-10, cannot be computed more accuratelyWarning message:\n",
      "In cvm.test((data^(lam[i]) - 1)/(lam[i])): p-value is smaller than 7.37e-10, cannot be computed more accuratelyWarning message:\n",
      "In cvm.test((data^(lam[i]) - 1)/(lam[i])): p-value is smaller than 7.37e-10, cannot be computed more accuratelyWarning message:\n",
      "In cvm.test(log(data)): p-value is smaller than 7.37e-10, cannot be computed more accuratelyWarning message:\n",
      "In cvm.test((data^(lam[i]) - 1)/(lam[i])): p-value is smaller than 7.37e-10, cannot be computed more accuratelyWarning message:\n",
      "In cvm.test((data^(lam[i]) - 1)/(lam[i])): p-value is smaller than 7.37e-10, cannot be computed more accuratelyWarning message:\n",
      "In cvm.test((data^(lam[i]) - 1)/(lam[i])): p-value is smaller than 7.37e-10, cannot be computed more accuratelyWarning message:\n",
      "In cvm.test((data^(lam[i]) - 1)/(lam[i])): p-value is smaller than 7.37e-10, cannot be computed more accuratelyWarning message:\n",
      "In cvm.test((data^(lam[i]) - 1)/(lam[i])): p-value is smaller than 7.37e-10, cannot be computed more accuratelyWarning message:\n",
      "In cvm.test((data^(lam[i]) - 1)/(lam[i])): p-value is smaller than 7.37e-10, cannot be computed more accuratelyWarning message:\n",
      "In cvm.test((data^(lam[i]) - 1)/(lam[i])): p-value is smaller than 7.37e-10, cannot be computed more accuratelyWarning message:\n",
      "In cvm.test((data^(lam[i]) - 1)/(lam[i])): p-value is smaller than 7.37e-10, cannot be computed more accuratelyWarning message:\n",
      "In cvm.test((data^(lam[i]) - 1)/(lam[i])): p-value is smaller than 7.37e-10, cannot be computed more accuratelyWarning message:\n",
      "In cvm.test((data^(lam[i]) - 1)/(lam[i])): p-value is smaller than 7.37e-10, cannot be computed more accuratelyWarning message:\n",
      "In cvm.test((data^(lam[i]) - 1)/(lam[i])): p-value is smaller than 7.37e-10, cannot be computed more accuratelyWarning message:\n",
      "In cvm.test((data^(lam[i]) - 1)/(lam[i])): p-value is smaller than 7.37e-10, cannot be computed more accuratelyWarning message:\n",
      "In cvm.test((data^(lam[i]) - 1)/(lam[i])): p-value is smaller than 7.37e-10, cannot be computed more accuratelyWarning message:\n",
      "In cvm.test((data^(lam[i]) - 1)/(lam[i])): p-value is smaller than 7.37e-10, cannot be computed more accuratelyWarning message:\n",
      "In cvm.test((data^(lam[i]) - 1)/(lam[i])): p-value is smaller than 7.37e-10, cannot be computed more accuratelyWarning message:\n",
      "In cvm.test((data^(lam[i]) - 1)/(lam[i])): p-value is smaller than 7.37e-10, cannot be computed more accuratelyWarning message:\n",
      "In cvm.test((data^(lam[i]) - 1)/(lam[i])): p-value is smaller than 7.37e-10, cannot be computed more accuratelyWarning message:\n",
      "In cvm.test((data^(lam[i]) - 1)/(lam[i])): p-value is smaller than 7.37e-10, cannot be computed more accuratelyWarning message:\n",
      "In cvm.test((data^(lam[i]) - 1)/(lam[i])): p-value is smaller than 7.37e-10, cannot be computed more accuratelyWarning message:\n",
      "In cvm.test((data^(lam[i]) - 1)/(lam[i])): p-value is smaller than 7.37e-10, cannot be computed more accuratelyWarning message:\n",
      "In cvm.test((data^(lam[i]) - 1)/(lam[i])): p-value is smaller than 7.37e-10, cannot be computed more accuratelyWarning message:\n",
      "In cvm.test((data^(lam[i]) - 1)/(lam[i])): p-value is smaller than 7.37e-10, cannot be computed more accuratelyWarning message:\n",
      "In cvm.test((data^(lam[i]) - 1)/(lam[i])): p-value is smaller than 7.37e-10, cannot be computed more accuratelyWarning message:\n",
      "In cvm.test((data^(lam[i]) - 1)/(lam[i])): p-value is smaller than 7.37e-10, cannot be computed more accuratelyWarning message:\n",
      "In cvm.test((data^(lam[i]) - 1)/(lam[i])): p-value is smaller than 7.37e-10, cannot be computed more accuratelyWarning message:\n",
      "In cvm.test((data^(lam[i]) - 1)/(lam[i])): p-value is smaller than 7.37e-10, cannot be computed more accuratelyWarning message:\n",
      "In cvm.test((data^(lam[i]) - 1)/(lam[i])): p-value is smaller than 7.37e-10, cannot be computed more accuratelyWarning message:\n",
      "In cvm.test((data^(lam[i]) - 1)/(lam[i])): p-value is smaller than 7.37e-10, cannot be computed more accuratelyWarning message:\n",
      "In cvm.test((data^(lam[i]) - 1)/(lam[i])): p-value is smaller than 7.37e-10, cannot be computed more accuratelyWarning message:\n",
      "In cvm.test((data^(lam[i]) - 1)/(lam[i])): p-value is smaller than 7.37e-10, cannot be computed more accuratelyWarning message:\n",
      "In cvm.test((data^(lam[i]) - 1)/(lam[i])): p-value is smaller than 7.37e-10, cannot be computed more accuratelyWarning message:\n",
      "In cvm.test((data^(lam[i]) - 1)/(lam[i])): p-value is smaller than 7.37e-10, cannot be computed more accuratelyWarning message:\n",
      "In cvm.test((data^(lam[i]) - 1)/(lam[i])): p-value is smaller than 7.37e-10, cannot be computed more accuratelyWarning message:\n",
      "In cvm.test((data^(lam[i]) - 1)/(lam[i])): p-value is smaller than 7.37e-10, cannot be computed more accuratelyWarning message:\n",
      "In cvm.test((data^(lam[i]) - 1)/(lam[i])): p-value is smaller than 7.37e-10, cannot be computed more accuratelyWarning message:\n",
      "In cvm.test((data^(lam[i]) - 1)/(lam[i])): p-value is smaller than 7.37e-10, cannot be computed more accuratelyWarning message:\n",
      "In cvm.test((data^(lam[i]) - 1)/(lam[i])): p-value is smaller than 7.37e-10, cannot be computed more accuratelyWarning message:\n",
      "In cvm.test((data^(lam[i]) - 1)/(lam[i])): p-value is smaller than 7.37e-10, cannot be computed more accuratelyWarning message:\n",
      "In cvm.test((data^(lam[i]) - 1)/(lam[i])): p-value is smaller than 7.37e-10, cannot be computed more accuratelyWarning message:\n",
      "In cvm.test((data^(lam[i]) - 1)/(lam[i])): p-value is smaller than 7.37e-10, cannot be computed more accuratelyWarning message:\n",
      "In cvm.test((data^(lam[i]) - 1)/(lam[i])): p-value is smaller than 7.37e-10, cannot be computed more accuratelyWarning message:\n",
      "In cvm.test((data^(lam[i]) - 1)/(lam[i])): p-value is smaller than 7.37e-10, cannot be computed more accuratelyWarning message:\n",
      "In cvm.test((data^(lam[i]) - 1)/(lam[i])): p-value is smaller than 7.37e-10, cannot be computed more accuratelyWarning message:\n",
      "In cvm.test((data^(lam[i]) - 1)/(lam[i])): p-value is smaller than 7.37e-10, cannot be computed more accuratelyWarning message:\n",
      "In cvm.test((data^(lam[i]) - 1)/(lam[i])): p-value is smaller than 7.37e-10, cannot be computed more accuratelyWarning message:\n",
      "In cvm.test((data^(lam[i]) - 1)/(lam[i])): p-value is smaller than 7.37e-10, cannot be computed more accuratelyWarning message:\n",
      "In cvm.test((data^(lam[i]) - 1)/(lam[i])): p-value is smaller than 7.37e-10, cannot be computed more accuratelyWarning message:\n",
      "In cvm.test((data^(lam[i]) - 1)/(lam[i])): p-value is smaller than 7.37e-10, cannot be computed more accuratelyWarning message:\n",
      "In cvm.test((data^(lam[i]) - 1)/(lam[i])): p-value is smaller than 7.37e-10, cannot be computed more accuratelyWarning message:\n",
      "In cvm.test((data^(lam[i]) - 1)/(lam[i])): p-value is smaller than 7.37e-10, cannot be computed more accuratelyWarning message:\n",
      "In cvm.test((data^(lam[i]) - 1)/(lam[i])): p-value is smaller than 7.37e-10, cannot be computed more accuratelyWarning message:\n",
      "In cvm.test((data^(lam[i]) - 1)/(lam[i])): p-value is smaller than 7.37e-10, cannot be computed more accuratelyWarning message:\n",
      "In cvm.test((data^(lam[i]) - 1)/(lam[i])): p-value is smaller than 7.37e-10, cannot be computed more accuratelyWarning message:\n",
      "In cvm.test((data^(lam[i]) - 1)/(lam[i])): p-value is smaller than 7.37e-10, cannot be computed more accuratelyWarning message:\n",
      "In cvm.test((data^(lam[i]) - 1)/(lam[i])): p-value is smaller than 7.37e-10, cannot be computed more accuratelyWarning message:\n",
      "In cvm.test((data^(lam[i]) - 1)/(lam[i])): p-value is smaller than 7.37e-10, cannot be computed more accuratelyWarning message:\n",
      "In cvm.test((data^(lam[i]) - 1)/(lam[i])): p-value is smaller than 7.37e-10, cannot be computed more accuratelyWarning message:\n",
      "In cvm.test((data^(lam[i]) - 1)/(lam[i])): p-value is smaller than 7.37e-10, cannot be computed more accuratelyWarning message:\n",
      "In cvm.test((data^(lam[i]) - 1)/(lam[i])): p-value is smaller than 7.37e-10, cannot be computed more accuratelyWarning message:\n",
      "In cvm.test((data^(lam[i]) - 1)/(lam[i])): p-value is smaller than 7.37e-10, cannot be computed more accuratelyWarning message:\n",
      "In cvm.test((data^(lam[i]) - 1)/(lam[i])): p-value is smaller than 7.37e-10, cannot be computed more accuratelyWarning message:\n",
      "In cvm.test((data^(lam[i]) - 1)/(lam[i])): p-value is smaller than 7.37e-10, cannot be computed more accuratelyWarning message:\n",
      "In cvm.test((data^(lam[i]) - 1)/(lam[i])): p-value is smaller than 7.37e-10, cannot be computed more accuratelyWarning message:\n",
      "In cvm.test((data^(lam[i]) - 1)/(lam[i])): p-value is smaller than 7.37e-10, cannot be computed more accuratelyWarning message:\n",
      "In cvm.test((data^(lam[i]) - 1)/(lam[i])): p-value is smaller than 7.37e-10, cannot be computed more accuratelyWarning message:\n",
      "In cvm.test((data^(lam[i]) - 1)/(lam[i])): p-value is smaller than 7.37e-10, cannot be computed more accuratelyWarning message:\n",
      "In cvm.test((data^(lam[i]) - 1)/(lam[i])): p-value is smaller than 7.37e-10, cannot be computed more accuratelyWarning message:\n",
      "In cvm.test((data^(lam[i]) - 1)/(lam[i])): p-value is smaller than 7.37e-10, cannot be computed more accuratelyWarning message:\n",
      "In cvm.test((data^(lam[i]) - 1)/(lam[i])): p-value is smaller than 7.37e-10, cannot be computed more accuratelyWarning message:\n",
      "In cvm.test((data^(lam[i]) - 1)/(lam[i])): p-value is smaller than 7.37e-10, cannot be computed more accuratelyWarning message:\n",
      "In cvm.test((data^(lam[i]) - 1)/(lam[i])): p-value is smaller than 7.37e-10, cannot be computed more accuratelyWarning message:\n",
      "In cvm.test((data^(lam[i]) - 1)/(lam[i])): p-value is smaller than 7.37e-10, cannot be computed more accuratelyWarning message:\n",
      "In cvm.test((data^(lam[i]) - 1)/(lam[i])): p-value is smaller than 7.37e-10, cannot be computed more accuratelyWarning message:\n",
      "In cvm.test((data^(lam[i]) - 1)/(lam[i])): p-value is smaller than 7.37e-10, cannot be computed more accuratelyWarning message:\n",
      "In cvm.test((data^(lam[i]) - 1)/(lam[i])): p-value is smaller than 7.37e-10, cannot be computed more accuratelyWarning message:\n",
      "In cvm.test((data^(lam[i]) - 1)/(lam[i])): p-value is smaller than 7.37e-10, cannot be computed more accuratelyWarning message:\n",
      "In cvm.test((data^(lam[i]) - 1)/(lam[i])): p-value is smaller than 7.37e-10, cannot be computed more accuratelyWarning message:\n",
      "In cvm.test((data^(lam[i]) - 1)/(lam[i])): p-value is smaller than 7.37e-10, cannot be computed more accuratelyWarning message:\n",
      "In cvm.test((data^(lam[i]) - 1)/(lam[i])): p-value is smaller than 7.37e-10, cannot be computed more accuratelyWarning message:\n",
      "In cvm.test((data^(lam[i]) - 1)/(lam[i])): p-value is smaller than 7.37e-10, cannot be computed more accuratelyWarning message:\n",
      "In cvm.test((data^(lam[i]) - 1)/(lam[i])): p-value is smaller than 7.37e-10, cannot be computed more accuratelyWarning message:\n",
      "In cvm.test((data^(lam[i]) - 1)/(lam[i])): p-value is smaller than 7.37e-10, cannot be computed more accuratelyWarning message:\n",
      "In cvm.test((data^(lam[i]) - 1)/(lam[i])): p-value is smaller than 7.37e-10, cannot be computed more accuratelyWarning message:\n",
      "In cvm.test((data^(lam[i]) - 1)/(lam[i])): p-value is smaller than 7.37e-10, cannot be computed more accuratelyWarning message:\n",
      "In cvm.test((data^(lam[i]) - 1)/(lam[i])): p-value is smaller than 7.37e-10, cannot be computed more accuratelyWarning message:\n",
      "In cvm.test((data^(lam[i]) - 1)/(lam[i])): p-value is smaller than 7.37e-10, cannot be computed more accuratelyWarning message:\n",
      "In cvm.test((data^(lam[i]) - 1)/(lam[i])): p-value is smaller than 7.37e-10, cannot be computed more accuratelyWarning message:\n",
      "In cvm.test((data^(lam[i]) - 1)/(lam[i])): p-value is smaller than 7.37e-10, cannot be computed more accuratelyWarning message:\n",
      "In cvm.test((data^(lam[i]) - 1)/(lam[i])): p-value is smaller than 7.37e-10, cannot be computed more accuratelyWarning message:\n",
      "In cvm.test((data^(lam[i]) - 1)/(lam[i])): p-value is smaller than 7.37e-10, cannot be computed more accuratelyWarning message:\n",
      "In cvm.test((data^(lam[i]) - 1)/(lam[i])): p-value is smaller than 7.37e-10, cannot be computed more accuratelyWarning message:\n",
      "In cvm.test((data^(lam[i]) - 1)/(lam[i])): p-value is smaller than 7.37e-10, cannot be computed more accuratelyWarning message:\n",
      "In cvm.test((data^(lam[i]) - 1)/(lam[i])): p-value is smaller than 7.37e-10, cannot be computed more accuratelyWarning message:\n",
      "In cvm.test((data^(lam[i]) - 1)/(lam[i])): p-value is smaller than 7.37e-10, cannot be computed more accuratelyWarning message:\n",
      "In cvm.test((data^(lam[i]) - 1)/(lam[i])): p-value is smaller than 7.37e-10, cannot be computed more accuratelyWarning message:\n",
      "In cvm.test((data^(lam[i]) - 1)/(lam[i])): p-value is smaller than 7.37e-10, cannot be computed more accuratelyWarning message:\n",
      "In cvm.test((data^(lam[i]) - 1)/(lam[i])): p-value is smaller than 7.37e-10, cannot be computed more accuratelyWarning message:\n",
      "In cvm.test((data^(lam[i]) - 1)/(lam[i])): p-value is smaller than 7.37e-10, cannot be computed more accuratelyWarning message:\n",
      "In cvm.test((data^(lam[i]) - 1)/(lam[i])): p-value is smaller than 7.37e-10, cannot be computed more accuratelyWarning message:\n",
      "In cvm.test((data^(lam[i]) - 1)/(lam[i])): p-value is smaller than 7.37e-10, cannot be computed more accuratelyWarning message:\n",
      "In cvm.test((data^(lam[i]) - 1)/(lam[i])): p-value is smaller than 7.37e-10, cannot be computed more accuratelyWarning message:\n",
      "In cvm.test((data^(lam[i]) - 1)/(lam[i])): p-value is smaller than 7.37e-10, cannot be computed more accuratelyWarning message:\n",
      "In cvm.test((data^(lam[i]) - 1)/(lam[i])): p-value is smaller than 7.37e-10, cannot be computed more accuratelyWarning message:\n",
      "In cvm.test((data^(lam[i]) - 1)/(lam[i])): p-value is smaller than 7.37e-10, cannot be computed more accuratelyWarning message:\n",
      "In cvm.test((data^(lam[i]) - 1)/(lam[i])): p-value is smaller than 7.37e-10, cannot be computed more accuratelyWarning message:\n",
      "In cvm.test((data^(lam[i]) - 1)/(lam[i])): p-value is smaller than 7.37e-10, cannot be computed more accuratelyWarning message:\n",
      "In cvm.test((data^(lam[i]) - 1)/(lam[i])): p-value is smaller than 7.37e-10, cannot be computed more accuratelyWarning message:\n",
      "In cvm.test((data^(lam[i]) - 1)/(lam[i])): p-value is smaller than 7.37e-10, cannot be computed more accuratelyWarning message:\n",
      "In cvm.test((data^(lam[i]) - 1)/(lam[i])): p-value is smaller than 7.37e-10, cannot be computed more accuratelyWarning message:\n",
      "In cvm.test((data^(lam[i]) - 1)/(lam[i])): p-value is smaller than 7.37e-10, cannot be computed more accuratelyWarning message:\n",
      "In cvm.test((data^(lam[i]) - 1)/(lam[i])): p-value is smaller than 7.37e-10, cannot be computed more accuratelyWarning message:\n",
      "In cvm.test((data^(lam[i]) - 1)/(lam[i])): p-value is smaller than 7.37e-10, cannot be computed more accuratelyWarning message:\n",
      "In cvm.test((data^(lam[i]) - 1)/(lam[i])): p-value is smaller than 7.37e-10, cannot be computed more accuratelyWarning message:\n",
      "In cvm.test((data^(lam[i]) - 1)/(lam[i])): p-value is smaller than 7.37e-10, cannot be computed more accuratelyWarning message:\n",
      "In cvm.test((data^(lam[i]) - 1)/(lam[i])): p-value is smaller than 7.37e-10, cannot be computed more accuratelyWarning message:\n",
      "In cvm.test((data^(lam[i]) - 1)/(lam[i])): p-value is smaller than 7.37e-10, cannot be computed more accuratelyWarning message:\n",
      "In cvm.test((data^(lam[i]) - 1)/(lam[i])): p-value is smaller than 7.37e-10, cannot be computed more accuratelyWarning message:\n",
      "In cvm.test((data^(lam[i]) - 1)/(lam[i])): p-value is smaller than 7.37e-10, cannot be computed more accuratelyWarning message:\n",
      "In cvm.test((data^(lam[i]) - 1)/(lam[i])): p-value is smaller than 7.37e-10, cannot be computed more accuratelyWarning message:\n",
      "In cvm.test((data^(lam[i]) - 1)/(lam[i])): p-value is smaller than 7.37e-10, cannot be computed more accuratelyWarning message:\n",
      "In cvm.test((data^(lam[i]) - 1)/(lam[i])): p-value is smaller than 7.37e-10, cannot be computed more accuratelyWarning message:\n",
      "In cvm.test((data^(lam[i]) - 1)/(lam[i])): p-value is smaller than 7.37e-10, cannot be computed more accuratelyWarning message:\n",
      "In cvm.test((data^(lam[i]) - 1)/(lam[i])): p-value is smaller than 7.37e-10, cannot be computed more accuratelyWarning message:\n",
      "In cvm.test((data^(lam[i]) - 1)/(lam[i])): p-value is smaller than 7.37e-10, cannot be computed more accuratelyWarning message:\n",
      "In cvm.test((data^(lam[i]) - 1)/(lam[i])): p-value is smaller than 7.37e-10, cannot be computed more accuratelyWarning message:\n",
      "In cvm.test((data^(lam[i]) - 1)/(lam[i])): p-value is smaller than 7.37e-10, cannot be computed more accuratelyWarning message:\n",
      "In cvm.test((data^(lam[i]) - 1)/(lam[i])): p-value is smaller than 7.37e-10, cannot be computed more accuratelyWarning message:\n",
      "In cvm.test((data^(lam[i]) - 1)/(lam[i])): p-value is smaller than 7.37e-10, cannot be computed more accuratelyWarning message:\n",
      "In cvm.test((data^(lam[i]) - 1)/(lam[i])): p-value is smaller than 7.37e-10, cannot be computed more accuratelyWarning message:\n",
      "In cvm.test((data^(lam[i]) - 1)/(lam[i])): p-value is smaller than 7.37e-10, cannot be computed more accuratelyWarning message:\n",
      "In cvm.test((data^(lam[i]) - 1)/(lam[i])): p-value is smaller than 7.37e-10, cannot be computed more accuratelyWarning message:\n",
      "In cvm.test((data^(lam[i]) - 1)/(lam[i])): p-value is smaller than 7.37e-10, cannot be computed more accuratelyWarning message:\n",
      "In cvm.test((data^(lam[i]) - 1)/(lam[i])): p-value is smaller than 7.37e-10, cannot be computed more accuratelyWarning message:\n",
      "In cvm.test((data^(lam[i]) - 1)/(lam[i])): p-value is smaller than 7.37e-10, cannot be computed more accuratelyWarning message:\n",
      "In cvm.test((data^(lam[i]) - 1)/(lam[i])): p-value is smaller than 7.37e-10, cannot be computed more accuratelyWarning message:\n",
      "In cvm.test((data^(lam[i]) - 1)/(lam[i])): p-value is smaller than 7.37e-10, cannot be computed more accuratelyWarning message:\n",
      "In cvm.test((data^(lam[i]) - 1)/(lam[i])): p-value is smaller than 7.37e-10, cannot be computed more accuratelyWarning message:\n",
      "In cvm.test((data^(lam[i]) - 1)/(lam[i])): p-value is smaller than 7.37e-10, cannot be computed more accuratelyWarning message:\n",
      "In cvm.test((data^(lam[i]) - 1)/(lam[i])): p-value is smaller than 7.37e-10, cannot be computed more accuratelyWarning message:\n",
      "In cvm.test((data^(lam[i]) - 1)/(lam[i])): p-value is smaller than 7.37e-10, cannot be computed more accuratelyWarning message:\n",
      "In cvm.test((data^(lam[i]) - 1)/(lam[i])): p-value is smaller than 7.37e-10, cannot be computed more accuratelyWarning message:\n",
      "In cvm.test((data^(lam[i]) - 1)/(lam[i])): p-value is smaller than 7.37e-10, cannot be computed more accuratelyWarning message:\n",
      "In cvm.test((data^(lam[i]) - 1)/(lam[i])): p-value is smaller than 7.37e-10, cannot be computed more accuratelyWarning message:\n",
      "In cvm.test((data^(lam[i]) - 1)/(lam[i])): p-value is smaller than 7.37e-10, cannot be computed more accuratelyWarning message:\n",
      "In cvm.test((data^(lam[i]) - 1)/(lam[i])): p-value is smaller than 7.37e-10, cannot be computed more accuratelyWarning message:\n",
      "In cvm.test((data^(lam[i]) - 1)/(lam[i])): p-value is smaller than 7.37e-10, cannot be computed more accuratelyWarning message:\n",
      "In cvm.test((data^(lam[i]) - 1)/(lam[i])): p-value is smaller than 7.37e-10, cannot be computed more accuratelyWarning message:\n",
      "In cvm.test((data^(lam[i]) - 1)/(lam[i])): p-value is smaller than 7.37e-10, cannot be computed more accuratelyWarning message:\n",
      "In cvm.test((data^(lam[i]) - 1)/(lam[i])): p-value is smaller than 7.37e-10, cannot be computed more accuratelyWarning message:\n",
      "In cvm.test((data^(lam[i]) - 1)/(lam[i])): p-value is smaller than 7.37e-10, cannot be computed more accuratelyWarning message:\n",
      "In cvm.test((data^(lam[i]) - 1)/(lam[i])): p-value is smaller than 7.37e-10, cannot be computed more accuratelyWarning message:\n",
      "In cvm.test((data^(lam[i]) - 1)/(lam[i])): p-value is smaller than 7.37e-10, cannot be computed more accuratelyWarning message:\n",
      "In cvm.test((data^(lam[i]) - 1)/(lam[i])): p-value is smaller than 7.37e-10, cannot be computed more accuratelyWarning message:\n",
      "In cvm.test((data^(lam[i]) - 1)/(lam[i])): p-value is smaller than 7.37e-10, cannot be computed more accuratelyWarning message:\n",
      "In cvm.test((data^(lam[i]) - 1)/(lam[i])): p-value is smaller than 7.37e-10, cannot be computed more accuratelyWarning message:\n",
      "In cvm.test((data^(lam[i]) - 1)/(lam[i])): p-value is smaller than 7.37e-10, cannot be computed more accuratelyWarning message:\n",
      "In cvm.test((data^(lam[i]) - 1)/(lam[i])): p-value is smaller than 7.37e-10, cannot be computed more accuratelyWarning message:\n",
      "In cvm.test((data^(lam[i]) - 1)/(lam[i])): p-value is smaller than 7.37e-10, cannot be computed more accuratelyWarning message:\n",
      "In cvm.test((data^(lam[i]) - 1)/(lam[i])): p-value is smaller than 7.37e-10, cannot be computed more accuratelyWarning message:\n",
      "In cvm.test((data^(lam[i]) - 1)/(lam[i])): p-value is smaller than 7.37e-10, cannot be computed more accuratelyWarning message:\n",
      "In cvm.test((data^(lam[i]) - 1)/(lam[i])): p-value is smaller than 7.37e-10, cannot be computed more accuratelyWarning message:\n",
      "In cvm.test((data^(lam[i]) - 1)/(lam[i])): p-value is smaller than 7.37e-10, cannot be computed more accuratelyWarning message:\n",
      "In cvm.test((data^(lam[i]) - 1)/(lam[i])): p-value is smaller than 7.37e-10, cannot be computed more accuratelyWarning message:\n",
      "In cvm.test((data^(lam[i]) - 1)/(lam[i])): p-value is smaller than 7.37e-10, cannot be computed more accuratelyWarning message:\n",
      "In cvm.test((data^(lam[i]) - 1)/(lam[i])): p-value is smaller than 7.37e-10, cannot be computed more accuratelyWarning message:\n",
      "In cvm.test((data^(lam[i]) - 1)/(lam[i])): p-value is smaller than 7.37e-10, cannot be computed more accuratelyWarning message:\n",
      "In cvm.test((data^(lam[i]) - 1)/(lam[i])): p-value is smaller than 7.37e-10, cannot be computed more accuratelyWarning message:\n",
      "In cvm.test((data^(lam[i]) - 1)/(lam[i])): p-value is smaller than 7.37e-10, cannot be computed more accuratelyWarning message:\n",
      "In cvm.test((data^(lam[i]) - 1)/(lam[i])): p-value is smaller than 7.37e-10, cannot be computed more accuratelyWarning message:\n",
      "In cvm.test((data^(lam[i]) - 1)/(lam[i])): p-value is smaller than 7.37e-10, cannot be computed more accuratelyWarning message:\n",
      "In cvm.test((data^(lam[i]) - 1)/(lam[i])): p-value is smaller than 7.37e-10, cannot be computed more accuratelyWarning message:\n",
      "In cvm.test((data^(lam[i]) - 1)/(lam[i])): p-value is smaller than 7.37e-10, cannot be computed more accuratelyWarning message:\n",
      "In cvm.test((data^(lam[i]) - 1)/(lam[i])): p-value is smaller than 7.37e-10, cannot be computed more accuratelyWarning message:\n",
      "In cvm.test((data^(lam[i]) - 1)/(lam[i])): p-value is smaller than 7.37e-10, cannot be computed more accuratelyWarning message:\n",
      "In cvm.test((data^(lam[i]) - 1)/(lam[i])): p-value is smaller than 7.37e-10, cannot be computed more accuratelyWarning message:\n",
      "In cvm.test((data^(lam[i]) - 1)/(lam[i])): p-value is smaller than 7.37e-10, cannot be computed more accuratelyWarning message:\n",
      "In cvm.test((data^(lam[i]) - 1)/(lam[i])): p-value is smaller than 7.37e-10, cannot be computed more accuratelyWarning message:\n",
      "In cvm.test((data^(lam[i]) - 1)/(lam[i])): p-value is smaller than 7.37e-10, cannot be computed more accuratelyWarning message:\n",
      "In cvm.test((data^(lam[i]) - 1)/(lam[i])): p-value is smaller than 7.37e-10, cannot be computed more accuratelyWarning message:\n",
      "In cvm.test((data^(lam[i]) - 1)/(lam[i])): p-value is smaller than 7.37e-10, cannot be computed more accuratelyWarning message:\n",
      "In cvm.test((data^(lam[i]) - 1)/(lam[i])): p-value is smaller than 7.37e-10, cannot be computed more accuratelyWarning message:\n",
      "In cvm.test((data^(lam[i]) - 1)/(lam[i])): p-value is smaller than 7.37e-10, cannot be computed more accuratelyWarning message:\n",
      "In cvm.test((data^(lam[i]) - 1)/(lam[i])): p-value is smaller than 7.37e-10, cannot be computed more accuratelyWarning message:\n",
      "In cvm.test((data^(lam[i]) - 1)/(lam[i])): p-value is smaller than 7.37e-10, cannot be computed more accuratelyWarning message:\n",
      "In cvm.test((data^(lam[i]) - 1)/(lam[i])): p-value is smaller than 7.37e-10, cannot be computed more accuratelyWarning message:\n",
      "In cvm.test((data^(lam[i]) - 1)/(lam[i])): p-value is smaller than 7.37e-10, cannot be computed more accuratelyWarning message:\n",
      "In cvm.test((data^(lam[i]) - 1)/(lam[i])): p-value is smaller than 7.37e-10, cannot be computed more accuratelyWarning message:\n",
      "In cvm.test((data^(lam[i]) - 1)/(lam[i])): p-value is smaller than 7.37e-10, cannot be computed more accuratelyWarning message:\n",
      "In cvm.test((data^(lam[i]) - 1)/(lam[i])): p-value is smaller than 7.37e-10, cannot be computed more accuratelyWarning message:\n",
      "In cvm.test((data^(lam[i]) - 1)/(lam[i])): p-value is smaller than 7.37e-10, cannot be computed more accuratelyWarning message:\n",
      "In cvm.test((data^(lam[i]) - 1)/(lam[i])): p-value is smaller than 7.37e-10, cannot be computed more accuratelyWarning message:\n",
      "In cvm.test((data^(lam[i]) - 1)/(lam[i])): p-value is smaller than 7.37e-10, cannot be computed more accuratelyWarning message:\n",
      "In cvm.test((data^(lam[i]) - 1)/(lam[i])): p-value is smaller than 7.37e-10, cannot be computed more accuratelyWarning message:\n",
      "In cvm.test((data^(lam[i]) - 1)/(lam[i])): p-value is smaller than 7.37e-10, cannot be computed more accuratelyWarning message:\n",
      "In cvm.test((data^(lam[i]) - 1)/(lam[i])): p-value is smaller than 7.37e-10, cannot be computed more accuratelyWarning message:\n",
      "In cvm.test((data^(lam[i]) - 1)/(lam[i])): p-value is smaller than 7.37e-10, cannot be computed more accuratelyWarning message:\n",
      "In cvm.test((data^(lam[i]) - 1)/(lam[i])): p-value is smaller than 7.37e-10, cannot be computed more accuratelyWarning message:\n",
      "In cvm.test((data^(lam[i]) - 1)/(lam[i])): p-value is smaller than 7.37e-10, cannot be computed more accuratelyWarning message:\n",
      "In cvm.test((data^(lam[i]) - 1)/(lam[i])): p-value is smaller than 7.37e-10, cannot be computed more accuratelyWarning message:\n",
      "In cvm.test((data^(lam[i]) - 1)/(lam[i])): p-value is smaller than 7.37e-10, cannot be computed more accurately"
     ]
    },
    {
     "data": {
      "text/html": [
       "<dl>\n",
       "\t<dt>$title</dt>\n",
       "\t\t<dd>\"Implementation of Box-Cox Power Transformation when No Covariate Is Available\"</dd>\n",
       "\t<dt>$method</dt>\n",
       "\t\t<dd>\"All\"</dd>\n",
       "\t<dt>$date</dt>\n",
       "\t\t<dd>\"Sun Nov 20 22:20:16 2016\"</dd>\n",
       "\t<dt>$result</dt>\n",
       "\t\t<dd><table>\n",
       "<thead><tr><th></th><th scope=col>sw</th><th scope=col>ad</th><th scope=col>cvm</th><th scope=col>pt</th><th scope=col>sf</th><th scope=col>lt</th><th scope=col>jb</th><th scope=col>ac</th></tr></thead>\n",
       "<tbody>\n",
       "\t<tr><th scope=row>lambda.hat</th><td>0.35</td><td>0.42</td><td>0.41</td><td>0.59</td><td>0.35</td><td>0.24</td><td>0.30</td><td>0.37</td></tr>\n",
       "\t<tr><th scope=row>sw.pvalue</th><td>4.656839e-51</td><td>1.566036e-51</td><td>2.090456e-51</td><td>8.128329e-56</td><td>4.656839e-51</td><td>2.517955e-52</td><td>2.483981e-51</td><td>4.286149e-51</td></tr>\n",
       "\t<tr><th scope=row>sf.pvalue</th><td>6.014666e-49</td><td>2.144594e-49</td><td>2.817964e-49</td><td>1.923848e-53</td><td>6.014666e-49</td><td>3.835343e-50</td><td>3.326742e-49</td><td>5.558264e-49</td></tr>\n",
       "\t<tr><th scope=row>jb.pvalue</th><td>0</td><td>0</td><td>0</td><td>0</td><td>0</td><td>0</td><td>0</td><td>0</td></tr>\n",
       "</tbody>\n",
       "</table>\n",
       "</dd>\n",
       "</dl>\n"
      ],
      "text/latex": [
       "\\begin{description}\n",
       "\\item[\\$title] \"Implementation of Box-Cox Power Transformation when No Covariate Is Available\"\n",
       "\\item[\\$method] \"All\"\n",
       "\\item[\\$date] \"Sun Nov 20 22:20:16 2016\"\n",
       "\\item[\\$result] \\begin{tabular}{r|llllllll}\n",
       "  & sw & ad & cvm & pt & sf & lt & jb & ac\\\\\n",
       "\\hline\n",
       "\tlambda.hat & 0.35 & 0.42 & 0.41 & 0.59 & 0.35 & 0.24 & 0.30 & 0.37\\\\\n",
       "\tsw.pvalue & 4.656839e-51 & 1.566036e-51 & 2.090456e-51 & 8.128329e-56 & 4.656839e-51 & 2.517955e-52 & 2.483981e-51 & 4.286149e-51\\\\\n",
       "\tsf.pvalue & 6.014666e-49 & 2.144594e-49 & 2.817964e-49 & 1.923848e-53 & 6.014666e-49 & 3.835343e-50 & 3.326742e-49 & 5.558264e-49\\\\\n",
       "\tjb.pvalue & 0 & 0 & 0 & 0 & 0 & 0 & 0 & 0\\\\\n",
       "\\end{tabular}\n",
       "\n",
       "\\end{description}\n"
      ],
      "text/markdown": [
       "$title\n",
       ":   \"Implementation of Box-Cox Power Transformation when No Covariate Is Available\"\n",
       "$method\n",
       ":   \"All\"\n",
       "$date\n",
       ":   \"Sun Nov 20 22:20:16 2016\"\n",
       "$result\n",
       ":   1. 0.35\n",
       "2. 4.65683870560769e-51\n",
       "3. 6.0146664363698e-49\n",
       "4. 0\n",
       "5. 0.42\n",
       "6. 1.56603600836448e-51\n",
       "7. 2.14459375497494e-49\n",
       "8. 0\n",
       "9. 0.41\n",
       "10. 2.09045587895821e-51\n",
       "11. 2.81796395398023e-49\n",
       "12. 0\n",
       "13. 0.59\n",
       "14. 8.12832884320524e-56\n",
       "15. 1.92384808234359e-53\n",
       "16. 0\n",
       "17. 0.35\n",
       "18. 4.65683870560769e-51\n",
       "19. 6.0146664363698e-49\n",
       "20. 0\n",
       "21. 0.24\n",
       "22. 2.51795498877736e-52\n",
       "23. 3.83534308364016e-50\n",
       "24. 0\n",
       "25. 0.3\n",
       "26. 2.48398142888565e-51\n",
       "27. 3.32674151363597e-49\n",
       "28. 0\n",
       "29. 0.37\n",
       "30. 4.28614882134839e-51\n",
       "31. 5.55826382205559e-49\n",
       "32. 0\n",
       "\n",
       "\n",
       "\n",
       "\n",
       "\n"
      ],
      "text/plain": [
       "$title\n",
       "[1] \"Implementation of Box-Cox Power Transformation when No Covariate Is Available\"\n",
       "\n",
       "$method\n",
       "[1] \"All\"\n",
       "\n",
       "$date\n",
       "[1] \"Sun Nov 20 22:20:16 2016\"\n",
       "\n",
       "$result\n",
       "                     sw           ad          cvm           pt           sf\n",
       "lambda.hat 3.500000e-01 4.200000e-01 4.100000e-01 5.900000e-01 3.500000e-01\n",
       "sw.pvalue  4.656839e-51 1.566036e-51 2.090456e-51 8.128329e-56 4.656839e-51\n",
       "sf.pvalue  6.014666e-49 2.144594e-49 2.817964e-49 1.923848e-53 6.014666e-49\n",
       "jb.pvalue  0.000000e+00 0.000000e+00 0.000000e+00 0.000000e+00 0.000000e+00\n",
       "                     lt           jb           ac\n",
       "lambda.hat 2.400000e-01 3.000000e-01 3.700000e-01\n",
       "sw.pvalue  2.517955e-52 2.483981e-51 4.286149e-51\n",
       "sf.pvalue  3.835343e-50 3.326742e-49 5.558264e-49\n",
       "jb.pvalue  0.000000e+00 0.000000e+00 0.000000e+00\n"
      ]
     },
     "metadata": {},
     "output_type": "display_data"
    },
    {
     "data": {
      "image/png": "[encoded data removed]",
      "text/plain": [
       "Plot with title \"Artificial Covariate\""
      ]
     },
     "metadata": {
      "image/svg+xml": {
       "isolated": true
      }
     },
     "output_type": "display_data"
    }
   ],
   "source": [
    "library(AID)\n",
    "boxcoxnc(data = x[1:5000],lam = seq(-2,2,0.01),plotit = TRUE)"
   ]
  },
  {
   "cell_type": "code",
   "execution_count": 66,
   "metadata": {
    "collapsed": false
   },
   "outputs": [],
   "source": [
    "precios_box_cox<-aplicar_transformacion(serie = x,tipo = 6)"
   ]
  },
  {
   "cell_type": "code",
   "execution_count": 67,
   "metadata": {
    "collapsed": false
   },
   "outputs": [
    {
     "data": {
      "image/png": "[encoded data removed]",
      "text/plain": [
       "Plot with title \"Histograma\""
      ]
     },
     "metadata": {
      "image/svg+xml": {
       "isolated": true
      }
     },
     "output_type": "display_data"
    }
   ],
   "source": [
    "imprimir_histograma(serie = precios_box_cox)"
   ]
  },
  {
   "cell_type": "code",
   "execution_count": 68,
   "metadata": {
    "collapsed": false
   },
   "outputs": [
    {
     "data": {
      "text/html": [
       "<dl class=dl-horizontal>\n",
       "\t<dt>media</dt>\n",
       "\t\t<dd>4.56229</dd>\n",
       "\t<dt>varianza</dt>\n",
       "\t\t<dd>1.254825</dd>\n",
       "\t<dt>asimetria</dt>\n",
       "\t\t<dd>1.017526</dd>\n",
       "\t<dt>curtosis</dt>\n",
       "\t\t<dd>4.153011</dd>\n",
       "\t<dt>minimo</dt>\n",
       "\t\t<dd>1.186658</dd>\n",
       "\t<dt>maximo</dt>\n",
       "\t\t<dd>11.616781</dd>\n",
       "\t<dt>total_datos</dt>\n",
       "\t\t<dd>7622</dd>\n",
       "</dl>\n"
      ],
      "text/latex": [
       "\\begin{description*}\n",
       "\\item[media] 4.56229\n",
       "\\item[varianza] 1.254825\n",
       "\\item[asimetria] 1.017526\n",
       "\\item[curtosis] 4.153011\n",
       "\\item[minimo] 1.186658\n",
       "\\item[maximo] 11.616781\n",
       "\\item[total\\textbackslash{}\\_datos] 7622\n",
       "\\end{description*}\n"
      ],
      "text/markdown": [
       "media\n",
       ":   4.56229varianza\n",
       ":   1.254825asimetria\n",
       ":   1.017526curtosis\n",
       ":   4.153011minimo\n",
       ":   1.186658maximo\n",
       ":   11.616781total_datos\n",
       ":   7622\n",
       "\n"
      ],
      "text/plain": [
       "      media    varianza   asimetria    curtosis      minimo      maximo \n",
       "   4.562290    1.254825    1.017526    4.153011    1.186658   11.616781 \n",
       "total_datos \n",
       "7622.000000 "
      ]
     },
     "metadata": {},
     "output_type": "display_data"
    }
   ],
   "source": [
    "estadisticos_basicos(precios_box_cox)"
   ]
  },
  {
   "cell_type": "code",
   "execution_count": 69,
   "metadata": {
    "collapsed": false
   },
   "outputs": [
    {
     "data": {
      "image/png": "[encoded data removed]",
      "text/plain": [
       "Plot with title \"Gráfico Q-Q\""
      ]
     },
     "metadata": {
      "image/svg+xml": {
       "isolated": true
      }
     },
     "output_type": "display_data"
    }
   ],
   "source": [
    "grafico_qqplot(precios_box_cox)"
   ]
  },
  {
   "cell_type": "code",
   "execution_count": 71,
   "metadata": {
    "collapsed": false
   },
   "outputs": [
    {
     "data": {
      "image/png": "[encoded data removed]",
      "text/plain": [
       "Plot with title \" \""
      ]
     },
     "metadata": {
      "image/svg+xml": {
       "isolated": true
      }
     },
     "output_type": "display_data"
    },
    {
     "data": {
      "image/png": "[encoded data removed]",
      "text/plain": [
       "Plot with title \" \""
      ]
     },
     "metadata": {
      "image/svg+xml": {
       "isolated": true
      }
     },
     "output_type": "display_data"
    }
   ],
   "source": [
    "graficos_ACF(precios_box_cox,retardos = 20)"
   ]
  },
  {
   "cell_type": "code",
   "execution_count": null,
   "metadata": {
    "collapsed": false
   },
   "outputs": [],
   "source": []
  },
  {
   "cell_type": "code",
   "execution_count": null,
   "metadata": {
    "collapsed": true
   },
   "outputs": [],
   "source": []
  }
 ],
 "metadata": {
  "anaconda-cloud": {},
  "kernelspec": {
   "display_name": "R",
   "language": "R",
   "name": "ir"
  },
  "language_info": {
   "codemirror_mode": "r",
   "file_extension": ".r",
   "mimetype": "text/x-r-source",
   "name": "R",
   "pygments_lexer": "r",
   "version": "3.3.1"
  }
 },
 "nbformat": 4,
 "nbformat_minor": 0
}
