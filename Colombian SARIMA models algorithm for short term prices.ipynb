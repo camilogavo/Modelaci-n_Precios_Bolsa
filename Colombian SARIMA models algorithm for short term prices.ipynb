{
 "cells": [
  {
   "cell_type": "code",
   "execution_count": 17,
   "metadata": {
    "collapsed": false
   },
   "outputs": [],
   "source": [
    "library(forecast)"
   ]
  },
  {
   "cell_type": "markdown",
   "metadata": {},
   "source": [
    "Carga los datos"
   ]
  },
  {
   "cell_type": "code",
   "execution_count": 18,
   "metadata": {
    "collapsed": false
   },
   "outputs": [],
   "source": [
    "datos<-read.table(\"Precios_1995.csv\",sep=\",\",header = TRUE,stringsAsFactors=FALSE) #cargo la serie de datos\n",
    "\n",
    "current_price<-datos$Promedio_Aritmetico_...kWh._Corriente \n",
    "current_price<-ts(current_price,frequency = 7,start=c(1,4)) #construyo la serie corriente // start=c(num_semana,num_dia)\n",
    "\n",
    "\n",
    "constant_price<-datos$X..KWh_Const_Dic_2008\n",
    "constant_price<-ts(constant_price,frequency = 7,start=c(1,4)) #construyo la serie constante // start=c(num_semana,num_dia)\n"
   ]
  },
  {
   "cell_type": "markdown",
   "metadata": {},
   "source": [
    "Construyo un vector con las fechas de los precios"
   ]
  },
  {
   "cell_type": "code",
   "execution_count": 19,
   "metadata": {
    "collapsed": false
   },
   "outputs": [],
   "source": [
    "b<-strsplit(datos$Fecha,split = \"/\")"
   ]
  },
  {
   "cell_type": "code",
   "execution_count": 20,
   "metadata": {
    "collapsed": false
   },
   "outputs": [],
   "source": [
    "date<-c()#construyo un vector para almacenar las fechas\n",
    "for(i in seq(1:length(datos$Fecha))){\n",
    "    \n",
    "    date<-c(date,paste(b[[i]][3],b[[i]][2],b[[i]][1],sep = \"-\")) #Lleno elvector en el orden YYYY-mm-dd\n",
    "\n",
    "}\n",
    "datos<-cbind(date,datos) #Uno el resultado a mi dataframe de datos"
   ]
  },
  {
   "cell_type": "markdown",
   "metadata": {},
   "source": [
    "Identifico el total de semanas existentes en la serie para comenzar a definir las ventanas de ajuste y pronostico"
   ]
  },
  {
   "cell_type": "code",
   "execution_count": 23,
   "metadata": {
    "collapsed": false
   },
   "outputs": [],
   "source": [
    "last_year<-as.Date(datos$date[7622])  #Doy formato de fecha al ultimo dato\n",
    "last_year<-as.numeric(format(last_year,\"%Y\")) #extraer el año del ultimo dato\n",
    "\n",
    "leap_years<-length(seq(from = 1996,to = last_year,by = 4)) #Total dias bisiestos de la serie\n",
    "\n",
    "total_weeks<-round(length(constant_price+leap_years)/7,digits = 0)+1 #Totalde semanas, sabiendo que la serie empieza un miercoles"
   ]
  },
  {
   "cell_type": "markdown",
   "metadata": {},
   "source": [
    "Selecciono la primera ventana de ajuste y su tamaño, asimismo selecciono la ventana de pronostico\n"
   ]
  },
  {
   "cell_type": "code",
   "execution_count": 232,
   "metadata": {
    "collapsed": false,
    "scrolled": false
   },
   "outputs": [],
   "source": [
    "from<-4\n",
    "to<-52\n",
    "all_models<-c()\n",
    "print_res<-c()\n",
    "Samples<-seq(from = total_weeks-1,to = 1,by = -52)\n",
    "Semanas_for<-from:to\n",
    "parametros_modelos<-list()\n",
    "all_results<-c()\n",
    "best_for<-10000000000000\n",
    "week_best_for<-c()\n",
    "for(i in seq(from =  1088,to = 1089)){\n",
    "#for(semana in Semanas_for){\n",
    "    #for (i in Samples){\n",
    "        #if(i<to){ break}\n",
    "    #for(i in seq(from =  1089,to = 1089)){\n",
    "    for(semana in Semanas_for){\n",
    "        \n",
    "        y.fit<-window(constant_price,start=c(i-semana),end=c(i))\n",
    "        y.for<-window(constant_price,start=c(i),end=c(i+1))\n",
    "        \n",
    "        \n",
    "        \n",
    "        modelo<-auto.arima(y.fit,stepwise = FALSE,approximation = FALSE)\n",
    "        resultados<-c(accuracy(forecast(modelo,h = 8),y.for)[,2][\"Test set\"],training=semana)\n",
    "        all_results<-c(all_results,resultados[[1]])\n",
    "        all_models<-append(all_models,list(arimaorder(modelo)))\n",
    "        \n",
    "        if(resultados[[1]]<best_for){\n",
    "            best_for<-resultados[[1]]\n",
    "            week_best_for<-resultados[[2]]\n",
    "        }\n",
    "        \n",
    "        #print(c(paste(\"para la semana \", i),paste(\"la mejor muestra es con la semana\",week_best_for),best_for,arimaorder(modelo)))\n",
    "    }\n",
    "    print_res<-append(print_res,c(paste(\"para la semana \", i),paste(\"la mejor muestra es con la semana\",week_best_for),\n",
    "                best_for,arimaorder(modelo)))\n",
    "    \n",
    "}\n"
   ]
  },
  {
   "cell_type": "code",
   "execution_count": 233,
   "metadata": {
    "collapsed": false
   },
   "outputs": [
    {
     "data": {
      "text/html": [
       "<ol class=list-inline>\n",
       "\t<li>\"para la semana  1088\"</li>\n",
       "\t<li>\"la mejor muestra es con la semana 13\"</li>\n",
       "\t<li>\"8.28374975136405\"</li>\n",
       "\t<li>\"2\"</li>\n",
       "\t<li>\"1\"</li>\n",
       "\t<li>\"0\"</li>\n",
       "\t<li>\"para la semana  1089\"</li>\n",
       "\t<li>\"la mejor muestra es con la semana 14\"</li>\n",
       "\t<li>\"6.7338774665198\"</li>\n",
       "\t<li>\"2\"</li>\n",
       "\t<li>\"1\"</li>\n",
       "\t<li>\"0\"</li>\n",
       "\t<li>\"1\"</li>\n",
       "\t<li>\"0\"</li>\n",
       "\t<li>\"0\"</li>\n",
       "\t<li>\"7\"</li>\n",
       "</ol>\n"
      ],
      "text/latex": [
       "\\begin{enumerate*}\n",
       "\\item \"para la semana  1088\"\n",
       "\\item \"la mejor muestra es con la semana 13\"\n",
       "\\item \"8.28374975136405\"\n",
       "\\item \"2\"\n",
       "\\item \"1\"\n",
       "\\item \"0\"\n",
       "\\item \"para la semana  1089\"\n",
       "\\item \"la mejor muestra es con la semana 14\"\n",
       "\\item \"6.7338774665198\"\n",
       "\\item \"2\"\n",
       "\\item \"1\"\n",
       "\\item \"0\"\n",
       "\\item \"1\"\n",
       "\\item \"0\"\n",
       "\\item \"0\"\n",
       "\\item \"7\"\n",
       "\\end{enumerate*}\n"
      ],
      "text/markdown": [
       "1. \"para la semana  1088\"\n",
       "2. \"la mejor muestra es con la semana 13\"\n",
       "3. \"8.28374975136405\"\n",
       "4. \"2\"\n",
       "5. \"1\"\n",
       "6. \"0\"\n",
       "7. \"para la semana  1089\"\n",
       "8. \"la mejor muestra es con la semana 14\"\n",
       "9. \"6.7338774665198\"\n",
       "10. \"2\"\n",
       "11. \"1\"\n",
       "12. \"0\"\n",
       "13. \"1\"\n",
       "14. \"0\"\n",
       "15. \"0\"\n",
       "16. \"7\"\n",
       "\n",
       "\n"
      ],
      "text/plain": [
       " [1] \"para la semana  1088\"                \n",
       " [2] \"la mejor muestra es con la semana 13\"\n",
       " [3] \"8.28374975136405\"                    \n",
       " [4] \"2\"                                   \n",
       " [5] \"1\"                                   \n",
       " [6] \"0\"                                   \n",
       " [7] \"para la semana  1089\"                \n",
       " [8] \"la mejor muestra es con la semana 14\"\n",
       " [9] \"6.7338774665198\"                     \n",
       "[10] \"2\"                                   \n",
       "[11] \"1\"                                   \n",
       "[12] \"0\"                                   \n",
       "[13] \"1\"                                   \n",
       "[14] \"0\"                                   \n",
       "[15] \"0\"                                   \n",
       "[16] \"7\"                                   "
      ]
     },
     "metadata": {},
     "output_type": "display_data"
    }
   ],
   "source": [
    "print_res"
   ]
  },
  {
   "cell_type": "code",
   "execution_count": 214,
   "metadata": {
    "collapsed": false
   },
   "outputs": [
    {
     "name": "stdout",
     "output_type": "stream",
     "text": [
      "[1] 1\n",
      "[1] 1 1\n"
     ]
    },
    {
     "data": {
      "image/png": "[encoded data removed]",
      "text/plain": [
       "plot without title"
      ]
     },
     "metadata": {
      "image/svg+xml": {
       "isolated": true
      }
     },
     "output_type": "display_data"
    }
   ],
   "source": [
    "plot(x=0,y=0,type=\"l\",ylim=c(0,max(constant_price)),xlim=c(0,total_weeks),ylab=\"$/kWh\")\n",
    "color<-c(\"red\",\"blue\",\"green\",\"brown\")\n",
    "\n",
    "Samples<-seq(from = total_weeks-1,to = 1,by = -52)\n",
    "\n",
    "print(1)\n",
    "print(c(1,))"
   ]
  },
  {
   "cell_type": "code",
   "execution_count": 117,
   "metadata": {
    "collapsed": false,
    "scrolled": true
   },
   "outputs": [
    {
     "data": {
      "text/html": [
       "<strong>Test set:</strong> 6.7338774665198"
      ],
      "text/latex": [
       "\\textbf{Test set:} 6.7338774665198"
      ],
      "text/markdown": [
       "**Test set:** 6.7338774665198"
      ],
      "text/plain": [
       "Test set \n",
       "6.733877 "
      ]
     },
     "metadata": {},
     "output_type": "display_data"
    },
    {
     "data": {
      "text/html": [
       "13"
      ],
      "text/latex": [
       "13"
      ],
      "text/markdown": [
       "13"
      ],
      "text/plain": [
       "[1] 13"
      ]
     },
     "metadata": {},
     "output_type": "display_data"
    }
   ],
   "source": [
    "best_for\n",
    "week\n",
    "\n",
    "res<-c(as.numeric(best_for),week)"
   ]
  },
  {
   "cell_type": "code",
   "execution_count": 149,
   "metadata": {
    "collapsed": false
   },
   "outputs": [
    {
     "data": {
      "text/html": [
       "<ol>\n",
       "\t<li><ol class=list-inline>\n",
       "\t<li>0</li>\n",
       "\t<li>1</li>\n",
       "\t<li>0</li>\n",
       "\t<li>0</li>\n",
       "\t<li>0</li>\n",
       "\t<li>1</li>\n",
       "\t<li>7</li>\n",
       "</ol>\n",
       "</li>\n",
       "\t<li><ol class=list-inline>\n",
       "\t<li>0</li>\n",
       "\t<li>1</li>\n",
       "\t<li>0</li>\n",
       "\t<li>0</li>\n",
       "\t<li>0</li>\n",
       "\t<li>1</li>\n",
       "\t<li>7</li>\n",
       "</ol>\n",
       "</li>\n",
       "</ol>\n"
      ],
      "text/latex": [
       "\\begin{enumerate}\n",
       "\\item \\begin{enumerate*}\n",
       "\\item 0\n",
       "\\item 1\n",
       "\\item 0\n",
       "\\item 0\n",
       "\\item 0\n",
       "\\item 1\n",
       "\\item 7\n",
       "\\end{enumerate*}\n",
       "\n",
       "\\item \\begin{enumerate*}\n",
       "\\item 0\n",
       "\\item 1\n",
       "\\item 0\n",
       "\\item 0\n",
       "\\item 0\n",
       "\\item 1\n",
       "\\item 7\n",
       "\\end{enumerate*}\n",
       "\n",
       "\\end{enumerate}\n"
      ],
      "text/markdown": [
       "1. 1. 0\n",
       "2. 1\n",
       "3. 0\n",
       "4. 0\n",
       "5. 0\n",
       "6. 1\n",
       "7. 7\n",
       "\n",
       "\n",
       "\n",
       "2. 1. 0\n",
       "2. 1\n",
       "3. 0\n",
       "4. 0\n",
       "5. 0\n",
       "6. 1\n",
       "7. 7\n",
       "\n",
       "\n",
       "\n",
       "\n",
       "\n"
      ],
      "text/plain": [
       "[[1]]\n",
       "[1] 0 1 0 0 0 1 7\n",
       "\n",
       "[[2]]\n",
       "[1] 0 1 0 0 0 1 7\n"
      ]
     },
     "metadata": {},
     "output_type": "display_data"
    }
   ],
   "source": [
    "a<-c()\n",
    "#a<-list(a,(arimaorder(modelo)))\n",
    "a<-append(a,list(arimaorder(modelo)))\n",
    "a<-append(a,list(arimaorder(modelo)))\n",
    "a"
   ]
  },
  {
   "cell_type": "code",
   "execution_count": 174,
   "metadata": {
    "collapsed": false
   },
   "outputs": [
    {
     "data": {
      "text/html": [
       "<ol class=list-inline>\n",
       "\t<li>1090</li>\n",
       "\t<li>1039</li>\n",
       "\t<li>988</li>\n",
       "\t<li>937</li>\n",
       "\t<li>886</li>\n",
       "\t<li>835</li>\n",
       "</ol>\n"
      ],
      "text/latex": [
       "\\begin{enumerate*}\n",
       "\\item 1090\n",
       "\\item 1039\n",
       "\\item 988\n",
       "\\item 937\n",
       "\\item 886\n",
       "\\item 835\n",
       "\\end{enumerate*}\n"
      ],
      "text/markdown": [
       "1. 1090\n",
       "2. 1039\n",
       "3. 988\n",
       "4. 937\n",
       "5. 886\n",
       "6. 835\n",
       "\n",
       "\n"
      ],
      "text/plain": [
       "[1] 1090 1039  988  937  886  835"
      ]
     },
     "metadata": {},
     "output_type": "display_data"
    },
    {
     "data": {
      "text/html": [
       "1090"
      ],
      "text/latex": [
       "1090"
      ],
      "text/markdown": [
       "1090"
      ],
      "text/plain": [
       "[1] 1090"
      ]
     },
     "metadata": {},
     "output_type": "display_data"
    }
   ],
   "source": [
    "head(seq(from = total_weeks, to =1,by=-51))\n",
    "total_weeks"
   ]
  },
  {
   "cell_type": "raw",
   "metadata": {},
   "source": [
    "y.fit<-window(constant_price,start=c(1089-14),end=c(1089))\n",
    "y.for<-window(constant_price,start=c(1089),end=c(1089+1))\n",
    "modelo<-auto.arima(y.fit,stepwise = FALSE,approximation = FALSE)\n",
    "arimaorder(modelo)\n",
    "accuracy(forecast(modelo,h=8),y.for)[,2][\"Test set\"]"
   ]
  },
  {
   "cell_type": "markdown",
   "metadata": {},
   "source": [
    "[Cómo funciona auto.arima()](https://www.otexts.org/fpp/8/7)"
   ]
  },
  {
   "cell_type": "code",
   "execution_count": 383,
   "metadata": {
    "collapsed": false
   },
   "outputs": [
    {
     "data": {
      "text/html": [
       "<ol class=list-inline>\n",
       "\t<li>4</li>\n",
       "\t<li>0</li>\n",
       "\t<li>2</li>\n",
       "</ol>\n"
      ],
      "text/latex": [
       "\\begin{enumerate*}\n",
       "\\item 4\n",
       "\\item 0\n",
       "\\item 2\n",
       "\\end{enumerate*}\n"
      ],
      "text/markdown": [
       "1. 4\n",
       "2. 0\n",
       "3. 2\n",
       "\n",
       "\n"
      ],
      "text/plain": [
       "[1] 4 0 2"
      ]
     },
     "metadata": {},
     "output_type": "display_data"
    }
   ],
   "source": [
    "mod1<-auto.arima(y.fit,max.order = 15,stepwise = FALSE,approximation = FALSE,max.d = 2,max.D = 2)\n",
    "arimaorder(mod1)"
   ]
  },
  {
   "cell_type": "code",
   "execution_count": 384,
   "metadata": {
    "collapsed": false
   },
   "outputs": [
    {
     "data": {
      "image/png": "[encoded data removed]",
      "text/plain": [
       "Plot with title \"Forecasts from ARIMA(4,0,2) with non-zero mean\""
      ]
     },
     "metadata": {
      "image/svg+xml": {
       "isolated": true
      }
     },
     "output_type": "display_data"
    }
   ],
   "source": [
    "plot(forecast(mod1,h = 8))\n",
    "lines(y.for,col=\"red\")"
   ]
  },
  {
   "cell_type": "code",
   "execution_count": 385,
   "metadata": {
    "collapsed": false
   },
   "outputs": [
    {
     "data": {
      "text/plain": [
       "         Point Forecast    Lo 80    Hi 80     Lo 95    Hi 95\n",
       "953.0000       148.7461 128.4191 169.0731 117.65862 179.8336\n",
       "953.1429       150.7689 122.6352 178.9027 107.74202 193.7959\n",
       "953.2857       155.4328 121.2297 189.6359 103.12372 207.7420\n",
       "953.4286       157.3739 117.8283 196.9195  96.89410 217.8537\n",
       "953.5714       155.1624 111.6614 198.6634  88.63333 221.6914\n",
       "953.7143       151.9321 106.0755 197.7887  81.80046 222.0637\n",
       "953.8571       151.1489 103.9176 198.3801  78.91495 223.3828\n",
       "954.0000       152.9975 104.7008 201.2943  79.13405 226.8610"
      ]
     },
     "metadata": {},
     "output_type": "display_data"
    },
    {
     "data": {
      "text/plain": [
       "Time Series:\n",
       "Start = c(952, 7) \n",
       "End = c(953, 7) \n",
       "Frequency = 7 \n",
       "[1] 151.992 158.294 155.109 170.688 167.312 163.684 162.235 177.204"
      ]
     },
     "metadata": {},
     "output_type": "display_data"
    }
   ],
   "source": [
    "forecast(mod1,h = 8)\n",
    "y.for"
   ]
  },
  {
   "cell_type": "code",
   "execution_count": null,
   "metadata": {
    "collapsed": true
   },
   "outputs": [],
   "source": []
  }
 ],
 "metadata": {
  "anaconda-cloud": {},
  "kernelspec": {
   "display_name": "R",
   "language": "R",
   "name": "ir"
  },
  "language_info": {
   "codemirror_mode": "r",
   "file_extension": ".r",
   "mimetype": "text/x-r-source",
   "name": "R",
   "pygments_lexer": "r",
   "version": "3.3.1"
  }
 },
 "nbformat": 4,
 "nbformat_minor": 0
}
