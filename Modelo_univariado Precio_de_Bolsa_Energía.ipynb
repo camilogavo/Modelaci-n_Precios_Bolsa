{
 "cells": [
  {
   "cell_type": "markdown",
   "metadata": {},
   "source": [
    "# Funciones de apoyo\n",
    "\n",
    "## Imprimir Histogramas"
   ]
  },
  {
   "cell_type": "code",
   "execution_count": 384,
   "metadata": {
    "collapsed": true
   },
   "outputs": [],
   "source": [
    "options(repr.plot.weight=16,repr.plot.height=8)"
   ]
  },
  {
   "cell_type": "code",
   "execution_count": 385,
   "metadata": {
    "collapsed": true
   },
   "outputs": [],
   "source": [
    "imprimir_histograma<-function(serie=x,leyenda=\"topleft\"){\n",
    "    hist(serie,breaks=100,freq=FALSE,main=\"Histograma\")                                      #imprime el histograma \n",
    "    datos_normales<-rnorm(1000000,mean = mean(serie),sd=sqrt(var(serie)))                    #propone una serie normal\n",
    "    curve(dnorm(x,mean(datos_normales),sd(datos_normales)),col=\"blue\",lty=2,lwd=3,add=TRUE)  #dibuja una campana normal\n",
    "    d<-density(serie)                                                                        #Densidad no parametrica\n",
    "    lines(d,col=\"red\",lwd=2)                                                                 #Dibuja una densidad no parametrica\n",
    "    \n",
    "    legend(leyenda,c(\"Distribución no parametrica\",\"Distribución normal\"),col=c(\"red\",\"blue\"),lwd=c(3,3),bty=\"n\") #Leyenda\n",
    "}"
   ]
  },
  {
   "cell_type": "markdown",
   "metadata": {},
   "source": [
    "## Aplicar transformaciones"
   ]
  },
  {
   "cell_type": "code",
   "execution_count": 386,
   "metadata": {
    "collapsed": true
   },
   "outputs": [],
   "source": [
    "aplicar_transformacion<-function(serie=x,tipo=1,retardo=1){ #la serie por defecto será x,\n",
    "                                                  ##El tipo 1 (por defecto) hará referencia a la diferenciacion de los datos (Cambio Absoluto)\n",
    "                                                  ###El tipo 2 hará referencia a la transformacion Pt/Pt-1 (Rentabilidad bruta simple)\n",
    "                                                  ####El tipo 3 hara referencia a la tranformacion Pt/Pt-1 -1 (Rentabilidad neta simple)\n",
    "                                                  #####El tipo 4 hara referencia la transformacion log(Pt/Pt-1) Rentabilidad logaritmica\n",
    "                                                  ######El tipo 5 hara referencia a la transformacion raiz cuadrada\n",
    "                                                  #######El tipo 6 hara referencia  a la transformacion raiz cubica\n",
    "                                                  ########El tipo 7 hara referenica a la transformacion ln(Pt)\n",
    "    if(tipo==1){\n",
    "        transformada<-diff(serie,retardo)\n",
    "    }\n",
    "    if(tipo==2){\n",
    "        transformada<-c(NaN,serie[2:length(serie)]/serie[1:length(serie)-1])\n",
    "    }\n",
    "    \n",
    "    if(tipo==3){\n",
    "        transformada<-c(NaN,(serie[2:length(serie)]/serie[1:length(serie)-1])-1)\n",
    "    }\n",
    "    \n",
    "    if(tipo==4){\n",
    "        transformada<-c(NaN,log(serie[2:length(serie)]/serie[1:length(serie)-1]))\n",
    "    }\n",
    "    \n",
    "    if(tipo==5){\n",
    "        transformada<-sqrt(serie)\n",
    "    }\n",
    "    \n",
    "    if(tipo==6){\n",
    "        transformada<-(serie)^(1/3)\n",
    "    }\n",
    "    \n",
    "    if(tipo==7){\n",
    "        transformada<-log(serie)\n",
    "    }\n",
    "    return(transformada)\n",
    "}\n",
    "\n"
   ]
  },
  {
   "cell_type": "markdown",
   "metadata": {},
   "source": [
    "## Estadisticos Básicos"
   ]
  },
  {
   "cell_type": "code",
   "execution_count": 387,
   "metadata": {
    "collapsed": true
   },
   "outputs": [],
   "source": [
    "estadisticos_basicos<-function(serie=x,num_dec=6){ #informa los estadisticos descriptivos básicos de una serie, \n",
    "                                                   #se pueden configurar los decimales!!\n",
    "    #library(moments)\n",
    "    media<-round(mean(serie),num_dec)\n",
    "    varianza<-round(var(serie),num_dec)\n",
    "    asimetria<-round(skewness(serie),num_dec)\n",
    "    curtosis<-round(kurtosis(serie),num_dec)\n",
    "    total_datos<-length(serie)\n",
    "    minimo<-round(min(serie),num_dec)\n",
    "    maximo<-round(max(serie),num_dec)\n",
    "\n",
    "    estadisticos<-c(media=media,varianza=varianza,asimetria=asimetria,curtosis=curtosis,minimo=minimo,maximo=maximo,total_datos=total_datos)\n",
    "    return(estadisticos)\n",
    "}"
   ]
  },
  {
   "cell_type": "markdown",
   "metadata": {},
   "source": [
    "# Graficas QQ-Plot"
   ]
  },
  {
   "cell_type": "code",
   "execution_count": 388,
   "metadata": {
    "collapsed": true
   },
   "outputs": [],
   "source": [
    "grafico_qqplot<-function(serie=x){\n",
    "    qqnorm(serie, main=\"Gráfico Q-Q\")\n",
    "    qqline(serie)\n",
    "}"
   ]
  },
  {
   "cell_type": "markdown",
   "metadata": {},
   "source": [
    "# Modelo univariado para el pronostico de la electricidad en Colombia\n",
    "\n",
    "A continuacion se presenta la serie de tiempo correspondiente a los precios promedios aritmeticos en valores corrientes y valores constantes en una resolucion diaria.\n",
    "\n",
    "En adelante, se continuará trabajando con la serie de tiempo constante pues cuenta con la corrección de la inflacion a precios del 2008"
   ]
  },
  {
   "cell_type": "code",
   "execution_count": 390,
   "metadata": {
    "collapsed": false
   },
   "outputs": [
    {
     "data": {
      "image/png": "[encoded data removed]",
      "text/plain": [
       "Plot with title \"Precio Prom. Aritmetico Const. $/kWh Colombia\""
      ]
     },
     "metadata": {
      "image/svg+xml": {
       "isolated": true
      }
     },
     "output_type": "display_data"
    }
   ],
   "source": [
    "datos<-read.table(\"Precios_1995.csv\",sep=\",\",header = TRUE)\n",
    "current_price<-datos$Promedio_Aritmetico_...kWh._Corriente\n",
    "current_price<-ts(current_price,frequency = 7,start=c(1995,1))\n",
    "par(mfrow=c(2,1))\n",
    "plot.ts(current_price, main=\"Precio Prom. Aritmetico Corr. $/kWh Colombia\",ylab=\"$/kWh\")\n",
    "constant_price<-datos$X..KWh_Const_Dic_2008\n",
    "constant_price<-ts(constant_price,frequency = 7,start=c(1995,1))\n",
    "plot.ts(constant_price, main=\"Precio Prom. Aritmetico Const. $/kWh Colombia\",ylab=\"$/kWh\")\n"
   ]
  },
  {
   "cell_type": "markdown",
   "metadata": {},
   "source": [
    "A continuacion veamos el comportamiento de la serie en terminos de autocorrelacion, es decir, verificar si con esta es optima para pronosticar:"
   ]
  },
  {
   "cell_type": "code",
   "execution_count": 391,
   "metadata": {
    "collapsed": false
   },
   "outputs": [
    {
     "data": {
      "image/png": "[encoded data removed]",
      "text/plain": [
       "Plot with title \"\""
      ]
     },
     "metadata": {
      "image/svg+xml": {
       "isolated": true
      }
     },
     "output_type": "display_data"
    }
   ],
   "source": [
    "par(mfrow=c(2,1))\n",
    "acf(constant_price, main=\"\")\n",
    "pacf(constant_price,main=\"\")"
   ]
  },
  {
   "cell_type": "markdown",
   "metadata": {},
   "source": [
    "Como la serie está integrada, se procede a transformar los datos. En este caso se aplicará una rentabilidad logaritmica, es decir $W_t= Ln(\\frac{P_t}{P_{t-1}})$"
   ]
  },
  {
   "cell_type": "code",
   "execution_count": 395,
   "metadata": {
    "collapsed": false
   },
   "outputs": [
    {
     "data": {
      "image/png": "[encoded data removed]",
      "text/plain": [
       "Plot with title \"\""
      ]
     },
     "metadata": {
      "image/svg+xml": {
       "isolated": true
      }
     },
     "output_type": "display_data"
    }
   ],
   "source": [
    "rend.log<-aplicar_transformacion(serie = constant_price,tipo = 4) #aplica la transformacion\n",
    "rend.log<-rend.log[2:length(rend.log)] #Elimina los NA´s\n",
    "par(mfrow=c(2,1))\n",
    "acf(rend.log,main=\"\") #imprime el ACF\n",
    "pacf(rend.log,main=\"\") #imprime el PACF"
   ]
  },
  {
   "cell_type": "markdown",
   "metadata": {},
   "source": [
    "Como se puede observar, la serie tiene una estacionalidad en los datos $t+7$ lo cual indica que debe ser diferenciada con un rezago de 7 periodos"
   ]
  },
  {
   "cell_type": "code",
   "execution_count": 396,
   "metadata": {
    "collapsed": false
   },
   "outputs": [
    {
     "data": {
      "image/png": "[encoded data removed]",
      "text/plain": [
       "Plot with title \"\""
      ]
     },
     "metadata": {
      "image/svg+xml": {
       "isolated": true
      }
     },
     "output_type": "display_data"
    }
   ],
   "source": [
    "m.log.est7<-diff(rend.log,lag = 7)\n",
    "par(mfrow=c(2,1))\n",
    "acf(m.log.est7,main=\"\",lag.max = 25,ci.type=\"ma\")\n",
    "pacf(m.log.est7,main=\"\",lag.max = 25)"
   ]
  },
  {
   "cell_type": "markdown",
   "metadata": {},
   "source": [
    "Hemos removido la componente estacional en el ACF y vemos algunos datos significativos en el PACF, por lo tanto procedemos a ajustar un AR(p) con la funcion ar.ols"
   ]
  },
  {
   "cell_type": "code",
   "execution_count": 399,
   "metadata": {
    "collapsed": false
   },
   "outputs": [
    {
     "data": {
      "image/png": "[encoded data removed]",
      "text/plain": [
       "Plot with title \"\""
      ]
     },
     "metadata": {
      "image/svg+xml": {
       "isolated": true
      }
     },
     "output_type": "display_data"
    }
   ],
   "source": [
    "library(stats)\n",
    "options(repr.plot.weight=16,repr.plot.height=8)\n",
    "ordenmaximo=40\n",
    "mod1=ar.ols(x = m.log.est7,aic = TRUE,order.max = ordenmaximo)\n",
    "resid1<-mod1$resid[(ordenmaximo+1):length(mod1$resid)]\n",
    "#resid1\n",
    "par(mfrow=c(2,1))\n",
    "acf(resid1,main=\"\",ci.type=\"ma\")\n",
    "pacf(resid1,main=\"\")\n"
   ]
  },
  {
   "cell_type": "markdown",
   "metadata": {},
   "source": [
    "# Hago pruebas en los residuales para mirar su heterocedasticidad\n",
    "# Validacion de los supuestos sobre los Errores\n",
    "\n",
    "## Imprimir el histograma"
   ]
  },
  {
   "cell_type": "code",
   "execution_count": 405,
   "metadata": {
    "collapsed": false
   },
   "outputs": [
    {
     "data": {
      "image/png": "[encoded data removed]",
      "text/plain": [
       "Plot with title \"Histograma\""
      ]
     },
     "metadata": {
      "image/svg+xml": {
       "isolated": true
      }
     },
     "output_type": "display_data"
    }
   ],
   "source": [
    "options(repr.plot.weight=8,repr.plot.height=4)\n",
    "imprimir_histograma(resid1) # imprime el histograma"
   ]
  },
  {
   "cell_type": "markdown",
   "metadata": {},
   "source": [
    "## Pruba Ljung-Box\n",
    "\n",
    "Se rechaza $H_0$ los residuos no son riudo Blanco"
   ]
  },
  {
   "cell_type": "code",
   "execution_count": 401,
   "metadata": {
    "collapsed": false
   },
   "outputs": [
    {
     "data": {
      "text/plain": [
       "\n",
       "\tBox-Ljung test\n",
       "\n",
       "data:  resid1\n",
       "X-squared = 246.66, df = 40, p-value < 2.2e-16\n"
      ]
     },
     "metadata": {},
     "output_type": "display_data"
    }
   ],
   "source": [
    "Box.test(resid1,lag=40,type=\"Ljung-Box\")"
   ]
  },
  {
   "cell_type": "markdown",
   "metadata": {},
   "source": [
    "# Pruba Durbin Watson a los residuos"
   ]
  },
  {
   "cell_type": "code",
   "execution_count": 402,
   "metadata": {
    "collapsed": false
   },
   "outputs": [
    {
     "data": {
      "text/html": [
       "2.00233825572635"
      ],
      "text/latex": [
       "2.00233825572635"
      ],
      "text/markdown": [
       "2.00233825572635"
      ],
      "text/plain": [
       "[1] 2.002338"
      ]
     },
     "metadata": {},
     "output_type": "display_data"
    }
   ],
   "source": [
    "library(car)\n",
    "durbinWatsonTest(resid1)"
   ]
  },
  {
   "cell_type": "markdown",
   "metadata": {},
   "source": [
    "## QQ Plot\n"
   ]
  },
  {
   "cell_type": "code",
   "execution_count": 404,
   "metadata": {
    "collapsed": false
   },
   "outputs": [
    {
     "data": {
      "image/png": "[encoded data removed]",
      "text/plain": [
       "Plot with title \"Gráfico Q-Q\""
      ]
     },
     "metadata": {
      "image/svg+xml": {
       "isolated": true
      }
     },
     "output_type": "display_data"
    }
   ],
   "source": [
    "options(repr.plot.weight=8,repr.plot.height=4)\n",
    "grafico_qqplot(resid1)"
   ]
  },
  {
   "cell_type": "markdown",
   "metadata": {},
   "source": [
    "Es claro que existe una estructura en los residuos del  ajuste,es decir que el supuesto de incorrelacion no es valido. Por lo tanto se procede a hacer pruebas de heterocedasticidad"
   ]
  },
  {
   "cell_type": "code",
   "execution_count": 406,
   "metadata": {
    "collapsed": false
   },
   "outputs": [
    {
     "data": {
      "text/plain": [
       "\n",
       "Call:\n",
       "ar.ols(x = m.log.est7, aic = TRUE, order.max = ordenmaximo)\n",
       "\n",
       "Coefficients:\n",
       "      1        2        3        4        5        6        7        8  \n",
       "-0.1633  -0.0242  -0.0530  -0.0356  -0.0326  -0.0344  -0.7906  -0.1253  \n",
       "      9       10       11       12       13       14       15       16  \n",
       "-0.0480  -0.0324  -0.0495  -0.0376  -0.0312  -0.6466  -0.0969  -0.0497  \n",
       "     17       18       19       20       21       22       23       24  \n",
       "-0.0156  -0.0418  -0.0279  -0.0214  -0.4753  -0.0758  -0.0459  -0.0210  \n",
       "     25       26       27       28       29       30       31       32  \n",
       "-0.0476  -0.0089  -0.0180  -0.2928  -0.0476  -0.0213  -0.0058  -0.0419  \n",
       "     33       34       35       36       37       38       39       40  \n",
       "-0.0067  -0.0019  -0.1380  -0.0352  -0.0190  -0.0006  -0.0081  -0.0145  \n",
       "\n",
       "Intercept: -0.0007303 (0.001584) \n",
       "\n",
       "Order selected 40  sigma^2 estimated as  0.01901"
      ]
     },
     "metadata": {},
     "output_type": "display_data"
    }
   ],
   "source": [
    "mod1"
   ]
  },
  {
   "cell_type": "markdown",
   "metadata": {},
   "source": [
    "# Miremos los Residuales$^2$\n"
   ]
  },
  {
   "cell_type": "code",
   "execution_count": 409,
   "metadata": {
    "collapsed": true
   },
   "outputs": [],
   "source": [
    "resid_cuad<-resid1^2"
   ]
  },
  {
   "cell_type": "code",
   "execution_count": 410,
   "metadata": {
    "collapsed": false
   },
   "outputs": [
    {
     "data": {
      "image/png": "[encoded data removed]",
      "text/plain": [
       "Plot with title \"Residuales al cuadrado\""
      ]
     },
     "metadata": {
      "image/svg+xml": {
       "isolated": true
      }
     },
     "output_type": "display_data"
    }
   ],
   "source": [
    "acf(resid_cuad,main=\"Residuales al cuadrado\")\n",
    "par(mfrow=c(1,2))"
   ]
  },
  {
   "cell_type": "markdown",
   "metadata": {},
   "source": [
    "# Pruebas de Heterocedasticidad\n",
    "\n",
    "## Breusch-Pagan"
   ]
  },
  {
   "cell_type": "code",
   "execution_count": 407,
   "metadata": {
    "collapsed": false
   },
   "outputs": [
    {
     "ename": "ERROR",
     "evalue": "Error in formula$x: $ operator is invalid for atomic vectors\n",
     "output_type": "error",
     "traceback": [
      "Error in formula$x: $ operator is invalid for atomic vectors\nTraceback:\n",
      "1. bptest(resid1, studentize = FALSE)"
     ]
    }
   ],
   "source": [
    "library(lmtest)\n",
    "bptest(resid1,studentize = FALSE)"
   ]
  },
  {
   "cell_type": "markdown",
   "metadata": {},
   "source": [
    "## Goldfield-Quandt"
   ]
  },
  {
   "cell_type": "code",
   "execution_count": 408,
   "metadata": {
    "collapsed": false
   },
   "outputs": [
    {
     "ename": "ERROR",
     "evalue": "Error in formula$x: $ operator is invalid for atomic vectors\n",
     "output_type": "error",
     "traceback": [
      "Error in formula$x: $ operator is invalid for atomic vectors\nTraceback:\n",
      "1. gqtest(resid1)"
     ]
    }
   ],
   "source": [
    "gqtest(resid1)"
   ]
  },
  {
   "cell_type": "markdown",
   "metadata": {},
   "source": [
    "# Modelo para los errores"
   ]
  },
  {
   "cell_type": "code",
   "execution_count": null,
   "metadata": {
    "collapsed": true
   },
   "outputs": [],
   "source": []
  },
  {
   "cell_type": "code",
   "execution_count": null,
   "metadata": {
    "collapsed": true
   },
   "outputs": [],
   "source": []
  }
 ],
 "metadata": {
  "kernelspec": {
   "display_name": "R",
   "language": "R",
   "name": "ir"
  },
  "language_info": {
   "codemirror_mode": "r",
   "file_extension": ".r",
   "mimetype": "text/x-r-source",
   "name": "R",
   "pygments_lexer": "r",
   "version": "3.3.1"
  }
 },
 "nbformat": 4,
 "nbformat_minor": 0
}
