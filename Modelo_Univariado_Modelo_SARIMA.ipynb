{
 "cells": [
  {
   "cell_type": "code",
   "execution_count": 19,
   "metadata": {
    "collapsed": false
   },
   "outputs": [],
   "source": [
    "library(forecast)"
   ]
  },
  {
   "cell_type": "markdown",
   "metadata": {},
   "source": [
    "#### Contenido"
   ]
  },
  {
   "cell_type": "markdown",
   "metadata": {},
   "source": [
    "* [Ventanas de 4 años](##Ventanas-de-4-años)\n",
    "* [Ventanas de 8 años](##Ventanas-de-8-años)\n",
    "* [Ventanas de 12 años](##Ventanas-de-12-años)\n",
    "* [Ventanas de 15 años](##Ventanas-de-15-años)\n",
    "* [Resultados](#Resultados)"
   ]
  },
  {
   "cell_type": "code",
   "execution_count": 180,
   "metadata": {
    "collapsed": false
   },
   "outputs": [
    {
     "data": {
      "image/png": "[encoded data removed]",
      "text/plain": [
       "Plot with title \"Gráfico precios prom. diario Mercado Colombiano (Const.)\""
      ]
     },
     "metadata": {
      "image/svg+xml": {
       "isolated": true
      }
     },
     "output_type": "display_data"
    }
   ],
   "source": [
    "datos<-read.table(\"Precios_1995.csv\",sep=\",\",header = TRUE) #cargo la serie de datos\n",
    "\n",
    "current_price<-datos$Promedio_Aritmetico_...kWh._Corriente \n",
    "current_price<-ts(current_price,frequency = 7,start=1995) #construyo la serie corriente\n",
    "\n",
    "\n",
    "constant_price<-datos$X..KWh_Const_Dic_2008\n",
    "constant_price<-ts(constant_price,frequency = 7,start=1995) #construyo la serie constante\n",
    "\n",
    "par(mfrow=c(2,1))\n",
    "\n",
    "plot.ts(current_price,\n",
    "        main=\"Gráfico precios prom. diario Mercado Colombiano (Corr.)\",\n",
    "        ylab=\"$/kwh\",lwd=1,col=\"black\",ylim=c(0,2000))\n",
    "plot.ts(constant_price,\n",
    "        main=\"Gráfico precios prom. diario Mercado Colombiano (Const.)\",\n",
    "        ylab=\"$/kwh\",lwd=1,col=\"black\",ylim=c(0,2000))\n"
   ]
  },
  {
   "cell_type": "markdown",
   "metadata": {},
   "source": [
    "# Ajuste de ventanas"
   ]
  },
  {
   "cell_type": "markdown",
   "metadata": {},
   "source": [
    "## Ventanas de 4 años\n"
   ]
  },
  {
   "cell_type": "code",
   "execution_count": 253,
   "metadata": {
    "collapsed": false,
    "scrolled": true
   },
   "outputs": [
    {
     "data": {
      "text/html": [
       "15"
      ],
      "text/latex": [
       "15"
      ],
      "text/markdown": [
       "15"
      ],
      "text/plain": [
       "[1] 15"
      ]
     },
     "metadata": {},
     "output_type": "display_data"
    }
   ],
   "source": [
    "#head(constant_price[(length(constant_price)-longitud_pronostico+1):length(constant_price)])\n",
    "length(constant_price[(cola_datos+1):(cola_datos+longitud_pronostico)])"
   ]
  },
  {
   "cell_type": "code",
   "execution_count": 470,
   "metadata": {
    "collapsed": false
   },
   "outputs": [],
   "source": [
    "#Se definen ventanas de 4 años para ajustar modelos\n",
    "ventana<-4 #Tamaño de la ventana\n",
    "longitud_ventana<-365*ventana\n",
    "longitud_pronostico<-60\n",
    "años<-1996:2016 #Total de años con datos\n",
    "numero_modelos<-floor((length(años)/ventana)) # numero de modelos a construir\n",
    "cola_datos<-length(constant_price)-longitud_ventana*(numero_modelos)-longitud_pronostico\n",
    "\n",
    "modelos.fit<-data.frame(mod1=c(rep(NA,longitud_ventana-cola_datos),constant_price[1:cola_datos]),                 # Modelo1\n",
    "mod2=constant_price[(length(constant_price)-longitud_ventana*1+1):length(constant_price)-longitud_ventana*4-longitud_pronostico],     # Modelo2\n",
    "mod3=constant_price[(length(constant_price)-longitud_ventana*1+1):length(constant_price)-longitud_ventana*3-longitud_pronostico],     # Modelo3\n",
    "mod4=constant_price[(length(constant_price)-longitud_ventana*1+1):length(constant_price)-longitud_ventana*2-longitud_pronostico],     # Modelo4\n",
    "mod5=constant_price[(length(constant_price)-longitud_ventana*1+1):length(constant_price)-longitud_ventana*1-longitud_pronostico])     # Modelo5\n",
    "\n",
    "mod6<-constant_price[(length(constant_price)-longitud_ventana*1+1):length(constant_price)-longitud_ventana*0-longitud_pronostico]\n",
    "\n",
    "\n",
    "for4.1<-constant_price[(cola_datos+1):(cola_datos+longitud_pronostico)]\n",
    "for4.2<-constant_price[(cola_datos+longitud_ventana*1+1):(cola_datos+longitud_ventana*1+longitud_pronostico)]\n",
    "for4.3<-constant_price[(cola_datos+longitud_ventana*2+1):(cola_datos+longitud_ventana*2+longitud_pronostico)]\n",
    "for4.4<-constant_price[(cola_datos+longitud_ventana*3+1):(cola_datos+longitud_ventana*3+longitud_pronostico)]\n",
    "for4.5<-constant_price[(cola_datos+longitud_ventana*4+1):(cola_datos+longitud_ventana*4+longitud_pronostico)]\n",
    "for4.6<-constant_price[(cola_datos+longitud_ventana*5+1):(cola_datos+longitud_ventana*5+longitud_pronostico)]"
   ]
  },
  {
   "cell_type": "code",
   "execution_count": 471,
   "metadata": {
    "collapsed": false,
    "scrolled": false
   },
   "outputs": [
    {
     "data": {
      "image/png": "[encoded data removed]",
      "text/plain": [
       "Plot with title \"Division en secciones\""
      ]
     },
     "metadata": {
      "image/svg+xml": {
       "isolated": true
      }
     },
     "output_type": "display_data"
    }
   ],
   "source": [
    "\n",
    "plot.ts(main=\"Division en secciones\",constant_price[1:(length(constant_price)-longitud_ventana*(numero_modelos)-longitud_pronostico)],xlim=c(0,length(constant_price)),ylim=c(0,1800),ylab=\"$/kWh\")\n",
    "lines(append(rep(NA,cola_datos),modelos.fit$mod2),col=\"red\")\n",
    "lines(append(rep(NA,cola_datos+longitud_ventana),modelos.fit$mod3),col=\"blue\")\n",
    "lines(append(rep(NA,cola_datos+longitud_ventana*2),modelos.fit$mod4),col=\"purple\")\n",
    "lines(append(rep(NA,cola_datos+longitud_ventana*3),modelos.fit$mod5),col=\"brown\")\n",
    "lines(append(rep(NA,cola_datos+longitud_ventana*4),mod6),col=\"green\")"
   ]
  },
  {
   "cell_type": "markdown",
   "metadata": {},
   "source": [
    "### Ajustes de modelos con ventana de 4 años\n",
    "\n",
    "A continuacion se probarán diferentes modelos autorregresivos para determinar:\n",
    "1. Validacion de los supuestos:\n",
    "    \n",
    "    a. Ruido Blanco en los errores\n",
    "    \n",
    "    b. Seleccion de mejor modelo para pronostico"
   ]
  },
  {
   "cell_type": "code",
   "execution_count": 472,
   "metadata": {
    "collapsed": false
   },
   "outputs": [],
   "source": [
    "## Grupo 1 para ventana de 4 años\n",
    "f4.1<-ts(constant_price[1:cola_datos],frequency = 7)\n"
   ]
  },
  {
   "cell_type": "code",
   "execution_count": 473,
   "metadata": {
    "collapsed": false,
    "scrolled": false
   },
   "outputs": [
    {
     "data": {
      "image/png": "[encoded data removed]",
      "text/plain": [
       "Plot with title \"\""
      ]
     },
     "metadata": {
      "image/svg+xml": {
       "isolated": true
      }
     },
     "output_type": "display_data"
    }
   ],
   "source": [
    "tsdisplay(f4.1,main=\"\")\n",
    "## Diagnostico\n",
    "#Serie integrada"
   ]
  },
  {
   "cell_type": "code",
   "execution_count": 677,
   "metadata": {
    "collapsed": false
   },
   "outputs": [
    {
     "data": {
      "text/html": [
       "1"
      ],
      "text/latex": [
       "1"
      ],
      "text/markdown": [
       "1"
      ],
      "text/plain": [
       "[1] 1"
      ]
     },
     "metadata": {},
     "output_type": "display_data"
    },
    {
     "data": {
      "text/html": [
       "1"
      ],
      "text/latex": [
       "1"
      ],
      "text/markdown": [
       "1"
      ],
      "text/plain": [
       "[1] 1"
      ]
     },
     "metadata": {},
     "output_type": "display_data"
    },
    {
     "data": {
      "text/html": [
       "1"
      ],
      "text/latex": [
       "1"
      ],
      "text/markdown": [
       "1"
      ],
      "text/plain": [
       "[1] 1"
      ]
     },
     "metadata": {},
     "output_type": "display_data"
    },
    {
     "data": {
      "text/html": [
       "0"
      ],
      "text/latex": [
       "0"
      ],
      "text/markdown": [
       "0"
      ],
      "text/plain": [
       "[1] 0"
      ]
     },
     "metadata": {},
     "output_type": "display_data"
    },
    {
     "data": {
      "text/html": [
       "0"
      ],
      "text/latex": [
       "0"
      ],
      "text/markdown": [
       "0"
      ],
      "text/plain": [
       "[1] 0"
      ]
     },
     "metadata": {},
     "output_type": "display_data"
    }
   ],
   "source": [
    "#Pruebas de raices unitarias y raices unitarias estacionales\n",
    "\n",
    "ndiffs(x = f4.1,alpha = 0.05,test = \"adf\",max.d=2) #Augmented Dickey Fuller Test\n",
    "ndiffs(x = f4.1,alpha = 0.05,test = \"kpss\",max.d=2) #Kwiatkowski–Phillips–Schmidt–Shin Test\n",
    "ndiffs(x = f4.1,alpha = 0.05,test = \"pp\",max.d=2) #Phillips–Perron Test\n",
    "nsdiffs(x=f4.1,test=\"ch\",max.D=1) # Canova-Hansen Test\n",
    "nsdiffs(x=f4.1,test=\"ocsb\",max.D=1) #OCSB Test\n"
   ]
  },
  {
   "cell_type": "code",
   "execution_count": 475,
   "metadata": {
    "collapsed": false
   },
   "outputs": [
    {
     "data": {
      "text/html": [
       "<ol class=list-inline>\n",
       "\t<li>2</li>\n",
       "\t<li>1</li>\n",
       "\t<li>2</li>\n",
       "</ol>\n"
      ],
      "text/latex": [
       "\\begin{enumerate*}\n",
       "\\item 2\n",
       "\\item 1\n",
       "\\item 2\n",
       "\\end{enumerate*}\n"
      ],
      "text/markdown": [
       "1. 2\n",
       "2. 1\n",
       "3. 2\n",
       "\n",
       "\n"
      ],
      "text/plain": [
       "[1] 2 1 2"
      ]
     },
     "metadata": {},
     "output_type": "display_data"
    },
    {
     "data": {
      "text/html": [
       "2442.58891051901"
      ],
      "text/latex": [
       "2442.58891051901"
      ],
      "text/markdown": [
       "2442.58891051901"
      ],
      "text/plain": [
       "[1] 2442.589"
      ]
     },
     "metadata": {},
     "output_type": "display_data"
    }
   ],
   "source": [
    "fit4.1<-auto.arima(f4.1)\n",
    "arimaorder(fit4.1)\n",
    "fit4.1$aicc"
   ]
  },
  {
   "cell_type": "code",
   "execution_count": 476,
   "metadata": {
    "collapsed": false
   },
   "outputs": [
    {
     "data": {
      "text/html": [
       "<ol class=list-inline>\n",
       "\t<li>0</li>\n",
       "\t<li>1</li>\n",
       "\t<li>4</li>\n",
       "</ol>\n"
      ],
      "text/latex": [
       "\\begin{enumerate*}\n",
       "\\item 0\n",
       "\\item 1\n",
       "\\item 4\n",
       "\\end{enumerate*}\n"
      ],
      "text/markdown": [
       "1. 0\n",
       "2. 1\n",
       "3. 4\n",
       "\n",
       "\n"
      ],
      "text/plain": [
       "[1] 0 1 4"
      ]
     },
     "metadata": {},
     "output_type": "display_data"
    },
    {
     "data": {
      "text/html": [
       "2435.05038761029"
      ],
      "text/latex": [
       "2435.05038761029"
      ],
      "text/markdown": [
       "2435.05038761029"
      ],
      "text/plain": [
       "[1] 2435.05"
      ]
     },
     "metadata": {},
     "output_type": "display_data"
    }
   ],
   "source": [
    "fit4.12<-auto.arima(f4.1,stepwise = FALSE, approximation = FALSE)\n",
    "arimaorder(fit4.12)\n",
    "fit4.12$aicc"
   ]
  },
  {
   "cell_type": "code",
   "execution_count": 478,
   "metadata": {
    "collapsed": false
   },
   "outputs": [
    {
     "data": {
      "image/png": "[encoded data removed]",
      "text/plain": [
       "Plot with title \"\""
      ]
     },
     "metadata": {
      "image/svg+xml": {
       "isolated": true
      }
     },
     "output_type": "display_data"
    }
   ],
   "source": [
    "par(mfrow=c(3,1))\n",
    "plot.ts(fit4.1$residuals,main=\"Residuales fit  4.1\")\n",
    "acf(fit4.1$residuals,ylim=c(-1,1),main=\"\")\n",
    "pacf(fit4.1$residuals,ylim=c(-1,1),main=\"\")"
   ]
  },
  {
   "cell_type": "code",
   "execution_count": 479,
   "metadata": {
    "collapsed": false,
    "scrolled": false
   },
   "outputs": [
    {
     "data": {
      "image/png": "[encoded data removed]",
      "text/plain": [
       "Plot with title \"\""
      ]
     },
     "metadata": {
      "image/svg+xml": {
       "isolated": true
      }
     },
     "output_type": "display_data"
    }
   ],
   "source": [
    "par(mfrow=c(3,1))\n",
    "plot.ts(fit4.12$residuals,main=\"Residuales fit4.12\")\n",
    "acf(fit4.12$residuals,ylim=c(-1,1),main=\"\")\n",
    "pacf(fit4.12$residuals,ylim=c(-1,1),main=\"\")"
   ]
  },
  {
   "cell_type": "code",
   "execution_count": 480,
   "metadata": {
    "collapsed": false
   },
   "outputs": [
    {
     "data": {
      "image/png": "[encoded data removed]",
      "text/plain": [
       "Plot with title \"Forecasts from ARIMA(2,1,2)\""
      ]
     },
     "metadata": {
      "image/svg+xml": {
       "isolated": true
      }
     },
     "output_type": "display_data"
    }
   ],
   "source": [
    "\n",
    "plot(forecast(fit4.1,h=longitud_pronostico),ylim=c(0,max(f4.1)))\n",
    "lines(fitted(fit4.1),col=\"red\")\n",
    "lines(append(rep(NA,44),for4.1),col=\"green\")"
   ]
  },
  {
   "cell_type": "code",
   "execution_count": 583,
   "metadata": {
    "collapsed": false
   },
   "outputs": [
    {
     "data": {
      "text/html": [
       "<dl class=dl-horizontal>\n",
       "\t<dt>Training set</dt>\n",
       "\t\t<dd>25.4349828789859</dd>\n",
       "\t<dt>Test set</dt>\n",
       "\t\t<dd>3.1189771898875</dd>\n",
       "</dl>\n"
      ],
      "text/latex": [
       "\\begin{description*}\n",
       "\\item[Training set] 25.4349828789859\n",
       "\\item[Test set] 3.1189771898875\n",
       "\\end{description*}\n"
      ],
      "text/markdown": [
       "Training set\n",
       ":   25.4349828789859Test set\n",
       ":   3.1189771898875\n",
       "\n"
      ],
      "text/plain": [
       "Training set     Test set \n",
       "   25.434983     3.118977 "
      ]
     },
     "metadata": {},
     "output_type": "display_data"
    },
    {
     "data": {
      "text/html": [
       "<dl class=dl-horizontal>\n",
       "\t<dt>Training set</dt>\n",
       "\t\t<dd>25.073234876194</dd>\n",
       "\t<dt>Test set</dt>\n",
       "\t\t<dd>2.91722177166745</dd>\n",
       "</dl>\n"
      ],
      "text/latex": [
       "\\begin{description*}\n",
       "\\item[Training set] 25.073234876194\n",
       "\\item[Test set] 2.91722177166745\n",
       "\\end{description*}\n"
      ],
      "text/markdown": [
       "Training set\n",
       ":   25.073234876194Test set\n",
       ":   2.91722177166745\n",
       "\n"
      ],
      "text/plain": [
       "Training set     Test set \n",
       "   25.073235     2.917222 "
      ]
     },
     "metadata": {},
     "output_type": "display_data"
    }
   ],
   "source": [
    "precision4.1<-accuracy(forecast(fit4.1,h=longitud_pronostico),for4.1)[,2] #RMSE mod ARIMA\n",
    "precision4.1\n",
    "precision4.12<-accuracy(forecast(fit4.12,h=longitud_pronostico),for4.1)[,2] #RMSE mod SARIMA\n",
    "precision4.12"
   ]
  },
  {
   "cell_type": "code",
   "execution_count": 614,
   "metadata": {
    "collapsed": false,
    "scrolled": false
   },
   "outputs": [
    {
     "data": {
      "text/html": [
       "<table>\n",
       "<tbody>\n",
       "\t<tr><td>           </td><td>p          </td><td>d          </td><td>q          </td><td>P          </td><td>D          </td><td>Q          </td><td>S          </td><td>RMSE_sample</td><td>RMSE_for   </td></tr>\n",
       "\t<tr><td>Muestra 4.1</td><td>2          </td><td>1          </td><td>2          </td><td>0          </td><td>0          </td><td>0          </td><td>0          </td><td>25.43      </td><td>3.12       </td></tr>\n",
       "\t<tr><td>Muestra 4.12</td><td>0           </td><td>1           </td><td>4           </td><td>0           </td><td>0           </td><td>0           </td><td>0           </td><td>25.07       </td><td>2.92        </td></tr>\n",
       "</tbody>\n",
       "</table>\n"
      ],
      "text/latex": [
       "\\begin{tabular}{llllllllll}\n",
       "\t               & p             & d             & q             & P             & D             & Q             & S             & RMSE\\_sample & RMSE\\_for   \\\\\n",
       "\t Muestra 4.1 & 2           & 1           & 2           & 0           & 0           & 0           & 0           & 25.43       & 3.12       \\\\\n",
       "\t Muestra 4.12 & 0            & 1            & 4            & 0            & 0            & 0            & 0            & 25.07        & 2.92        \\\\\n",
       "\\end{tabular}\n"
      ],
      "text/markdown": [
       "1. \"\"\n",
       "2. \"Muestra 4.1\"\n",
       "3. \"Muestra 4.12\"\n",
       "4. \"p\"\n",
       "5. \"2\"\n",
       "6. \"0\"\n",
       "7. \"d\"\n",
       "8. \"1\"\n",
       "9. \"1\"\n",
       "10. \"q\"\n",
       "11. \"2\"\n",
       "12. \"4\"\n",
       "13. \"P\"\n",
       "14. \"0\"\n",
       "15. \"0\"\n",
       "16. \"D\"\n",
       "17. \"0\"\n",
       "18. \"0\"\n",
       "19. \"Q\"\n",
       "20. \"0\"\n",
       "21. \"0\"\n",
       "22. \"S\"\n",
       "23. \"0\"\n",
       "24. \"0\"\n",
       "25. \"RMSE_sample\"\n",
       "26. \"25.43\"\n",
       "27. \"25.07\"\n",
       "28. \"RMSE_for\"\n",
       "29. \"3.12\"\n",
       "30. \"2.92\"\n",
       "\n",
       "\n"
      ],
      "text/plain": [
       "     [,1]           [,2] [,3] [,4] [,5] [,6] [,7] [,8] [,9]          [,10]     \n",
       "[1,] \"\"             \"p\"  \"d\"  \"q\"  \"P\"  \"D\"  \"Q\"  \"S\"  \"RMSE_sample\" \"RMSE_for\"\n",
       "[2,] \"Muestra 4.1\"  \"2\"  \"1\"  \"2\"  \"0\"  \"0\"  \"0\"  \"0\"  \"25.43\"       \"3.12\"    \n",
       "[3,] \"Muestra 4.12\" \"0\"  \"1\"  \"4\"  \"0\"  \"0\"  \"0\"  \"0\"  \"25.07\"       \"2.92\"    "
      ]
     },
     "metadata": {},
     "output_type": "display_data"
    }
   ],
   "source": [
    "ordenes<-rbind(c(\"p\",\"d\",\"q\",\"P\",\"D\",\"Q\",\"S\",\"RMSE_sample\", \"RMSE_for\"),\n",
    "               c(arimaorder(fit4.1),0,0,0,0,round(precision4.1[[1]],2),round(precision4.1[[2]],2)),\n",
    "               c(arimaorder(fit4.12),0,0,0,0,round(precision4.12[[1]],2),round(precision4.12[[2]],2)))\n",
    "resultados4.1<-cbind(c(\"\",\"Muestra 4.1\",\"Muestra 4.12\"),ordenes)\n",
    "resultados4.1"
   ]
  },
  {
   "cell_type": "code",
   "execution_count": 496,
   "metadata": {
    "collapsed": false,
    "scrolled": false
   },
   "outputs": [
    {
     "data": {
      "image/png": "[encoded data removed]",
      "text/plain": [
       "plot without title"
      ]
     },
     "metadata": {
      "image/svg+xml": {
       "isolated": true
      }
     },
     "output_type": "display_data"
    }
   ],
   "source": [
    "plot(constant_price[1:cola_datos],type=\"l\",xlim=c(0,322))\n",
    "lines(append(rep(NA,cola_datos-1),for4.1),col=\"red\")\n",
    "res<-forecast(fit4.12,h=longitud_pronostico)\n",
    "lines(append(rep(NA,316),res$mean),col=\"green\",lwd=1)"
   ]
  },
  {
   "cell_type": "code",
   "execution_count": 493,
   "metadata": {
    "collapsed": false
   },
   "outputs": [
    {
     "data": {
      "image/png": "[encoded data removed]",
      "text/plain": [
       "Plot with title \"Forecasts from ARIMA(0,1,4)\""
      ]
     },
     "metadata": {
      "image/svg+xml": {
       "isolated": true
      }
     },
     "output_type": "display_data"
    }
   ],
   "source": [
    "plot(forecast(fit4.12,h=longitud_pronostico),ylim=c(0,500))\n",
    "lines(append(rep(NA,37),for4.1),col=\"red\")"
   ]
  },
  {
   "cell_type": "code",
   "execution_count": 483,
   "metadata": {
    "collapsed": true
   },
   "outputs": [],
   "source": [
    "## Grupo 2 para ventana de 4 años\n",
    "f4.2<-ts(modelos.fit$mod2,frequency = 7)"
   ]
  },
  {
   "cell_type": "code",
   "execution_count": 484,
   "metadata": {
    "collapsed": false
   },
   "outputs": [
    {
     "data": {
      "image/png": "[encoded data removed]",
      "text/plain": [
       "Plot with title \"\""
      ]
     },
     "metadata": {
      "image/svg+xml": {
       "isolated": true
      }
     },
     "output_type": "display_data"
    }
   ],
   "source": [
    "tsdisplay(f4.2,main=\"\")"
   ]
  },
  {
   "cell_type": "code",
   "execution_count": 680,
   "metadata": {
    "collapsed": false
   },
   "outputs": [
    {
     "data": {
      "text/html": [
       "1"
      ],
      "text/latex": [
       "1"
      ],
      "text/markdown": [
       "1"
      ],
      "text/plain": [
       "[1] 1"
      ]
     },
     "metadata": {},
     "output_type": "display_data"
    },
    {
     "data": {
      "text/html": [
       "1"
      ],
      "text/latex": [
       "1"
      ],
      "text/markdown": [
       "1"
      ],
      "text/plain": [
       "[1] 1"
      ]
     },
     "metadata": {},
     "output_type": "display_data"
    },
    {
     "data": {
      "text/html": [
       "0"
      ],
      "text/latex": [
       "0"
      ],
      "text/markdown": [
       "0"
      ],
      "text/plain": [
       "[1] 0"
      ]
     },
     "metadata": {},
     "output_type": "display_data"
    },
    {
     "data": {
      "text/html": [
       "1"
      ],
      "text/latex": [
       "1"
      ],
      "text/markdown": [
       "1"
      ],
      "text/plain": [
       "[1] 1"
      ]
     },
     "metadata": {},
     "output_type": "display_data"
    },
    {
     "data": {
      "text/html": [
       "0"
      ],
      "text/latex": [
       "0"
      ],
      "text/markdown": [
       "0"
      ],
      "text/plain": [
       "[1] 0"
      ]
     },
     "metadata": {},
     "output_type": "display_data"
    }
   ],
   "source": [
    "#Pruebas de raices unitarias y raices unitarias estacionales\n",
    "\n",
    "ndiffs(x = f4.2,alpha = 0.05,test = \"adf\",max.d=2) #Augmented Dickey Fuller Test\n",
    "ndiffs(x = f4.2,alpha = 0.05,test = \"kpss\",max.d=2) #Kwiatkowski–Phillips–Schmidt–Shin Test\n",
    "ndiffs(x = f4.2,alpha = 0.05,test = \"pp\",max.d=2) #Phillips–Perron Test\n",
    "nsdiffs(x=f4.2,m=7,test=\"ch\",max.D=1) # Canova-Hansen Test\n",
    "nsdiffs(x=f4.2,m=7,test=\"ocsb\",max.D=1) #OCSB Test"
   ]
  },
  {
   "cell_type": "code",
   "execution_count": 486,
   "metadata": {
    "collapsed": false
   },
   "outputs": [
    {
     "data": {
      "text/html": [
       "<ol class=list-inline>\n",
       "\t<li>1</li>\n",
       "\t<li>1</li>\n",
       "\t<li>1</li>\n",
       "\t<li>0</li>\n",
       "\t<li>0</li>\n",
       "\t<li>2</li>\n",
       "\t<li>7</li>\n",
       "</ol>\n"
      ],
      "text/latex": [
       "\\begin{enumerate*}\n",
       "\\item 1\n",
       "\\item 1\n",
       "\\item 1\n",
       "\\item 0\n",
       "\\item 0\n",
       "\\item 2\n",
       "\\item 7\n",
       "\\end{enumerate*}\n"
      ],
      "text/markdown": [
       "1. 1\n",
       "2. 1\n",
       "3. 1\n",
       "4. 0\n",
       "5. 0\n",
       "6. 2\n",
       "7. 7\n",
       "\n",
       "\n"
      ],
      "text/plain": [
       "[1] 1 1 1 0 0 2 7"
      ]
     },
     "metadata": {},
     "output_type": "display_data"
    },
    {
     "data": {
      "text/html": [
       "12616.0039985073"
      ],
      "text/latex": [
       "12616.0039985073"
      ],
      "text/markdown": [
       "12616.0039985073"
      ],
      "text/plain": [
       "[1] 12616"
      ]
     },
     "metadata": {},
     "output_type": "display_data"
    }
   ],
   "source": [
    "fit4.2<-auto.arima(f4.2)\n",
    "arimaorder(fit4.2)\n",
    "fit4.2$aicc"
   ]
  },
  {
   "cell_type": "code",
   "execution_count": 682,
   "metadata": {
    "collapsed": false
   },
   "outputs": [
    {
     "data": {
      "text/html": [
       "<ol class=list-inline>\n",
       "\t<li>1</li>\n",
       "\t<li>0</li>\n",
       "\t<li>1</li>\n",
       "\t<li>0</li>\n",
       "\t<li>1</li>\n",
       "\t<li>1</li>\n",
       "\t<li>7</li>\n",
       "</ol>\n"
      ],
      "text/latex": [
       "\\begin{enumerate*}\n",
       "\\item 1\n",
       "\\item 0\n",
       "\\item 1\n",
       "\\item 0\n",
       "\\item 1\n",
       "\\item 1\n",
       "\\item 7\n",
       "\\end{enumerate*}\n"
      ],
      "text/markdown": [
       "1. 1\n",
       "2. 0\n",
       "3. 1\n",
       "4. 0\n",
       "5. 1\n",
       "6. 1\n",
       "7. 7\n",
       "\n",
       "\n"
      ],
      "text/plain": [
       "[1] 1 0 1 0 1 1 7"
      ]
     },
     "metadata": {},
     "output_type": "display_data"
    },
    {
     "data": {
      "text/html": [
       "10077.9844025139"
      ],
      "text/latex": [
       "10077.9844025139"
      ],
      "text/markdown": [
       "10077.9844025139"
      ],
      "text/plain": [
       "[1] 10077.98"
      ]
     },
     "metadata": {},
     "output_type": "display_data"
    }
   ],
   "source": [
    "fit4.21<-auto.arima(f4.2,stepwise = FALSE,approximation = FALSE,D=1)\n",
    "arimaorder(fit4.21)\n",
    "fit4.21$aicc"
   ]
  },
  {
   "cell_type": "code",
   "execution_count": 487,
   "metadata": {
    "collapsed": false,
    "scrolled": true
   },
   "outputs": [
    {
     "data": {
      "text/html": [
       "<ol class=list-inline>\n",
       "\t<li>0</li>\n",
       "\t<li>1</li>\n",
       "\t<li>3</li>\n",
       "\t<li>1</li>\n",
       "\t<li>0</li>\n",
       "\t<li>0</li>\n",
       "\t<li>7</li>\n",
       "</ol>\n"
      ],
      "text/latex": [
       "\\begin{enumerate*}\n",
       "\\item 0\n",
       "\\item 1\n",
       "\\item 3\n",
       "\\item 1\n",
       "\\item 0\n",
       "\\item 0\n",
       "\\item 7\n",
       "\\end{enumerate*}\n"
      ],
      "text/markdown": [
       "1. 0\n",
       "2. 1\n",
       "3. 3\n",
       "4. 1\n",
       "5. 0\n",
       "6. 0\n",
       "7. 7\n",
       "\n",
       "\n"
      ],
      "text/plain": [
       "[1] 0 1 3 1 0 0 7"
      ]
     },
     "metadata": {},
     "output_type": "display_data"
    },
    {
     "data": {
      "text/html": [
       "12600.971205471"
      ],
      "text/latex": [
       "12600.971205471"
      ],
      "text/markdown": [
       "12600.971205471"
      ],
      "text/plain": [
       "[1] 12600.97"
      ]
     },
     "metadata": {},
     "output_type": "display_data"
    }
   ],
   "source": [
    "fit4.22<-auto.arima(f4.2,stepwise = FALSE,approximation = FALSE)\n",
    "arimaorder(fit4.22)\n",
    "fit4.22$aicc"
   ]
  },
  {
   "cell_type": "code",
   "execution_count": 684,
   "metadata": {
    "collapsed": false
   },
   "outputs": [
    {
     "data": {
      "image/png": "[encoded data removed]",
      "text/plain": [
       "Plot with title \"Forecasts from ARIMA(1,0,1)(0,1,1)[7]\""
      ]
     },
     "metadata": {
      "image/svg+xml": {
       "isolated": true
      }
     },
     "output_type": "display_data"
    }
   ],
   "source": [
    "plot(forecast(fit4.21,h=longitud_pronostico),xlim=c(0,250))\n",
    "lines(fitted(fit4.21),col=\"red\")\n",
    "lines(append(rep(NA,210),for4.2),col=\"green\")"
   ]
  },
  {
   "cell_type": "code",
   "execution_count": 685,
   "metadata": {
    "collapsed": false,
    "scrolled": false
   },
   "outputs": [
    {
     "data": {
      "text/html": [
       "<dl class=dl-horizontal>\n",
       "\t<dt>Training set</dt>\n",
       "\t\t<dd>7.68682257039436</dd>\n",
       "\t<dt>Test set</dt>\n",
       "\t\t<dd>22.0977296594459</dd>\n",
       "</dl>\n"
      ],
      "text/latex": [
       "\\begin{description*}\n",
       "\\item[Training set] 7.68682257039436\n",
       "\\item[Test set] 22.0977296594459\n",
       "\\end{description*}\n"
      ],
      "text/markdown": [
       "Training set\n",
       ":   7.68682257039436Test set\n",
       ":   22.0977296594459\n",
       "\n"
      ],
      "text/plain": [
       "Training set     Test set \n",
       "    7.686823    22.097730 "
      ]
     },
     "metadata": {},
     "output_type": "display_data"
    },
    {
     "data": {
      "text/html": [
       "<dl class=dl-horizontal>\n",
       "\t<dt>Training set</dt>\n",
       "\t\t<dd>7.68682257039436</dd>\n",
       "\t<dt>Test set</dt>\n",
       "\t\t<dd>22.0977296594459</dd>\n",
       "</dl>\n"
      ],
      "text/latex": [
       "\\begin{description*}\n",
       "\\item[Training set] 7.68682257039436\n",
       "\\item[Test set] 22.0977296594459\n",
       "\\end{description*}\n"
      ],
      "text/markdown": [
       "Training set\n",
       ":   7.68682257039436Test set\n",
       ":   22.0977296594459\n",
       "\n"
      ],
      "text/plain": [
       "Training set     Test set \n",
       "    7.686823    22.097730 "
      ]
     },
     "metadata": {},
     "output_type": "display_data"
    },
    {
     "data": {
      "text/html": [
       "<dl class=dl-horizontal>\n",
       "\t<dt>Training set</dt>\n",
       "\t\t<dd>18.0934122074859</dd>\n",
       "\t<dt>Test set</dt>\n",
       "\t\t<dd>13.0218511897023</dd>\n",
       "</dl>\n"
      ],
      "text/latex": [
       "\\begin{description*}\n",
       "\\item[Training set] 18.0934122074859\n",
       "\\item[Test set] 13.0218511897023\n",
       "\\end{description*}\n"
      ],
      "text/markdown": [
       "Training set\n",
       ":   18.0934122074859Test set\n",
       ":   13.0218511897023\n",
       "\n"
      ],
      "text/plain": [
       "Training set     Test set \n",
       "    18.09341     13.02185 "
      ]
     },
     "metadata": {},
     "output_type": "display_data"
    }
   ],
   "source": [
    "precision4.2<-accuracy(forecast(fit4.2,h=longitud_pronostico),for4.2)[,2] #RMSE mod1 SARIMA\n",
    "precision4.21<-accuracy(forecast(fit4.21,h=longitud_pronostico),for4.2)[,2] #RMSE mod2 SARIMA\n",
    "precision4.22<-accuracy(forecast(fit4.22,h=longitud_pronostico),for4.2)[,2] #RMSE mod2 SARIMA\n",
    "precision4.2\n",
    "precision4.21\n",
    "precision4.22"
   ]
  },
  {
   "cell_type": "code",
   "execution_count": 687,
   "metadata": {
    "collapsed": false
   },
   "outputs": [
    {
     "data": {
      "text/html": [
       "<table>\n",
       "<tbody>\n",
       "\t<tr><td>           </td><td>p          </td><td>d          </td><td>q          </td><td>P          </td><td>D          </td><td>Q          </td><td>S          </td><td>RMSE_sample</td><td>RMSE_for   </td></tr>\n",
       "\t<tr><td>Muestra 4.2</td><td>1          </td><td>0          </td><td>1          </td><td>0          </td><td>1          </td><td>1          </td><td>7          </td><td>7.69       </td><td>22.1       </td></tr>\n",
       "\t<tr><td>Muestra 4.21</td><td>1           </td><td>0           </td><td>1           </td><td>0           </td><td>1           </td><td>1           </td><td>7           </td><td>7.69        </td><td>22.1        </td></tr>\n",
       "\t<tr><td>Muestra 4.22</td><td>0           </td><td>1           </td><td>3           </td><td>1           </td><td>0           </td><td>0           </td><td>7           </td><td>18.09       </td><td>13.02       </td></tr>\n",
       "</tbody>\n",
       "</table>\n"
      ],
      "text/latex": [
       "\\begin{tabular}{llllllllll}\n",
       "\t               & p             & d             & q             & P             & D             & Q             & S             & RMSE\\_sample & RMSE\\_for   \\\\\n",
       "\t Muestra 4.2 & 1           & 0           & 1           & 0           & 1           & 1           & 7           & 7.69        & 22.1       \\\\\n",
       "\t Muestra 4.21 & 1            & 0            & 1            & 0            & 1            & 1            & 7            & 7.69         & 22.1        \\\\\n",
       "\t Muestra 4.22 & 0            & 1            & 3            & 1            & 0            & 0            & 7            & 18.09        & 13.02       \\\\\n",
       "\\end{tabular}\n"
      ],
      "text/markdown": [
       "1. \"\"\n",
       "2. \"Muestra 4.2\"\n",
       "3. \"Muestra 4.21\"\n",
       "4. \"Muestra 4.22\"\n",
       "5. \"p\"\n",
       "6. \"1\"\n",
       "7. \"1\"\n",
       "8. \"0\"\n",
       "9. \"d\"\n",
       "10. \"0\"\n",
       "11. \"0\"\n",
       "12. \"1\"\n",
       "13. \"q\"\n",
       "14. \"1\"\n",
       "15. \"1\"\n",
       "16. \"3\"\n",
       "17. \"P\"\n",
       "18. \"0\"\n",
       "19. \"0\"\n",
       "20. \"1\"\n",
       "21. \"D\"\n",
       "22. \"1\"\n",
       "23. \"1\"\n",
       "24. \"0\"\n",
       "25. \"Q\"\n",
       "26. \"1\"\n",
       "27. \"1\"\n",
       "28. \"0\"\n",
       "29. \"S\"\n",
       "30. \"7\"\n",
       "31. \"7\"\n",
       "32. \"7\"\n",
       "33. \"RMSE_sample\"\n",
       "34. \"7.69\"\n",
       "35. \"7.69\"\n",
       "36. \"18.09\"\n",
       "37. \"RMSE_for\"\n",
       "38. \"22.1\"\n",
       "39. \"22.1\"\n",
       "40. \"13.02\"\n",
       "\n",
       "\n"
      ],
      "text/plain": [
       "     [,1]           [,2] [,3] [,4] [,5] [,6] [,7] [,8] [,9]          [,10]     \n",
       "[1,] \"\"             \"p\"  \"d\"  \"q\"  \"P\"  \"D\"  \"Q\"  \"S\"  \"RMSE_sample\" \"RMSE_for\"\n",
       "[2,] \"Muestra 4.2\"  \"1\"  \"0\"  \"1\"  \"0\"  \"1\"  \"1\"  \"7\"  \"7.69\"        \"22.1\"    \n",
       "[3,] \"Muestra 4.21\" \"1\"  \"0\"  \"1\"  \"0\"  \"1\"  \"1\"  \"7\"  \"7.69\"        \"22.1\"    \n",
       "[4,] \"Muestra 4.22\" \"0\"  \"1\"  \"3\"  \"1\"  \"0\"  \"0\"  \"7\"  \"18.09\"       \"13.02\"   "
      ]
     },
     "metadata": {},
     "output_type": "display_data"
    }
   ],
   "source": [
    "ordenes<-rbind(c(\"p\",\"d\",\"q\",\"P\",\"D\",\"Q\",\"S\",\"RMSE_sample\", \"RMSE_for\"),\n",
    "               c(arimaorder(fit4.2),round(precision4.2[[1]],2),round(precision4.2[[2]],2)),\n",
    "               c(arimaorder(fit4.21),round(precision4.21[[1]],2),round(precision4.21[[2]],2)),\n",
    "               c(arimaorder(fit4.22),round(precision4.22[[1]],2),round(precision4.22[[2]],2)))\n",
    "resultados4.2<-cbind(c(\"\",\"Muestra 4.2\",\"Muestra 4.21\",\"Muestra 4.22\"),ordenes)\n",
    "resultados4.2"
   ]
  },
  {
   "cell_type": "code",
   "execution_count": 500,
   "metadata": {
    "collapsed": true
   },
   "outputs": [],
   "source": [
    "## Grupo 3 para ventana de 4 años\n",
    "f4.3<-ts(modelos.fit$mod3,frequency = 7)"
   ]
  },
  {
   "cell_type": "code",
   "execution_count": 501,
   "metadata": {
    "collapsed": false
   },
   "outputs": [
    {
     "data": {
      "image/png": "[encoded data removed]",
      "text/plain": [
       "Plot with title \"\""
      ]
     },
     "metadata": {
      "image/svg+xml": {
       "isolated": true
      }
     },
     "output_type": "display_data"
    }
   ],
   "source": [
    "tsdisplay(f4.3)"
   ]
  },
  {
   "cell_type": "code",
   "execution_count": 683,
   "metadata": {
    "collapsed": false
   },
   "outputs": [
    {
     "data": {
      "text/html": [
       "1"
      ],
      "text/latex": [
       "1"
      ],
      "text/markdown": [
       "1"
      ],
      "text/plain": [
       "[1] 1"
      ]
     },
     "metadata": {},
     "output_type": "display_data"
    },
    {
     "data": {
      "text/html": [
       "1"
      ],
      "text/latex": [
       "1"
      ],
      "text/markdown": [
       "1"
      ],
      "text/plain": [
       "[1] 1"
      ]
     },
     "metadata": {},
     "output_type": "display_data"
    },
    {
     "data": {
      "text/html": [
       "0"
      ],
      "text/latex": [
       "0"
      ],
      "text/markdown": [
       "0"
      ],
      "text/plain": [
       "[1] 0"
      ]
     },
     "metadata": {},
     "output_type": "display_data"
    },
    {
     "data": {
      "text/html": [
       "1"
      ],
      "text/latex": [
       "1"
      ],
      "text/markdown": [
       "1"
      ],
      "text/plain": [
       "[1] 1"
      ]
     },
     "metadata": {},
     "output_type": "display_data"
    },
    {
     "data": {
      "text/html": [
       "0"
      ],
      "text/latex": [
       "0"
      ],
      "text/markdown": [
       "0"
      ],
      "text/plain": [
       "[1] 0"
      ]
     },
     "metadata": {},
     "output_type": "display_data"
    }
   ],
   "source": [
    "#Pruebas de raices unitarias y raices unitarias estacionales\n",
    "\n",
    "ndiffs(x = f4.3,alpha = 0.05,test = \"adf\",max.d=2) #Augmented Dickey Fuller Test\n",
    "ndiffs(x = f4.3,alpha = 0.05,test = \"kpss\",max.d=2) #Kwiatkowski–Phillips–Schmidt–Shin Test\n",
    "ndiffs(x = f4.3,alpha = 0.05,test = \"pp\",max.d=2) #Phillips–Perron Test\n",
    "nsdiffs(x=f4.3,m=7,test=\"ch\",max.D=2) # Canova-Hansen Test\n",
    "nsdiffs(x=f4.3,m=7,test=\"ocsb\",max.D=2) #OCSB Test"
   ]
  },
  {
   "cell_type": "code",
   "execution_count": 503,
   "metadata": {
    "collapsed": false
   },
   "outputs": [
    {
     "data": {
      "text/html": [
       "<ol class=list-inline>\n",
       "\t<li>5</li>\n",
       "\t<li>1</li>\n",
       "\t<li>2</li>\n",
       "\t<li>0</li>\n",
       "\t<li>0</li>\n",
       "\t<li>2</li>\n",
       "\t<li>7</li>\n",
       "</ol>\n"
      ],
      "text/latex": [
       "\\begin{enumerate*}\n",
       "\\item 5\n",
       "\\item 1\n",
       "\\item 2\n",
       "\\item 0\n",
       "\\item 0\n",
       "\\item 2\n",
       "\\item 7\n",
       "\\end{enumerate*}\n"
      ],
      "text/markdown": [
       "1. 5\n",
       "2. 1\n",
       "3. 2\n",
       "4. 0\n",
       "5. 0\n",
       "6. 2\n",
       "7. 7\n",
       "\n",
       "\n"
      ],
      "text/plain": [
       "[1] 5 1 2 0 0 2 7"
      ]
     },
     "metadata": {},
     "output_type": "display_data"
    },
    {
     "data": {
      "text/html": [
       "10211.9233699529"
      ],
      "text/latex": [
       "10211.9233699529"
      ],
      "text/markdown": [
       "10211.9233699529"
      ],
      "text/plain": [
       "[1] 10211.92"
      ]
     },
     "metadata": {},
     "output_type": "display_data"
    }
   ],
   "source": [
    "fit4.3<-auto.arima(f4.3)\n",
    "arimaorder(fit4.3)\n",
    "fit4.3$aicc"
   ]
  },
  {
   "cell_type": "code",
   "execution_count": 504,
   "metadata": {
    "collapsed": false
   },
   "outputs": [
    {
     "data": {
      "text/html": [
       "<ol class=list-inline>\n",
       "\t<li>1</li>\n",
       "\t<li>1</li>\n",
       "\t<li>2</li>\n",
       "\t<li>2</li>\n",
       "\t<li>1</li>\n",
       "\t<li>0</li>\n",
       "\t<li>7</li>\n",
       "</ol>\n"
      ],
      "text/latex": [
       "\\begin{enumerate*}\n",
       "\\item 1\n",
       "\\item 1\n",
       "\\item 2\n",
       "\\item 2\n",
       "\\item 1\n",
       "\\item 0\n",
       "\\item 7\n",
       "\\end{enumerate*}\n"
      ],
      "text/markdown": [
       "1. 1\n",
       "2. 1\n",
       "3. 2\n",
       "4. 2\n",
       "5. 1\n",
       "6. 0\n",
       "7. 7\n",
       "\n",
       "\n"
      ],
      "text/plain": [
       "[1] 1 1 2 2 1 0 7"
      ]
     },
     "metadata": {},
     "output_type": "display_data"
    },
    {
     "data": {
      "text/html": [
       "10361.3755486223"
      ],
      "text/latex": [
       "10361.3755486223"
      ],
      "text/markdown": [
       "10361.3755486223"
      ],
      "text/plain": [
       "[1] 10361.38"
      ]
     },
     "metadata": {},
     "output_type": "display_data"
    }
   ],
   "source": [
    "fit4.31<-auto.arima(f4.3,d=1,D=1)\n",
    "arimaorder(fit4.31)\n",
    "fit4.31$aicc"
   ]
  },
  {
   "cell_type": "code",
   "execution_count": 588,
   "metadata": {
    "collapsed": false
   },
   "outputs": [
    {
     "data": {
      "text/html": [
       "<ol class=list-inline>\n",
       "\t<li>1</li>\n",
       "\t<li>1</li>\n",
       "\t<li>2</li>\n",
       "\t<li>2</li>\n",
       "\t<li>0</li>\n",
       "\t<li>0</li>\n",
       "\t<li>7</li>\n",
       "</ol>\n"
      ],
      "text/latex": [
       "\\begin{enumerate*}\n",
       "\\item 1\n",
       "\\item 1\n",
       "\\item 2\n",
       "\\item 2\n",
       "\\item 0\n",
       "\\item 0\n",
       "\\item 7\n",
       "\\end{enumerate*}\n"
      ],
      "text/markdown": [
       "1. 1\n",
       "2. 1\n",
       "3. 2\n",
       "4. 2\n",
       "5. 0\n",
       "6. 0\n",
       "7. 7\n",
       "\n",
       "\n"
      ],
      "text/plain": [
       "[1] 1 1 2 2 0 0 7"
      ]
     },
     "metadata": {},
     "output_type": "display_data"
    },
    {
     "data": {
      "text/html": [
       "10192.4096492995"
      ],
      "text/latex": [
       "10192.4096492995"
      ],
      "text/markdown": [
       "10192.4096492995"
      ],
      "text/plain": [
       "[1] 10192.41"
      ]
     },
     "metadata": {},
     "output_type": "display_data"
    }
   ],
   "source": [
    "fit4.32<-auto.arima(f4.3,d=1,stepwise = FALSE,approximation = FALSE)\n",
    "arimaorder(fit4.32)\n",
    "fit4.32$aicc"
   ]
  },
  {
   "cell_type": "code",
   "execution_count": 506,
   "metadata": {
    "collapsed": false
   },
   "outputs": [
    {
     "data": {
      "text/html": [
       "<ol class=list-inline>\n",
       "\t<li>1</li>\n",
       "\t<li>1</li>\n",
       "\t<li>2</li>\n",
       "\t<li>2</li>\n",
       "\t<li>0</li>\n",
       "\t<li>0</li>\n",
       "\t<li>7</li>\n",
       "</ol>\n"
      ],
      "text/latex": [
       "\\begin{enumerate*}\n",
       "\\item 1\n",
       "\\item 1\n",
       "\\item 2\n",
       "\\item 2\n",
       "\\item 0\n",
       "\\item 0\n",
       "\\item 7\n",
       "\\end{enumerate*}\n"
      ],
      "text/markdown": [
       "1. 1\n",
       "2. 1\n",
       "3. 2\n",
       "4. 2\n",
       "5. 0\n",
       "6. 0\n",
       "7. 7\n",
       "\n",
       "\n"
      ],
      "text/plain": [
       "[1] 1 1 2 2 0 0 7"
      ]
     },
     "metadata": {},
     "output_type": "display_data"
    },
    {
     "data": {
      "text/html": [
       "10192.4096492995"
      ],
      "text/latex": [
       "10192.4096492995"
      ],
      "text/markdown": [
       "10192.4096492995"
      ],
      "text/plain": [
       "[1] 10192.41"
      ]
     },
     "metadata": {},
     "output_type": "display_data"
    }
   ],
   "source": [
    "fit4.33<-auto.arima(f4.3,stepwise = FALSE,approximation = FALSE)\n",
    "arimaorder(fit4.33)\n",
    "fit4.33$aicc"
   ]
  },
  {
   "cell_type": "code",
   "execution_count": 508,
   "metadata": {
    "collapsed": false
   },
   "outputs": [
    {
     "data": {
      "text/html": [
       "<ol class=list-inline>\n",
       "\t<li>1</li>\n",
       "\t<li>0</li>\n",
       "\t<li>1</li>\n",
       "\t<li>0</li>\n",
       "\t<li>1</li>\n",
       "\t<li>1</li>\n",
       "\t<li>7</li>\n",
       "</ol>\n"
      ],
      "text/latex": [
       "\\begin{enumerate*}\n",
       "\\item 1\n",
       "\\item 0\n",
       "\\item 1\n",
       "\\item 0\n",
       "\\item 1\n",
       "\\item 1\n",
       "\\item 7\n",
       "\\end{enumerate*}\n"
      ],
      "text/markdown": [
       "1. 1\n",
       "2. 0\n",
       "3. 1\n",
       "4. 0\n",
       "5. 1\n",
       "6. 1\n",
       "7. 7\n",
       "\n",
       "\n"
      ],
      "text/plain": [
       "[1] 1 0 1 0 1 1 7"
      ]
     },
     "metadata": {},
     "output_type": "display_data"
    },
    {
     "data": {
      "text/html": [
       "10077.9844025139"
      ],
      "text/latex": [
       "10077.9844025139"
      ],
      "text/markdown": [
       "10077.9844025139"
      ],
      "text/plain": [
       "[1] 10077.98"
      ]
     },
     "metadata": {},
     "output_type": "display_data"
    }
   ],
   "source": [
    "fit4.34<-auto.arima(f4.3,D=1,stepwise = FALSE,approximation = FALSE)\n",
    "arimaorder(fit4.34)\n",
    "fit4.34$aicc"
   ]
  },
  {
   "cell_type": "code",
   "execution_count": 513,
   "metadata": {
    "collapsed": false
   },
   "outputs": [
    {
     "data": {
      "image/png": "[encoded data removed]",
      "text/plain": [
       "Plot with title \"Forecasts from ARIMA(1,0,1)(0,1,1)[7]\""
      ]
     },
     "metadata": {
      "image/svg+xml": {
       "isolated": true
      }
     },
     "output_type": "display_data"
    }
   ],
   "source": [
    "plot(forecast(fit4.34,h=longitud_pronostico),xlim=c(0,250))\n",
    "lines(fitted(fit4.34),col=\"red\")\n",
    "lines(append(rep(NA,210),for4.3),col=\"green\")"
   ]
  },
  {
   "cell_type": "code",
   "execution_count": 589,
   "metadata": {
    "collapsed": false
   },
   "outputs": [
    {
     "data": {
      "text/html": [
       "<dl class=dl-horizontal>\n",
       "\t<dt>Training set</dt>\n",
       "\t\t<dd>7.94998696819529</dd>\n",
       "\t<dt>Test set</dt>\n",
       "\t\t<dd>12.4300522995274</dd>\n",
       "</dl>\n"
      ],
      "text/latex": [
       "\\begin{description*}\n",
       "\\item[Training set] 7.94998696819529\n",
       "\\item[Test set] 12.4300522995274\n",
       "\\end{description*}\n"
      ],
      "text/markdown": [
       "Training set\n",
       ":   7.94998696819529Test set\n",
       ":   12.4300522995274\n",
       "\n"
      ],
      "text/plain": [
       "Training set     Test set \n",
       "    7.949987    12.430052 "
      ]
     },
     "metadata": {},
     "output_type": "display_data"
    },
    {
     "data": {
      "text/html": [
       "<dl class=dl-horizontal>\n",
       "\t<dt>Training set</dt>\n",
       "\t\t<dd>8.50571992534015</dd>\n",
       "\t<dt>Test set</dt>\n",
       "\t\t<dd>23.1430124537151</dd>\n",
       "</dl>\n"
      ],
      "text/latex": [
       "\\begin{description*}\n",
       "\\item[Training set] 8.50571992534015\n",
       "\\item[Test set] 23.1430124537151\n",
       "\\end{description*}\n"
      ],
      "text/markdown": [
       "Training set\n",
       ":   8.50571992534015Test set\n",
       ":   23.1430124537151\n",
       "\n"
      ],
      "text/plain": [
       "Training set     Test set \n",
       "     8.50572     23.14301 "
      ]
     },
     "metadata": {},
     "output_type": "display_data"
    },
    {
     "data": {
      "text/html": [
       "<dl class=dl-horizontal>\n",
       "\t<dt>Training set</dt>\n",
       "\t\t<dd>7.9181024064109</dd>\n",
       "\t<dt>Test set</dt>\n",
       "\t\t<dd>12.491566747895</dd>\n",
       "</dl>\n"
      ],
      "text/latex": [
       "\\begin{description*}\n",
       "\\item[Training set] 7.9181024064109\n",
       "\\item[Test set] 12.491566747895\n",
       "\\end{description*}\n"
      ],
      "text/markdown": [
       "Training set\n",
       ":   7.9181024064109Test set\n",
       ":   12.491566747895\n",
       "\n"
      ],
      "text/plain": [
       "Training set     Test set \n",
       "    7.918102    12.491567 "
      ]
     },
     "metadata": {},
     "output_type": "display_data"
    },
    {
     "data": {
      "text/html": [
       "<dl class=dl-horizontal>\n",
       "\t<dt>Training set</dt>\n",
       "\t\t<dd>7.68682257039436</dd>\n",
       "\t<dt>Test set</dt>\n",
       "\t\t<dd>11.4083718028164</dd>\n",
       "</dl>\n"
      ],
      "text/latex": [
       "\\begin{description*}\n",
       "\\item[Training set] 7.68682257039436\n",
       "\\item[Test set] 11.4083718028164\n",
       "\\end{description*}\n"
      ],
      "text/markdown": [
       "Training set\n",
       ":   7.68682257039436Test set\n",
       ":   11.4083718028164\n",
       "\n"
      ],
      "text/plain": [
       "Training set     Test set \n",
       "    7.686823    11.408372 "
      ]
     },
     "metadata": {},
     "output_type": "display_data"
    },
    {
     "data": {
      "text/html": [
       "<dl class=dl-horizontal>\n",
       "\t<dt>Training set</dt>\n",
       "\t\t<dd>7.68682257039436</dd>\n",
       "\t<dt>Test set</dt>\n",
       "\t\t<dd>11.4083718028164</dd>\n",
       "</dl>\n"
      ],
      "text/latex": [
       "\\begin{description*}\n",
       "\\item[Training set] 7.68682257039436\n",
       "\\item[Test set] 11.4083718028164\n",
       "\\end{description*}\n"
      ],
      "text/markdown": [
       "Training set\n",
       ":   7.68682257039436Test set\n",
       ":   11.4083718028164\n",
       "\n"
      ],
      "text/plain": [
       "Training set     Test set \n",
       "    7.686823    11.408372 "
      ]
     },
     "metadata": {},
     "output_type": "display_data"
    }
   ],
   "source": [
    "precision4.3<-accuracy(forecast(fit4.3,h=longitud_pronostico),for4.3)[,2] #RMSE mod1 SARIMA\n",
    "precision4.31<-accuracy(forecast(fit4.31,h=longitud_pronostico),for4.3)[,2] #RMSE mod2 SARIMA\n",
    "precision4.32<-accuracy(forecast(fit4.32,h=longitud_pronostico),for4.3)[,2] #RMSE mod3 SARIMA\n",
    "precision4.33<-accuracy(forecast(fit4.33,h=longitud_pronostico),for4.3)[,2] #RMSE mod4 SARIMA\n",
    "precision4.34<-accuracy(forecast(fit4.34,h=longitud_pronostico),for4.3)[,2] #RMSE mod5 SARIMA\n",
    "\n",
    "precision4.3\n",
    "precision4.31\n",
    "precision4.32\n",
    "precision4.33\n",
    "precision4.34"
   ]
  },
  {
   "cell_type": "code",
   "execution_count": 593,
   "metadata": {
    "collapsed": false
   },
   "outputs": [
    {
     "data": {
      "text/html": [
       "<table>\n",
       "<tbody>\n",
       "\t<tr><td>           </td><td>p          </td><td>d          </td><td>q          </td><td>P          </td><td>D          </td><td>Q          </td><td>S          </td><td>RMSE_sample</td><td>RMSE_for   </td></tr>\n",
       "\t<tr><td>Muestra 3</td><td>5        </td><td>1        </td><td>2        </td><td>0        </td><td>0        </td><td>2        </td><td>7        </td><td>7.95     </td><td>12.43    </td></tr>\n",
       "\t<tr><td>Muestra 3.1</td><td>1          </td><td>1          </td><td>2          </td><td>2          </td><td>1          </td><td>0          </td><td>7          </td><td>8.51       </td><td>23.14      </td></tr>\n",
       "\t<tr><td>Muestra 3.2</td><td>1          </td><td>1          </td><td>2          </td><td>2          </td><td>0          </td><td>0          </td><td>7          </td><td>7.92       </td><td>12.49      </td></tr>\n",
       "\t<tr><td>Muestra 3.3</td><td>1          </td><td>0          </td><td>1          </td><td>0          </td><td>1          </td><td>1          </td><td>7          </td><td>7.69       </td><td>11.41      </td></tr>\n",
       "\t<tr><td>Muestra 3.4</td><td>1          </td><td>0          </td><td>1          </td><td>0          </td><td>1          </td><td>1          </td><td>7          </td><td>7.69       </td><td>11.41      </td></tr>\n",
       "</tbody>\n",
       "</table>\n"
      ],
      "text/latex": [
       "\\begin{tabular}{llllllllll}\n",
       "\t               & p             & d             & q             & P             & D             & Q             & S             & RMSE\\_sample & RMSE\\_for   \\\\\n",
       "\t Muestra 3 & 5         & 1         & 2         & 0         & 0         & 2         & 7         & 7.95      & 12.43    \\\\\n",
       "\t Muestra 3.1 & 1           & 1           & 2           & 2           & 1           & 0           & 7           & 8.51        & 23.14      \\\\\n",
       "\t Muestra 3.2 & 1           & 1           & 2           & 2           & 0           & 0           & 7           & 7.92        & 12.49      \\\\\n",
       "\t Muestra 3.3 & 1           & 0           & 1           & 0           & 1           & 1           & 7           & 7.69        & 11.41      \\\\\n",
       "\t Muestra 3.4 & 1           & 0           & 1           & 0           & 1           & 1           & 7           & 7.69        & 11.41      \\\\\n",
       "\\end{tabular}\n"
      ],
      "text/markdown": [
       "1. \"\"\n",
       "2. \"Muestra 3\"\n",
       "3. \"Muestra 3.1\"\n",
       "4. \"Muestra 3.2\"\n",
       "5. \"Muestra 3.3\"\n",
       "6. \"Muestra 3.4\"\n",
       "7. \"p\"\n",
       "8. \"5\"\n",
       "9. \"1\"\n",
       "10. \"1\"\n",
       "11. \"1\"\n",
       "12. \"1\"\n",
       "13. \"d\"\n",
       "14. \"1\"\n",
       "15. \"1\"\n",
       "16. \"1\"\n",
       "17. \"0\"\n",
       "18. \"0\"\n",
       "19. \"q\"\n",
       "20. \"2\"\n",
       "21. \"2\"\n",
       "22. \"2\"\n",
       "23. \"1\"\n",
       "24. \"1\"\n",
       "25. \"P\"\n",
       "26. \"0\"\n",
       "27. \"2\"\n",
       "28. \"2\"\n",
       "29. \"0\"\n",
       "30. \"0\"\n",
       "31. \"D\"\n",
       "32. \"0\"\n",
       "33. \"1\"\n",
       "34. \"0\"\n",
       "35. \"1\"\n",
       "36. \"1\"\n",
       "37. \"Q\"\n",
       "38. \"2\"\n",
       "39. \"0\"\n",
       "40. \"0\"\n",
       "41. \"1\"\n",
       "42. \"1\"\n",
       "43. \"S\"\n",
       "44. \"7\"\n",
       "45. \"7\"\n",
       "46. \"7\"\n",
       "47. \"7\"\n",
       "48. \"7\"\n",
       "49. \"RMSE_sample\"\n",
       "50. \"7.95\"\n",
       "51. \"8.51\"\n",
       "52. \"7.92\"\n",
       "53. \"7.69\"\n",
       "54. \"7.69\"\n",
       "55. \"RMSE_for\"\n",
       "56. \"12.43\"\n",
       "57. \"23.14\"\n",
       "58. \"12.49\"\n",
       "59. \"11.41\"\n",
       "60. \"11.41\"\n",
       "\n",
       "\n"
      ],
      "text/plain": [
       "     [,1]          [,2] [,3] [,4] [,5] [,6] [,7] [,8] [,9]          [,10]     \n",
       "[1,] \"\"            \"p\"  \"d\"  \"q\"  \"P\"  \"D\"  \"Q\"  \"S\"  \"RMSE_sample\" \"RMSE_for\"\n",
       "[2,] \"Muestra 3\"   \"5\"  \"1\"  \"2\"  \"0\"  \"0\"  \"2\"  \"7\"  \"7.95\"        \"12.43\"   \n",
       "[3,] \"Muestra 3.1\" \"1\"  \"1\"  \"2\"  \"2\"  \"1\"  \"0\"  \"7\"  \"8.51\"        \"23.14\"   \n",
       "[4,] \"Muestra 3.2\" \"1\"  \"1\"  \"2\"  \"2\"  \"0\"  \"0\"  \"7\"  \"7.92\"        \"12.49\"   \n",
       "[5,] \"Muestra 3.3\" \"1\"  \"0\"  \"1\"  \"0\"  \"1\"  \"1\"  \"7\"  \"7.69\"        \"11.41\"   \n",
       "[6,] \"Muestra 3.4\" \"1\"  \"0\"  \"1\"  \"0\"  \"1\"  \"1\"  \"7\"  \"7.69\"        \"11.41\"   "
      ]
     },
     "metadata": {},
     "output_type": "display_data"
    }
   ],
   "source": [
    "ordenes<-rbind(c(\"p\",\"d\",\"q\",\"P\",\"D\",\"Q\",\"S\",\"RMSE_sample\", \"RMSE_for\"),\n",
    "               c(arimaorder(fit4.3),round(precision4.3[[1]],2),round(precision4.3[[2]],2)),\n",
    "               c(arimaorder(fit4.31),round(precision4.31[[1]],2),round(precision4.31[[2]],2)),\n",
    "               c(arimaorder(fit4.32),round(precision4.32[[1]],2),round(precision4.32[[2]],2)),\n",
    "               c(arimaorder(fit4.33),round(precision4.33[[1]],2),round(precision4.33[[2]],2)),\n",
    "               c(arimaorder(fit4.34),round(precision4.34[[1]],2),round(precision4.34[[2]],2))\n",
    "              )\n",
    "resultados4.3<-cbind(c(\"\",\"Muestra 3\",\"Muestra 3.1\",\"Muestra 3.2\",\"Muestra 3.3\",\"Muestra 3.4\"),ordenes)\n",
    "resultados4.3"
   ]
  },
  {
   "cell_type": "code",
   "execution_count": 514,
   "metadata": {
    "collapsed": true
   },
   "outputs": [],
   "source": [
    "## Grupo 4 para ventana de 4 años\n",
    "f4.4<-ts(modelos.fit$mod4,frequency = 7)"
   ]
  },
  {
   "cell_type": "code",
   "execution_count": 515,
   "metadata": {
    "collapsed": false
   },
   "outputs": [
    {
     "data": {
      "image/png": "[encoded data removed]",
      "text/plain": [
       "Plot with title \"\""
      ]
     },
     "metadata": {
      "image/svg+xml": {
       "isolated": true
      }
     },
     "output_type": "display_data"
    }
   ],
   "source": [
    "tsdisplay(f4.4)"
   ]
  },
  {
   "cell_type": "code",
   "execution_count": 688,
   "metadata": {
    "collapsed": false
   },
   "outputs": [
    {
     "data": {
      "text/html": [
       "0"
      ],
      "text/latex": [
       "0"
      ],
      "text/markdown": [
       "0"
      ],
      "text/plain": [
       "[1] 0"
      ]
     },
     "metadata": {},
     "output_type": "display_data"
    },
    {
     "data": {
      "text/html": [
       "1"
      ],
      "text/latex": [
       "1"
      ],
      "text/markdown": [
       "1"
      ],
      "text/plain": [
       "[1] 1"
      ]
     },
     "metadata": {},
     "output_type": "display_data"
    },
    {
     "data": {
      "text/html": [
       "0"
      ],
      "text/latex": [
       "0"
      ],
      "text/markdown": [
       "0"
      ],
      "text/plain": [
       "[1] 0"
      ]
     },
     "metadata": {},
     "output_type": "display_data"
    },
    {
     "data": {
      "text/html": [
       "0"
      ],
      "text/latex": [
       "0"
      ],
      "text/markdown": [
       "0"
      ],
      "text/plain": [
       "[1] 0"
      ]
     },
     "metadata": {},
     "output_type": "display_data"
    },
    {
     "data": {
      "text/html": [
       "0"
      ],
      "text/latex": [
       "0"
      ],
      "text/markdown": [
       "0"
      ],
      "text/plain": [
       "[1] 0"
      ]
     },
     "metadata": {},
     "output_type": "display_data"
    }
   ],
   "source": [
    "#Pruebas de raices unitarias y raices unitarias estacionales\n",
    "\n",
    "ndiffs(x = f4.4,alpha = 0.05,test = \"adf\",max.d=2) #Augmented Dickey Fuller Test\n",
    "ndiffs(x = f4.4,alpha = 0.05,test = \"kpss\",max.d=2) #Kwiatkowski–Phillips–Schmidt–Shin Test\n",
    "ndiffs(x = f4.4,alpha = 0.05,test = \"pp\",max.d=2) #Phillips–Perron Test\n",
    "nsdiffs(x=f4.4,m=7,test=\"ch\",max.D=2) # Canova-Hansen Test\n",
    "nsdiffs(x=f4.4,m=7,test=\"ocsb\",max.D=2) #OCSB Test"
   ]
  },
  {
   "cell_type": "code",
   "execution_count": 517,
   "metadata": {
    "collapsed": false
   },
   "outputs": [
    {
     "data": {
      "text/html": [
       "<ol class=list-inline>\n",
       "\t<li>1</li>\n",
       "\t<li>1</li>\n",
       "\t<li>1</li>\n",
       "\t<li>2</li>\n",
       "\t<li>0</li>\n",
       "\t<li>0</li>\n",
       "\t<li>7</li>\n",
       "</ol>\n"
      ],
      "text/latex": [
       "\\begin{enumerate*}\n",
       "\\item 1\n",
       "\\item 1\n",
       "\\item 1\n",
       "\\item 2\n",
       "\\item 0\n",
       "\\item 0\n",
       "\\item 7\n",
       "\\end{enumerate*}\n"
      ],
      "text/markdown": [
       "1. 1\n",
       "2. 1\n",
       "3. 1\n",
       "4. 2\n",
       "5. 0\n",
       "6. 0\n",
       "7. 7\n",
       "\n",
       "\n"
      ],
      "text/plain": [
       "[1] 1 1 1 2 0 0 7"
      ]
     },
     "metadata": {},
     "output_type": "display_data"
    },
    {
     "data": {
      "text/html": [
       "9833.97660743731"
      ],
      "text/latex": [
       "9833.97660743731"
      ],
      "text/markdown": [
       "9833.97660743731"
      ],
      "text/plain": [
       "[1] 9833.977"
      ]
     },
     "metadata": {},
     "output_type": "display_data"
    }
   ],
   "source": [
    "fit4.4<-auto.arima(f4.4,stepwise = FALSE,approximation = FALSE)\n",
    "arimaorder(fit4.4)\n",
    "fit4.4$aicc"
   ]
  },
  {
   "cell_type": "code",
   "execution_count": 518,
   "metadata": {
    "collapsed": false,
    "scrolled": false
   },
   "outputs": [
    {
     "data": {
      "text/html": [
       "<ol class=list-inline>\n",
       "\t<li>1</li>\n",
       "\t<li>1</li>\n",
       "\t<li>1</li>\n",
       "\t<li>0</li>\n",
       "\t<li>0</li>\n",
       "\t<li>2</li>\n",
       "\t<li>7</li>\n",
       "</ol>\n"
      ],
      "text/latex": [
       "\\begin{enumerate*}\n",
       "\\item 1\n",
       "\\item 1\n",
       "\\item 1\n",
       "\\item 0\n",
       "\\item 0\n",
       "\\item 2\n",
       "\\item 7\n",
       "\\end{enumerate*}\n"
      ],
      "text/markdown": [
       "1. 1\n",
       "2. 1\n",
       "3. 1\n",
       "4. 0\n",
       "5. 0\n",
       "6. 2\n",
       "7. 7\n",
       "\n",
       "\n"
      ],
      "text/plain": [
       "[1] 1 1 1 0 0 2 7"
      ]
     },
     "metadata": {},
     "output_type": "display_data"
    },
    {
     "data": {
      "text/html": [
       "9837.9726896638"
      ],
      "text/latex": [
       "9837.9726896638"
      ],
      "text/markdown": [
       "9837.9726896638"
      ],
      "text/plain": [
       "[1] 9837.973"
      ]
     },
     "metadata": {},
     "output_type": "display_data"
    }
   ],
   "source": [
    "fit4.41<-auto.arima(f4.4)\n",
    "arimaorder(fit4.41)\n",
    "fit4.41$aicc"
   ]
  },
  {
   "cell_type": "code",
   "execution_count": 520,
   "metadata": {
    "collapsed": false
   },
   "outputs": [
    {
     "data": {
      "image/png": "[encoded data removed]",
      "text/plain": [
       "Plot with title \"Forecasts from ARIMA(1,1,1)(0,0,2)[7]\""
      ]
     },
     "metadata": {
      "image/svg+xml": {
       "isolated": true
      }
     },
     "output_type": "display_data"
    }
   ],
   "source": [
    "plot(forecast(fit4.41,h=longitud_pronostico),xlim=c(0,250))\n",
    "lines(fitted(fit4.41),col=\"red\")\n",
    "lines(append(rep(NA,210),for4.4),col=\"green\")"
   ]
  },
  {
   "cell_type": "code",
   "execution_count": 594,
   "metadata": {
    "collapsed": false
   },
   "outputs": [
    {
     "data": {
      "text/html": [
       "<dl class=dl-horizontal>\n",
       "\t<dt>Training set</dt>\n",
       "\t\t<dd>7.0096327365182</dd>\n",
       "\t<dt>Test set</dt>\n",
       "\t\t<dd>20.9439387488078</dd>\n",
       "</dl>\n"
      ],
      "text/latex": [
       "\\begin{description*}\n",
       "\\item[Training set] 7.0096327365182\n",
       "\\item[Test set] 20.9439387488078\n",
       "\\end{description*}\n"
      ],
      "text/markdown": [
       "Training set\n",
       ":   7.0096327365182Test set\n",
       ":   20.9439387488078\n",
       "\n"
      ],
      "text/plain": [
       "Training set     Test set \n",
       "    7.009633    20.943939 "
      ]
     },
     "metadata": {},
     "output_type": "display_data"
    },
    {
     "data": {
      "text/html": [
       "<dl class=dl-horizontal>\n",
       "\t<dt>Training set</dt>\n",
       "\t\t<dd>7.01936709655594</dd>\n",
       "\t<dt>Test set</dt>\n",
       "\t\t<dd>21.027788317254</dd>\n",
       "</dl>\n"
      ],
      "text/latex": [
       "\\begin{description*}\n",
       "\\item[Training set] 7.01936709655594\n",
       "\\item[Test set] 21.027788317254\n",
       "\\end{description*}\n"
      ],
      "text/markdown": [
       "Training set\n",
       ":   7.01936709655594Test set\n",
       ":   21.027788317254\n",
       "\n"
      ],
      "text/plain": [
       "Training set     Test set \n",
       "    7.019367    21.027788 "
      ]
     },
     "metadata": {},
     "output_type": "display_data"
    }
   ],
   "source": [
    "precision4.4<-accuracy(forecast(fit4.4,h=longitud_pronostico),for4.4)[,2] #RMSE mod1 SARIMA\n",
    "precision4.41<-accuracy(forecast(fit4.41,h=longitud_pronostico),for4.4)[,2] #RMSE mod2 SARIMA\n",
    "\n",
    "precision4.4\n",
    "precision4.41"
   ]
  },
  {
   "cell_type": "code",
   "execution_count": 597,
   "metadata": {
    "collapsed": false
   },
   "outputs": [
    {
     "data": {
      "text/html": [
       "<table>\n",
       "<tbody>\n",
       "\t<tr><td>           </td><td>p          </td><td>d          </td><td>q          </td><td>P          </td><td>D          </td><td>Q          </td><td>S          </td><td>RMSE_sample</td><td>RMSE_for   </td></tr>\n",
       "\t<tr><td>Muestra 4.4</td><td>1          </td><td>1          </td><td>1          </td><td>2          </td><td>0          </td><td>0          </td><td>7          </td><td>7.01       </td><td>20.94      </td></tr>\n",
       "\t<tr><td>Muestra 4.41</td><td>1           </td><td>1           </td><td>1           </td><td>0           </td><td>0           </td><td>2           </td><td>7           </td><td>7.02        </td><td>21.03       </td></tr>\n",
       "</tbody>\n",
       "</table>\n"
      ],
      "text/latex": [
       "\\begin{tabular}{llllllllll}\n",
       "\t               & p             & d             & q             & P             & D             & Q             & S             & RMSE\\_sample & RMSE\\_for   \\\\\n",
       "\t Muestra 4.4 & 1           & 1           & 1           & 2           & 0           & 0           & 7           & 7.01        & 20.94      \\\\\n",
       "\t Muestra 4.41 & 1            & 1            & 1            & 0            & 0            & 2            & 7            & 7.02         & 21.03       \\\\\n",
       "\\end{tabular}\n"
      ],
      "text/markdown": [
       "1. \"\"\n",
       "2. \"Muestra 4.4\"\n",
       "3. \"Muestra 4.41\"\n",
       "4. \"p\"\n",
       "5. \"1\"\n",
       "6. \"1\"\n",
       "7. \"d\"\n",
       "8. \"1\"\n",
       "9. \"1\"\n",
       "10. \"q\"\n",
       "11. \"1\"\n",
       "12. \"1\"\n",
       "13. \"P\"\n",
       "14. \"2\"\n",
       "15. \"0\"\n",
       "16. \"D\"\n",
       "17. \"0\"\n",
       "18. \"0\"\n",
       "19. \"Q\"\n",
       "20. \"0\"\n",
       "21. \"2\"\n",
       "22. \"S\"\n",
       "23. \"7\"\n",
       "24. \"7\"\n",
       "25. \"RMSE_sample\"\n",
       "26. \"7.01\"\n",
       "27. \"7.02\"\n",
       "28. \"RMSE_for\"\n",
       "29. \"20.94\"\n",
       "30. \"21.03\"\n",
       "\n",
       "\n"
      ],
      "text/plain": [
       "     [,1]           [,2] [,3] [,4] [,5] [,6] [,7] [,8] [,9]          [,10]     \n",
       "[1,] \"\"             \"p\"  \"d\"  \"q\"  \"P\"  \"D\"  \"Q\"  \"S\"  \"RMSE_sample\" \"RMSE_for\"\n",
       "[2,] \"Muestra 4.4\"  \"1\"  \"1\"  \"1\"  \"2\"  \"0\"  \"0\"  \"7\"  \"7.01\"        \"20.94\"   \n",
       "[3,] \"Muestra 4.41\" \"1\"  \"1\"  \"1\"  \"0\"  \"0\"  \"2\"  \"7\"  \"7.02\"        \"21.03\"   "
      ]
     },
     "metadata": {},
     "output_type": "display_data"
    }
   ],
   "source": [
    "ordenes<-rbind(c(\"p\",\"d\",\"q\",\"P\",\"D\",\"Q\",\"S\",\"RMSE_sample\", \"RMSE_for\"),\n",
    "               c(arimaorder(fit4.4),round(precision4.4[[1]],2),round(precision4.4[[2]],2)),\n",
    "               c(arimaorder(fit4.41),round(precision4.41[[1]],2),round(precision4.41[[2]],2)))\n",
    "resultados4.4<-cbind(c(\"\",\"Muestra 4.4\",\"Muestra 4.41\"),ordenes)\n",
    "resultados4.4"
   ]
  },
  {
   "cell_type": "code",
   "execution_count": 521,
   "metadata": {
    "collapsed": true
   },
   "outputs": [],
   "source": [
    "## Grupo 5 para ventana de 4 años\n",
    "f4.5<-ts(modelos.fit$mod5,frequency = 7)"
   ]
  },
  {
   "cell_type": "code",
   "execution_count": 522,
   "metadata": {
    "collapsed": false
   },
   "outputs": [
    {
     "data": {
      "image/png": "[encoded data removed]",
      "text/plain": [
       "Plot with title \"\""
      ]
     },
     "metadata": {
      "image/svg+xml": {
       "isolated": true
      }
     },
     "output_type": "display_data"
    }
   ],
   "source": [
    "tsdisplay(f4.5)"
   ]
  },
  {
   "cell_type": "code",
   "execution_count": 689,
   "metadata": {
    "collapsed": false
   },
   "outputs": [
    {
     "data": {
      "text/html": [
       "0"
      ],
      "text/latex": [
       "0"
      ],
      "text/markdown": [
       "0"
      ],
      "text/plain": [
       "[1] 0"
      ]
     },
     "metadata": {},
     "output_type": "display_data"
    },
    {
     "data": {
      "text/html": [
       "1"
      ],
      "text/latex": [
       "1"
      ],
      "text/markdown": [
       "1"
      ],
      "text/plain": [
       "[1] 1"
      ]
     },
     "metadata": {},
     "output_type": "display_data"
    },
    {
     "data": {
      "text/html": [
       "0"
      ],
      "text/latex": [
       "0"
      ],
      "text/markdown": [
       "0"
      ],
      "text/plain": [
       "[1] 0"
      ]
     },
     "metadata": {},
     "output_type": "display_data"
    },
    {
     "data": {
      "text/html": [
       "0"
      ],
      "text/latex": [
       "0"
      ],
      "text/markdown": [
       "0"
      ],
      "text/plain": [
       "[1] 0"
      ]
     },
     "metadata": {},
     "output_type": "display_data"
    },
    {
     "data": {
      "text/html": [
       "0"
      ],
      "text/latex": [
       "0"
      ],
      "text/markdown": [
       "0"
      ],
      "text/plain": [
       "[1] 0"
      ]
     },
     "metadata": {},
     "output_type": "display_data"
    }
   ],
   "source": [
    "#Pruebas de raices unitarias y raices unitarias estacionales\n",
    "\n",
    "ndiffs(x = f4.5,alpha = 0.05,test = \"adf\",max.d=2) #Augmented Dickey Fuller Test\n",
    "ndiffs(x = f4.5,alpha = 0.05,test = \"kpss\",max.d=2) #Kwiatkowski–Phillips–Schmidt–Shin Test\n",
    "ndiffs(x = f4.5,alpha = 0.05,test = \"pp\",max.d=2) #Phillips–Perron Test\n",
    "nsdiffs(x=f4.5,m=7,test=\"ch\",max.D=2) # Canova-Hansen Test\n",
    "nsdiffs(x=f4.5,m=7,test=\"ocsb\",max.D=2) #OCSB Test"
   ]
  },
  {
   "cell_type": "code",
   "execution_count": 526,
   "metadata": {
    "collapsed": false
   },
   "outputs": [
    {
     "data": {
      "text/html": [
       "<ol class=list-inline>\n",
       "\t<li>2</li>\n",
       "\t<li>1</li>\n",
       "\t<li>1</li>\n",
       "\t<li>2</li>\n",
       "\t<li>0</li>\n",
       "\t<li>0</li>\n",
       "\t<li>7</li>\n",
       "</ol>\n"
      ],
      "text/latex": [
       "\\begin{enumerate*}\n",
       "\\item 2\n",
       "\\item 1\n",
       "\\item 1\n",
       "\\item 2\n",
       "\\item 0\n",
       "\\item 0\n",
       "\\item 7\n",
       "\\end{enumerate*}\n"
      ],
      "text/markdown": [
       "1. 2\n",
       "2. 1\n",
       "3. 1\n",
       "4. 2\n",
       "5. 0\n",
       "6. 0\n",
       "7. 7\n",
       "\n",
       "\n"
      ],
      "text/plain": [
       "[1] 2 1 1 2 0 0 7"
      ]
     },
     "metadata": {},
     "output_type": "display_data"
    },
    {
     "data": {
      "text/html": [
       "11608.0559628183"
      ],
      "text/latex": [
       "11608.0559628183"
      ],
      "text/markdown": [
       "11608.0559628183"
      ],
      "text/plain": [
       "[1] 11608.06"
      ]
     },
     "metadata": {},
     "output_type": "display_data"
    }
   ],
   "source": [
    "fit4.5<-auto.arima(f4.5,stepwise = FALSE,approximation = FALSE)\n",
    "arimaorder(fit4.5)\n",
    "fit4.5$aicc"
   ]
  },
  {
   "cell_type": "code",
   "execution_count": 527,
   "metadata": {
    "collapsed": false
   },
   "outputs": [
    {
     "data": {
      "text/html": [
       "<ol class=list-inline>\n",
       "\t<li>2</li>\n",
       "\t<li>1</li>\n",
       "\t<li>4</li>\n",
       "\t<li>0</li>\n",
       "\t<li>0</li>\n",
       "\t<li>2</li>\n",
       "\t<li>7</li>\n",
       "</ol>\n"
      ],
      "text/latex": [
       "\\begin{enumerate*}\n",
       "\\item 2\n",
       "\\item 1\n",
       "\\item 4\n",
       "\\item 0\n",
       "\\item 0\n",
       "\\item 2\n",
       "\\item 7\n",
       "\\end{enumerate*}\n"
      ],
      "text/markdown": [
       "1. 2\n",
       "2. 1\n",
       "3. 4\n",
       "4. 0\n",
       "5. 0\n",
       "6. 2\n",
       "7. 7\n",
       "\n",
       "\n"
      ],
      "text/plain": [
       "[1] 2 1 4 0 0 2 7"
      ]
     },
     "metadata": {},
     "output_type": "display_data"
    },
    {
     "data": {
      "text/html": [
       "11620.2624565455"
      ],
      "text/latex": [
       "11620.2624565455"
      ],
      "text/markdown": [
       "11620.2624565455"
      ],
      "text/plain": [
       "[1] 11620.26"
      ]
     },
     "metadata": {},
     "output_type": "display_data"
    }
   ],
   "source": [
    "fit4.51<-auto.arima(f4.5)\n",
    "arimaorder(fit4.51)\n",
    "fit4.51$aicc"
   ]
  },
  {
   "cell_type": "code",
   "execution_count": 534,
   "metadata": {
    "collapsed": false
   },
   "outputs": [
    {
     "data": {
      "image/png": "[encoded data removed]",
      "text/plain": [
       "Plot with title \"Forecasts from ARIMA(2,1,4)(0,0,2)[7]\""
      ]
     },
     "metadata": {
      "image/svg+xml": {
       "isolated": true
      }
     },
     "output_type": "display_data"
    }
   ],
   "source": [
    "plot(forecast(fit4.51,h=longitud_pronostico),xlim=c(0,250))\n",
    "lines(fitted(fit4.51),col=\"red\")\n",
    "lines(append(rep(NA,210),for4.5),col=\"green\")"
   ]
  },
  {
   "cell_type": "code",
   "execution_count": 596,
   "metadata": {
    "collapsed": false,
    "scrolled": false
   },
   "outputs": [
    {
     "data": {
      "text/html": [
       "<dl class=dl-horizontal>\n",
       "\t<dt>Training set</dt>\n",
       "\t\t<dd>12.8624577005511</dd>\n",
       "\t<dt>Test set</dt>\n",
       "\t\t<dd>27.3159169304114</dd>\n",
       "</dl>\n"
      ],
      "text/latex": [
       "\\begin{description*}\n",
       "\\item[Training set] 12.8624577005511\n",
       "\\item[Test set] 27.3159169304114\n",
       "\\end{description*}\n"
      ],
      "text/markdown": [
       "Training set\n",
       ":   12.8624577005511Test set\n",
       ":   27.3159169304114\n",
       "\n"
      ],
      "text/plain": [
       "Training set     Test set \n",
       "    12.86246     27.31592 "
      ]
     },
     "metadata": {},
     "output_type": "display_data"
    },
    {
     "data": {
      "text/html": [
       "<dl class=dl-horizontal>\n",
       "\t<dt>Training set</dt>\n",
       "\t\t<dd>12.8901830970129</dd>\n",
       "\t<dt>Test set</dt>\n",
       "\t\t<dd>28.5554746976367</dd>\n",
       "</dl>\n"
      ],
      "text/latex": [
       "\\begin{description*}\n",
       "\\item[Training set] 12.8901830970129\n",
       "\\item[Test set] 28.5554746976367\n",
       "\\end{description*}\n"
      ],
      "text/markdown": [
       "Training set\n",
       ":   12.8901830970129Test set\n",
       ":   28.5554746976367\n",
       "\n"
      ],
      "text/plain": [
       "Training set     Test set \n",
       "    12.89018     28.55547 "
      ]
     },
     "metadata": {},
     "output_type": "display_data"
    }
   ],
   "source": [
    "precision4.5<-accuracy(forecast(fit4.5,h=longitud_pronostico),for4.5)[,2] #RMSE mod1 SARIMA\n",
    "precision4.51<-accuracy(forecast(fit4.51,h=longitud_pronostico),for4.5)[,2] #RMSE mod2 SARIMA\n",
    "\n",
    "precision4.5\n",
    "precision4.51"
   ]
  },
  {
   "cell_type": "code",
   "execution_count": 598,
   "metadata": {
    "collapsed": false
   },
   "outputs": [
    {
     "data": {
      "text/html": [
       "<table>\n",
       "<tbody>\n",
       "\t<tr><td>           </td><td>p          </td><td>d          </td><td>q          </td><td>P          </td><td>D          </td><td>Q          </td><td>S          </td><td>RMSE_sample</td><td>RMSE_for   </td></tr>\n",
       "\t<tr><td>Muestra 4.5</td><td>2          </td><td>1          </td><td>1          </td><td>2          </td><td>0          </td><td>0          </td><td>7          </td><td>12.86      </td><td>27.32      </td></tr>\n",
       "\t<tr><td>Muestra 4.51</td><td>2           </td><td>1           </td><td>4           </td><td>0           </td><td>0           </td><td>2           </td><td>7           </td><td>12.89       </td><td>28.56       </td></tr>\n",
       "</tbody>\n",
       "</table>\n"
      ],
      "text/latex": [
       "\\begin{tabular}{llllllllll}\n",
       "\t               & p             & d             & q             & P             & D             & Q             & S             & RMSE\\_sample & RMSE\\_for   \\\\\n",
       "\t Muestra 4.5 & 2           & 1           & 1           & 2           & 0           & 0           & 7           & 12.86       & 27.32      \\\\\n",
       "\t Muestra 4.51 & 2            & 1            & 4            & 0            & 0            & 2            & 7            & 12.89        & 28.56       \\\\\n",
       "\\end{tabular}\n"
      ],
      "text/markdown": [
       "1. \"\"\n",
       "2. \"Muestra 4.5\"\n",
       "3. \"Muestra 4.51\"\n",
       "4. \"p\"\n",
       "5. \"2\"\n",
       "6. \"2\"\n",
       "7. \"d\"\n",
       "8. \"1\"\n",
       "9. \"1\"\n",
       "10. \"q\"\n",
       "11. \"1\"\n",
       "12. \"4\"\n",
       "13. \"P\"\n",
       "14. \"2\"\n",
       "15. \"0\"\n",
       "16. \"D\"\n",
       "17. \"0\"\n",
       "18. \"0\"\n",
       "19. \"Q\"\n",
       "20. \"0\"\n",
       "21. \"2\"\n",
       "22. \"S\"\n",
       "23. \"7\"\n",
       "24. \"7\"\n",
       "25. \"RMSE_sample\"\n",
       "26. \"12.86\"\n",
       "27. \"12.89\"\n",
       "28. \"RMSE_for\"\n",
       "29. \"27.32\"\n",
       "30. \"28.56\"\n",
       "\n",
       "\n"
      ],
      "text/plain": [
       "     [,1]           [,2] [,3] [,4] [,5] [,6] [,7] [,8] [,9]          [,10]     \n",
       "[1,] \"\"             \"p\"  \"d\"  \"q\"  \"P\"  \"D\"  \"Q\"  \"S\"  \"RMSE_sample\" \"RMSE_for\"\n",
       "[2,] \"Muestra 4.5\"  \"2\"  \"1\"  \"1\"  \"2\"  \"0\"  \"0\"  \"7\"  \"12.86\"       \"27.32\"   \n",
       "[3,] \"Muestra 4.51\" \"2\"  \"1\"  \"4\"  \"0\"  \"0\"  \"2\"  \"7\"  \"12.89\"       \"28.56\"   "
      ]
     },
     "metadata": {},
     "output_type": "display_data"
    }
   ],
   "source": [
    "ordenes<-rbind(c(\"p\",\"d\",\"q\",\"P\",\"D\",\"Q\",\"S\",\"RMSE_sample\", \"RMSE_for\"),\n",
    "               c(arimaorder(fit4.5),round(precision4.5[[1]],2),round(precision4.5[[2]],2)),\n",
    "               c(arimaorder(fit4.51),round(precision4.51[[1]],2),round(precision4.51[[2]],2)))\n",
    "resultados4.5<-cbind(c(\"\",\"Muestra 4.5\",\"Muestra 4.51\"),ordenes)\n",
    "resultados4.5"
   ]
  },
  {
   "cell_type": "code",
   "execution_count": 536,
   "metadata": {
    "collapsed": false
   },
   "outputs": [],
   "source": [
    "## Grupo 6 para ventana de 4 años\n",
    "f4.6<-ts(mod6,frequency = 7)"
   ]
  },
  {
   "cell_type": "code",
   "execution_count": 537,
   "metadata": {
    "collapsed": false
   },
   "outputs": [
    {
     "data": {
      "image/png": "[encoded data removed]",
      "text/plain": [
       "Plot with title \"\""
      ]
     },
     "metadata": {
      "image/svg+xml": {
       "isolated": true
      }
     },
     "output_type": "display_data"
    }
   ],
   "source": [
    "tsdisplay(f4.6)"
   ]
  },
  {
   "cell_type": "code",
   "execution_count": 690,
   "metadata": {
    "collapsed": false
   },
   "outputs": [
    {
     "data": {
      "text/html": [
       "0"
      ],
      "text/latex": [
       "0"
      ],
      "text/markdown": [
       "0"
      ],
      "text/plain": [
       "[1] 0"
      ]
     },
     "metadata": {},
     "output_type": "display_data"
    },
    {
     "data": {
      "text/html": [
       "1"
      ],
      "text/latex": [
       "1"
      ],
      "text/markdown": [
       "1"
      ],
      "text/plain": [
       "[1] 1"
      ]
     },
     "metadata": {},
     "output_type": "display_data"
    },
    {
     "data": {
      "text/html": [
       "0"
      ],
      "text/latex": [
       "0"
      ],
      "text/markdown": [
       "0"
      ],
      "text/plain": [
       "[1] 0"
      ]
     },
     "metadata": {},
     "output_type": "display_data"
    },
    {
     "data": {
      "text/html": [
       "0"
      ],
      "text/latex": [
       "0"
      ],
      "text/markdown": [
       "0"
      ],
      "text/plain": [
       "[1] 0"
      ]
     },
     "metadata": {},
     "output_type": "display_data"
    },
    {
     "data": {
      "text/html": [
       "0"
      ],
      "text/latex": [
       "0"
      ],
      "text/markdown": [
       "0"
      ],
      "text/plain": [
       "[1] 0"
      ]
     },
     "metadata": {},
     "output_type": "display_data"
    }
   ],
   "source": [
    "#Pruebas de raices unitarias y raices unitarias estacionales\n",
    "\n",
    "ndiffs(x = f4.6,alpha = 0.05,test = \"adf\",max.d=2) #Augmented Dickey Fuller Test\n",
    "ndiffs(x = f4.6,alpha = 0.05,test = \"kpss\",max.d=2) #Kwiatkowski–Phillips–Schmidt–Shin Test\n",
    "ndiffs(x = f4.6,alpha = 0.05,test = \"pp\",max.d=2) #Phillips–Perron Test\n",
    "nsdiffs(x=f4.6,m=7,test=\"ch\",max.D=1) # Canova-Hansen Test\n",
    "nsdiffs(x=f4.6,m=7,test=\"ocsb\",max.D=1) #OCSB Test"
   ]
  },
  {
   "cell_type": "code",
   "execution_count": 544,
   "metadata": {
    "collapsed": false
   },
   "outputs": [
    {
     "data": {
      "text/html": [
       "<ol class=list-inline>\n",
       "\t<li>3</li>\n",
       "\t<li>1</li>\n",
       "\t<li>0</li>\n",
       "\t<li>1</li>\n",
       "\t<li>0</li>\n",
       "\t<li>0</li>\n",
       "\t<li>7</li>\n",
       "</ol>\n"
      ],
      "text/latex": [
       "\\begin{enumerate*}\n",
       "\\item 3\n",
       "\\item 1\n",
       "\\item 0\n",
       "\\item 1\n",
       "\\item 0\n",
       "\\item 0\n",
       "\\item 7\n",
       "\\end{enumerate*}\n"
      ],
      "text/markdown": [
       "1. 3\n",
       "2. 1\n",
       "3. 0\n",
       "4. 1\n",
       "5. 0\n",
       "6. 0\n",
       "7. 7\n",
       "\n",
       "\n"
      ],
      "text/plain": [
       "[1] 3 1 0 1 0 0 7"
      ]
     },
     "metadata": {},
     "output_type": "display_data"
    },
    {
     "data": {
      "text/html": [
       "14614.0673674339"
      ],
      "text/latex": [
       "14614.0673674339"
      ],
      "text/markdown": [
       "14614.0673674339"
      ],
      "text/plain": [
       "[1] 14614.07"
      ]
     },
     "metadata": {},
     "output_type": "display_data"
    }
   ],
   "source": [
    "fit4.6<-auto.arima(f4.6,stepwise = FALSE,approximation = FALSE)\n",
    "arimaorder(fit4.6)\n",
    "fit4.6$aicc"
   ]
  },
  {
   "cell_type": "code",
   "execution_count": 545,
   "metadata": {
    "collapsed": false
   },
   "outputs": [
    {
     "data": {
      "text/html": [
       "<ol class=list-inline>\n",
       "\t<li>3</li>\n",
       "\t<li>0</li>\n",
       "\t<li>0</li>\n",
       "\t<li>2</li>\n",
       "\t<li>1</li>\n",
       "\t<li>0</li>\n",
       "\t<li>7</li>\n",
       "</ol>\n"
      ],
      "text/latex": [
       "\\begin{enumerate*}\n",
       "\\item 3\n",
       "\\item 0\n",
       "\\item 0\n",
       "\\item 2\n",
       "\\item 1\n",
       "\\item 0\n",
       "\\item 7\n",
       "\\end{enumerate*}\n"
      ],
      "text/markdown": [
       "1. 3\n",
       "2. 0\n",
       "3. 0\n",
       "4. 2\n",
       "5. 1\n",
       "6. 0\n",
       "7. 7\n",
       "\n",
       "\n"
      ],
      "text/plain": [
       "[1] 3 0 0 2 1 0 7"
      ]
     },
     "metadata": {},
     "output_type": "display_data"
    },
    {
     "data": {
      "text/html": [
       "14852.4222873917"
      ],
      "text/latex": [
       "14852.4222873917"
      ],
      "text/markdown": [
       "14852.4222873917"
      ],
      "text/plain": [
       "[1] 14852.42"
      ]
     },
     "metadata": {},
     "output_type": "display_data"
    }
   ],
   "source": [
    "fit4.61<-auto.arima(f4.6,D=1,stepwise = FALSE,approximation = FALSE)\n",
    "arimaorder(fit4.61)\n",
    "fit4.61$aicc"
   ]
  },
  {
   "cell_type": "code",
   "execution_count": 546,
   "metadata": {
    "collapsed": false,
    "scrolled": false
   },
   "outputs": [
    {
     "data": {
      "text/html": [
       "<ol class=list-inline>\n",
       "\t<li>0</li>\n",
       "\t<li>1</li>\n",
       "\t<li>3</li>\n",
       "\t<li>0</li>\n",
       "\t<li>0</li>\n",
       "\t<li>1</li>\n",
       "\t<li>7</li>\n",
       "</ol>\n"
      ],
      "text/latex": [
       "\\begin{enumerate*}\n",
       "\\item 0\n",
       "\\item 1\n",
       "\\item 3\n",
       "\\item 0\n",
       "\\item 0\n",
       "\\item 1\n",
       "\\item 7\n",
       "\\end{enumerate*}\n"
      ],
      "text/markdown": [
       "1. 0\n",
       "2. 1\n",
       "3. 3\n",
       "4. 0\n",
       "5. 0\n",
       "6. 1\n",
       "7. 7\n",
       "\n",
       "\n"
      ],
      "text/plain": [
       "[1] 0 1 3 0 0 1 7"
      ]
     },
     "metadata": {},
     "output_type": "display_data"
    },
    {
     "data": {
      "text/html": [
       "14614.384348069"
      ],
      "text/latex": [
       "14614.384348069"
      ],
      "text/markdown": [
       "14614.384348069"
      ],
      "text/plain": [
       "[1] 14614.38"
      ]
     },
     "metadata": {},
     "output_type": "display_data"
    }
   ],
   "source": [
    "fit4.62<-auto.arima(f4.6)\n",
    "arimaorder(fit4.62)\n",
    "fit4.62$aicc"
   ]
  },
  {
   "cell_type": "code",
   "execution_count": 703,
   "metadata": {
    "collapsed": false
   },
   "outputs": [
    {
     "data": {
      "image/png": "[encoded data removed]",
      "text/plain": [
       "Plot with title \"Series  fit4.6$residuals\""
      ]
     },
     "metadata": {
      "image/svg+xml": {
       "isolated": true
      }
     },
     "output_type": "display_data"
    }
   ],
   "source": [
    "par(mfrow=c(3,1))\n",
    "plot.ts(fit4.6$residuals)\n",
    "acf(fit4.6$residuals,ylim=c(-1,1))\n",
    "pacf(fit4.6$residuals,ylim=c(-1,1))\n"
   ]
  },
  {
   "cell_type": "code",
   "execution_count": 550,
   "metadata": {
    "collapsed": false
   },
   "outputs": [
    {
     "data": {
      "image/png": "[encoded data removed]",
      "text/plain": [
       "Plot with title \"Forecasts from ARIMA(3,1,0)(1,0,0)[7]\""
      ]
     },
     "metadata": {
      "image/svg+xml": {
       "isolated": true
      }
     },
     "output_type": "display_data"
    }
   ],
   "source": [
    "plot(forecast(fit4.6,h=longitud_pronostico),xlim=c(0,250))\n",
    "lines(fitted(fit4.6),col=\"red\")\n",
    "lines(append(rep(NA,210),for4.6),col=\"green\")"
   ]
  },
  {
   "cell_type": "code",
   "execution_count": 599,
   "metadata": {
    "collapsed": false,
    "scrolled": true
   },
   "outputs": [
    {
     "data": {
      "text/html": [
       "<dl class=dl-horizontal>\n",
       "\t<dt>Training set</dt>\n",
       "\t\t<dd>36.0706558143229</dd>\n",
       "\t<dt>Test set</dt>\n",
       "\t\t<dd>461.357916737132</dd>\n",
       "</dl>\n"
      ],
      "text/latex": [
       "\\begin{description*}\n",
       "\\item[Training set] 36.0706558143229\n",
       "\\item[Test set] 461.357916737132\n",
       "\\end{description*}\n"
      ],
      "text/markdown": [
       "Training set\n",
       ":   36.0706558143229Test set\n",
       ":   461.357916737132\n",
       "\n"
      ],
      "text/plain": [
       "Training set     Test set \n",
       "    36.07066    461.35792 "
      ]
     },
     "metadata": {},
     "output_type": "display_data"
    },
    {
     "data": {
      "text/html": [
       "<dl class=dl-horizontal>\n",
       "\t<dt>Training set</dt>\n",
       "\t\t<dd>36.0746161833768</dd>\n",
       "\t<dt>Test set</dt>\n",
       "\t\t<dd>460.750055827914</dd>\n",
       "</dl>\n"
      ],
      "text/latex": [
       "\\begin{description*}\n",
       "\\item[Training set] 36.0746161833768\n",
       "\\item[Test set] 460.750055827914\n",
       "\\end{description*}\n"
      ],
      "text/markdown": [
       "Training set\n",
       ":   36.0746161833768Test set\n",
       ":   460.750055827914\n",
       "\n"
      ],
      "text/plain": [
       "Training set     Test set \n",
       "    36.07462    460.75006 "
      ]
     },
     "metadata": {},
     "output_type": "display_data"
    }
   ],
   "source": [
    "precision4.6<-accuracy(forecast(fit4.6,h=longitud_pronostico),for4.6)[,2] #RMSE mod1 SARIMA\n",
    "precision4.62<-accuracy(forecast(fit4.62,h=longitud_pronostico),for4.6)[,2] #RMSE mod2 SARIMA\n",
    "\n",
    "precision4.6\n",
    "precision4.62"
   ]
  },
  {
   "cell_type": "code",
   "execution_count": 600,
   "metadata": {
    "collapsed": false
   },
   "outputs": [
    {
     "data": {
      "text/html": [
       "<table>\n",
       "<tbody>\n",
       "\t<tr><td>           </td><td>p          </td><td>d          </td><td>q          </td><td>P          </td><td>D          </td><td>Q          </td><td>S          </td><td>RMSE_sample</td><td>RMSE_for   </td></tr>\n",
       "\t<tr><td>Muestra 4.6</td><td>3          </td><td>1          </td><td>0          </td><td>1          </td><td>0          </td><td>0          </td><td>7          </td><td>36.07      </td><td>461.36     </td></tr>\n",
       "\t<tr><td>Muestra 4.62</td><td>0           </td><td>1           </td><td>3           </td><td>0           </td><td>0           </td><td>1           </td><td>7           </td><td>36.07       </td><td>460.75      </td></tr>\n",
       "</tbody>\n",
       "</table>\n"
      ],
      "text/latex": [
       "\\begin{tabular}{llllllllll}\n",
       "\t               & p             & d             & q             & P             & D             & Q             & S             & RMSE\\_sample & RMSE\\_for   \\\\\n",
       "\t Muestra 4.6 & 3           & 1           & 0           & 1           & 0           & 0           & 7           & 36.07       & 461.36     \\\\\n",
       "\t Muestra 4.62 & 0            & 1            & 3            & 0            & 0            & 1            & 7            & 36.07        & 460.75      \\\\\n",
       "\\end{tabular}\n"
      ],
      "text/markdown": [
       "1. \"\"\n",
       "2. \"Muestra 4.6\"\n",
       "3. \"Muestra 4.62\"\n",
       "4. \"p\"\n",
       "5. \"3\"\n",
       "6. \"0\"\n",
       "7. \"d\"\n",
       "8. \"1\"\n",
       "9. \"1\"\n",
       "10. \"q\"\n",
       "11. \"0\"\n",
       "12. \"3\"\n",
       "13. \"P\"\n",
       "14. \"1\"\n",
       "15. \"0\"\n",
       "16. \"D\"\n",
       "17. \"0\"\n",
       "18. \"0\"\n",
       "19. \"Q\"\n",
       "20. \"0\"\n",
       "21. \"1\"\n",
       "22. \"S\"\n",
       "23. \"7\"\n",
       "24. \"7\"\n",
       "25. \"RMSE_sample\"\n",
       "26. \"36.07\"\n",
       "27. \"36.07\"\n",
       "28. \"RMSE_for\"\n",
       "29. \"461.36\"\n",
       "30. \"460.75\"\n",
       "\n",
       "\n"
      ],
      "text/plain": [
       "     [,1]           [,2] [,3] [,4] [,5] [,6] [,7] [,8] [,9]          [,10]     \n",
       "[1,] \"\"             \"p\"  \"d\"  \"q\"  \"P\"  \"D\"  \"Q\"  \"S\"  \"RMSE_sample\" \"RMSE_for\"\n",
       "[2,] \"Muestra 4.6\"  \"3\"  \"1\"  \"0\"  \"1\"  \"0\"  \"0\"  \"7\"  \"36.07\"       \"461.36\"  \n",
       "[3,] \"Muestra 4.62\" \"0\"  \"1\"  \"3\"  \"0\"  \"0\"  \"1\"  \"7\"  \"36.07\"       \"460.75\"  "
      ]
     },
     "metadata": {},
     "output_type": "display_data"
    }
   ],
   "source": [
    "ordenes<-rbind(c(\"p\",\"d\",\"q\",\"P\",\"D\",\"Q\",\"S\",\"RMSE_sample\", \"RMSE_for\"),\n",
    "               c(arimaorder(fit4.6),round(precision4.6[[1]],2),round(precision4.6[[2]],2)),\n",
    "               c(arimaorder(fit4.62),round(precision4.62[[1]],2),round(precision4.62[[2]],2)))\n",
    "resultados4.6<-cbind(c(\"\",\"Muestra 4.6\",\"Muestra 4.62\"),ordenes)\n",
    "resultados4.6"
   ]
  },
  {
   "cell_type": "code",
   "execution_count": 691,
   "metadata": {
    "collapsed": false
   },
   "outputs": [
    {
     "data": {
      "text/html": [
       "<table>\n",
       "<tbody>\n",
       "\t<tr><td>           </td><td>p          </td><td>d          </td><td>q          </td><td>P          </td><td>D          </td><td>Q          </td><td>S          </td><td>RMSE_sample</td><td>RMSE_for   </td></tr>\n",
       "\t<tr><td>Muestra 4.1</td><td>2          </td><td>1          </td><td>2          </td><td>0          </td><td>0          </td><td>0          </td><td>0          </td><td>25.43      </td><td>3.12       </td></tr>\n",
       "\t<tr><td>Muestra 4.12</td><td>0           </td><td>1           </td><td>4           </td><td>0           </td><td>0           </td><td>0           </td><td>0           </td><td>25.07       </td><td>2.92        </td></tr>\n",
       "\t<tr><td>           </td><td>p          </td><td>d          </td><td>q          </td><td>P          </td><td>D          </td><td>Q          </td><td>S          </td><td>RMSE_sample</td><td>RMSE_for   </td></tr>\n",
       "\t<tr><td>Muestra 4.2</td><td>1          </td><td>0          </td><td>1          </td><td>0          </td><td>1          </td><td>1          </td><td>7          </td><td>7.69       </td><td>22.1       </td></tr>\n",
       "\t<tr><td>Muestra 4.21</td><td>1           </td><td>0           </td><td>1           </td><td>0           </td><td>1           </td><td>1           </td><td>7           </td><td>7.69        </td><td>22.1        </td></tr>\n",
       "\t<tr><td>Muestra 4.22</td><td>0           </td><td>1           </td><td>3           </td><td>1           </td><td>0           </td><td>0           </td><td>7           </td><td>18.09       </td><td>13.02       </td></tr>\n",
       "\t<tr><td>           </td><td>p          </td><td>d          </td><td>q          </td><td>P          </td><td>D          </td><td>Q          </td><td>S          </td><td>RMSE_sample</td><td>RMSE_for   </td></tr>\n",
       "\t<tr><td>Muestra 3</td><td>5        </td><td>1        </td><td>2        </td><td>0        </td><td>0        </td><td>2        </td><td>7        </td><td>7.95     </td><td>12.43    </td></tr>\n",
       "\t<tr><td>Muestra 3.1</td><td>1          </td><td>1          </td><td>2          </td><td>2          </td><td>1          </td><td>0          </td><td>7          </td><td>8.51       </td><td>23.14      </td></tr>\n",
       "\t<tr><td>Muestra 3.2</td><td>1          </td><td>1          </td><td>2          </td><td>2          </td><td>0          </td><td>0          </td><td>7          </td><td>7.92       </td><td>12.49      </td></tr>\n",
       "\t<tr><td>Muestra 3.3</td><td>1          </td><td>0          </td><td>1          </td><td>0          </td><td>1          </td><td>1          </td><td>7          </td><td>7.69       </td><td>11.41      </td></tr>\n",
       "\t<tr><td>Muestra 3.4</td><td>1          </td><td>0          </td><td>1          </td><td>0          </td><td>1          </td><td>1          </td><td>7          </td><td>7.69       </td><td>11.41      </td></tr>\n",
       "\t<tr><td>           </td><td>p          </td><td>d          </td><td>q          </td><td>P          </td><td>D          </td><td>Q          </td><td>S          </td><td>RMSE_sample</td><td>RMSE_for   </td></tr>\n",
       "\t<tr><td>Muestra 4.4</td><td>1          </td><td>1          </td><td>1          </td><td>2          </td><td>0          </td><td>0          </td><td>7          </td><td>7.01       </td><td>20.94      </td></tr>\n",
       "\t<tr><td>Muestra 4.41</td><td>1           </td><td>1           </td><td>1           </td><td>0           </td><td>0           </td><td>2           </td><td>7           </td><td>7.02        </td><td>21.03       </td></tr>\n",
       "\t<tr><td>           </td><td>p          </td><td>d          </td><td>q          </td><td>P          </td><td>D          </td><td>Q          </td><td>S          </td><td>RMSE_sample</td><td>RMSE_for   </td></tr>\n",
       "\t<tr><td>Muestra 4.5</td><td>2          </td><td>1          </td><td>1          </td><td>2          </td><td>0          </td><td>0          </td><td>7          </td><td>12.86      </td><td>27.32      </td></tr>\n",
       "\t<tr><td>Muestra 4.51</td><td>2           </td><td>1           </td><td>4           </td><td>0           </td><td>0           </td><td>2           </td><td>7           </td><td>12.89       </td><td>28.56       </td></tr>\n",
       "\t<tr><td>           </td><td>p          </td><td>d          </td><td>q          </td><td>P          </td><td>D          </td><td>Q          </td><td>S          </td><td>RMSE_sample</td><td>RMSE_for   </td></tr>\n",
       "\t<tr><td>Muestra 4.6</td><td>3          </td><td>1          </td><td>0          </td><td>1          </td><td>0          </td><td>0          </td><td>7          </td><td>36.07      </td><td>461.36     </td></tr>\n",
       "\t<tr><td>Muestra 4.62</td><td>0           </td><td>1           </td><td>3           </td><td>0           </td><td>0           </td><td>1           </td><td>7           </td><td>36.07       </td><td>460.75      </td></tr>\n",
       "</tbody>\n",
       "</table>\n"
      ],
      "text/latex": [
       "\\begin{tabular}{llllllllll}\n",
       "\t               & p             & d             & q             & P             & D             & Q             & S             & RMSE\\_sample & RMSE\\_for   \\\\\n",
       "\t Muestra 4.1 & 2           & 1           & 2           & 0           & 0           & 0           & 0           & 25.43       & 3.12       \\\\\n",
       "\t Muestra 4.12 & 0            & 1            & 4            & 0            & 0            & 0            & 0            & 25.07        & 2.92        \\\\\n",
       "\t               & p             & d             & q             & P             & D             & Q             & S             & RMSE\\_sample & RMSE\\_for   \\\\\n",
       "\t Muestra 4.2 & 1           & 0           & 1           & 0           & 1           & 1           & 7           & 7.69        & 22.1       \\\\\n",
       "\t Muestra 4.21 & 1            & 0            & 1            & 0            & 1            & 1            & 7            & 7.69         & 22.1        \\\\\n",
       "\t Muestra 4.22 & 0            & 1            & 3            & 1            & 0            & 0            & 7            & 18.09        & 13.02       \\\\\n",
       "\t               & p             & d             & q             & P             & D             & Q             & S             & RMSE\\_sample & RMSE\\_for   \\\\\n",
       "\t Muestra 3 & 5         & 1         & 2         & 0         & 0         & 2         & 7         & 7.95      & 12.43    \\\\\n",
       "\t Muestra 3.1 & 1           & 1           & 2           & 2           & 1           & 0           & 7           & 8.51        & 23.14      \\\\\n",
       "\t Muestra 3.2 & 1           & 1           & 2           & 2           & 0           & 0           & 7           & 7.92        & 12.49      \\\\\n",
       "\t Muestra 3.3 & 1           & 0           & 1           & 0           & 1           & 1           & 7           & 7.69        & 11.41      \\\\\n",
       "\t Muestra 3.4 & 1           & 0           & 1           & 0           & 1           & 1           & 7           & 7.69        & 11.41      \\\\\n",
       "\t               & p             & d             & q             & P             & D             & Q             & S             & RMSE\\_sample & RMSE\\_for   \\\\\n",
       "\t Muestra 4.4 & 1           & 1           & 1           & 2           & 0           & 0           & 7           & 7.01        & 20.94      \\\\\n",
       "\t Muestra 4.41 & 1            & 1            & 1            & 0            & 0            & 2            & 7            & 7.02         & 21.03       \\\\\n",
       "\t               & p             & d             & q             & P             & D             & Q             & S             & RMSE\\_sample & RMSE\\_for   \\\\\n",
       "\t Muestra 4.5 & 2           & 1           & 1           & 2           & 0           & 0           & 7           & 12.86       & 27.32      \\\\\n",
       "\t Muestra 4.51 & 2            & 1            & 4            & 0            & 0            & 2            & 7            & 12.89        & 28.56       \\\\\n",
       "\t               & p             & d             & q             & P             & D             & Q             & S             & RMSE\\_sample & RMSE\\_for   \\\\\n",
       "\t Muestra 4.6 & 3           & 1           & 0           & 1           & 0           & 0           & 7           & 36.07       & 461.36     \\\\\n",
       "\t Muestra 4.62 & 0            & 1            & 3            & 0            & 0            & 1            & 7            & 36.07        & 460.75      \\\\\n",
       "\\end{tabular}\n"
      ],
      "text/markdown": [
       "1. \"\"\n",
       "2. \"Muestra 4.1\"\n",
       "3. \"Muestra 4.12\"\n",
       "4. \"\"\n",
       "5. \"Muestra 4.2\"\n",
       "6. \"Muestra 4.21\"\n",
       "7. \"Muestra 4.22\"\n",
       "8. \"\"\n",
       "9. \"Muestra 3\"\n",
       "10. \"Muestra 3.1\"\n",
       "11. \"Muestra 3.2\"\n",
       "12. \"Muestra 3.3\"\n",
       "13. \"Muestra 3.4\"\n",
       "14. \"\"\n",
       "15. \"Muestra 4.4\"\n",
       "16. \"Muestra 4.41\"\n",
       "17. \"\"\n",
       "18. \"Muestra 4.5\"\n",
       "19. \"Muestra 4.51\"\n",
       "20. \"\"\n",
       "21. \"Muestra 4.6\"\n",
       "22. \"Muestra 4.62\"\n",
       "23. \"p\"\n",
       "24. \"2\"\n",
       "25. \"0\"\n",
       "26. \"p\"\n",
       "27. \"1\"\n",
       "28. \"1\"\n",
       "29. \"0\"\n",
       "30. \"p\"\n",
       "31. \"5\"\n",
       "32. \"1\"\n",
       "33. \"1\"\n",
       "34. \"1\"\n",
       "35. \"1\"\n",
       "36. \"p\"\n",
       "37. \"1\"\n",
       "38. \"1\"\n",
       "39. \"p\"\n",
       "40. \"2\"\n",
       "41. \"2\"\n",
       "42. \"p\"\n",
       "43. \"3\"\n",
       "44. \"0\"\n",
       "45. \"d\"\n",
       "46. \"1\"\n",
       "47. \"1\"\n",
       "48. \"d\"\n",
       "49. \"0\"\n",
       "50. \"0\"\n",
       "51. \"1\"\n",
       "52. \"d\"\n",
       "53. \"1\"\n",
       "54. \"1\"\n",
       "55. \"1\"\n",
       "56. \"0\"\n",
       "57. \"0\"\n",
       "58. \"d\"\n",
       "59. \"1\"\n",
       "60. \"1\"\n",
       "61. \"d\"\n",
       "62. \"1\"\n",
       "63. \"1\"\n",
       "64. \"d\"\n",
       "65. \"1\"\n",
       "66. \"1\"\n",
       "67. \"q\"\n",
       "68. \"2\"\n",
       "69. \"4\"\n",
       "70. \"q\"\n",
       "71. \"1\"\n",
       "72. \"1\"\n",
       "73. \"3\"\n",
       "74. \"q\"\n",
       "75. \"2\"\n",
       "76. \"2\"\n",
       "77. \"2\"\n",
       "78. \"1\"\n",
       "79. \"1\"\n",
       "80. \"q\"\n",
       "81. \"1\"\n",
       "82. \"1\"\n",
       "83. \"q\"\n",
       "84. \"1\"\n",
       "85. \"4\"\n",
       "86. \"q\"\n",
       "87. \"0\"\n",
       "88. \"3\"\n",
       "89. \"P\"\n",
       "90. \"0\"\n",
       "91. \"0\"\n",
       "92. \"P\"\n",
       "93. \"0\"\n",
       "94. \"0\"\n",
       "95. \"1\"\n",
       "96. \"P\"\n",
       "97. \"0\"\n",
       "98. \"2\"\n",
       "99. \"2\"\n",
       "100. \"0\"\n",
       "101. \"0\"\n",
       "102. \"P\"\n",
       "103. \"2\"\n",
       "104. \"0\"\n",
       "105. \"P\"\n",
       "106. \"2\"\n",
       "107. \"0\"\n",
       "108. \"P\"\n",
       "109. \"1\"\n",
       "110. \"0\"\n",
       "111. \"D\"\n",
       "112. \"0\"\n",
       "113. \"0\"\n",
       "114. \"D\"\n",
       "115. \"1\"\n",
       "116. \"1\"\n",
       "117. \"0\"\n",
       "118. \"D\"\n",
       "119. \"0\"\n",
       "120. \"1\"\n",
       "121. \"0\"\n",
       "122. \"1\"\n",
       "123. \"1\"\n",
       "124. \"D\"\n",
       "125. \"0\"\n",
       "126. \"0\"\n",
       "127. \"D\"\n",
       "128. \"0\"\n",
       "129. \"0\"\n",
       "130. \"D\"\n",
       "131. \"0\"\n",
       "132. \"0\"\n",
       "133. \"Q\"\n",
       "134. \"0\"\n",
       "135. \"0\"\n",
       "136. \"Q\"\n",
       "137. \"1\"\n",
       "138. \"1\"\n",
       "139. \"0\"\n",
       "140. \"Q\"\n",
       "141. \"2\"\n",
       "142. \"0\"\n",
       "143. \"0\"\n",
       "144. \"1\"\n",
       "145. \"1\"\n",
       "146. \"Q\"\n",
       "147. \"0\"\n",
       "148. \"2\"\n",
       "149. \"Q\"\n",
       "150. \"0\"\n",
       "151. \"2\"\n",
       "152. \"Q\"\n",
       "153. \"0\"\n",
       "154. \"1\"\n",
       "155. \"S\"\n",
       "156. \"0\"\n",
       "157. \"0\"\n",
       "158. \"S\"\n",
       "159. \"7\"\n",
       "160. \"7\"\n",
       "161. \"7\"\n",
       "162. \"S\"\n",
       "163. \"7\"\n",
       "164. \"7\"\n",
       "165. \"7\"\n",
       "166. \"7\"\n",
       "167. \"7\"\n",
       "168. \"S\"\n",
       "169. \"7\"\n",
       "170. \"7\"\n",
       "171. \"S\"\n",
       "172. \"7\"\n",
       "173. \"7\"\n",
       "174. \"S\"\n",
       "175. \"7\"\n",
       "176. \"7\"\n",
       "177. \"RMSE_sample\"\n",
       "178. \"25.43\"\n",
       "179. \"25.07\"\n",
       "180. \"RMSE_sample\"\n",
       "181. \"7.69\"\n",
       "182. \"7.69\"\n",
       "183. \"18.09\"\n",
       "184. \"RMSE_sample\"\n",
       "185. \"7.95\"\n",
       "186. \"8.51\"\n",
       "187. \"7.92\"\n",
       "188. \"7.69\"\n",
       "189. \"7.69\"\n",
       "190. \"RMSE_sample\"\n",
       "191. \"7.01\"\n",
       "192. \"7.02\"\n",
       "193. \"RMSE_sample\"\n",
       "194. \"12.86\"\n",
       "195. \"12.89\"\n",
       "196. \"RMSE_sample\"\n",
       "197. \"36.07\"\n",
       "198. \"36.07\"\n",
       "199. \"RMSE_for\"\n",
       "200. \"3.12\"\n",
       "201. \"2.92\"\n",
       "202. \"RMSE_for\"\n",
       "203. \"22.1\"\n",
       "204. \"22.1\"\n",
       "205. \"13.02\"\n",
       "206. \"RMSE_for\"\n",
       "207. \"12.43\"\n",
       "208. \"23.14\"\n",
       "209. \"12.49\"\n",
       "210. \"11.41\"\n",
       "211. \"11.41\"\n",
       "212. \"RMSE_for\"\n",
       "213. \"20.94\"\n",
       "214. \"21.03\"\n",
       "215. \"RMSE_for\"\n",
       "216. \"27.32\"\n",
       "217. \"28.56\"\n",
       "218. \"RMSE_for\"\n",
       "219. \"461.36\"\n",
       "220. \"460.75\"\n",
       "\n",
       "\n"
      ],
      "text/plain": [
       "      [,1]           [,2] [,3] [,4] [,5] [,6] [,7] [,8] [,9]         \n",
       " [1,] \"\"             \"p\"  \"d\"  \"q\"  \"P\"  \"D\"  \"Q\"  \"S\"  \"RMSE_sample\"\n",
       " [2,] \"Muestra 4.1\"  \"2\"  \"1\"  \"2\"  \"0\"  \"0\"  \"0\"  \"0\"  \"25.43\"      \n",
       " [3,] \"Muestra 4.12\" \"0\"  \"1\"  \"4\"  \"0\"  \"0\"  \"0\"  \"0\"  \"25.07\"      \n",
       " [4,] \"\"             \"p\"  \"d\"  \"q\"  \"P\"  \"D\"  \"Q\"  \"S\"  \"RMSE_sample\"\n",
       " [5,] \"Muestra 4.2\"  \"1\"  \"0\"  \"1\"  \"0\"  \"1\"  \"1\"  \"7\"  \"7.69\"       \n",
       " [6,] \"Muestra 4.21\" \"1\"  \"0\"  \"1\"  \"0\"  \"1\"  \"1\"  \"7\"  \"7.69\"       \n",
       " [7,] \"Muestra 4.22\" \"0\"  \"1\"  \"3\"  \"1\"  \"0\"  \"0\"  \"7\"  \"18.09\"      \n",
       " [8,] \"\"             \"p\"  \"d\"  \"q\"  \"P\"  \"D\"  \"Q\"  \"S\"  \"RMSE_sample\"\n",
       " [9,] \"Muestra 3\"    \"5\"  \"1\"  \"2\"  \"0\"  \"0\"  \"2\"  \"7\"  \"7.95\"       \n",
       "[10,] \"Muestra 3.1\"  \"1\"  \"1\"  \"2\"  \"2\"  \"1\"  \"0\"  \"7\"  \"8.51\"       \n",
       "[11,] \"Muestra 3.2\"  \"1\"  \"1\"  \"2\"  \"2\"  \"0\"  \"0\"  \"7\"  \"7.92\"       \n",
       "[12,] \"Muestra 3.3\"  \"1\"  \"0\"  \"1\"  \"0\"  \"1\"  \"1\"  \"7\"  \"7.69\"       \n",
       "[13,] \"Muestra 3.4\"  \"1\"  \"0\"  \"1\"  \"0\"  \"1\"  \"1\"  \"7\"  \"7.69\"       \n",
       "[14,] \"\"             \"p\"  \"d\"  \"q\"  \"P\"  \"D\"  \"Q\"  \"S\"  \"RMSE_sample\"\n",
       "[15,] \"Muestra 4.4\"  \"1\"  \"1\"  \"1\"  \"2\"  \"0\"  \"0\"  \"7\"  \"7.01\"       \n",
       "[16,] \"Muestra 4.41\" \"1\"  \"1\"  \"1\"  \"0\"  \"0\"  \"2\"  \"7\"  \"7.02\"       \n",
       "[17,] \"\"             \"p\"  \"d\"  \"q\"  \"P\"  \"D\"  \"Q\"  \"S\"  \"RMSE_sample\"\n",
       "[18,] \"Muestra 4.5\"  \"2\"  \"1\"  \"1\"  \"2\"  \"0\"  \"0\"  \"7\"  \"12.86\"      \n",
       "[19,] \"Muestra 4.51\" \"2\"  \"1\"  \"4\"  \"0\"  \"0\"  \"2\"  \"7\"  \"12.89\"      \n",
       "[20,] \"\"             \"p\"  \"d\"  \"q\"  \"P\"  \"D\"  \"Q\"  \"S\"  \"RMSE_sample\"\n",
       "[21,] \"Muestra 4.6\"  \"3\"  \"1\"  \"0\"  \"1\"  \"0\"  \"0\"  \"7\"  \"36.07\"      \n",
       "[22,] \"Muestra 4.62\" \"0\"  \"1\"  \"3\"  \"0\"  \"0\"  \"1\"  \"7\"  \"36.07\"      \n",
       "      [,10]     \n",
       " [1,] \"RMSE_for\"\n",
       " [2,] \"3.12\"    \n",
       " [3,] \"2.92\"    \n",
       " [4,] \"RMSE_for\"\n",
       " [5,] \"22.1\"    \n",
       " [6,] \"22.1\"    \n",
       " [7,] \"13.02\"   \n",
       " [8,] \"RMSE_for\"\n",
       " [9,] \"12.43\"   \n",
       "[10,] \"23.14\"   \n",
       "[11,] \"12.49\"   \n",
       "[12,] \"11.41\"   \n",
       "[13,] \"11.41\"   \n",
       "[14,] \"RMSE_for\"\n",
       "[15,] \"20.94\"   \n",
       "[16,] \"21.03\"   \n",
       "[17,] \"RMSE_for\"\n",
       "[18,] \"27.32\"   \n",
       "[19,] \"28.56\"   \n",
       "[20,] \"RMSE_for\"\n",
       "[21,] \"461.36\"  \n",
       "[22,] \"460.75\"  "
      ]
     },
     "metadata": {},
     "output_type": "display_data"
    }
   ],
   "source": [
    "rbind(resultados4.1,resultados4.2,resultados4.3,resultados4.4,resultados4.5,resultados4.6)"
   ]
  },
  {
   "cell_type": "code",
   "execution_count": 620,
   "metadata": {
    "collapsed": false
   },
   "outputs": [
    {
     "data": {
      "image/png": "[encoded data removed]",
      "text/plain": [
       "Plot with title \"Forecasts from ARIMA(1,0,1)(0,1,1)[7]\""
      ]
     },
     "metadata": {
      "image/svg+xml": {
       "isolated": true
      }
     },
     "output_type": "display_data"
    },
    {
     "data": {
      "image/png": "[encoded data removed]",
      "text/plain": [
       "Plot with title \"Forecasts from ARIMA(0,1,3)(0,0,1)[7]\""
      ]
     },
     "metadata": {
      "image/svg+xml": {
       "isolated": true
      }
     },
     "output_type": "display_data"
    }
   ],
   "source": [
    "par(mfrow=c(3,1))\n",
    "\n",
    "plot(forecast(fit4.12,h=longitud_pronostico),ylim=c(0,max(f4.1)))\n",
    "lines(fitted(fit4.1),col=\"red\")\n",
    "lines(append(rep(NA,longitud_ventana),for4.1),col=\"green\")\n",
    "\n",
    "######################################################################################\n",
    "\n",
    "plot(forecast(fit4.2,h=longitud_pronostico),ylim=c(0,max(500)))\n",
    "lines(fitted(fit4.2),col=\"red\")\n",
    "lines(append(rep(NA,longitud_ventana),for4.2),col=\"green\")\n",
    "\n",
    "######################################################################################\n",
    "\n",
    "plot(forecast(fit4.34,h=longitud_pronostico),ylim=c(0,max(f4.3)))\n",
    "lines(fitted(fit4.34),col=\"red\")\n",
    "lines(append(rep(NA,longitud_ventana),for4.3),col=\"green\")\n",
    "\n",
    "#####################################################################################\n",
    "plot(forecast(fit4.4,h=longitud_pronostico),ylim=c(0,max(f4.4)))\n",
    "lines(fitted(fit4.4),col=\"red\")\n",
    "lines(append(rep(NA,longitud_ventana),for4.4),col=\"green\")\n",
    "\n",
    "#####################################################################################\n",
    "\n",
    "plot(forecast(fit4.5,h=longitud_pronostico),ylim=c(0,max(f4.5)))\n",
    "lines(fitted(fit4.5),col=\"red\")\n",
    "lines(append(rep(NA,longitud_ventana),for4.5),col=\"green\")\n",
    "\n",
    "####################################################################################\n",
    "plot(forecast(fit4.62,h=longitud_pronostico),ylim=c(0,max(f4.6)))\n",
    "lines(fitted(fit4.62),col=\"red\")\n",
    "lines(append(rep(NA,length(mod6)-length(longitud_pronostico)),for4.6),col=\"green\")\n"
   ]
  },
  {
   "cell_type": "markdown",
   "metadata": {},
   "source": [
    "## Ventanas de 8"
   ]
  },
  {
   "cell_type": "code",
   "execution_count": 672,
   "metadata": {
    "collapsed": false
   },
   "outputs": [],
   "source": [
    "#Se definen ventanas de 8 años para ajustar modelos\n",
    "ventana<-8 #Tamaño de la ventana\n",
    "longitud_ventana<-365*ventana\n",
    "longitud_pronostico<-15\n",
    "años<-1996:2016 #Total de años con datos\n",
    "numero_modelos<-floor((length(años)/ventana)) # numero de modelos a construir\n",
    "cola_datos<-length(constant_price)-longitud_ventana*(numero_modelos)-longitud_pronostico\n",
    "\n",
    "\n",
    "\n",
    "\n",
    "\n",
    "\n",
    "modelos8.fit<-data.frame(mod1=c(rep(NA,longitud_ventana-cola_datos),constant_price[1:cola_datos]),                # Modelo1\n",
    "mod2=constant_price[(cola_datos+1):(cola_datos+longitud_ventana)],     # Modelo2\n",
    "mod3=constant_price[(cola_datos+1+longitud_ventana):(cola_datos+longitud_ventana*2)])     # Modelo3\n",
    "                        \n",
    "\n",
    "for8.1<-constant_price[(cola_datos+1):(cola_datos+longitud_pronostico)]\n",
    "for8.2<-constant_price[(cola_datos+longitud_ventana*1+1):(cola_datos+longitud_ventana*1+longitud_pronostico)]\n",
    "for8.3<-constant_price[(cola_datos+longitud_ventana*2+1):(cola_datos+longitud_ventana*2+longitud_pronostico)]\n"
   ]
  },
  {
   "cell_type": "code",
   "execution_count": 666,
   "metadata": {
    "collapsed": false,
    "scrolled": false
   },
   "outputs": [
    {
     "data": {
      "image/png": "[encoded data removed]",
      "text/plain": [
       "plot without title"
      ]
     },
     "metadata": {
      "image/svg+xml": {
       "isolated": true
      }
     },
     "output_type": "display_data"
    }
   ],
   "source": [
    "plot.ts(constant_price[1:cola_datos],xlim=c(0,length(constant_price)),ylim=c(0,max(constant_price)),ylab=\"$/kWh\")\n",
    "lines(append(rep(NA,cola_datos),modelos8.fit$mod2),col=\"red\")\n",
    "lines(append(rep(NA,(cola_datos+longitud_ventana)),modelos8.fit$mod3),col=\"blue\")"
   ]
  },
  {
   "cell_type": "code",
   "execution_count": 694,
   "metadata": {
    "collapsed": false
   },
   "outputs": [],
   "source": [
    "#Grupo 1 Ventana de 8 años\n",
    "f8.1<-ts(constant_price[1:cola_datos],frequency = 7)"
   ]
  },
  {
   "cell_type": "code",
   "execution_count": 695,
   "metadata": {
    "collapsed": false,
    "scrolled": false
   },
   "outputs": [
    {
     "data": {
      "image/png": "[encoded data removed]",
      "text/plain": [
       "Plot with title \"\""
      ]
     },
     "metadata": {
      "image/svg+xml": {
       "isolated": true
      }
     },
     "output_type": "display_data"
    }
   ],
   "source": [
    "tsdisplay(f8.1)"
   ]
  },
  {
   "cell_type": "code",
   "execution_count": 696,
   "metadata": {
    "collapsed": false
   },
   "outputs": [
    {
     "data": {
      "text/html": [
       "1"
      ],
      "text/latex": [
       "1"
      ],
      "text/markdown": [
       "1"
      ],
      "text/plain": [
       "[1] 1"
      ]
     },
     "metadata": {},
     "output_type": "display_data"
    },
    {
     "data": {
      "text/html": [
       "1"
      ],
      "text/latex": [
       "1"
      ],
      "text/markdown": [
       "1"
      ],
      "text/plain": [
       "[1] 1"
      ]
     },
     "metadata": {},
     "output_type": "display_data"
    },
    {
     "data": {
      "text/html": [
       "0"
      ],
      "text/latex": [
       "0"
      ],
      "text/markdown": [
       "0"
      ],
      "text/plain": [
       "[1] 0"
      ]
     },
     "metadata": {},
     "output_type": "display_data"
    },
    {
     "data": {
      "text/html": [
       "0"
      ],
      "text/latex": [
       "0"
      ],
      "text/markdown": [
       "0"
      ],
      "text/plain": [
       "[1] 0"
      ]
     },
     "metadata": {},
     "output_type": "display_data"
    },
    {
     "data": {
      "text/html": [
       "0"
      ],
      "text/latex": [
       "0"
      ],
      "text/markdown": [
       "0"
      ],
      "text/plain": [
       "[1] 0"
      ]
     },
     "metadata": {},
     "output_type": "display_data"
    }
   ],
   "source": [
    "#Pruebas de raices unitarias y raices unitarias estacionales\n",
    "\n",
    "ndiffs(x = f8.1,alpha = 0.05,test = \"adf\",max.d=2) #Augmented Dickey Fuller Test\n",
    "ndiffs(x = f8.1,alpha = 0.05,test = \"kpss\",max.d=2) #Kwiatkowski–Phillips–Schmidt–Shin Test\n",
    "ndiffs(x = f8.1,alpha = 0.05,test = \"pp\",max.d=2) #Phillips–Perron Test\n",
    "nsdiffs(x=f8.1,m=7,test=\"ch\",max.D=1) # Canova-Hansen Test\n",
    "nsdiffs(x=f8.1,m=7,test=\"ocsb\",max.D=1) #OCSB Test"
   ]
  },
  {
   "cell_type": "code",
   "execution_count": 697,
   "metadata": {
    "collapsed": false
   },
   "outputs": [
    {
     "data": {
      "text/html": [
       "<ol class=list-inline>\n",
       "\t<li>1</li>\n",
       "\t<li>1</li>\n",
       "\t<li>1</li>\n",
       "\t<li>0</li>\n",
       "\t<li>0</li>\n",
       "\t<li>1</li>\n",
       "\t<li>7</li>\n",
       "</ol>\n"
      ],
      "text/latex": [
       "\\begin{enumerate*}\n",
       "\\item 1\n",
       "\\item 1\n",
       "\\item 1\n",
       "\\item 0\n",
       "\\item 0\n",
       "\\item 1\n",
       "\\item 7\n",
       "\\end{enumerate*}\n"
      ],
      "text/markdown": [
       "1. 1\n",
       "2. 1\n",
       "3. 1\n",
       "4. 0\n",
       "5. 0\n",
       "6. 1\n",
       "7. 7\n",
       "\n",
       "\n"
      ],
      "text/plain": [
       "[1] 1 1 1 0 0 1 7"
      ]
     },
     "metadata": {},
     "output_type": "display_data"
    },
    {
     "data": {
      "text/html": [
       "15566.4350920801"
      ],
      "text/latex": [
       "15566.4350920801"
      ],
      "text/markdown": [
       "15566.4350920801"
      ],
      "text/plain": [
       "[1] 15566.44"
      ]
     },
     "metadata": {},
     "output_type": "display_data"
    }
   ],
   "source": [
    "fit8.1<-auto.arima(f8.1)\n",
    "arimaorder(fit8.1)\n",
    "fit8.1$aicc"
   ]
  },
  {
   "cell_type": "code",
   "execution_count": 707,
   "metadata": {
    "collapsed": false
   },
   "outputs": [
    {
     "data": {
      "text/html": [
       "<ol class=list-inline>\n",
       "\t<li>3</li>\n",
       "\t<li>1</li>\n",
       "\t<li>2</li>\n",
       "</ol>\n"
      ],
      "text/latex": [
       "\\begin{enumerate*}\n",
       "\\item 3\n",
       "\\item 1\n",
       "\\item 2\n",
       "\\end{enumerate*}\n"
      ],
      "text/markdown": [
       "1. 3\n",
       "2. 1\n",
       "3. 2\n",
       "\n",
       "\n"
      ],
      "text/plain": [
       "[1] 3 1 2"
      ]
     },
     "metadata": {},
     "output_type": "display_data"
    },
    {
     "data": {
      "text/html": [
       "15564.6982366632"
      ],
      "text/latex": [
       "15564.6982366632"
      ],
      "text/markdown": [
       "15564.6982366632"
      ],
      "text/plain": [
       "[1] 15564.7"
      ]
     },
     "metadata": {},
     "output_type": "display_data"
    }
   ],
   "source": [
    "fit8.12<-auto.arima(f8.1,stepwise=FALSE,approximation=FALSE)\n",
    "arimaorder(fit8.12)\n",
    "fit8.12$aicc"
   ]
  },
  {
   "cell_type": "code",
   "execution_count": 706,
   "metadata": {
    "collapsed": false
   },
   "outputs": [
    {
     "data": {
      "image/png": "[encoded data removed]",
      "text/plain": [
       "Plot with title \"Series  fit8.12$residuals\""
      ]
     },
     "metadata": {
      "image/svg+xml": {
       "isolated": true
      }
     },
     "output_type": "display_data"
    }
   ],
   "source": [
    "par(mfrow=c(3,1))\n",
    "plot.ts(fit8.12$residuals)\n",
    "acf(fit8.12$residuals,ylim=c(-1,1))\n",
    "pacf(fit8.12$residuals,ylim=c(-1,1))"
   ]
  },
  {
   "cell_type": "code",
   "execution_count": 711,
   "metadata": {
    "collapsed": false
   },
   "outputs": [
    {
     "data": {
      "image/png": "[encoded data removed]",
      "text/plain": [
       "Plot with title \"Forecasts from ARIMA(3,1,2)\""
      ]
     },
     "metadata": {
      "image/svg+xml": {
       "isolated": true
      }
     },
     "output_type": "display_data"
    }
   ],
   "source": [
    "plot(forecast(fit8.12,h=longitud_pronostico),xlim=c(0,250))\n",
    "lines(fitted(fit8.12),col=\"red\")\n",
    "lines(append(rep(NA,252),for8.1),col=\"green\")"
   ]
  },
  {
   "cell_type": "code",
   "execution_count": 712,
   "metadata": {
    "collapsed": false
   },
   "outputs": [
    {
     "data": {
      "text/html": [
       "<dl class=dl-horizontal>\n",
       "\t<dt>Training set</dt>\n",
       "\t\t<dd>19.8006848851795</dd>\n",
       "\t<dt>Test set</dt>\n",
       "\t\t<dd>7.16566584907581</dd>\n",
       "</dl>\n"
      ],
      "text/latex": [
       "\\begin{description*}\n",
       "\\item[Training set] 19.8006848851795\n",
       "\\item[Test set] 7.16566584907581\n",
       "\\end{description*}\n"
      ],
      "text/markdown": [
       "Training set\n",
       ":   19.8006848851795Test set\n",
       ":   7.16566584907581\n",
       "\n"
      ],
      "text/plain": [
       "Training set     Test set \n",
       "   19.800685     7.165666 "
      ]
     },
     "metadata": {},
     "output_type": "display_data"
    },
    {
     "data": {
      "text/html": [
       "<dl class=dl-horizontal>\n",
       "\t<dt>Training set</dt>\n",
       "\t\t<dd>19.7684228332477</dd>\n",
       "\t<dt>Test set</dt>\n",
       "\t\t<dd>6.96793464870851</dd>\n",
       "</dl>\n"
      ],
      "text/latex": [
       "\\begin{description*}\n",
       "\\item[Training set] 19.7684228332477\n",
       "\\item[Test set] 6.96793464870851\n",
       "\\end{description*}\n"
      ],
      "text/markdown": [
       "Training set\n",
       ":   19.7684228332477Test set\n",
       ":   6.96793464870851\n",
       "\n"
      ],
      "text/plain": [
       "Training set     Test set \n",
       "   19.768423     6.967935 "
      ]
     },
     "metadata": {},
     "output_type": "display_data"
    }
   ],
   "source": [
    "precision8.1<-accuracy(forecast(fit8.1,h=longitud_pronostico),for8.1)[,2] #RMSE mod1 SARIMA\n",
    "precision8.12<-accuracy(forecast(fit8.12,h=longitud_pronostico),for8.1)[,2] #RMSE mod2 SARIMA\n",
    "\n",
    "precision8.1\n",
    "precision8.12"
   ]
  },
  {
   "cell_type": "code",
   "execution_count": 717,
   "metadata": {
    "collapsed": false
   },
   "outputs": [
    {
     "data": {
      "text/html": [
       "<table>\n",
       "<tbody>\n",
       "\t<tr><td>           </td><td>p          </td><td>d          </td><td>q          </td><td>P          </td><td>D          </td><td>Q          </td><td>S          </td><td>RMSE_sample</td><td>RMSE_for   </td></tr>\n",
       "\t<tr><td>Muestra 8.1</td><td>1          </td><td>1          </td><td>1          </td><td>0          </td><td>0          </td><td>1          </td><td>7          </td><td>19.8       </td><td>7.17       </td></tr>\n",
       "\t<tr><td>Muestra 8.12</td><td>3           </td><td>1           </td><td>2           </td><td>0           </td><td>0           </td><td>0           </td><td>0           </td><td>19.77       </td><td>6.97        </td></tr>\n",
       "</tbody>\n",
       "</table>\n"
      ],
      "text/latex": [
       "\\begin{tabular}{llllllllll}\n",
       "\t               & p             & d             & q             & P             & D             & Q             & S             & RMSE\\_sample & RMSE\\_for   \\\\\n",
       "\t Muestra 8.1 & 1           & 1           & 1           & 0           & 0           & 1           & 7           & 19.8        & 7.17       \\\\\n",
       "\t Muestra 8.12 & 3            & 1            & 2            & 0            & 0            & 0            & 0            & 19.77        & 6.97        \\\\\n",
       "\\end{tabular}\n"
      ],
      "text/markdown": [
       "1. \"\"\n",
       "2. \"Muestra 8.1\"\n",
       "3. \"Muestra 8.12\"\n",
       "4. \"p\"\n",
       "5. \"1\"\n",
       "6. \"3\"\n",
       "7. \"d\"\n",
       "8. \"1\"\n",
       "9. \"1\"\n",
       "10. \"q\"\n",
       "11. \"1\"\n",
       "12. \"2\"\n",
       "13. \"P\"\n",
       "14. \"0\"\n",
       "15. \"0\"\n",
       "16. \"D\"\n",
       "17. \"0\"\n",
       "18. \"0\"\n",
       "19. \"Q\"\n",
       "20. \"1\"\n",
       "21. \"0\"\n",
       "22. \"S\"\n",
       "23. \"7\"\n",
       "24. \"0\"\n",
       "25. \"RMSE_sample\"\n",
       "26. \"19.8\"\n",
       "27. \"19.77\"\n",
       "28. \"RMSE_for\"\n",
       "29. \"7.17\"\n",
       "30. \"6.97\"\n",
       "\n",
       "\n"
      ],
      "text/plain": [
       "     [,1]           [,2] [,3] [,4] [,5] [,6] [,7] [,8] [,9]          [,10]     \n",
       "[1,] \"\"             \"p\"  \"d\"  \"q\"  \"P\"  \"D\"  \"Q\"  \"S\"  \"RMSE_sample\" \"RMSE_for\"\n",
       "[2,] \"Muestra 8.1\"  \"1\"  \"1\"  \"1\"  \"0\"  \"0\"  \"1\"  \"7\"  \"19.8\"        \"7.17\"    \n",
       "[3,] \"Muestra 8.12\" \"3\"  \"1\"  \"2\"  \"0\"  \"0\"  \"0\"  \"0\"  \"19.77\"       \"6.97\"    "
      ]
     },
     "metadata": {},
     "output_type": "display_data"
    }
   ],
   "source": [
    "ordenes<-rbind(c(\"p\",\"d\",\"q\",\"P\",\"D\",\"Q\",\"S\",\"RMSE_sample\", \"RMSE_for\"),\n",
    "               c(arimaorder(fit8.1),round(precision8.1[[1]],2),round(precision8.1[[2]],2)),\n",
    "               c(c(arimaorder(fit8.12),0,0,0,0),round(precision8.12[[1]],2),round(precision8.12[[2]],2)))\n",
    "resultados8.1<-cbind(c(\"\",\"Muestra 8.1\",\"Muestra 8.12\"),ordenes)\n",
    "resultados8.1"
   ]
  },
  {
   "cell_type": "code",
   "execution_count": 721,
   "metadata": {
    "collapsed": true
   },
   "outputs": [],
   "source": [
    "#Grupo 2 Ventana de 8 años\n",
    "f8.2<-ts(modelos8.fit$mod2,frequency = 7)"
   ]
  },
  {
   "cell_type": "code",
   "execution_count": 722,
   "metadata": {
    "collapsed": false
   },
   "outputs": [
    {
     "data": {
      "image/png": "[encoded data removed]",
      "text/plain": [
       "Plot with title \"\""
      ]
     },
     "metadata": {
      "image/svg+xml": {
       "isolated": true
      }
     },
     "output_type": "display_data"
    }
   ],
   "source": [
    "tsdisplay(f8.2)"
   ]
  },
  {
   "cell_type": "code",
   "execution_count": 726,
   "metadata": {
    "collapsed": false
   },
   "outputs": [
    {
     "data": {
      "text/html": [
       "0"
      ],
      "text/latex": [
       "0"
      ],
      "text/markdown": [
       "0"
      ],
      "text/plain": [
       "[1] 0"
      ]
     },
     "metadata": {},
     "output_type": "display_data"
    },
    {
     "data": {
      "text/html": [
       "1"
      ],
      "text/latex": [
       "1"
      ],
      "text/markdown": [
       "1"
      ],
      "text/plain": [
       "[1] 1"
      ]
     },
     "metadata": {},
     "output_type": "display_data"
    },
    {
     "data": {
      "text/html": [
       "0"
      ],
      "text/latex": [
       "0"
      ],
      "text/markdown": [
       "0"
      ],
      "text/plain": [
       "[1] 0"
      ]
     },
     "metadata": {},
     "output_type": "display_data"
    },
    {
     "data": {
      "text/html": [
       "0"
      ],
      "text/latex": [
       "0"
      ],
      "text/markdown": [
       "0"
      ],
      "text/plain": [
       "[1] 0"
      ]
     },
     "metadata": {},
     "output_type": "display_data"
    },
    {
     "data": {
      "text/html": [
       "0"
      ],
      "text/latex": [
       "0"
      ],
      "text/markdown": [
       "0"
      ],
      "text/plain": [
       "[1] 0"
      ]
     },
     "metadata": {},
     "output_type": "display_data"
    }
   ],
   "source": [
    "#Pruebas de raices unitarias y raices unitarias estacionales\n",
    "\n",
    "ndiffs(x = f8.2,alpha = 0.05,test = \"adf\",max.d=2) #Augmented Dickey Fuller Test\n",
    "ndiffs(x = f8.2,alpha = 0.05,test = \"kpss\",max.d=2) #Kwiatkowski–Phillips–Schmidt–Shin Test\n",
    "ndiffs(x = f8.2,alpha = 0.05,test = \"pp\",max.d=2) #Phillips–Perron Test\n",
    "nsdiffs(x=f8.2,m=7,test=\"ch\",max.D=1) # Canova-Hansen Test\n",
    "nsdiffs(x=f8.2,m=7,test=\"ocsb\",max.D=1) #OCSB Test"
   ]
  },
  {
   "cell_type": "code",
   "execution_count": 727,
   "metadata": {
    "collapsed": false
   },
   "outputs": [
    {
     "data": {
      "text/html": [
       "<ol class=list-inline>\n",
       "\t<li>3</li>\n",
       "\t<li>1</li>\n",
       "\t<li>4</li>\n",
       "\t<li>0</li>\n",
       "\t<li>0</li>\n",
       "\t<li>2</li>\n",
       "\t<li>7</li>\n",
       "</ol>\n"
      ],
      "text/latex": [
       "\\begin{enumerate*}\n",
       "\\item 3\n",
       "\\item 1\n",
       "\\item 4\n",
       "\\item 0\n",
       "\\item 0\n",
       "\\item 2\n",
       "\\item 7\n",
       "\\end{enumerate*}\n"
      ],
      "text/markdown": [
       "1. 3\n",
       "2. 1\n",
       "3. 4\n",
       "4. 0\n",
       "5. 0\n",
       "6. 2\n",
       "7. 7\n",
       "\n",
       "\n"
      ],
      "text/plain": [
       "[1] 3 1 4 0 0 2 7"
      ]
     },
     "metadata": {},
     "output_type": "display_data"
    },
    {
     "data": {
      "text/html": [
       "20182.3677208126"
      ],
      "text/latex": [
       "20182.3677208126"
      ],
      "text/markdown": [
       "20182.3677208126"
      ],
      "text/plain": [
       "[1] 20182.37"
      ]
     },
     "metadata": {},
     "output_type": "display_data"
    }
   ],
   "source": [
    "fit8.2<-auto.arima(f8.2)\n",
    "arimaorder(fit8.2)\n",
    "fit8.2$aicc"
   ]
  },
  {
   "cell_type": "code",
   "execution_count": 729,
   "metadata": {
    "collapsed": false
   },
   "outputs": [
    {
     "data": {
      "text/html": [
       "<ol class=list-inline>\n",
       "\t<li>1</li>\n",
       "\t<li>1</li>\n",
       "\t<li>2</li>\n",
       "\t<li>2</li>\n",
       "\t<li>0</li>\n",
       "\t<li>0</li>\n",
       "\t<li>7</li>\n",
       "</ol>\n"
      ],
      "text/latex": [
       "\\begin{enumerate*}\n",
       "\\item 1\n",
       "\\item 1\n",
       "\\item 2\n",
       "\\item 2\n",
       "\\item 0\n",
       "\\item 0\n",
       "\\item 7\n",
       "\\end{enumerate*}\n"
      ],
      "text/markdown": [
       "1. 1\n",
       "2. 1\n",
       "3. 2\n",
       "4. 2\n",
       "5. 0\n",
       "6. 0\n",
       "7. 7\n",
       "\n",
       "\n"
      ],
      "text/plain": [
       "[1] 1 1 2 2 0 0 7"
      ]
     },
     "metadata": {},
     "output_type": "display_data"
    },
    {
     "data": {
      "text/html": [
       "20170.2695753628"
      ],
      "text/latex": [
       "20170.2695753628"
      ],
      "text/markdown": [
       "20170.2695753628"
      ],
      "text/plain": [
       "[1] 20170.27"
      ]
     },
     "metadata": {},
     "output_type": "display_data"
    }
   ],
   "source": [
    "fit8.21<-auto.arima(f8.2,stepwise = FALSE,approximation = FALSE)\n",
    "arimaorder(fit8.21)\n",
    "fit8.21$aicc"
   ]
  },
  {
   "cell_type": "code",
   "execution_count": 730,
   "metadata": {
    "collapsed": false
   },
   "outputs": [
    {
     "data": {
      "image/png": "[encoded data removed]",
      "text/plain": [
       "Plot with title \"Series  fit8.21$residuals\""
      ]
     },
     "metadata": {
      "image/svg+xml": {
       "isolated": true
      }
     },
     "output_type": "display_data"
    }
   ],
   "source": [
    "par(mfrow=c(3,1))\n",
    "plot.ts(fit8.21$residuals)\n",
    "acf(fit8.21$residuals,ylim=c(-1,1))\n",
    "pacf(fit8.21$residuals,ylim=c(-1,1))"
   ]
  },
  {
   "cell_type": "code",
   "execution_count": 740,
   "metadata": {
    "collapsed": false
   },
   "outputs": [
    {
     "data": {
      "image/png": "[encoded data removed]",
      "text/plain": [
       "Plot with title \"Forecasts from ARIMA(1,1,2)(2,0,0)[7]\""
      ]
     },
     "metadata": {
      "image/svg+xml": {
       "isolated": true
      }
     },
     "output_type": "display_data"
    }
   ],
   "source": [
    "plot(forecast(fit8.21,h=longitud_pronostico),xlim=c(0,450))\n",
    "lines(fitted(fit8.21),col=\"red\")\n",
    "lines(append(rep(NA,420),for8.2),col=\"green\")"
   ]
  },
  {
   "cell_type": "code",
   "execution_count": 741,
   "metadata": {
    "collapsed": false
   },
   "outputs": [
    {
     "data": {
      "text/html": [
       "<dl class=dl-horizontal>\n",
       "\t<dt>Training set</dt>\n",
       "\t\t<dd>7.64768044491521</dd>\n",
       "\t<dt>Test set</dt>\n",
       "\t\t<dd>31.6443988228413</dd>\n",
       "</dl>\n"
      ],
      "text/latex": [
       "\\begin{description*}\n",
       "\\item[Training set] 7.64768044491521\n",
       "\\item[Test set] 31.6443988228413\n",
       "\\end{description*}\n"
      ],
      "text/markdown": [
       "Training set\n",
       ":   7.64768044491521Test set\n",
       ":   31.6443988228413\n",
       "\n"
      ],
      "text/plain": [
       "Training set     Test set \n",
       "     7.64768     31.64440 "
      ]
     },
     "metadata": {},
     "output_type": "display_data"
    },
    {
     "data": {
      "text/html": [
       "<dl class=dl-horizontal>\n",
       "\t<dt>Training set</dt>\n",
       "\t\t<dd>7.6419026282995</dd>\n",
       "\t<dt>Test set</dt>\n",
       "\t\t<dd>29.9610449756911</dd>\n",
       "</dl>\n"
      ],
      "text/latex": [
       "\\begin{description*}\n",
       "\\item[Training set] 7.6419026282995\n",
       "\\item[Test set] 29.9610449756911\n",
       "\\end{description*}\n"
      ],
      "text/markdown": [
       "Training set\n",
       ":   7.6419026282995Test set\n",
       ":   29.9610449756911\n",
       "\n"
      ],
      "text/plain": [
       "Training set     Test set \n",
       "    7.641903    29.961045 "
      ]
     },
     "metadata": {},
     "output_type": "display_data"
    }
   ],
   "source": [
    "precision8.2<-accuracy(forecast(fit8.2,h=longitud_pronostico),for8.2)[,2] #RMSE mod1 SARIMA\n",
    "precision8.21<-accuracy(forecast(fit8.21,h=longitud_pronostico),for8.2)[,2] #RMSE mod2 SARIMA\n",
    "\n",
    "precision8.2\n",
    "precision8.21"
   ]
  },
  {
   "cell_type": "code",
   "execution_count": 756,
   "metadata": {
    "collapsed": false
   },
   "outputs": [
    {
     "data": {
      "text/html": [
       "<table>\n",
       "<tbody>\n",
       "\t<tr><td>           </td><td>p          </td><td>d          </td><td>q          </td><td>P          </td><td>D          </td><td>Q          </td><td>S          </td><td>RMSE_sample</td><td>RMSE_for   </td></tr>\n",
       "\t<tr><td>Muestra 8.2</td><td>3          </td><td>1          </td><td>4          </td><td>0          </td><td>0          </td><td>2          </td><td>7          </td><td>7.65       </td><td>31.64      </td></tr>\n",
       "\t<tr><td>Muestra 8.21</td><td>1           </td><td>1           </td><td>2           </td><td>2           </td><td>0           </td><td>0           </td><td>7           </td><td>7.64        </td><td>29.96       </td></tr>\n",
       "</tbody>\n",
       "</table>\n"
      ],
      "text/latex": [
       "\\begin{tabular}{llllllllll}\n",
       "\t               & p             & d             & q             & P             & D             & Q             & S             & RMSE\\_sample & RMSE\\_for   \\\\\n",
       "\t Muestra 8.2 & 3           & 1           & 4           & 0           & 0           & 2           & 7           & 7.65        & 31.64      \\\\\n",
       "\t Muestra 8.21 & 1            & 1            & 2            & 2            & 0            & 0            & 7            & 7.64         & 29.96       \\\\\n",
       "\\end{tabular}\n"
      ],
      "text/markdown": [
       "1. \"\"\n",
       "2. \"Muestra 8.2\"\n",
       "3. \"Muestra 8.21\"\n",
       "4. \"p\"\n",
       "5. \"3\"\n",
       "6. \"1\"\n",
       "7. \"d\"\n",
       "8. \"1\"\n",
       "9. \"1\"\n",
       "10. \"q\"\n",
       "11. \"4\"\n",
       "12. \"2\"\n",
       "13. \"P\"\n",
       "14. \"0\"\n",
       "15. \"2\"\n",
       "16. \"D\"\n",
       "17. \"0\"\n",
       "18. \"0\"\n",
       "19. \"Q\"\n",
       "20. \"2\"\n",
       "21. \"0\"\n",
       "22. \"S\"\n",
       "23. \"7\"\n",
       "24. \"7\"\n",
       "25. \"RMSE_sample\"\n",
       "26. \"7.65\"\n",
       "27. \"7.64\"\n",
       "28. \"RMSE_for\"\n",
       "29. \"31.64\"\n",
       "30. \"29.96\"\n",
       "\n",
       "\n"
      ],
      "text/plain": [
       "     [,1]           [,2] [,3] [,4] [,5] [,6] [,7] [,8] [,9]          [,10]     \n",
       "[1,] \"\"             \"p\"  \"d\"  \"q\"  \"P\"  \"D\"  \"Q\"  \"S\"  \"RMSE_sample\" \"RMSE_for\"\n",
       "[2,] \"Muestra 8.2\"  \"3\"  \"1\"  \"4\"  \"0\"  \"0\"  \"2\"  \"7\"  \"7.65\"        \"31.64\"   \n",
       "[3,] \"Muestra 8.21\" \"1\"  \"1\"  \"2\"  \"2\"  \"0\"  \"0\"  \"7\"  \"7.64\"        \"29.96\"   "
      ]
     },
     "metadata": {},
     "output_type": "display_data"
    }
   ],
   "source": [
    "ordenes<-rbind(c(\"p\",\"d\",\"q\",\"P\",\"D\",\"Q\",\"S\",\"RMSE_sample\", \"RMSE_for\"),\n",
    "               c(arimaorder(fit8.2),round(precision8.2[[1]],2),round(precision8.2[[2]],2)),\n",
    "               c(arimaorder(fit8.21),round(precision8.21[[1]],2),round(precision8.21[[2]],2)))\n",
    "resultados8.2<-cbind(c(\"\",\"Muestra 8.2\",\"Muestra 8.21\"),ordenes)\n",
    "resultados8.2"
   ]
  },
  {
   "cell_type": "code",
   "execution_count": 743,
   "metadata": {
    "collapsed": true
   },
   "outputs": [],
   "source": [
    "#Grupo 3 Ventana de 8 años\n",
    "f8.3<-ts(modelos8.fit$mod3,frequency = 7)"
   ]
  },
  {
   "cell_type": "code",
   "execution_count": 744,
   "metadata": {
    "collapsed": false
   },
   "outputs": [
    {
     "data": {
      "image/png": "[encoded data removed]",
      "text/plain": [
       "Plot with title \"\""
      ]
     },
     "metadata": {
      "image/svg+xml": {
       "isolated": true
      }
     },
     "output_type": "display_data"
    }
   ],
   "source": [
    "tsdisplay(f8.3)"
   ]
  },
  {
   "cell_type": "code",
   "execution_count": 747,
   "metadata": {
    "collapsed": false
   },
   "outputs": [
    {
     "data": {
      "text/html": [
       "0"
      ],
      "text/latex": [
       "0"
      ],
      "text/markdown": [
       "0"
      ],
      "text/plain": [
       "[1] 0"
      ]
     },
     "metadata": {},
     "output_type": "display_data"
    },
    {
     "data": {
      "text/html": [
       "1"
      ],
      "text/latex": [
       "1"
      ],
      "text/markdown": [
       "1"
      ],
      "text/plain": [
       "[1] 1"
      ]
     },
     "metadata": {},
     "output_type": "display_data"
    },
    {
     "data": {
      "text/html": [
       "0"
      ],
      "text/latex": [
       "0"
      ],
      "text/markdown": [
       "0"
      ],
      "text/plain": [
       "[1] 0"
      ]
     },
     "metadata": {},
     "output_type": "display_data"
    },
    {
     "data": {
      "text/html": [
       "0"
      ],
      "text/latex": [
       "0"
      ],
      "text/markdown": [
       "0"
      ],
      "text/plain": [
       "[1] 0"
      ]
     },
     "metadata": {},
     "output_type": "display_data"
    },
    {
     "data": {
      "text/html": [
       "0"
      ],
      "text/latex": [
       "0"
      ],
      "text/markdown": [
       "0"
      ],
      "text/plain": [
       "[1] 0"
      ]
     },
     "metadata": {},
     "output_type": "display_data"
    }
   ],
   "source": [
    "#Pruebas de raices unitarias y raices unitarias estacionales\n",
    "\n",
    "ndiffs(x = f8.3,alpha = 0.05,test = \"adf\",max.d=2) #Augmented Dickey Fuller Test\n",
    "ndiffs(x = f8.3,alpha = 0.05,test = \"kpss\",max.d=2) #Kwiatkowski–Phillips–Schmidt–Shin Test\n",
    "ndiffs(x = f8.3,alpha = 0.05,test = \"pp\",max.d=2) #Phillips–Perron Test\n",
    "nsdiffs(x=f8.3,m=7,test=\"ch\",max.D=2) # Canova-Hansen Test\n",
    "nsdiffs(x=f8.3,m=7,test=\"ocsb\",max.D=2) #OCSB Test"
   ]
  },
  {
   "cell_type": "code",
   "execution_count": 748,
   "metadata": {
    "collapsed": false
   },
   "outputs": [
    {
     "data": {
      "text/html": [
       "<ol class=list-inline>\n",
       "\t<li>0</li>\n",
       "\t<li>1</li>\n",
       "\t<li>3</li>\n",
       "\t<li>0</li>\n",
       "\t<li>0</li>\n",
       "\t<li>2</li>\n",
       "\t<li>7</li>\n",
       "</ol>\n"
      ],
      "text/latex": [
       "\\begin{enumerate*}\n",
       "\\item 0\n",
       "\\item 1\n",
       "\\item 3\n",
       "\\item 0\n",
       "\\item 0\n",
       "\\item 2\n",
       "\\item 7\n",
       "\\end{enumerate*}\n"
      ],
      "text/markdown": [
       "1. 0\n",
       "2. 1\n",
       "3. 3\n",
       "4. 0\n",
       "5. 0\n",
       "6. 2\n",
       "7. 7\n",
       "\n",
       "\n"
      ],
      "text/plain": [
       "[1] 0 1 3 0 0 2 7"
      ]
     },
     "metadata": {},
     "output_type": "display_data"
    },
    {
     "data": {
      "text/html": [
       "27654.90583381"
      ],
      "text/latex": [
       "27654.90583381"
      ],
      "text/markdown": [
       "27654.90583381"
      ],
      "text/plain": [
       "[1] 27654.91"
      ]
     },
     "metadata": {},
     "output_type": "display_data"
    }
   ],
   "source": [
    "fit8.3<-auto.arima(f8.3)\n",
    "arimaorder(fit8.3)\n",
    "fit8.3$aicc"
   ]
  },
  {
   "cell_type": "code",
   "execution_count": 749,
   "metadata": {
    "collapsed": false
   },
   "outputs": [
    {
     "data": {
      "text/html": [
       "<ol class=list-inline>\n",
       "\t<li>3</li>\n",
       "\t<li>1</li>\n",
       "\t<li>0</li>\n",
       "\t<li>2</li>\n",
       "\t<li>0</li>\n",
       "\t<li>0</li>\n",
       "\t<li>7</li>\n",
       "</ol>\n"
      ],
      "text/latex": [
       "\\begin{enumerate*}\n",
       "\\item 3\n",
       "\\item 1\n",
       "\\item 0\n",
       "\\item 2\n",
       "\\item 0\n",
       "\\item 0\n",
       "\\item 7\n",
       "\\end{enumerate*}\n"
      ],
      "text/markdown": [
       "1. 3\n",
       "2. 1\n",
       "3. 0\n",
       "4. 2\n",
       "5. 0\n",
       "6. 0\n",
       "7. 7\n",
       "\n",
       "\n"
      ],
      "text/plain": [
       "[1] 3 1 0 2 0 0 7"
      ]
     },
     "metadata": {},
     "output_type": "display_data"
    },
    {
     "data": {
      "text/html": [
       "27652.5206310722"
      ],
      "text/latex": [
       "27652.5206310722"
      ],
      "text/markdown": [
       "27652.5206310722"
      ],
      "text/plain": [
       "[1] 27652.52"
      ]
     },
     "metadata": {},
     "output_type": "display_data"
    }
   ],
   "source": [
    "fit8.31<-auto.arima(f8.3,stepwise=FALSE,approximation=FALSE)\n",
    "arimaorder(fit8.31)\n",
    "fit8.31$aicc"
   ]
  },
  {
   "cell_type": "code",
   "execution_count": 750,
   "metadata": {
    "collapsed": false
   },
   "outputs": [
    {
     "data": {
      "image/png": "[encoded data removed]",
      "text/plain": [
       "Plot with title \"Series  fit8.31$residuals\""
      ]
     },
     "metadata": {
      "image/svg+xml": {
       "isolated": true
      }
     },
     "output_type": "display_data"
    }
   ],
   "source": [
    "par(mfrow=c(3,1))\n",
    "plot.ts(fit8.31$residuals)\n",
    "acf(fit8.31$residuals,ylim=c(-1,1))\n",
    "pacf(fit8.31$residuals,ylim=c(-1,1))"
   ]
  },
  {
   "cell_type": "code",
   "execution_count": 751,
   "metadata": {
    "collapsed": false
   },
   "outputs": [
    {
     "data": {
      "image/png": "[encoded data removed]",
      "text/plain": [
       "Plot with title \"Forecasts from ARIMA(3,1,0)(2,0,0)[7]\""
      ]
     },
     "metadata": {
      "image/svg+xml": {
       "isolated": true
      }
     },
     "output_type": "display_data"
    }
   ],
   "source": [
    "plot(forecast(fit8.31,h=longitud_pronostico),xlim=c(0,450))\n",
    "lines(fitted(fit8.31),col=\"red\")\n",
    "lines(append(rep(NA,420),for8.3),col=\"green\")"
   ]
  },
  {
   "cell_type": "code",
   "execution_count": 822,
   "metadata": {
    "collapsed": false
   },
   "outputs": [
    {
     "data": {
      "text/html": [
       "<dl class=dl-horizontal>\n",
       "\t<dt>Training set</dt>\n",
       "\t\t<dd>27.5460264339227</dd>\n",
       "\t<dt>Test set</dt>\n",
       "\t\t<dd>9.17030623793565</dd>\n",
       "</dl>\n"
      ],
      "text/latex": [
       "\\begin{description*}\n",
       "\\item[Training set] 27.5460264339227\n",
       "\\item[Test set] 9.17030623793565\n",
       "\\end{description*}\n"
      ],
      "text/markdown": [
       "Training set\n",
       ":   27.5460264339227Test set\n",
       ":   9.17030623793565\n",
       "\n"
      ],
      "text/plain": [
       "Training set     Test set \n",
       "   27.546026     9.170306 "
      ]
     },
     "metadata": {},
     "output_type": "display_data"
    },
    {
     "data": {
      "text/html": [
       "<dl class=dl-horizontal>\n",
       "\t<dt>Training set</dt>\n",
       "\t\t<dd>27.5347044494217</dd>\n",
       "\t<dt>Test set</dt>\n",
       "\t\t<dd>9.21328336129653</dd>\n",
       "</dl>\n"
      ],
      "text/latex": [
       "\\begin{description*}\n",
       "\\item[Training set] 27.5347044494217\n",
       "\\item[Test set] 9.21328336129653\n",
       "\\end{description*}\n"
      ],
      "text/markdown": [
       "Training set\n",
       ":   27.5347044494217Test set\n",
       ":   9.21328336129653\n",
       "\n"
      ],
      "text/plain": [
       "Training set     Test set \n",
       "   27.534704     9.213283 "
      ]
     },
     "metadata": {},
     "output_type": "display_data"
    }
   ],
   "source": [
    "precision8.3<-accuracy(forecast(fit8.3,h=longitud_pronostico),for8.3)[,2] #RMSE mod1 SARIMA\n",
    "precision8.31<-accuracy(forecast(fit8.31,h=longitud_pronostico),for8.3)[,2] #RMSE mod2 SARIMA\n",
    "\n",
    "precision8.3\n",
    "precision8.31"
   ]
  },
  {
   "cell_type": "code",
   "execution_count": 753,
   "metadata": {
    "collapsed": false
   },
   "outputs": [
    {
     "data": {
      "text/html": [
       "<table>\n",
       "<tbody>\n",
       "\t<tr><td>           </td><td>p          </td><td>d          </td><td>q          </td><td>P          </td><td>D          </td><td>Q          </td><td>S          </td><td>RMSE_sample</td><td>RMSE_for   </td></tr>\n",
       "\t<tr><td>Muestra 8.3</td><td>0          </td><td>1          </td><td>3          </td><td>0          </td><td>0          </td><td>2          </td><td>7          </td><td>27.55      </td><td>9.17       </td></tr>\n",
       "\t<tr><td>Muestra 8.31</td><td>3           </td><td>1           </td><td>0           </td><td>2           </td><td>0           </td><td>0           </td><td>7           </td><td>27.53       </td><td>9.21        </td></tr>\n",
       "</tbody>\n",
       "</table>\n"
      ],
      "text/latex": [
       "\\begin{tabular}{llllllllll}\n",
       "\t               & p             & d             & q             & P             & D             & Q             & S             & RMSE\\_sample & RMSE\\_for   \\\\\n",
       "\t Muestra 8.3 & 0           & 1           & 3           & 0           & 0           & 2           & 7           & 27.55       & 9.17       \\\\\n",
       "\t Muestra 8.31 & 3            & 1            & 0            & 2            & 0            & 0            & 7            & 27.53        & 9.21        \\\\\n",
       "\\end{tabular}\n"
      ],
      "text/markdown": [
       "1. \"\"\n",
       "2. \"Muestra 8.3\"\n",
       "3. \"Muestra 8.31\"\n",
       "4. \"p\"\n",
       "5. \"0\"\n",
       "6. \"3\"\n",
       "7. \"d\"\n",
       "8. \"1\"\n",
       "9. \"1\"\n",
       "10. \"q\"\n",
       "11. \"3\"\n",
       "12. \"0\"\n",
       "13. \"P\"\n",
       "14. \"0\"\n",
       "15. \"2\"\n",
       "16. \"D\"\n",
       "17. \"0\"\n",
       "18. \"0\"\n",
       "19. \"Q\"\n",
       "20. \"2\"\n",
       "21. \"0\"\n",
       "22. \"S\"\n",
       "23. \"7\"\n",
       "24. \"7\"\n",
       "25. \"RMSE_sample\"\n",
       "26. \"27.55\"\n",
       "27. \"27.53\"\n",
       "28. \"RMSE_for\"\n",
       "29. \"9.17\"\n",
       "30. \"9.21\"\n",
       "\n",
       "\n"
      ],
      "text/plain": [
       "     [,1]           [,2] [,3] [,4] [,5] [,6] [,7] [,8] [,9]          [,10]     \n",
       "[1,] \"\"             \"p\"  \"d\"  \"q\"  \"P\"  \"D\"  \"Q\"  \"S\"  \"RMSE_sample\" \"RMSE_for\"\n",
       "[2,] \"Muestra 8.3\"  \"0\"  \"1\"  \"3\"  \"0\"  \"0\"  \"2\"  \"7\"  \"27.55\"       \"9.17\"    \n",
       "[3,] \"Muestra 8.31\" \"3\"  \"1\"  \"0\"  \"2\"  \"0\"  \"0\"  \"7\"  \"27.53\"       \"9.21\"    "
      ]
     },
     "metadata": {},
     "output_type": "display_data"
    }
   ],
   "source": [
    "ordenes<-rbind(c(\"p\",\"d\",\"q\",\"P\",\"D\",\"Q\",\"S\",\"RMSE_sample\", \"RMSE_for\"),\n",
    "               c(arimaorder(fit8.3),round(precision8.3[[1]],2),round(precision8.3[[2]],2)),\n",
    "               c(arimaorder(fit8.31),round(precision8.31[[1]],2),round(precision8.31[[2]],2)))\n",
    "resultados8.3<-cbind(c(\"\",\"Muestra 8.3\",\"Muestra 8.31\"),ordenes)\n",
    "resultados8.3"
   ]
  },
  {
   "cell_type": "code",
   "execution_count": 757,
   "metadata": {
    "collapsed": false
   },
   "outputs": [
    {
     "data": {
      "text/html": [
       "<table>\n",
       "<tbody>\n",
       "\t<tr><td>           </td><td>p          </td><td>d          </td><td>q          </td><td>P          </td><td>D          </td><td>Q          </td><td>S          </td><td>RMSE_sample</td><td>RMSE_for   </td></tr>\n",
       "\t<tr><td>Muestra 8.1</td><td>1          </td><td>1          </td><td>1          </td><td>0          </td><td>0          </td><td>1          </td><td>7          </td><td>19.8       </td><td>7.17       </td></tr>\n",
       "\t<tr><td>Muestra 8.12</td><td>3           </td><td>1           </td><td>2           </td><td>0           </td><td>0           </td><td>0           </td><td>0           </td><td>19.77       </td><td>6.97        </td></tr>\n",
       "\t<tr><td>           </td><td>p          </td><td>d          </td><td>q          </td><td>P          </td><td>D          </td><td>Q          </td><td>S          </td><td>RMSE_sample</td><td>RMSE_for   </td></tr>\n",
       "\t<tr><td>Muestra 8.2</td><td>3          </td><td>1          </td><td>4          </td><td>0          </td><td>0          </td><td>2          </td><td>7          </td><td>7.65       </td><td>31.64      </td></tr>\n",
       "\t<tr><td>Muestra 8.21</td><td>1           </td><td>1           </td><td>2           </td><td>2           </td><td>0           </td><td>0           </td><td>7           </td><td>7.64        </td><td>29.96       </td></tr>\n",
       "\t<tr><td>           </td><td>p          </td><td>d          </td><td>q          </td><td>P          </td><td>D          </td><td>Q          </td><td>S          </td><td>RMSE_sample</td><td>RMSE_for   </td></tr>\n",
       "\t<tr><td>Muestra 8.3</td><td>0          </td><td>1          </td><td>3          </td><td>0          </td><td>0          </td><td>2          </td><td>7          </td><td>27.55      </td><td>9.17       </td></tr>\n",
       "\t<tr><td>Muestra 8.31</td><td>3           </td><td>1           </td><td>0           </td><td>2           </td><td>0           </td><td>0           </td><td>7           </td><td>27.53       </td><td>9.21        </td></tr>\n",
       "</tbody>\n",
       "</table>\n"
      ],
      "text/latex": [
       "\\begin{tabular}{llllllllll}\n",
       "\t               & p             & d             & q             & P             & D             & Q             & S             & RMSE\\_sample & RMSE\\_for   \\\\\n",
       "\t Muestra 8.1 & 1           & 1           & 1           & 0           & 0           & 1           & 7           & 19.8        & 7.17       \\\\\n",
       "\t Muestra 8.12 & 3            & 1            & 2            & 0            & 0            & 0            & 0            & 19.77        & 6.97        \\\\\n",
       "\t               & p             & d             & q             & P             & D             & Q             & S             & RMSE\\_sample & RMSE\\_for   \\\\\n",
       "\t Muestra 8.2 & 3           & 1           & 4           & 0           & 0           & 2           & 7           & 7.65        & 31.64      \\\\\n",
       "\t Muestra 8.21 & 1            & 1            & 2            & 2            & 0            & 0            & 7            & 7.64         & 29.96       \\\\\n",
       "\t               & p             & d             & q             & P             & D             & Q             & S             & RMSE\\_sample & RMSE\\_for   \\\\\n",
       "\t Muestra 8.3 & 0           & 1           & 3           & 0           & 0           & 2           & 7           & 27.55       & 9.17       \\\\\n",
       "\t Muestra 8.31 & 3            & 1            & 0            & 2            & 0            & 0            & 7            & 27.53        & 9.21        \\\\\n",
       "\\end{tabular}\n"
      ],
      "text/markdown": [
       "1. \"\"\n",
       "2. \"Muestra 8.1\"\n",
       "3. \"Muestra 8.12\"\n",
       "4. \"\"\n",
       "5. \"Muestra 8.2\"\n",
       "6. \"Muestra 8.21\"\n",
       "7. \"\"\n",
       "8. \"Muestra 8.3\"\n",
       "9. \"Muestra 8.31\"\n",
       "10. \"p\"\n",
       "11. \"1\"\n",
       "12. \"3\"\n",
       "13. \"p\"\n",
       "14. \"3\"\n",
       "15. \"1\"\n",
       "16. \"p\"\n",
       "17. \"0\"\n",
       "18. \"3\"\n",
       "19. \"d\"\n",
       "20. \"1\"\n",
       "21. \"1\"\n",
       "22. \"d\"\n",
       "23. \"1\"\n",
       "24. \"1\"\n",
       "25. \"d\"\n",
       "26. \"1\"\n",
       "27. \"1\"\n",
       "28. \"q\"\n",
       "29. \"1\"\n",
       "30. \"2\"\n",
       "31. \"q\"\n",
       "32. \"4\"\n",
       "33. \"2\"\n",
       "34. \"q\"\n",
       "35. \"3\"\n",
       "36. \"0\"\n",
       "37. \"P\"\n",
       "38. \"0\"\n",
       "39. \"0\"\n",
       "40. \"P\"\n",
       "41. \"0\"\n",
       "42. \"2\"\n",
       "43. \"P\"\n",
       "44. \"0\"\n",
       "45. \"2\"\n",
       "46. \"D\"\n",
       "47. \"0\"\n",
       "48. \"0\"\n",
       "49. \"D\"\n",
       "50. \"0\"\n",
       "51. \"0\"\n",
       "52. \"D\"\n",
       "53. \"0\"\n",
       "54. \"0\"\n",
       "55. \"Q\"\n",
       "56. \"1\"\n",
       "57. \"0\"\n",
       "58. \"Q\"\n",
       "59. \"2\"\n",
       "60. \"0\"\n",
       "61. \"Q\"\n",
       "62. \"2\"\n",
       "63. \"0\"\n",
       "64. \"S\"\n",
       "65. \"7\"\n",
       "66. \"0\"\n",
       "67. \"S\"\n",
       "68. \"7\"\n",
       "69. \"7\"\n",
       "70. \"S\"\n",
       "71. \"7\"\n",
       "72. \"7\"\n",
       "73. \"RMSE_sample\"\n",
       "74. \"19.8\"\n",
       "75. \"19.77\"\n",
       "76. \"RMSE_sample\"\n",
       "77. \"7.65\"\n",
       "78. \"7.64\"\n",
       "79. \"RMSE_sample\"\n",
       "80. \"27.55\"\n",
       "81. \"27.53\"\n",
       "82. \"RMSE_for\"\n",
       "83. \"7.17\"\n",
       "84. \"6.97\"\n",
       "85. \"RMSE_for\"\n",
       "86. \"31.64\"\n",
       "87. \"29.96\"\n",
       "88. \"RMSE_for\"\n",
       "89. \"9.17\"\n",
       "90. \"9.21\"\n",
       "\n",
       "\n"
      ],
      "text/plain": [
       "      [,1]           [,2] [,3] [,4] [,5] [,6] [,7] [,8] [,9]         \n",
       " [1,] \"\"             \"p\"  \"d\"  \"q\"  \"P\"  \"D\"  \"Q\"  \"S\"  \"RMSE_sample\"\n",
       " [2,] \"Muestra 8.1\"  \"1\"  \"1\"  \"1\"  \"0\"  \"0\"  \"1\"  \"7\"  \"19.8\"       \n",
       " [3,] \"Muestra 8.12\" \"3\"  \"1\"  \"2\"  \"0\"  \"0\"  \"0\"  \"0\"  \"19.77\"      \n",
       " [4,] \"\"             \"p\"  \"d\"  \"q\"  \"P\"  \"D\"  \"Q\"  \"S\"  \"RMSE_sample\"\n",
       " [5,] \"Muestra 8.2\"  \"3\"  \"1\"  \"4\"  \"0\"  \"0\"  \"2\"  \"7\"  \"7.65\"       \n",
       " [6,] \"Muestra 8.21\" \"1\"  \"1\"  \"2\"  \"2\"  \"0\"  \"0\"  \"7\"  \"7.64\"       \n",
       " [7,] \"\"             \"p\"  \"d\"  \"q\"  \"P\"  \"D\"  \"Q\"  \"S\"  \"RMSE_sample\"\n",
       " [8,] \"Muestra 8.3\"  \"0\"  \"1\"  \"3\"  \"0\"  \"0\"  \"2\"  \"7\"  \"27.55\"      \n",
       " [9,] \"Muestra 8.31\" \"3\"  \"1\"  \"0\"  \"2\"  \"0\"  \"0\"  \"7\"  \"27.53\"      \n",
       "      [,10]     \n",
       " [1,] \"RMSE_for\"\n",
       " [2,] \"7.17\"    \n",
       " [3,] \"6.97\"    \n",
       " [4,] \"RMSE_for\"\n",
       " [5,] \"31.64\"   \n",
       " [6,] \"29.96\"   \n",
       " [7,] \"RMSE_for\"\n",
       " [8,] \"9.17\"    \n",
       " [9,] \"9.21\"    "
      ]
     },
     "metadata": {},
     "output_type": "display_data"
    }
   ],
   "source": [
    "rbind(resultados8.1,resultados8.2,resultados8.3)"
   ]
  },
  {
   "cell_type": "markdown",
   "metadata": {},
   "source": [
    "## Ventana de 12 años\n"
   ]
  },
  {
   "cell_type": "code",
   "execution_count": 767,
   "metadata": {
    "collapsed": false
   },
   "outputs": [],
   "source": [
    "#Se definen ventanas de 12 años para ajustar modelos\n",
    "ventana<-12 #Tamaño de la ventana\n",
    "longitud_ventana<-365*ventana\n",
    "longitud_pronostico<-15\n",
    "años<-1996:2016 #Total de años con datos\n",
    "numero_modelos<-floor((length(años)/ventana)) # numero de modelos a construir\n",
    "cola_datos<-length(constant_price)-longitud_ventana*(numero_modelos)-longitud_pronostico\n",
    "\n",
    "\n",
    "modelos12.fit<-data.frame(mod1=c(rep(NA,longitud_ventana-cola_datos),constant_price[1:cola_datos]), # Modelo1\n",
    "mod2=constant_price[(cola_datos+1):(cola_datos+longitud_ventana)])     # Modelo2\n",
    "                        \n",
    "\n",
    "for12.1<-constant_price[(cola_datos+1):(cola_datos+longitud_pronostico)]\n",
    "for12.2<-constant_price[(cola_datos+longitud_ventana*1+1):(cola_datos+longitud_ventana*1+longitud_pronostico)]\n"
   ]
  },
  {
   "cell_type": "code",
   "execution_count": 768,
   "metadata": {
    "collapsed": false
   },
   "outputs": [
    {
     "data": {
      "image/png": "[encoded data removed]",
      "text/plain": [
       "plot without title"
      ]
     },
     "metadata": {
      "image/svg+xml": {
       "isolated": true
      }
     },
     "output_type": "display_data"
    }
   ],
   "source": [
    "plot.ts(constant_price[1:cola_datos],xlim=c(0,length(constant_price)),ylim=c(0,max(constant_price)),ylab=\"$/kWh\")\n",
    "lines(append(rep(NA,cola_datos),modelos12.fit$mod2),col=\"red\")"
   ]
  },
  {
   "cell_type": "code",
   "execution_count": 771,
   "metadata": {
    "collapsed": true
   },
   "outputs": [],
   "source": [
    "#Grupo 1 Ventana de 12 años\n",
    "f12.1<-ts(constant_price[1:cola_datos],frequency = 7)"
   ]
  },
  {
   "cell_type": "code",
   "execution_count": 772,
   "metadata": {
    "collapsed": false,
    "scrolled": false
   },
   "outputs": [
    {
     "data": {
      "image/png": "[encoded data removed]",
      "text/plain": [
       "Plot with title \"\""
      ]
     },
     "metadata": {
      "image/svg+xml": {
       "isolated": true
      }
     },
     "output_type": "display_data"
    }
   ],
   "source": [
    "tsdisplay(f12.1)"
   ]
  },
  {
   "cell_type": "code",
   "execution_count": 773,
   "metadata": {
    "collapsed": false
   },
   "outputs": [
    {
     "data": {
      "text/html": [
       "0"
      ],
      "text/latex": [
       "0"
      ],
      "text/markdown": [
       "0"
      ],
      "text/plain": [
       "[1] 0"
      ]
     },
     "metadata": {},
     "output_type": "display_data"
    },
    {
     "data": {
      "text/html": [
       "1"
      ],
      "text/latex": [
       "1"
      ],
      "text/markdown": [
       "1"
      ],
      "text/plain": [
       "[1] 1"
      ]
     },
     "metadata": {},
     "output_type": "display_data"
    },
    {
     "data": {
      "text/html": [
       "0"
      ],
      "text/latex": [
       "0"
      ],
      "text/markdown": [
       "0"
      ],
      "text/plain": [
       "[1] 0"
      ]
     },
     "metadata": {},
     "output_type": "display_data"
    },
    {
     "data": {
      "text/html": [
       "0"
      ],
      "text/latex": [
       "0"
      ],
      "text/markdown": [
       "0"
      ],
      "text/plain": [
       "[1] 0"
      ]
     },
     "metadata": {},
     "output_type": "display_data"
    },
    {
     "data": {
      "text/html": [
       "0"
      ],
      "text/latex": [
       "0"
      ],
      "text/markdown": [
       "0"
      ],
      "text/plain": [
       "[1] 0"
      ]
     },
     "metadata": {},
     "output_type": "display_data"
    }
   ],
   "source": [
    "#Pruebas de raices unitarias y raices unitarias estacionales\n",
    "\n",
    "ndiffs(x = f12.1,alpha = 0.05,test = \"adf\",max.d=2) #Augmented Dickey Fuller Test\n",
    "ndiffs(x = f12.1,alpha = 0.05,test = \"kpss\",max.d=2) #Kwiatkowski–Phillips–Schmidt–Shin Test\n",
    "ndiffs(x = f12.1,alpha = 0.05,test = \"pp\",max.d=2) #Phillips–Perron Test\n",
    "nsdiffs(x=f12.1,m=7,test=\"ch\",max.D=1) # Canova-Hansen Test\n",
    "nsdiffs(x=f12.1,m=7,test=\"ocsb\",max.D=1) #OCSB Test"
   ]
  },
  {
   "cell_type": "code",
   "execution_count": 774,
   "metadata": {
    "collapsed": false
   },
   "outputs": [
    {
     "data": {
      "text/html": [
       "<ol class=list-inline>\n",
       "\t<li>1</li>\n",
       "\t<li>1</li>\n",
       "\t<li>2</li>\n",
       "\t<li>0</li>\n",
       "\t<li>0</li>\n",
       "\t<li>2</li>\n",
       "\t<li>7</li>\n",
       "</ol>\n"
      ],
      "text/latex": [
       "\\begin{enumerate*}\n",
       "\\item 1\n",
       "\\item 1\n",
       "\\item 2\n",
       "\\item 0\n",
       "\\item 0\n",
       "\\item 2\n",
       "\\item 7\n",
       "\\end{enumerate*}\n"
      ],
      "text/markdown": [
       "1. 1\n",
       "2. 1\n",
       "3. 2\n",
       "4. 0\n",
       "5. 0\n",
       "6. 2\n",
       "7. 7\n",
       "\n",
       "\n"
      ],
      "text/plain": [
       "[1] 1 1 2 0 0 2 7"
      ]
     },
     "metadata": {},
     "output_type": "display_data"
    },
    {
     "data": {
      "text/html": [
       "26925.7530689199"
      ],
      "text/latex": [
       "26925.7530689199"
      ],
      "text/markdown": [
       "26925.7530689199"
      ],
      "text/plain": [
       "[1] 26925.75"
      ]
     },
     "metadata": {},
     "output_type": "display_data"
    }
   ],
   "source": [
    "fit12.1<-auto.arima(f12.1)\n",
    "arimaorder(fit12.1)\n",
    "fit12.1$aicc"
   ]
  },
  {
   "cell_type": "code",
   "execution_count": 775,
   "metadata": {
    "collapsed": false
   },
   "outputs": [
    {
     "data": {
      "text/html": [
       "<ol class=list-inline>\n",
       "\t<li>1</li>\n",
       "\t<li>1</li>\n",
       "\t<li>2</li>\n",
       "\t<li>2</li>\n",
       "\t<li>0</li>\n",
       "\t<li>0</li>\n",
       "\t<li>7</li>\n",
       "</ol>\n"
      ],
      "text/latex": [
       "\\begin{enumerate*}\n",
       "\\item 1\n",
       "\\item 1\n",
       "\\item 2\n",
       "\\item 2\n",
       "\\item 0\n",
       "\\item 0\n",
       "\\item 7\n",
       "\\end{enumerate*}\n"
      ],
      "text/markdown": [
       "1. 1\n",
       "2. 1\n",
       "3. 2\n",
       "4. 2\n",
       "5. 0\n",
       "6. 0\n",
       "7. 7\n",
       "\n",
       "\n"
      ],
      "text/plain": [
       "[1] 1 1 2 2 0 0 7"
      ]
     },
     "metadata": {},
     "output_type": "display_data"
    },
    {
     "data": {
      "text/html": [
       "26923.3471645721"
      ],
      "text/latex": [
       "26923.3471645721"
      ],
      "text/markdown": [
       "26923.3471645721"
      ],
      "text/plain": [
       "[1] 26923.35"
      ]
     },
     "metadata": {},
     "output_type": "display_data"
    }
   ],
   "source": [
    "fit12.12<-auto.arima(f12.1,stepwise = FALSE,approximation = FALSE)\n",
    "arimaorder(fit12.12)\n",
    "fit12.12$aicc"
   ]
  },
  {
   "cell_type": "code",
   "execution_count": 776,
   "metadata": {
    "collapsed": false
   },
   "outputs": [
    {
     "data": {
      "text/html": [
       "<ol class=list-inline>\n",
       "\t<li>2</li>\n",
       "\t<li>0</li>\n",
       "\t<li>0</li>\n",
       "\t<li>2</li>\n",
       "\t<li>1</li>\n",
       "\t<li>0</li>\n",
       "\t<li>7</li>\n",
       "</ol>\n"
      ],
      "text/latex": [
       "\\begin{enumerate*}\n",
       "\\item 2\n",
       "\\item 0\n",
       "\\item 0\n",
       "\\item 2\n",
       "\\item 1\n",
       "\\item 0\n",
       "\\item 7\n",
       "\\end{enumerate*}\n"
      ],
      "text/markdown": [
       "1. 2\n",
       "2. 0\n",
       "3. 0\n",
       "4. 2\n",
       "5. 1\n",
       "6. 0\n",
       "7. 7\n",
       "\n",
       "\n"
      ],
      "text/plain": [
       "[1] 2 0 0 2 1 0 7"
      ]
     },
     "metadata": {},
     "output_type": "display_data"
    },
    {
     "data": {
      "text/html": [
       "27518.9641294726"
      ],
      "text/latex": [
       "27518.9641294726"
      ],
      "text/markdown": [
       "27518.9641294726"
      ],
      "text/plain": [
       "[1] 27518.96"
      ]
     },
     "metadata": {},
     "output_type": "display_data"
    }
   ],
   "source": [
    "fit12.13<-auto.arima(f12.1,stepwise = FALSE,approximation = FALSE,D=1)\n",
    "arimaorder(fit12.13)\n",
    "fit12.13$aicc"
   ]
  },
  {
   "cell_type": "code",
   "execution_count": 777,
   "metadata": {
    "collapsed": false
   },
   "outputs": [
    {
     "data": {
      "image/png": "[encoded data removed]",
      "text/plain": [
       "Plot with title \"Series  fit12.12$residuals\""
      ]
     },
     "metadata": {
      "image/svg+xml": {
       "isolated": true
      }
     },
     "output_type": "display_data"
    }
   ],
   "source": [
    "par(mfrow=c(3,1))\n",
    "plot.ts(fit12.12$residuals)\n",
    "acf(fit12.12$residuals,ylim=c(-1,1))\n",
    "pacf(fit12.12$residuals,ylim=c(-1,1))"
   ]
  },
  {
   "cell_type": "code",
   "execution_count": 779,
   "metadata": {
    "collapsed": false
   },
   "outputs": [
    {
     "data": {
      "image/png": "[encoded data removed]",
      "text/plain": [
       "Plot with title \"Forecasts from ARIMA(1,1,2)(2,0,0)[7]\""
      ]
     },
     "metadata": {
      "image/svg+xml": {
       "isolated": true
      }
     },
     "output_type": "display_data"
    }
   ],
   "source": [
    "plot(forecast(fit12.12,h=longitud_pronostico),xlim=c(0,450))\n",
    "lines(fitted(fit12.12),col=\"red\")\n",
    "lines(append(rep(NA,460),for12.1),col=\"green\")"
   ]
  },
  {
   "cell_type": "code",
   "execution_count": 780,
   "metadata": {
    "collapsed": false
   },
   "outputs": [
    {
     "data": {
      "text/html": [
       "<dl class=dl-horizontal>\n",
       "\t<dt>Training set</dt>\n",
       "\t\t<dd>15.6778195257926</dd>\n",
       "\t<dt>Test set</dt>\n",
       "\t\t<dd>24.4502200985099</dd>\n",
       "</dl>\n"
      ],
      "text/latex": [
       "\\begin{description*}\n",
       "\\item[Training set] 15.6778195257926\n",
       "\\item[Test set] 24.4502200985099\n",
       "\\end{description*}\n"
      ],
      "text/markdown": [
       "Training set\n",
       ":   15.6778195257926Test set\n",
       ":   24.4502200985099\n",
       "\n"
      ],
      "text/plain": [
       "Training set     Test set \n",
       "    15.67782     24.45022 "
      ]
     },
     "metadata": {},
     "output_type": "display_data"
    },
    {
     "data": {
      "text/html": [
       "<dl class=dl-horizontal>\n",
       "\t<dt>Training set</dt>\n",
       "\t\t<dd>15.6719240222656</dd>\n",
       "\t<dt>Test set</dt>\n",
       "\t\t<dd>24.3437161706483</dd>\n",
       "</dl>\n"
      ],
      "text/latex": [
       "\\begin{description*}\n",
       "\\item[Training set] 15.6719240222656\n",
       "\\item[Test set] 24.3437161706483\n",
       "\\end{description*}\n"
      ],
      "text/markdown": [
       "Training set\n",
       ":   15.6719240222656Test set\n",
       ":   24.3437161706483\n",
       "\n"
      ],
      "text/plain": [
       "Training set     Test set \n",
       "    15.67192     24.34372 "
      ]
     },
     "metadata": {},
     "output_type": "display_data"
    },
    {
     "data": {
      "text/html": [
       "<dl class=dl-horizontal>\n",
       "\t<dt>Training set</dt>\n",
       "\t\t<dd>17.3039660806973</dd>\n",
       "\t<dt>Test set</dt>\n",
       "\t\t<dd>27.7134640341856</dd>\n",
       "</dl>\n"
      ],
      "text/latex": [
       "\\begin{description*}\n",
       "\\item[Training set] 17.3039660806973\n",
       "\\item[Test set] 27.7134640341856\n",
       "\\end{description*}\n"
      ],
      "text/markdown": [
       "Training set\n",
       ":   17.3039660806973Test set\n",
       ":   27.7134640341856\n",
       "\n"
      ],
      "text/plain": [
       "Training set     Test set \n",
       "    17.30397     27.71346 "
      ]
     },
     "metadata": {},
     "output_type": "display_data"
    }
   ],
   "source": [
    "precision12.1<-accuracy(forecast(fit12.1,h=longitud_pronostico),for12.1)[,2] #RMSE mod1 SARIMA\n",
    "precision12.12<-accuracy(forecast(fit12.12,h=longitud_pronostico),for12.1)[,2] #RMSE mod2 SARIMA\n",
    "precision12.13<-accuracy(forecast(fit12.13,h=longitud_pronostico),for12.1)[,2] #RMSE mod2 SARIMA\n",
    "\n",
    "\n",
    "precision12.1\n",
    "precision12.12\n",
    "precision12.13"
   ]
  },
  {
   "cell_type": "code",
   "execution_count": 781,
   "metadata": {
    "collapsed": false
   },
   "outputs": [
    {
     "data": {
      "text/html": [
       "<table>\n",
       "<tbody>\n",
       "\t<tr><td>           </td><td>p          </td><td>d          </td><td>q          </td><td>P          </td><td>D          </td><td>Q          </td><td>S          </td><td>RMSE_sample</td><td>RMSE_for   </td></tr>\n",
       "\t<tr><td>Muestra 12.1</td><td>1           </td><td>1           </td><td>2           </td><td>0           </td><td>0           </td><td>2           </td><td>7           </td><td>15.68       </td><td>24.45       </td></tr>\n",
       "\t<tr><td>Muestra 12.12</td><td>1            </td><td>1            </td><td>2            </td><td>2            </td><td>0            </td><td>0            </td><td>7            </td><td>15.67        </td><td>24.34        </td></tr>\n",
       "\t<tr><td>Muestra 12.13</td><td>2            </td><td>0            </td><td>0            </td><td>2            </td><td>1            </td><td>0            </td><td>7            </td><td>17.3         </td><td>27.71        </td></tr>\n",
       "</tbody>\n",
       "</table>\n"
      ],
      "text/latex": [
       "\\begin{tabular}{llllllllll}\n",
       "\t               & p             & d             & q             & P             & D             & Q             & S             & RMSE\\_sample & RMSE\\_for   \\\\\n",
       "\t Muestra 12.1 & 1            & 1            & 2            & 0            & 0            & 2            & 7            & 15.68        & 24.45       \\\\\n",
       "\t Muestra 12.12 & 1             & 1             & 2             & 2             & 0             & 0             & 7             & 15.67         & 24.34        \\\\\n",
       "\t Muestra 12.13 & 2             & 0             & 0             & 2             & 1             & 0             & 7             & 17.3          & 27.71        \\\\\n",
       "\\end{tabular}\n"
      ],
      "text/markdown": [
       "1. \"\"\n",
       "2. \"Muestra 12.1\"\n",
       "3. \"Muestra 12.12\"\n",
       "4. \"Muestra 12.13\"\n",
       "5. \"p\"\n",
       "6. \"1\"\n",
       "7. \"1\"\n",
       "8. \"2\"\n",
       "9. \"d\"\n",
       "10. \"1\"\n",
       "11. \"1\"\n",
       "12. \"0\"\n",
       "13. \"q\"\n",
       "14. \"2\"\n",
       "15. \"2\"\n",
       "16. \"0\"\n",
       "17. \"P\"\n",
       "18. \"0\"\n",
       "19. \"2\"\n",
       "20. \"2\"\n",
       "21. \"D\"\n",
       "22. \"0\"\n",
       "23. \"0\"\n",
       "24. \"1\"\n",
       "25. \"Q\"\n",
       "26. \"2\"\n",
       "27. \"0\"\n",
       "28. \"0\"\n",
       "29. \"S\"\n",
       "30. \"7\"\n",
       "31. \"7\"\n",
       "32. \"7\"\n",
       "33. \"RMSE_sample\"\n",
       "34. \"15.68\"\n",
       "35. \"15.67\"\n",
       "36. \"17.3\"\n",
       "37. \"RMSE_for\"\n",
       "38. \"24.45\"\n",
       "39. \"24.34\"\n",
       "40. \"27.71\"\n",
       "\n",
       "\n"
      ],
      "text/plain": [
       "     [,1]            [,2] [,3] [,4] [,5] [,6] [,7] [,8] [,9]         \n",
       "[1,] \"\"              \"p\"  \"d\"  \"q\"  \"P\"  \"D\"  \"Q\"  \"S\"  \"RMSE_sample\"\n",
       "[2,] \"Muestra 12.1\"  \"1\"  \"1\"  \"2\"  \"0\"  \"0\"  \"2\"  \"7\"  \"15.68\"      \n",
       "[3,] \"Muestra 12.12\" \"1\"  \"1\"  \"2\"  \"2\"  \"0\"  \"0\"  \"7\"  \"15.67\"      \n",
       "[4,] \"Muestra 12.13\" \"2\"  \"0\"  \"0\"  \"2\"  \"1\"  \"0\"  \"7\"  \"17.3\"       \n",
       "     [,10]     \n",
       "[1,] \"RMSE_for\"\n",
       "[2,] \"24.45\"   \n",
       "[3,] \"24.34\"   \n",
       "[4,] \"27.71\"   "
      ]
     },
     "metadata": {},
     "output_type": "display_data"
    }
   ],
   "source": [
    "ordenes<-rbind(c(\"p\",\"d\",\"q\",\"P\",\"D\",\"Q\",\"S\",\"RMSE_sample\", \"RMSE_for\"),\n",
    "               c(arimaorder(fit12.1),round(precision12.1[[1]],2),round(precision12.1[[2]],2)),\n",
    "               c(arimaorder(fit12.12),round(precision12.12[[1]],2),round(precision12.12[[2]],2)),\n",
    "              c(arimaorder(fit12.13),round(precision12.13[[1]],2),round(precision12.13[[2]],2)))\n",
    "\n",
    "resultados12.1<-cbind(c(\"\",\"Muestra 12.1\",\"Muestra 12.12\",\"Muestra 12.13\"),ordenes)\n",
    "resultados12.1"
   ]
  },
  {
   "cell_type": "code",
   "execution_count": 782,
   "metadata": {
    "collapsed": true
   },
   "outputs": [],
   "source": [
    "#Grupo  2 Ventana de 12 años\n",
    "f12.2<-ts(modelos12.fit$mod2,frequency = 7)"
   ]
  },
  {
   "cell_type": "code",
   "execution_count": 783,
   "metadata": {
    "collapsed": false
   },
   "outputs": [
    {
     "data": {
      "image/png": "[encoded data removed]",
      "text/plain": [
       "Plot with title \"\""
      ]
     },
     "metadata": {
      "image/svg+xml": {
       "isolated": true
      }
     },
     "output_type": "display_data"
    }
   ],
   "source": [
    "tsdisplay(f12.2)"
   ]
  },
  {
   "cell_type": "code",
   "execution_count": 784,
   "metadata": {
    "collapsed": false
   },
   "outputs": [
    {
     "data": {
      "text/html": [
       "0"
      ],
      "text/latex": [
       "0"
      ],
      "text/markdown": [
       "0"
      ],
      "text/plain": [
       "[1] 0"
      ]
     },
     "metadata": {},
     "output_type": "display_data"
    },
    {
     "data": {
      "text/html": [
       "1"
      ],
      "text/latex": [
       "1"
      ],
      "text/markdown": [
       "1"
      ],
      "text/plain": [
       "[1] 1"
      ]
     },
     "metadata": {},
     "output_type": "display_data"
    },
    {
     "data": {
      "text/html": [
       "0"
      ],
      "text/latex": [
       "0"
      ],
      "text/markdown": [
       "0"
      ],
      "text/plain": [
       "[1] 0"
      ]
     },
     "metadata": {},
     "output_type": "display_data"
    },
    {
     "data": {
      "text/html": [
       "0"
      ],
      "text/latex": [
       "0"
      ],
      "text/markdown": [
       "0"
      ],
      "text/plain": [
       "[1] 0"
      ]
     },
     "metadata": {},
     "output_type": "display_data"
    },
    {
     "data": {
      "text/html": [
       "0"
      ],
      "text/latex": [
       "0"
      ],
      "text/markdown": [
       "0"
      ],
      "text/plain": [
       "[1] 0"
      ]
     },
     "metadata": {},
     "output_type": "display_data"
    }
   ],
   "source": [
    "#Pruebas de raices unitarias y raices unitarias estacionales\n",
    "\n",
    "ndiffs(x = f12.2,alpha = 0.05,test = \"adf\",max.d=2) #Augmented Dickey Fuller Test\n",
    "ndiffs(x = f12.2,alpha = 0.05,test = \"kpss\",max.d=2) #Kwiatkowski–Phillips–Schmidt–Shin Test\n",
    "ndiffs(x = f12.2,alpha = 0.05,test = \"pp\",max.d=2) #Phillips–Perron Test\n",
    "nsdiffs(x=f12.2,m=7,test=\"ch\",max.D=1) # Canova-Hansen Test\n",
    "nsdiffs(x=f12.2,m=7,test=\"ocsb\",max.D=1) #OCSB Test"
   ]
  },
  {
   "cell_type": "code",
   "execution_count": 788,
   "metadata": {
    "collapsed": false
   },
   "outputs": [
    {
     "data": {
      "text/html": [
       "<ol class=list-inline>\n",
       "\t<li>0</li>\n",
       "\t<li>1</li>\n",
       "\t<li>3</li>\n",
       "\t<li>0</li>\n",
       "\t<li>0</li>\n",
       "\t<li>2</li>\n",
       "\t<li>7</li>\n",
       "</ol>\n"
      ],
      "text/latex": [
       "\\begin{enumerate*}\n",
       "\\item 0\n",
       "\\item 1\n",
       "\\item 3\n",
       "\\item 0\n",
       "\\item 0\n",
       "\\item 2\n",
       "\\item 7\n",
       "\\end{enumerate*}\n"
      ],
      "text/markdown": [
       "1. 0\n",
       "2. 1\n",
       "3. 3\n",
       "4. 0\n",
       "5. 0\n",
       "6. 2\n",
       "7. 7\n",
       "\n",
       "\n"
      ],
      "text/plain": [
       "[1] 0 1 3 0 0 2 7"
      ]
     },
     "metadata": {},
     "output_type": "display_data"
    },
    {
     "data": {
      "text/html": [
       "39884.2856466343"
      ],
      "text/latex": [
       "39884.2856466343"
      ],
      "text/markdown": [
       "39884.2856466343"
      ],
      "text/plain": [
       "[1] 39884.29"
      ]
     },
     "metadata": {},
     "output_type": "display_data"
    }
   ],
   "source": [
    "fit12.2<-auto.arima(f12.2)\n",
    "arimaorder(fit12.2)\n",
    "fit12.2$aicc"
   ]
  },
  {
   "cell_type": "code",
   "execution_count": 785,
   "metadata": {
    "collapsed": false
   },
   "outputs": [
    {
     "data": {
      "text/html": [
       "<ol class=list-inline>\n",
       "\t<li>3</li>\n",
       "\t<li>1</li>\n",
       "\t<li>0</li>\n",
       "\t<li>2</li>\n",
       "\t<li>0</li>\n",
       "\t<li>0</li>\n",
       "\t<li>7</li>\n",
       "</ol>\n"
      ],
      "text/latex": [
       "\\begin{enumerate*}\n",
       "\\item 3\n",
       "\\item 1\n",
       "\\item 0\n",
       "\\item 2\n",
       "\\item 0\n",
       "\\item 0\n",
       "\\item 7\n",
       "\\end{enumerate*}\n"
      ],
      "text/markdown": [
       "1. 3\n",
       "2. 1\n",
       "3. 0\n",
       "4. 2\n",
       "5. 0\n",
       "6. 0\n",
       "7. 7\n",
       "\n",
       "\n"
      ],
      "text/plain": [
       "[1] 3 1 0 2 0 0 7"
      ]
     },
     "metadata": {},
     "output_type": "display_data"
    },
    {
     "data": {
      "text/html": [
       "39880.8134639342"
      ],
      "text/latex": [
       "39880.8134639342"
      ],
      "text/markdown": [
       "39880.8134639342"
      ],
      "text/plain": [
       "[1] 39880.81"
      ]
     },
     "metadata": {},
     "output_type": "display_data"
    }
   ],
   "source": [
    "fit12.21<-auto.arima(f12.2,stepwise = FALSE,approximation = FALSE)\n",
    "arimaorder(fit12.21)\n",
    "fit12.21$aicc"
   ]
  },
  {
   "cell_type": "code",
   "execution_count": 789,
   "metadata": {
    "collapsed": false
   },
   "outputs": [
    {
     "data": {
      "image/png": "[encoded data removed]",
      "text/plain": [
       "Plot with title \"Series  fit12.21$residuals\""
      ]
     },
     "metadata": {
      "image/svg+xml": {
       "isolated": true
      }
     },
     "output_type": "display_data"
    }
   ],
   "source": [
    "par(mfrow=c(3,1))\n",
    "plot.ts(fit12.21$residuals)\n",
    "acf(fit12.21$residuals,ylim=c(-1,1))\n",
    "pacf(fit12.21$residuals,ylim=c(-1,1))"
   ]
  },
  {
   "cell_type": "code",
   "execution_count": 799,
   "metadata": {
    "collapsed": false
   },
   "outputs": [
    {
     "data": {
      "image/png": "[encoded data removed]",
      "text/plain": [
       "Plot with title \"Forecasts from ARIMA(3,1,0)(2,0,0)[7]\""
      ]
     },
     "metadata": {
      "image/svg+xml": {
       "isolated": true
      }
     },
     "output_type": "display_data"
    }
   ],
   "source": [
    "plot(forecast(fit12.21,h=longitud_pronostico),xlim=c(0,700))\n",
    "lines(fitted(fit12.21),col=\"red\")\n",
    "lines(append(rep(NA,630),for12.2),col=\"green\")"
   ]
  },
  {
   "cell_type": "code",
   "execution_count": 805,
   "metadata": {
    "collapsed": false
   },
   "outputs": [
    {
     "data": {
      "text/html": [
       "<dl class=dl-horizontal>\n",
       "\t<dt>Training set</dt>\n",
       "\t\t<dd>15.6778195257926</dd>\n",
       "\t<dt>Test set</dt>\n",
       "\t\t<dd>24.4502200985099</dd>\n",
       "</dl>\n"
      ],
      "text/latex": [
       "\\begin{description*}\n",
       "\\item[Training set] 15.6778195257926\n",
       "\\item[Test set] 24.4502200985099\n",
       "\\end{description*}\n"
      ],
      "text/markdown": [
       "Training set\n",
       ":   15.6778195257926Test set\n",
       ":   24.4502200985099\n",
       "\n"
      ],
      "text/plain": [
       "Training set     Test set \n",
       "    15.67782     24.45022 "
      ]
     },
     "metadata": {},
     "output_type": "display_data"
    },
    {
     "data": {
      "text/html": [
       "<dl class=dl-horizontal>\n",
       "\t<dt>Training set</dt>\n",
       "\t\t<dd>15.6719240222656</dd>\n",
       "\t<dt>Test set</dt>\n",
       "\t\t<dd>24.3437161706483</dd>\n",
       "</dl>\n"
      ],
      "text/latex": [
       "\\begin{description*}\n",
       "\\item[Training set] 15.6719240222656\n",
       "\\item[Test set] 24.3437161706483\n",
       "\\end{description*}\n"
      ],
      "text/markdown": [
       "Training set\n",
       ":   15.6719240222656Test set\n",
       ":   24.3437161706483\n",
       "\n"
      ],
      "text/plain": [
       "Training set     Test set \n",
       "    15.67192     24.34372 "
      ]
     },
     "metadata": {},
     "output_type": "display_data"
    }
   ],
   "source": [
    "precision12.2<-accuracy(forecast(fit12.1,h=longitud_pronostico),for12.1)[,2] #RMSE mod1 SARIMA\n",
    "precision12.21<-accuracy(forecast(fit12.12,h=longitud_pronostico),for12.1)[,2] #RMSE mod2 SARIMA\n",
    "\n",
    "\n",
    "\n",
    "precision12.2\n",
    "precision12.21\n"
   ]
  },
  {
   "cell_type": "code",
   "execution_count": 806,
   "metadata": {
    "collapsed": false
   },
   "outputs": [
    {
     "data": {
      "text/html": [
       "<table>\n",
       "<tbody>\n",
       "\t<tr><td>           </td><td>p          </td><td>d          </td><td>q          </td><td>P          </td><td>D          </td><td>Q          </td><td>S          </td><td>RMSE_sample</td><td>RMSE_for   </td></tr>\n",
       "\t<tr><td>Muestra 12.1</td><td>0           </td><td>1           </td><td>3           </td><td>0           </td><td>0           </td><td>2           </td><td>7           </td><td>15.68       </td><td>24.45       </td></tr>\n",
       "\t<tr><td>Muestra 12.12</td><td>3            </td><td>1            </td><td>0            </td><td>2            </td><td>0            </td><td>0            </td><td>7            </td><td>15.67        </td><td>24.34        </td></tr>\n",
       "</tbody>\n",
       "</table>\n"
      ],
      "text/latex": [
       "\\begin{tabular}{llllllllll}\n",
       "\t               & p             & d             & q             & P             & D             & Q             & S             & RMSE\\_sample & RMSE\\_for   \\\\\n",
       "\t Muestra 12.1 & 0            & 1            & 3            & 0            & 0            & 2            & 7            & 15.68        & 24.45       \\\\\n",
       "\t Muestra 12.12 & 3             & 1             & 0             & 2             & 0             & 0             & 7             & 15.67         & 24.34        \\\\\n",
       "\\end{tabular}\n"
      ],
      "text/markdown": [
       "1. \"\"\n",
       "2. \"Muestra 12.1\"\n",
       "3. \"Muestra 12.12\"\n",
       "4. \"p\"\n",
       "5. \"0\"\n",
       "6. \"3\"\n",
       "7. \"d\"\n",
       "8. \"1\"\n",
       "9. \"1\"\n",
       "10. \"q\"\n",
       "11. \"3\"\n",
       "12. \"0\"\n",
       "13. \"P\"\n",
       "14. \"0\"\n",
       "15. \"2\"\n",
       "16. \"D\"\n",
       "17. \"0\"\n",
       "18. \"0\"\n",
       "19. \"Q\"\n",
       "20. \"2\"\n",
       "21. \"0\"\n",
       "22. \"S\"\n",
       "23. \"7\"\n",
       "24. \"7\"\n",
       "25. \"RMSE_sample\"\n",
       "26. \"15.68\"\n",
       "27. \"15.67\"\n",
       "28. \"RMSE_for\"\n",
       "29. \"24.45\"\n",
       "30. \"24.34\"\n",
       "\n",
       "\n"
      ],
      "text/plain": [
       "     [,1]            [,2] [,3] [,4] [,5] [,6] [,7] [,8] [,9]         \n",
       "[1,] \"\"              \"p\"  \"d\"  \"q\"  \"P\"  \"D\"  \"Q\"  \"S\"  \"RMSE_sample\"\n",
       "[2,] \"Muestra 12.1\"  \"0\"  \"1\"  \"3\"  \"0\"  \"0\"  \"2\"  \"7\"  \"15.68\"      \n",
       "[3,] \"Muestra 12.12\" \"3\"  \"1\"  \"0\"  \"2\"  \"0\"  \"0\"  \"7\"  \"15.67\"      \n",
       "     [,10]     \n",
       "[1,] \"RMSE_for\"\n",
       "[2,] \"24.45\"   \n",
       "[3,] \"24.34\"   "
      ]
     },
     "metadata": {},
     "output_type": "display_data"
    }
   ],
   "source": [
    "ordenes<-rbind(c(\"p\",\"d\",\"q\",\"P\",\"D\",\"Q\",\"S\",\"RMSE_sample\", \"RMSE_for\"),\n",
    "               c(arimaorder(fit12.2),round(precision12.2[[1]],2),round(precision12.2[[2]],2)),\n",
    "               c(arimaorder(fit12.21),round(precision12.21[[1]],2),round(precision12.21[[2]],2)))\n",
    "            \n",
    "\n",
    "resultados12.2<-cbind(c(\"\",\"Muestra 12.1\",\"Muestra 12.12\"),ordenes)\n",
    "resultados12.2"
   ]
  },
  {
   "cell_type": "code",
   "execution_count": 808,
   "metadata": {
    "collapsed": false
   },
   "outputs": [
    {
     "data": {
      "text/html": [
       "<table>\n",
       "<tbody>\n",
       "\t<tr><td>           </td><td>p          </td><td>d          </td><td>q          </td><td>P          </td><td>D          </td><td>Q          </td><td>S          </td><td>RMSE_sample</td><td>RMSE_for   </td></tr>\n",
       "\t<tr><td>Muestra 12.1</td><td>1           </td><td>1           </td><td>2           </td><td>0           </td><td>0           </td><td>2           </td><td>7           </td><td>15.68       </td><td>24.45       </td></tr>\n",
       "\t<tr><td>Muestra 12.12</td><td>1            </td><td>1            </td><td>2            </td><td>2            </td><td>0            </td><td>0            </td><td>7            </td><td>15.67        </td><td>24.34        </td></tr>\n",
       "\t<tr><td>Muestra 12.13</td><td>2            </td><td>0            </td><td>0            </td><td>2            </td><td>1            </td><td>0            </td><td>7            </td><td>17.3         </td><td>27.71        </td></tr>\n",
       "\t<tr><td>           </td><td>p          </td><td>d          </td><td>q          </td><td>P          </td><td>D          </td><td>Q          </td><td>S          </td><td>RMSE_sample</td><td>RMSE_for   </td></tr>\n",
       "\t<tr><td>Muestra 12.1</td><td>0           </td><td>1           </td><td>3           </td><td>0           </td><td>0           </td><td>2           </td><td>7           </td><td>15.68       </td><td>24.45       </td></tr>\n",
       "\t<tr><td>Muestra 12.12</td><td>3            </td><td>1            </td><td>0            </td><td>2            </td><td>0            </td><td>0            </td><td>7            </td><td>15.67        </td><td>24.34        </td></tr>\n",
       "</tbody>\n",
       "</table>\n"
      ],
      "text/latex": [
       "\\begin{tabular}{llllllllll}\n",
       "\t               & p             & d             & q             & P             & D             & Q             & S             & RMSE\\_sample & RMSE\\_for   \\\\\n",
       "\t Muestra 12.1 & 1            & 1            & 2            & 0            & 0            & 2            & 7            & 15.68        & 24.45       \\\\\n",
       "\t Muestra 12.12 & 1             & 1             & 2             & 2             & 0             & 0             & 7             & 15.67         & 24.34        \\\\\n",
       "\t Muestra 12.13 & 2             & 0             & 0             & 2             & 1             & 0             & 7             & 17.3          & 27.71        \\\\\n",
       "\t               & p             & d             & q             & P             & D             & Q             & S             & RMSE\\_sample & RMSE\\_for   \\\\\n",
       "\t Muestra 12.1 & 0            & 1            & 3            & 0            & 0            & 2            & 7            & 15.68        & 24.45       \\\\\n",
       "\t Muestra 12.12 & 3             & 1             & 0             & 2             & 0             & 0             & 7             & 15.67         & 24.34        \\\\\n",
       "\\end{tabular}\n"
      ],
      "text/markdown": [
       "1. \"\"\n",
       "2. \"Muestra 12.1\"\n",
       "3. \"Muestra 12.12\"\n",
       "4. \"Muestra 12.13\"\n",
       "5. \"\"\n",
       "6. \"Muestra 12.1\"\n",
       "7. \"Muestra 12.12\"\n",
       "8. \"p\"\n",
       "9. \"1\"\n",
       "10. \"1\"\n",
       "11. \"2\"\n",
       "12. \"p\"\n",
       "13. \"0\"\n",
       "14. \"3\"\n",
       "15. \"d\"\n",
       "16. \"1\"\n",
       "17. \"1\"\n",
       "18. \"0\"\n",
       "19. \"d\"\n",
       "20. \"1\"\n",
       "21. \"1\"\n",
       "22. \"q\"\n",
       "23. \"2\"\n",
       "24. \"2\"\n",
       "25. \"0\"\n",
       "26. \"q\"\n",
       "27. \"3\"\n",
       "28. \"0\"\n",
       "29. \"P\"\n",
       "30. \"0\"\n",
       "31. \"2\"\n",
       "32. \"2\"\n",
       "33. \"P\"\n",
       "34. \"0\"\n",
       "35. \"2\"\n",
       "36. \"D\"\n",
       "37. \"0\"\n",
       "38. \"0\"\n",
       "39. \"1\"\n",
       "40. \"D\"\n",
       "41. \"0\"\n",
       "42. \"0\"\n",
       "43. \"Q\"\n",
       "44. \"2\"\n",
       "45. \"0\"\n",
       "46. \"0\"\n",
       "47. \"Q\"\n",
       "48. \"2\"\n",
       "49. \"0\"\n",
       "50. \"S\"\n",
       "51. \"7\"\n",
       "52. \"7\"\n",
       "53. \"7\"\n",
       "54. \"S\"\n",
       "55. \"7\"\n",
       "56. \"7\"\n",
       "57. \"RMSE_sample\"\n",
       "58. \"15.68\"\n",
       "59. \"15.67\"\n",
       "60. \"17.3\"\n",
       "61. \"RMSE_sample\"\n",
       "62. \"15.68\"\n",
       "63. \"15.67\"\n",
       "64. \"RMSE_for\"\n",
       "65. \"24.45\"\n",
       "66. \"24.34\"\n",
       "67. \"27.71\"\n",
       "68. \"RMSE_for\"\n",
       "69. \"24.45\"\n",
       "70. \"24.34\"\n",
       "\n",
       "\n"
      ],
      "text/plain": [
       "     [,1]            [,2] [,3] [,4] [,5] [,6] [,7] [,8] [,9]         \n",
       "[1,] \"\"              \"p\"  \"d\"  \"q\"  \"P\"  \"D\"  \"Q\"  \"S\"  \"RMSE_sample\"\n",
       "[2,] \"Muestra 12.1\"  \"1\"  \"1\"  \"2\"  \"0\"  \"0\"  \"2\"  \"7\"  \"15.68\"      \n",
       "[3,] \"Muestra 12.12\" \"1\"  \"1\"  \"2\"  \"2\"  \"0\"  \"0\"  \"7\"  \"15.67\"      \n",
       "[4,] \"Muestra 12.13\" \"2\"  \"0\"  \"0\"  \"2\"  \"1\"  \"0\"  \"7\"  \"17.3\"       \n",
       "[5,] \"\"              \"p\"  \"d\"  \"q\"  \"P\"  \"D\"  \"Q\"  \"S\"  \"RMSE_sample\"\n",
       "[6,] \"Muestra 12.1\"  \"0\"  \"1\"  \"3\"  \"0\"  \"0\"  \"2\"  \"7\"  \"15.68\"      \n",
       "[7,] \"Muestra 12.12\" \"3\"  \"1\"  \"0\"  \"2\"  \"0\"  \"0\"  \"7\"  \"15.67\"      \n",
       "     [,10]     \n",
       "[1,] \"RMSE_for\"\n",
       "[2,] \"24.45\"   \n",
       "[3,] \"24.34\"   \n",
       "[4,] \"27.71\"   \n",
       "[5,] \"RMSE_for\"\n",
       "[6,] \"24.45\"   \n",
       "[7,] \"24.34\"   "
      ]
     },
     "metadata": {},
     "output_type": "display_data"
    }
   ],
   "source": [
    "rbind(resultados12.1,resultados12.2)"
   ]
  },
  {
   "cell_type": "markdown",
   "metadata": {},
   "source": [
    "# Resultados"
   ]
  },
  {
   "cell_type": "code",
   "execution_count": 809,
   "metadata": {
    "collapsed": false
   },
   "outputs": [
    {
     "data": {
      "text/html": [
       "<table>\n",
       "<tbody>\n",
       "\t<tr><td>           </td><td>p          </td><td>d          </td><td>q          </td><td>P          </td><td>D          </td><td>Q          </td><td>S          </td><td>RMSE_sample</td><td>RMSE_for   </td></tr>\n",
       "\t<tr><td>Muestra 4.6</td><td>3          </td><td>1          </td><td>0          </td><td>1          </td><td>0          </td><td>0          </td><td>7          </td><td>36.07      </td><td>461.36     </td></tr>\n",
       "\t<tr><td>Muestra 4.62</td><td>0           </td><td>1           </td><td>3           </td><td>0           </td><td>0           </td><td>1           </td><td>7           </td><td>36.07       </td><td>460.75      </td></tr>\n",
       "</tbody>\n",
       "</table>\n"
      ],
      "text/latex": [
       "\\begin{tabular}{llllllllll}\n",
       "\t               & p             & d             & q             & P             & D             & Q             & S             & RMSE\\_sample & RMSE\\_for   \\\\\n",
       "\t Muestra 4.6 & 3           & 1           & 0           & 1           & 0           & 0           & 7           & 36.07       & 461.36     \\\\\n",
       "\t Muestra 4.62 & 0            & 1            & 3            & 0            & 0            & 1            & 7            & 36.07        & 460.75      \\\\\n",
       "\\end{tabular}\n"
      ],
      "text/markdown": [
       "1. \"\"\n",
       "2. \"Muestra 4.6\"\n",
       "3. \"Muestra 4.62\"\n",
       "4. \"p\"\n",
       "5. \"3\"\n",
       "6. \"0\"\n",
       "7. \"d\"\n",
       "8. \"1\"\n",
       "9. \"1\"\n",
       "10. \"q\"\n",
       "11. \"0\"\n",
       "12. \"3\"\n",
       "13. \"P\"\n",
       "14. \"1\"\n",
       "15. \"0\"\n",
       "16. \"D\"\n",
       "17. \"0\"\n",
       "18. \"0\"\n",
       "19. \"Q\"\n",
       "20. \"0\"\n",
       "21. \"1\"\n",
       "22. \"S\"\n",
       "23. \"7\"\n",
       "24. \"7\"\n",
       "25. \"RMSE_sample\"\n",
       "26. \"36.07\"\n",
       "27. \"36.07\"\n",
       "28. \"RMSE_for\"\n",
       "29. \"461.36\"\n",
       "30. \"460.75\"\n",
       "\n",
       "\n"
      ],
      "text/plain": [
       "     [,1]           [,2] [,3] [,4] [,5] [,6] [,7] [,8] [,9]          [,10]     \n",
       "[1,] \"\"             \"p\"  \"d\"  \"q\"  \"P\"  \"D\"  \"Q\"  \"S\"  \"RMSE_sample\" \"RMSE_for\"\n",
       "[2,] \"Muestra 4.6\"  \"3\"  \"1\"  \"0\"  \"1\"  \"0\"  \"0\"  \"7\"  \"36.07\"       \"461.36\"  \n",
       "[3,] \"Muestra 4.62\" \"0\"  \"1\"  \"3\"  \"0\"  \"0\"  \"1\"  \"7\"  \"36.07\"       \"460.75\"  "
      ]
     },
     "metadata": {},
     "output_type": "display_data"
    }
   ],
   "source": [
    "resultados4.6"
   ]
  },
  {
   "cell_type": "code",
   "execution_count": 813,
   "metadata": {
    "collapsed": false
   },
   "outputs": [
    {
     "data": {
      "text/html": [
       "<table>\n",
       "<tbody>\n",
       "\t<tr><td>           </td><td>p          </td><td>d          </td><td>q          </td><td>P          </td><td>D          </td><td>Q          </td><td>S          </td><td>RMSE_sample</td><td>RMSE_for   </td></tr>\n",
       "\t<tr><td>Muestra 8.3</td><td>0          </td><td>1          </td><td>3          </td><td>0          </td><td>0          </td><td>2          </td><td>7          </td><td>27.55      </td><td>9.17       </td></tr>\n",
       "\t<tr><td>Muestra 8.31</td><td>3           </td><td>1           </td><td>0           </td><td>2           </td><td>0           </td><td>0           </td><td>7           </td><td>27.53       </td><td>9.21        </td></tr>\n",
       "</tbody>\n",
       "</table>\n"
      ],
      "text/latex": [
       "\\begin{tabular}{llllllllll}\n",
       "\t               & p             & d             & q             & P             & D             & Q             & S             & RMSE\\_sample & RMSE\\_for   \\\\\n",
       "\t Muestra 8.3 & 0           & 1           & 3           & 0           & 0           & 2           & 7           & 27.55       & 9.17       \\\\\n",
       "\t Muestra 8.31 & 3            & 1            & 0            & 2            & 0            & 0            & 7            & 27.53        & 9.21        \\\\\n",
       "\\end{tabular}\n"
      ],
      "text/markdown": [
       "1. \"\"\n",
       "2. \"Muestra 8.3\"\n",
       "3. \"Muestra 8.31\"\n",
       "4. \"p\"\n",
       "5. \"0\"\n",
       "6. \"3\"\n",
       "7. \"d\"\n",
       "8. \"1\"\n",
       "9. \"1\"\n",
       "10. \"q\"\n",
       "11. \"3\"\n",
       "12. \"0\"\n",
       "13. \"P\"\n",
       "14. \"0\"\n",
       "15. \"2\"\n",
       "16. \"D\"\n",
       "17. \"0\"\n",
       "18. \"0\"\n",
       "19. \"Q\"\n",
       "20. \"2\"\n",
       "21. \"0\"\n",
       "22. \"S\"\n",
       "23. \"7\"\n",
       "24. \"7\"\n",
       "25. \"RMSE_sample\"\n",
       "26. \"27.55\"\n",
       "27. \"27.53\"\n",
       "28. \"RMSE_for\"\n",
       "29. \"9.17\"\n",
       "30. \"9.21\"\n",
       "\n",
       "\n"
      ],
      "text/plain": [
       "     [,1]           [,2] [,3] [,4] [,5] [,6] [,7] [,8] [,9]          [,10]     \n",
       "[1,] \"\"             \"p\"  \"d\"  \"q\"  \"P\"  \"D\"  \"Q\"  \"S\"  \"RMSE_sample\" \"RMSE_for\"\n",
       "[2,] \"Muestra 8.3\"  \"0\"  \"1\"  \"3\"  \"0\"  \"0\"  \"2\"  \"7\"  \"27.55\"       \"9.17\"    \n",
       "[3,] \"Muestra 8.31\" \"3\"  \"1\"  \"0\"  \"2\"  \"0\"  \"0\"  \"7\"  \"27.53\"       \"9.21\"    "
      ]
     },
     "metadata": {},
     "output_type": "display_data"
    }
   ],
   "source": [
    "resultados8.3"
   ]
  },
  {
   "cell_type": "code",
   "execution_count": 811,
   "metadata": {
    "collapsed": false
   },
   "outputs": [
    {
     "data": {
      "text/html": [
       "<table>\n",
       "<tbody>\n",
       "\t<tr><td>           </td><td>p          </td><td>d          </td><td>q          </td><td>P          </td><td>D          </td><td>Q          </td><td>S          </td><td>RMSE_sample</td><td>RMSE_for   </td></tr>\n",
       "\t<tr><td>Muestra 12.1</td><td>0           </td><td>1           </td><td>3           </td><td>0           </td><td>0           </td><td>2           </td><td>7           </td><td>15.68       </td><td>24.45       </td></tr>\n",
       "\t<tr><td>Muestra 12.12</td><td>3            </td><td>1            </td><td>0            </td><td>2            </td><td>0            </td><td>0            </td><td>7            </td><td>15.67        </td><td>24.34        </td></tr>\n",
       "</tbody>\n",
       "</table>\n"
      ],
      "text/latex": [
       "\\begin{tabular}{llllllllll}\n",
       "\t               & p             & d             & q             & P             & D             & Q             & S             & RMSE\\_sample & RMSE\\_for   \\\\\n",
       "\t Muestra 12.1 & 0            & 1            & 3            & 0            & 0            & 2            & 7            & 15.68        & 24.45       \\\\\n",
       "\t Muestra 12.12 & 3             & 1             & 0             & 2             & 0             & 0             & 7             & 15.67         & 24.34        \\\\\n",
       "\\end{tabular}\n"
      ],
      "text/markdown": [
       "1. \"\"\n",
       "2. \"Muestra 12.1\"\n",
       "3. \"Muestra 12.12\"\n",
       "4. \"p\"\n",
       "5. \"0\"\n",
       "6. \"3\"\n",
       "7. \"d\"\n",
       "8. \"1\"\n",
       "9. \"1\"\n",
       "10. \"q\"\n",
       "11. \"3\"\n",
       "12. \"0\"\n",
       "13. \"P\"\n",
       "14. \"0\"\n",
       "15. \"2\"\n",
       "16. \"D\"\n",
       "17. \"0\"\n",
       "18. \"0\"\n",
       "19. \"Q\"\n",
       "20. \"2\"\n",
       "21. \"0\"\n",
       "22. \"S\"\n",
       "23. \"7\"\n",
       "24. \"7\"\n",
       "25. \"RMSE_sample\"\n",
       "26. \"15.68\"\n",
       "27. \"15.67\"\n",
       "28. \"RMSE_for\"\n",
       "29. \"24.45\"\n",
       "30. \"24.34\"\n",
       "\n",
       "\n"
      ],
      "text/plain": [
       "     [,1]            [,2] [,3] [,4] [,5] [,6] [,7] [,8] [,9]         \n",
       "[1,] \"\"              \"p\"  \"d\"  \"q\"  \"P\"  \"D\"  \"Q\"  \"S\"  \"RMSE_sample\"\n",
       "[2,] \"Muestra 12.1\"  \"0\"  \"1\"  \"3\"  \"0\"  \"0\"  \"2\"  \"7\"  \"15.68\"      \n",
       "[3,] \"Muestra 12.12\" \"3\"  \"1\"  \"0\"  \"2\"  \"0\"  \"0\"  \"7\"  \"15.67\"      \n",
       "     [,10]     \n",
       "[1,] \"RMSE_for\"\n",
       "[2,] \"24.45\"   \n",
       "[3,] \"24.34\"   "
      ]
     },
     "metadata": {},
     "output_type": "display_data"
    }
   ],
   "source": [
    "resultados12.2"
   ]
  },
  {
   "cell_type": "markdown",
   "metadata": {
    "collapsed": true
   },
   "source": [
    "## Resultados de la ventanas\n",
    "\n",
    "Vimos que la ventana de 8 y 12 años, ajustan un modelo similar.\n",
    "\n",
    "En el modelo de 8 años, se obtiene un mayor RMSE dentro de la muestra, sin embargo a la hora de pronsoticar por fuera de la muestra se obtiene un mejor ajuste. Por esta razon continuaremos trabajando con dicha ventana"
   ]
  },
  {
   "cell_type": "markdown",
   "metadata": {
    "collapsed": true
   },
   "source": [
    "# Validacion de transformaciones para mejorar el ajuste del modelo"
   ]
  },
  {
   "cell_type": "markdown",
   "metadata": {
    "collapsed": true
   },
   "source": [
    "# Transformaciones Box-Cox\n",
    "\n",
    "En algunos casos, para poder comenzar a realizar estimaciones de modelos, debemos garantizar que los datos siguen una N$\\sim(\\mu,\\sigma^2)$. \n",
    "\n",
    "Por esta razon se utilizan transformaciones para garantizar este supuesto:\n",
    "\n",
    "El objetivo principal de la transformacion es estimar un valor de $\\lambda$ para elevar los datos a dicha potencia.\n",
    "\n",
    "La forma primaria de la transformacion es:\n",
    "\n",
    "$Y^{(\\lambda)}=\\frac{y^\\lambda-1}{\\lambda}, si \\lambda<>0$\n",
    "\n",
    "\n",
    "$Y^{(\\lambda)}=\\log{y}, si  \\lambda=0$\n",
    "\n",
    "Se puede demostrar mediante L'Hopital que $Lim\\frac{y^\\lambda-1}{\\lambda}=\\log{y}$"
   ]
  },
  {
   "cell_type": "markdown",
   "metadata": {},
   "source": [
    "## $\\sqrt{P_t}$"
   ]
  },
  {
   "cell_type": "code",
   "execution_count": 827,
   "metadata": {
    "collapsed": false
   },
   "outputs": [
    {
     "data": {
      "text/html": [
       "<ol class=list-inline>\n",
       "\t<li>1</li>\n",
       "\t<li>1</li>\n",
       "\t<li>1</li>\n",
       "\t<li>2</li>\n",
       "\t<li>0</li>\n",
       "\t<li>0</li>\n",
       "\t<li>7</li>\n",
       "</ol>\n"
      ],
      "text/latex": [
       "\\begin{enumerate*}\n",
       "\\item 1\n",
       "\\item 1\n",
       "\\item 1\n",
       "\\item 2\n",
       "\\item 0\n",
       "\\item 0\n",
       "\\item 7\n",
       "\\end{enumerate*}\n"
      ],
      "text/markdown": [
       "1. 1\n",
       "2. 1\n",
       "3. 1\n",
       "4. 2\n",
       "5. 0\n",
       "6. 0\n",
       "7. 7\n",
       "\n",
       "\n"
      ],
      "text/plain": [
       "[1] 1 1 1 2 0 0 7"
      ]
     },
     "metadata": {},
     "output_type": "display_data"
    },
    {
     "data": {
      "text/html": [
       "10835.2704897575"
      ],
      "text/latex": [
       "10835.2704897575"
      ],
      "text/markdown": [
       "10835.2704897575"
      ],
      "text/plain": [
       "[1] 10835.27"
      ]
     },
     "metadata": {},
     "output_type": "display_data"
    }
   ],
   "source": [
    "cuadrado.fit8.31<-auto.arima(f8.3,stepwise=FALSE,approximation=FALSE,lambda = 0.5)\n",
    "arimaorder(cuadrado.fit8.31)\n",
    "cuadrado.fit8.31$aicc"
   ]
  },
  {
   "cell_type": "code",
   "execution_count": 828,
   "metadata": {
    "collapsed": false
   },
   "outputs": [
    {
     "data": {
      "text/html": [
       "<dl class=dl-horizontal>\n",
       "\t<dt>Training set</dt>\n",
       "\t\t<dd>27.9970945298073</dd>\n",
       "\t<dt>Test set</dt>\n",
       "\t\t<dd>49.5531496462091</dd>\n",
       "</dl>\n"
      ],
      "text/latex": [
       "\\begin{description*}\n",
       "\\item[Training set] 27.9970945298073\n",
       "\\item[Test set] 49.5531496462091\n",
       "\\end{description*}\n"
      ],
      "text/markdown": [
       "Training set\n",
       ":   27.9970945298073Test set\n",
       ":   49.5531496462091\n",
       "\n"
      ],
      "text/plain": [
       "Training set     Test set \n",
       "    27.99709     49.55315 "
      ]
     },
     "metadata": {},
     "output_type": "display_data"
    }
   ],
   "source": [
    "cuadrado.precision8.31<-accuracy(forecast(cuadrado.fit8.31,h=longitud_pronostico),for8.3)[,2] #RMSE mod1 SARIMA\n",
    "cuadrado.precision8.31"
   ]
  },
  {
   "cell_type": "markdown",
   "metadata": {
    "collapsed": true
   },
   "source": [
    "## $\\sqrt[3]{P_t}$"
   ]
  },
  {
   "cell_type": "code",
   "execution_count": 829,
   "metadata": {
    "collapsed": false
   },
   "outputs": [
    {
     "data": {
      "text/html": [
       "<ol class=list-inline>\n",
       "\t<li>2</li>\n",
       "\t<li>1</li>\n",
       "\t<li>1</li>\n",
       "\t<li>2</li>\n",
       "\t<li>0</li>\n",
       "\t<li>0</li>\n",
       "\t<li>7</li>\n",
       "</ol>\n"
      ],
      "text/latex": [
       "\\begin{enumerate*}\n",
       "\\item 2\n",
       "\\item 1\n",
       "\\item 1\n",
       "\\item 2\n",
       "\\item 0\n",
       "\\item 0\n",
       "\\item 7\n",
       "\\end{enumerate*}\n"
      ],
      "text/markdown": [
       "1. 2\n",
       "2. 1\n",
       "3. 1\n",
       "4. 2\n",
       "5. 0\n",
       "6. 0\n",
       "7. 7\n",
       "\n",
       "\n"
      ],
      "text/plain": [
       "[1] 2 1 1 2 0 0 7"
      ]
     },
     "metadata": {},
     "output_type": "display_data"
    },
    {
     "data": {
      "text/html": [
       "4738.93045667835"
      ],
      "text/latex": [
       "4738.93045667835"
      ],
      "text/markdown": [
       "4738.93045667835"
      ],
      "text/plain": [
       "[1] 4738.93"
      ]
     },
     "metadata": {},
     "output_type": "display_data"
    }
   ],
   "source": [
    "cub.fit8.31<-auto.arima(f8.3,stepwise=FALSE,approximation=FALSE,lambda = 0.3)\n",
    "arimaorder(cub.fit8.31)\n",
    "cub.fit8.31$aicc"
   ]
  },
  {
   "cell_type": "code",
   "execution_count": 830,
   "metadata": {
    "collapsed": false
   },
   "outputs": [
    {
     "data": {
      "text/html": [
       "<dl class=dl-horizontal>\n",
       "\t<dt>Training set</dt>\n",
       "\t\t<dd>28.3308426031674</dd>\n",
       "\t<dt>Test set</dt>\n",
       "\t\t<dd>40.47439906174</dd>\n",
       "</dl>\n"
      ],
      "text/latex": [
       "\\begin{description*}\n",
       "\\item[Training set] 28.3308426031674\n",
       "\\item[Test set] 40.47439906174\n",
       "\\end{description*}\n"
      ],
      "text/markdown": [
       "Training set\n",
       ":   28.3308426031674Test set\n",
       ":   40.47439906174\n",
       "\n"
      ],
      "text/plain": [
       "Training set     Test set \n",
       "    28.33084     40.47440 "
      ]
     },
     "metadata": {},
     "output_type": "display_data"
    }
   ],
   "source": [
    "cub.precision8.31<-accuracy(forecast(cub.fit8.31,h=longitud_pronostico),for8.3)[,2] #RMSE mod1 SARIMA\n",
    "cub.precision8.31"
   ]
  },
  {
   "cell_type": "markdown",
   "metadata": {},
   "source": [
    "#$P_t^2$"
   ]
  },
  {
   "cell_type": "code",
   "execution_count": 832,
   "metadata": {
    "collapsed": false
   },
   "outputs": [
    {
     "data": {
      "text/html": [
       "0.220266426462652"
      ],
      "text/latex": [
       "0.220266426462652"
      ],
      "text/markdown": [
       "0.220266426462652"
      ],
      "text/plain": [
       "[1] 0.2202664"
      ]
     },
     "metadata": {},
     "output_type": "display_data"
    }
   ],
   "source": [
    "BoxCox.lambda(constant_price)"
   ]
  },
  {
   "cell_type": "markdown",
   "metadata": {},
   "source": [
    "#$P_t^3$"
   ]
  },
  {
   "cell_type": "markdown",
   "metadata": {},
   "source": [
    "# $\\frac{1}{P_t}$"
   ]
  },
  {
   "cell_type": "markdown",
   "metadata": {},
   "source": [
    "# Automatico con el metodo de Guerrero"
   ]
  },
  {
   "cell_type": "code",
   "execution_count": 833,
   "metadata": {
    "collapsed": false
   },
   "outputs": [
    {
     "data": {
      "text/html": [
       "<ol class=list-inline>\n",
       "\t<li>2</li>\n",
       "\t<li>1</li>\n",
       "\t<li>1</li>\n",
       "\t<li>2</li>\n",
       "\t<li>0</li>\n",
       "\t<li>0</li>\n",
       "\t<li>7</li>\n",
       "</ol>\n"
      ],
      "text/latex": [
       "\\begin{enumerate*}\n",
       "\\item 2\n",
       "\\item 1\n",
       "\\item 1\n",
       "\\item 2\n",
       "\\item 0\n",
       "\\item 0\n",
       "\\item 7\n",
       "\\end{enumerate*}\n"
      ],
      "text/markdown": [
       "1. 2\n",
       "2. 1\n",
       "3. 1\n",
       "4. 2\n",
       "5. 0\n",
       "6. 0\n",
       "7. 7\n",
       "\n",
       "\n"
      ],
      "text/plain": [
       "[1] 2 1 1 2 0 0 7"
      ]
     },
     "metadata": {},
     "output_type": "display_data"
    },
    {
     "data": {
      "text/html": [
       "2397.58397018925"
      ],
      "text/latex": [
       "2397.58397018925"
      ],
      "text/markdown": [
       "2397.58397018925"
      ],
      "text/plain": [
       "[1] 2397.584"
      ]
     },
     "metadata": {},
     "output_type": "display_data"
    }
   ],
   "source": [
    "automatic.fit8.31<-auto.arima(f8.3,stepwise=FALSE,approximation=FALSE,lambda = BoxCox.lambda(constant_price))\n",
    "arimaorder(automatic.fit8.31)\n",
    "automatic.fit8.31$aicc"
   ]
  },
  {
   "cell_type": "code",
   "execution_count": null,
   "metadata": {
    "collapsed": true
   },
   "outputs": [],
   "source": [
    "automatic.precision8.31<-accuracy(forecast(automatic.fit8.31,h=longitud_pronostico),for8.3)[,2] #RMSE mod1 SARIMA\n",
    "automatic.precision8.31"
   ]
  }
 ],
 "metadata": {
  "anaconda-cloud": {},
  "kernelspec": {
   "display_name": "R",
   "language": "R",
   "name": "ir"
  },
  "language_info": {
   "codemirror_mode": "r",
   "file_extension": ".r",
   "mimetype": "text/x-r-source",
   "name": "R",
   "pygments_lexer": "r",
   "version": "3.3.1"
  }
 },
 "nbformat": 4,
 "nbformat_minor": 0
}
