{
 "cells": [
  {
   "cell_type": "code",
   "execution_count": 3,
   "metadata": {
    "collapsed": true
   },
   "outputs": [],
   "source": [
    "options(repr.plot.weight=8,repr.plot.height=4) #Tamaño del grafico"
   ]
  },
  {
   "cell_type": "code",
   "execution_count": 4,
   "metadata": {
    "collapsed": true
   },
   "outputs": [],
   "source": [
    "aplicar_transformacion<-function(serie=x,tipo=1,retardo=1){ #la serie por defecto será x,\n",
    "                                                  ##El tipo 1 (por defecto) hará referencia a la diferenciacion de los datos (Cambio Absoluto)\n",
    "                                                  ###El tipo 2 hará referencia a la transformacion Pt/Pt-1 (Rentabilidad bruta simple)\n",
    "                                                  ####El tipo 3 hara referencia a la tranformacion Pt/Pt-1 -1 (Rentabilidad neta simple)\n",
    "                                                  #####El tipo 4 hara referencia la transformacion log(Pt/Pt-1) Rentabilidad logaritmica\n",
    "                                                  ######El tipo 5 hara referencia a la transformacion raiz cuadrada\n",
    "                                                  #######El tipo 6 hara referencia  a la transformacion raiz cubica\n",
    "                                                  ########El tipo 7 hara referenica a la transformacion ln(Pt)\n",
    "    if(tipo==1){\n",
    "        transformada<-diff(serie,retardo)\n",
    "    }\n",
    "    if(tipo==2){\n",
    "        transformada<-c(NaN,serie[2:length(serie)]/serie[1:length(serie)-1])\n",
    "    }\n",
    "    \n",
    "    if(tipo==3){\n",
    "        transformada<-c(NaN,(serie[2:length(serie)]/serie[1:length(serie)-1])-1)\n",
    "    }\n",
    "    \n",
    "    if(tipo==4){\n",
    "        transformada<-c(NaN,log(serie[2:length(serie)]/serie[1:length(serie)-1]))\n",
    "    }\n",
    "    \n",
    "    if(tipo==5){\n",
    "        transformada<-sqrt(serie)\n",
    "    }\n",
    "    \n",
    "    if(tipo==6){\n",
    "        transformada<-(serie)^(1/3)\n",
    "    }\n",
    "    \n",
    "    if(tipo==7){\n",
    "        transformada<-log(serie)\n",
    "    }\n",
    "    return(transformada)\n",
    "}\n",
    "\n",
    "#Construir inversa\n"
   ]
  },
  {
   "cell_type": "code",
   "execution_count": 5,
   "metadata": {
    "collapsed": true
   },
   "outputs": [],
   "source": [
    "graficos_ACF<-function(serie=x,nombre=\" \",retardos=1){\n",
    "    par(mfrow=c(1,1))\n",
    "    acf(serie,retardos,main=nombre)\n",
    "    pacf(serie,retardos,main=nombre)\n",
    "}"
   ]
  },
  {
   "cell_type": "code",
   "execution_count": 6,
   "metadata": {
    "collapsed": true
   },
   "outputs": [],
   "source": [
    "imprimir_histograma<-function(serie=x,leyenda=\"topleft\"){\n",
    "    hist(serie,breaks=100,freq=FALSE,main=\"Histograma\")                                      #imprime el histograma \n",
    "    datos_normales<-rnorm(1000000,mean = mean(serie),sd=sqrt(var(serie)))                    #propone una serie normal\n",
    "    curve(dnorm(x,mean(datos_normales),sd(datos_normales)),col=\"blue\",lty=2,lwd=3,add=TRUE)  #dibuja una campana normal\n",
    "    d<-density(serie)                                                                        #Densidad no parametrica\n",
    "    lines(d,col=\"red\",lwd=2)                                                                 #Dibuja una densidad no parametrica\n",
    "    \n",
    "    legend(leyenda,c(\"Distribución no parametrica\",\"Distribución normal\"),col=c(\"red\",\"blue\"),lwd=c(3,3),bty=\"n\") #Leyenda\n",
    "}"
   ]
  },
  {
   "cell_type": "code",
   "execution_count": 7,
   "metadata": {
    "collapsed": true
   },
   "outputs": [],
   "source": [
    "datos<-read.csv(\"Precios_1995.csv\", header=TRUE, sep = \",\" ,dec = \".\") # Cargo la base de datos donde estan mis series de precios y variables explicativas"
   ]
  },
  {
   "cell_type": "code",
   "execution_count": 8,
   "metadata": {
    "collapsed": true
   },
   "outputs": [],
   "source": [
    "x<-datos$X..KWh_Const_Dic_2008 #Se separan los datos de interes, los precios sin inflacion\n",
    "x<-ts(x,frequency = 1) #se le da formato  de serie de tiempo a nivel diario"
   ]
  },
  {
   "cell_type": "markdown",
   "metadata": {},
   "source": [
    "# Modelos de Heteroscedasticidad Condicional\n",
    "El objetivo de este capitulo es estudiar algunos metodos y modelos econometricos disponibles en la literatura ´para modelar la volatilidad de los retornos de un activo.\n",
    "\n",
    "Los modelos son conocidos como modelos de heterocedasticidad condicional\n",
    "\n",
    "## Caracteristicas de la volatilidad\n",
    "La volatilidad de un activo no es directamente observable. Por ejemplo, si consideramos los retornos logaritmicos de una accion, la volatilidad diaria no es directamente observable desde los datos porque solo hay un dato al final del dia.\n",
    "\n",
    "Con el modelo de Black-Scholes se puede obtener una volatilidad implicita si se despeja de la formula pero esto es crtiticado porque se basa en un modelo que tiene unos supuestos que no se cumplen para algunos mercados.\n",
    "La experiencia ha mostrado que la volatilidad implicita es mas grande que la que se puede obtener con un modelo GARCH\n",
    "Esto es debido a la valoracion del riesgo.\n",
    "El VIX o el CBOE son indicadores de volatilidad implicita.\n",
    "De la volatilidad entonces se puede decir que:\n",
    "\n",
    "1. Tiene rangos de tiempo donde su comportamiento es similar (llamados Cluster)\n",
    "2. La volatilidad es continua en el tiempo\n",
    "3. La volatilidad no diverge a infito, es decir siempre estará dentro de un rango real. Estadisticamente hablando esto significa que la volatilidad es estacionaria a veces.\n",
    "4. La volatilidad reacciona de forma diferente ante grandes aumentos de precios o caidas. Esto es conocido como el efecto de apalancamiento.\n",
    "\n",
    "Estas propiedades juegan un papel importante en el desarrollo de modelos de volatilidad. Algunos modelos fueron propuestos especificamente para capturar estas caracteristicas mencionadas. Como por ejemplo el EGARCH fue diseñado para capturar la asimetria inducida por grandes cambios en los retornos de algunos activos.\n",
    "\n",
    "## Estrucrtura de un modelo\n",
    "Suponga que $r_t$ es el retorno de un activo en el tiempo $t$. La idea básica detras de la volatilidad es que la serie de $r_t$ es incorrelacionada pero es una serie dependiente. Veamos un ejemplo en el siguiente \"In[ ]\" se muestran la grafica de los rendimientos logaritmicos del precio de la electricidad en Colombia, desde julio de 1995 hasta mayo de 2016 "
   ]
  },
  {
   "cell_type": "code",
   "execution_count": 9,
   "metadata": {
    "collapsed": false
   },
   "outputs": [
    {
     "data": {
      "image/png": "[encoded data removed]",
      "text/plain": [
       "Plot with title \"Datos alrededor de un nivel fijo\""
      ]
     },
     "metadata": {
      "image/svg+xml": {
       "isolated": true
      }
     },
     "output_type": "display_data"
    }
   ],
   "source": [
    "diff_log_pt<-aplicar_transformacion(aplicar_transformacion(x,tipo = 7),1,retardo = 7)\n",
    "\n",
    "plot(diff_log_pt,type=\"l\",ylab=\"Log return\",main=\"Datos alrededor de un nivel fijo\")\n",
    "abline(h = 0, lwd=3,lty=2, col=\"blue\")"
   ]
  },
  {
   "cell_type": "code",
   "execution_count": 10,
   "metadata": {
    "collapsed": false
   },
   "outputs": [
    {
     "data": {
      "image/png": "[encoded data removed]",
      "text/plain": [
       "Plot with title \"PACF\""
      ]
     },
     "metadata": {
      "image/svg+xml": {
       "isolated": true
      }
     },
     "output_type": "display_data"
    }
   ],
   "source": [
    "par(mfrow=c(1,2))\n",
    "acf(diff_log_pt,lag.max = 30, main=\"ACF\")\n",
    "pacf(diff_log_pt,lag.max = 30, main=\"PACF\")\n"
   ]
  },
  {
   "cell_type": "code",
   "execution_count": 11,
   "metadata": {
    "collapsed": false
   },
   "outputs": [
    {
     "ename": "ERROR",
     "evalue": "Error in optim(init[mask], armafn, method = optim.method, hessian = TRUE, : non-finite finite-difference value [18]\n",
     "output_type": "error",
     "traceback": [
      "Error in optim(init[mask], armafn, method = optim.method, hessian = TRUE, : non-finite finite-difference value [18]\nTraceback:\n",
      "1. arima(x = diff_log_pt, order = c(38, 0, 8), include.mean = F)",
      "2. optim(init[mask], armafn, method = optim.method, hessian = TRUE, \n .     control = optim.control, trans = as.logical(transform.pars))"
     ]
    }
   ],
   "source": [
    "m1<-arima(x = diff_log_pt,order = c(38,0,8),include.mean = F)"
   ]
  },
  {
   "cell_type": "code",
   "execution_count": 182,
   "metadata": {
    "collapsed": false
   },
   "outputs": [
    {
     "data": {
      "image/png": "[encoded data removed]",
      "text/plain": [
       "Plot with title \" \""
      ]
     },
     "metadata": {
      "image/svg+xml": {
       "isolated": true
      }
     },
     "output_type": "display_data"
    },
    {
     "data": {
      "image/png": "[encoded data removed]",
      "text/plain": [
       "Plot with title \" \""
      ]
     },
     "metadata": {
      "image/svg+xml": {
       "isolated": true
      }
     },
     "output_type": "display_data"
    }
   ],
   "source": [
    "graficos_ACF(m1$residual,retardos = 28)"
   ]
  },
  {
   "cell_type": "code",
   "execution_count": 146,
   "metadata": {
    "collapsed": false
   },
   "outputs": [
    {
     "data": {
      "image/png": "[encoded data removed]",
      "text/plain": [
       "plot without title"
      ]
     },
     "metadata": {
      "image/svg+xml": {
       "isolated": true
      }
     },
     "output_type": "display_data"
    },
    {
     "data": {
      "image/png": "[encoded data removed]",
      "text/plain": [
       "Plot with title \"Histograma\""
      ]
     },
     "metadata": {
      "image/svg+xml": {
       "isolated": true
      }
     },
     "output_type": "display_data"
    }
   ],
   "source": [
    "plot(m1$residuals, type=\"l\",col=\"red\",lwd=2)\n",
    "imprimir_histograma(m1$residuals)"
   ]
  },
  {
   "cell_type": "code",
   "execution_count": 147,
   "metadata": {
    "collapsed": true
   },
   "outputs": [],
   "source": [
    "m1_res<-m1$residuals+1"
   ]
  },
  {
   "cell_type": "markdown",
   "metadata": {},
   "source": [
    "En este punto, tras haber transformado los retornos logaritmicos,se puede decir que se puede ajustar un ARMA($p,q$) para modelar el comportamiento en la media de la serie. Los modelos de volatilidad intentan capturar la dependencia de los retornos "
   ]
  },
  {
   "cell_type": "markdown",
   "metadata": {},
   "source": [
    "Los modelos de heterocedasticidad condicional de este capitulo son relacionados con la evolucion de $\\sigma^2$.\n",
    "El primer tipo de modelos usa una funcion exacta para describir la evolucion de $\\sigma^2$.\n",
    "El segundo tipo de modelos usa ecuaciones estocasticas para describir $\\sigma^2$.\n",
    "Los GARCH son del tipo 1 mientras que los modelos estocasticos son del tipo 2.\n",
    "\n",
    "A traves del libro $a_t$ es conocido como el shock o la innovacion de un rendimiento de un activo. El modelo definido para $\\mu$ es el modelo para describir la media y el modelo definido para $\\sigma^2$ es la ecuacion de volatilidad.\n",
    "\n",
    "## Construccion del modelo\n",
    "Construir un modelo de volatilidad consiste en 4 pasos:\n",
    "1. Especificar un modelo para la media, probando la dependencia de los datos y si es necesario construyendo un modelo ARMA para los retornos que remueva la dependencia lineal de la serie.\n",
    "2. Utilizar los residuos de la serie para identificar los efectos ARCH.\n",
    "3. Especificar un modelo de volatilidad si los efectos ARCH son significativos y ajuste una estimacion conjunta para la media y la volatilidad.\n",
    "4. Pruebe el modelo ajustado cuidadosamente y refine si es necesario\n",
    "\n",
    "Para la mayoria de series de rendimientos, la correlacion es debil en caso de existir. Construir un modelo para la media para remover la media muestral de los datos si la media es significativamente diferente de cero. Algunas estimaciones requieren usar variables explicativas para indicar efectos de fin de semana o eneros.\n",
    "\n",
    "## Evaluando los efectos ARCH\n",
    "\n",
    "Para facilitar la notacion, $a_t=r_t-\\mu_t$ serán los residuales de la ecuacion de media. los $a_t^2$ son usados para revisar la heterocedasiticidad condicional, conocida como los efectos ARCH. Dos pruebas son comunes:\n",
    "\n",
    "1. Usando el estadistico Ljung-Box para los $a_t^2$: La $H_0$ es que los primeros m retardos del ACF de $a_t^2$ son cero\n",
    "2. Usando la prueba de Multiplicador de Lagrange donde se prueba que $\\alpha_i=0$ en la regresion lineal $a_t^2=\\alpha_0+\\alpha_1a_{t-1}^2+...+\\alpha_ma_{t-m}^2+e_t$ "
   ]
  },
  {
   "cell_type": "markdown",
   "metadata": {},
   "source": [
    "## modelo ARCH\n",
    "Es el primer modelo desarrollado para modelar la volatilidad.\n",
    "La idea fundamental es que:\n",
    "1. Los shocks $a_t$ son incorrelacionados pero dependientes \n",
    "2. La dependencia de $a_t$ puede ser descrita por una funcion cuadratica de los rezagos.\n",
    "Un ARCH asume que:\n",
    "\n",
    "$a_t=\\sigma e_t$\n",
    "$\\sigma^2=\\alpha_0+\\alpha_1a_{t-1}^2+...+\\alpha_ma_{t-m}^2\n",
    "\n",
    "Donde $e_t$ es una secuencia de variables aleatorias independientes e identicamente distribuiudas iid.\n",
    "\n",
    "En la practica los $e_t$ son una distribucion normal $N\\sim(0,1)$\n",
    "\n",
    "Desde la estructura del modelo, una gran innovacion implica una gran varianza condicional para la siguiente innovacion. Consecuentemente, $a_t$ ***tiende*** a asumir un gran valor en valor absoluto. Esta caracteristica es comun en los cluster de volatilidad observadas en los retornos de los activos.\n",
    "\n",
    "En los ejemplos se presentan un ACF donde todos los valores son cero pero un PACF que muestra algunos valores significativos. Esto significa que hay que modelar el efecto ARCH de la serie.\n",
    "\n",
    "\n"
   ]
  },
  {
   "cell_type": "markdown",
   "metadata": {},
   "source": [
    "## Propiedades de los modelos ARCH\n",
    "Estudiemos el ARCH(1), donde:\n",
    "\n",
    "$a_t=\\sigma e_t$\n",
    "$\\sigma^2=\\alpha_0+\\alpha_1a_{t-1}^2$\n",
    "\n",
    "Donde $\\alpha_0>0$ ,               $\\alpha_1>=0$\n",
    "\n",
    "1. La media incondicional debe ser cero\n",
    "2. La varianza incondicional debe ser $\\alpha_0+\\alpha_1E(a_{t-1}^2$)\n",
    "3. Se necesita que el cuarto momento curtosis es incondicional, esto genera una cola pesada a la derecha\n",
    "\n",
    "## Debilidades de los modelos ARCH\n",
    "\n",
    "1. El modelo asume que tanto las innnovaciones positivas como negativas tienen el mismo efecto sobre la volatilidad porque dependen del cuadrado del anterior innovacion. En el mercado es sabido que el precio responde diferente a cambios positivos y negativos.\n",
    "\n",
    "2. El modelo ARCH es muy restrictivo porque obliga que $\\alpha_1 [0,\\frac{1}{3}] $ para que el cuarto momento sea finito. En la practica esto limita la habilidad para capturar el exceso de curtosis.\n",
    "3. Los modelos ARCH no proveen una vision para entender la fuente de la variacion de una serie financiera. ellos solamente son una forma de describir el comportamiento de la varianza condicional.\n",
    "4. Los modelos ARCH pueden sobrepredecir los valores porque responden lento a valores aislado de las innovaciones de la serie\n",
    "\n",
    "## Construir un modelo ARCH\n",
    "\n",
    "Especificar un modelo ARCH es facil\n",
    "\n",
    "### Determinacion del orden:\n",
    "\n",
    "Se puede usar el PACF de las $a_t^2$ para determinar el orden. El PACF no es eficiente para muestras pequeñas.\n",
    "\n",
    "### Estimacion\n",
    "\n",
    "Algunas funciones de probabilidad son utilizadas para determinar el orden del modelo ARCH dependiendo del supuesto de distribucion de los $e_t$.\n",
    "1. Bajo el supuesto de normalidad simetrica\n",
    "2. Suponiendo que los $e_t$ tienen una cola pesada\n",
    "    + Distribucion t-Student\n",
    "3. Colas pesadas simetricas\n",
    "    + Distribucion t-Student simetrica\n",
    "El paquete para reproducir estas distribuciones es **library(fGarch)** y los comandos son sstd (Skew Student T), snorm (skew norma) y sged (skew GED).\n",
    "\n",
    "## Puebas del modelo \n",
    "Los residuales estandarizados $\\hat{a_t}=\\frac{a_t}{\\sigma_t}$ deben ser un ruido blanco, tambien se puede evidenciar por:\n",
    "\n",
    "+ asimetria\n",
    "+ curtosis\n",
    "+ qqplot\n",
    "\n",
    "## Pronostico\n",
    "\n",
    "Se pueden obtener pronosticos recursivos como un modelo AR\n",
    "\n",
    "## Ejemplo pagina 123\n",
    "\n",
    "Se revisa el ACF de una serie y tiene valores que no son cero, se le hace la transformacion:\n",
    "+ Al cuadrado\n",
    "+ Valor Absoluto\n",
    "\n",
    "Y de ninguna manera se puede eliminar los valores que no son cero.\n",
    "\n",
    "** Esto evidencia la presencia de un proceso ARCH**\n",
    "\n",
    "Se confirma con la prueba ARCH y se procede a estimar el parametro del modelo ARCH\n",
    "\n",
    "El ACF que se vuelve cero en 4 indica que el modelo es ARCH(3) y se procede a estimar los parametros. \n",
    "\n",
    "Se chequea que los parametros sean significativos y en caso contrario se remueven de la ecuacion.\n",
    "\n",
    "Finalmente se chequea que el $\\hat{a_t}$ sea un ruido blanco y efectivamente sirve para modelar los precios.\n",
    "\n"
   ]
  },
  {
   "cell_type": "code",
   "execution_count": 148,
   "metadata": {
    "collapsed": false
   },
   "outputs": [],
   "source": [
    "library(tseries)"
   ]
  },
  {
   "cell_type": "code",
   "execution_count": 192,
   "metadata": {
    "collapsed": false
   },
   "outputs": [],
   "source": [
    "log_pt<-aplicar_transformacion(x,tipo = 7)"
   ]
  },
  {
   "cell_type": "code",
   "execution_count": 194,
   "metadata": {
    "collapsed": false
   },
   "outputs": [],
   "source": [
    "diff_ensayo2<-aplicar_transformacion(serie = log_pt,tipo = 1)"
   ]
  },
  {
   "cell_type": "code",
   "execution_count": 195,
   "metadata": {
    "collapsed": false
   },
   "outputs": [
    {
     "data": {
      "image/png": "[encoded data removed]",
      "text/plain": [
       "plot without title"
      ]
     },
     "metadata": {
      "image/svg+xml": {
       "isolated": true
      }
     },
     "output_type": "display_data"
    }
   ],
   "source": [
    "plot(diff_ensayo2)"
   ]
  },
  {
   "cell_type": "code",
   "execution_count": 205,
   "metadata": {
    "collapsed": false
   },
   "outputs": [],
   "source": [
    "diff_estacional2<-diff(diff_ensayo2,lag = 7)"
   ]
  },
  {
   "cell_type": "code",
   "execution_count": 209,
   "metadata": {
    "collapsed": false
   },
   "outputs": [
    {
     "data": {
      "image/png": "[encoded data removed]",
      "text/plain": [
       "Plot with title \"Series diff_estacional2\""
      ]
     },
     "metadata": {
      "image/svg+xml": {
       "isolated": true
      }
     },
     "output_type": "display_data"
    },
    {
     "data": {
      "image/png": "[encoded data removed]",
      "text/plain": [
       "Plot with title \"Series  diff_estacional2\""
      ]
     },
     "metadata": {
      "image/svg+xml": {
       "isolated": true
      }
     },
     "output_type": "display_data"
    }
   ],
   "source": [
    "acf(diff_estacional2,lag.max = 30)\n",
    "pacf(diff_estacional2,lag.max = 30)"
   ]
  },
  {
   "cell_type": "code",
   "execution_count": 244,
   "metadata": {
    "collapsed": true
   },
   "outputs": [],
   "source": [
    "m_ensayo2<-arima(x = diff_estacional2,order = c(5,0,4),include.mean = F)"
   ]
  },
  {
   "cell_type": "code",
   "execution_count": 245,
   "metadata": {
    "collapsed": false
   },
   "outputs": [
    {
     "data": {
      "image/png": "[encoded data removed]",
      "text/plain": [
       "Plot with title \"Series m_ensayo2$residuals\""
      ]
     },
     "metadata": {
      "image/svg+xml": {
       "isolated": true
      }
     },
     "output_type": "display_data"
    },
    {
     "data": {
      "image/png": "[encoded data removed]",
      "text/plain": [
       "Plot with title \"Series  m_ensayo2$residuals\""
      ]
     },
     "metadata": {
      "image/svg+xml": {
       "isolated": true
      }
     },
     "output_type": "display_data"
    }
   ],
   "source": [
    "acf(m_ensayo2$residuals)\n",
    "pacf(m_ensayo2$residuals)"
   ]
  },
  {
   "cell_type": "code",
   "execution_count": null,
   "metadata": {
    "collapsed": true
   },
   "outputs": [],
   "source": [
    "En la ayuda de mathlab en el financial toolbox de mathlab hay librerias con explicacion de procesos estocasticos de estos modelos.\n",
    "\n",
    "en Wiley \"Derivatives analytics with Python\", el lo busco en amazon y le salio\n",
    "\n",
    "The PythonQuants\n",
    "Dxanalytics - hacer una mirada critica\n",
    "\n",
    "Debemos proveer la herramienta en Python.\n",
    "\n",
    "funcion auto.arima para que me diga cual es el mejor modelo.\n",
    "\n",
    "\n"
   ]
  }
 ],
 "metadata": {
  "kernelspec": {
   "display_name": "R",
   "language": "R",
   "name": "ir"
  },
  "language_info": {
   "codemirror_mode": "r",
   "file_extension": ".r",
   "mimetype": "text/x-r-source",
   "name": "R",
   "pygments_lexer": "r",
   "version": "3.3.1"
  }
 },
 "nbformat": 4,
 "nbformat_minor": 0
}
